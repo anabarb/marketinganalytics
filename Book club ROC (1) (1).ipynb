{
 "cells": [
  {
   "cell_type": "markdown",
   "metadata": {
    "id": "8Q9tsXaYEb6T"
   },
   "source": [
    "# Classification model evaluation: F1 and ROC\n",
    "### Use 'Book club.csv'"
   ]
  },
  {
   "cell_type": "code",
   "execution_count": 1,
   "metadata": {
    "id": "QmFrq4EmEb6W",
    "tags": []
   },
   "outputs": [],
   "source": [
    "import pandas as pd\n",
    "import numpy as np\n",
    "from sklearn.model_selection import train_test_split\n",
    "from sklearn.linear_model import LogisticRegression\n",
    "from sklearn.metrics import roc_curve, auc\n",
    "from sklearn import metrics\n",
    "import matplotlib.pyplot as plt\n",
    "import seaborn as sns"
   ]
  },
  {
   "cell_type": "markdown",
   "metadata": {
    "id": "dWcGImMeEb6X"
   },
   "source": [
    "### 1. Divide the data into 75% training and 25% test data (use random_state=100) and run the following logit model on training data. Report the coefficients.\n",
    "- **(M1) Buy = β0 + β1 Male + β2 Buyamt + β3 Freq + β4 Lastbuy + β5 Firstbuy + β6 Child + β7 Youth + β8 Cook + β9 DIY + β10 Art + e**"
   ]
  },
  {
   "cell_type": "code",
   "execution_count": 2,
   "metadata": {
    "id": "cg1K9lzuEb6Y",
    "outputId": "0c80d653-8a8a-4263-96a9-88c4fb8d58bd"
   },
   "outputs": [
    {
     "data": {
      "text/html": [
       "<div>\n",
       "<style scoped>\n",
       "    .dataframe tbody tr th:only-of-type {\n",
       "        vertical-align: middle;\n",
       "    }\n",
       "\n",
       "    .dataframe tbody tr th {\n",
       "        vertical-align: top;\n",
       "    }\n",
       "\n",
       "    .dataframe thead th {\n",
       "        text-align: right;\n",
       "    }\n",
       "</style>\n",
       "<table border=\"1\" class=\"dataframe\">\n",
       "  <thead>\n",
       "    <tr style=\"text-align: right;\">\n",
       "      <th></th>\n",
       "      <th>id</th>\n",
       "      <th>buy</th>\n",
       "      <th>male</th>\n",
       "      <th>buyamt</th>\n",
       "      <th>freq</th>\n",
       "      <th>lastbuy</th>\n",
       "      <th>firstbuy</th>\n",
       "      <th>child</th>\n",
       "      <th>youth</th>\n",
       "      <th>cook</th>\n",
       "      <th>diy</th>\n",
       "      <th>art</th>\n",
       "    </tr>\n",
       "  </thead>\n",
       "  <tbody>\n",
       "    <tr>\n",
       "      <th>0</th>\n",
       "      <td>1</td>\n",
       "      <td>0</td>\n",
       "      <td>1</td>\n",
       "      <td>123</td>\n",
       "      <td>12</td>\n",
       "      <td>1</td>\n",
       "      <td>12</td>\n",
       "      <td>0</td>\n",
       "      <td>1</td>\n",
       "      <td>0</td>\n",
       "      <td>0</td>\n",
       "      <td>0</td>\n",
       "    </tr>\n",
       "    <tr>\n",
       "      <th>1</th>\n",
       "      <td>2</td>\n",
       "      <td>0</td>\n",
       "      <td>1</td>\n",
       "      <td>294</td>\n",
       "      <td>6</td>\n",
       "      <td>2</td>\n",
       "      <td>8</td>\n",
       "      <td>0</td>\n",
       "      <td>1</td>\n",
       "      <td>1</td>\n",
       "      <td>0</td>\n",
       "      <td>0</td>\n",
       "    </tr>\n",
       "    <tr>\n",
       "      <th>2</th>\n",
       "      <td>3</td>\n",
       "      <td>0</td>\n",
       "      <td>1</td>\n",
       "      <td>138</td>\n",
       "      <td>14</td>\n",
       "      <td>9</td>\n",
       "      <td>38</td>\n",
       "      <td>1</td>\n",
       "      <td>1</td>\n",
       "      <td>3</td>\n",
       "      <td>2</td>\n",
       "      <td>1</td>\n",
       "    </tr>\n",
       "    <tr>\n",
       "      <th>3</th>\n",
       "      <td>4</td>\n",
       "      <td>0</td>\n",
       "      <td>1</td>\n",
       "      <td>228</td>\n",
       "      <td>2</td>\n",
       "      <td>1</td>\n",
       "      <td>2</td>\n",
       "      <td>0</td>\n",
       "      <td>1</td>\n",
       "      <td>0</td>\n",
       "      <td>0</td>\n",
       "      <td>0</td>\n",
       "    </tr>\n",
       "    <tr>\n",
       "      <th>4</th>\n",
       "      <td>5</td>\n",
       "      <td>0</td>\n",
       "      <td>1</td>\n",
       "      <td>102</td>\n",
       "      <td>22</td>\n",
       "      <td>2</td>\n",
       "      <td>24</td>\n",
       "      <td>2</td>\n",
       "      <td>0</td>\n",
       "      <td>0</td>\n",
       "      <td>0</td>\n",
       "      <td>0</td>\n",
       "    </tr>\n",
       "  </tbody>\n",
       "</table>\n",
       "</div>"
      ],
      "text/plain": [
       "   id  buy  male  buyamt  freq  lastbuy  firstbuy  child  youth  cook  diy  \\\n",
       "0   1    0     1     123    12        1        12      0      1     0    0   \n",
       "1   2    0     1     294     6        2         8      0      1     1    0   \n",
       "2   3    0     1     138    14        9        38      1      1     3    2   \n",
       "3   4    0     1     228     2        1         2      0      1     0    0   \n",
       "4   5    0     1     102    22        2        24      2      0     0    0   \n",
       "\n",
       "   art  \n",
       "0    0  \n",
       "1    0  \n",
       "2    1  \n",
       "3    0  \n",
       "4    0  "
      ]
     },
     "execution_count": 2,
     "metadata": {},
     "output_type": "execute_result"
    }
   ],
   "source": [
    "# Read data\n",
    "\n",
    "df = pd.read_csv('Book club.csv')\n",
    "df.head()"
   ]
  },
  {
   "cell_type": "markdown",
   "metadata": {
    "id": "_PBvcPHZEqsQ"
   },
   "source": [
    "- `pd.read_csv()`: Function is used to read data from a CSV file and create a DataFrame from it."
   ]
  },
  {
   "cell_type": "code",
   "execution_count": 3,
   "metadata": {
    "id": "9tZiZAbDEb6Y",
    "outputId": "3cec5824-0c45-4fd3-ccf8-7a78451fbe06",
    "scrolled": true
   },
   "outputs": [],
   "source": [
    "# Define y, x\n",
    "\n",
    "y=df.buy\n",
    "x=df[['male', 'buyamt', 'freq', 'lastbuy', 'firstbuy', 'child', 'youth', 'cook', 'diy', 'art']]\n",
    "# x=df.iloc[:, 2:]  # alternative"
   ]
  },
  {
   "cell_type": "markdown",
   "metadata": {
    "id": "hH-NI2QEFVkM"
   },
   "source": [
    "- `y = df.buy`: Extracts the 'buy' column from the DataFrame df and assigns it to the variable y.\n",
    "- `x = df[[...]]`: Creates a new DataFrame x containing a subset of columns.\n",
    "- `df.iloc[:, 2:]` extracts all rows and the 3rd to last columns."
   ]
  },
  {
   "cell_type": "code",
   "execution_count": 4,
   "metadata": {
    "id": "9tZiZAbDEb6Y",
    "outputId": "3cec5824-0c45-4fd3-ccf8-7a78451fbe06",
    "scrolled": true
   },
   "outputs": [
    {
     "data": {
      "text/plain": [
       "array([[-0.87324699,  0.00153672, -0.09462522,  0.44046056,  0.00958341,\n",
       "        -0.7426497 , -0.60655822, -0.80493786, -0.90265425,  0.69820039]])"
      ]
     },
     "execution_count": 4,
     "metadata": {},
     "output_type": "execute_result"
    }
   ],
   "source": [
    "# Divide x into training and test sets. Run logistic regression and obtain coefficients.\n",
    "\n",
    "xtrain, xtest, ytrain, ytest=train_test_split(x, y, random_state=100)\n",
    "m = LogisticRegression(max_iter=300).fit(xtrain, ytrain)\n",
    "m.coef_"
   ]
  },
  {
   "cell_type": "markdown",
   "metadata": {
    "id": "hH-NI2QEFVkM"
   },
   "source": [
    "- `xtrain, xtest, ytrain, ytest = train_test_split(x, y, random_state=100)`: split your data into training and testing sets. \n",
    "    - `random_state=100` is set to ensure reproducibility.\n",
    "- `m = LogisticRegression(max_iter=300).fit(xtrain, ytrain)`: Creates a logistic regression model m and fits it to the training data.\n",
    "    - `max_iter=300`: a maximum number of iterations set to 300.\n",
    "    - `fit(xtrain, ytrain)` trains the model using the training data.\n",
    "- `m.coef_`: Retrieves the coefficients of the logistic regression model."
   ]
  },
  {
   "cell_type": "markdown",
   "metadata": {
    "id": "DPD8B3rtEb6Y"
   },
   "source": [
    "### 2. Report model Accuracy, Precision, Recall, and F1 score on test data. Summarize your observation."
   ]
  },
  {
   "cell_type": "code",
   "execution_count": 5,
   "metadata": {
    "id": "VmLv48BsEb6Z",
    "outputId": "f6f8b531-0dab-46cb-85f0-7efb8cbda0fa"
   },
   "outputs": [
    {
     "name": "stdout",
     "output_type": "stream",
     "text": [
      "Accuracy 0.9302857142857143\n",
      "Precision 0.5\n",
      "Recall 0.03278688524590164\n",
      "F1 Score 0.061538461538461535\n"
     ]
    }
   ],
   "source": [
    "# Predict y and obtain scores\n",
    "\n",
    "pred = m.predict(xtest)  # predict y on test data\n",
    "print('Accuracy', metrics.accuracy_score(ytest, pred))\n",
    " # m.score(xtest, ytest)  # Alternative\n",
    "print('Precision', metrics.precision_score(ytest, pred))  # TP/P*\n",
    "print('Recall', metrics.recall_score(ytest, pred))     # TP/P\n",
    "print('F1 Score', metrics.f1_score(ytest, pred))"
   ]
  },
  {
   "cell_type": "markdown",
   "metadata": {
    "id": "25pGc3JWGV_m"
   },
   "source": [
    "- `m.predict(xtest)`: Uses the trained logistic regression model m to make predictions on the test data xtest.\n",
    "- `metrics.accuracy_score(ytest, pred)`: Calculates the accuracy of the model's predictions. The accuracy score measures the proportion of correctly predicted instances in the test dataset.\n",
    "- `metrics.precision_score(ytest, pred)`: Calculates the precision of the model's predictions which is (TP / (TP + FP)). It evaluates the model's ability to avoid false positives.\n",
    "- `metrics.recall_score(ytest, pred)`: Calculates the recall of the model's predictions which is (TP / (TP + FN)). It assesses the model's ability to capture all positive instances.\n",
    "- `metrics.f1_score(ytest, pred)`: Calculates and prints the F1 score, which is the harmonic mean of precision and recall. It's a single metric that balances both precision and recall, providing a more comprehensive evaluation of the model's performance."
   ]
  },
  {
   "cell_type": "markdown",
   "metadata": {
    "id": "tm6nf7m3Eb6Z"
   },
   "source": [
    "- Precision is relatively high, but recall is very low. As a result, F1 is low."
   ]
  },
  {
   "cell_type": "markdown",
   "metadata": {
    "id": "-WfODwyuEb6Z"
   },
   "source": [
    "### 3. Report confusion matrix"
   ]
  },
  {
   "cell_type": "code",
   "execution_count": 6,
   "metadata": {
    "id": "8VPjCSLuEb6Z",
    "outputId": "50872d13-473c-4951-c41e-9499061370cc"
   },
   "outputs": [
    {
     "data": {
      "text/plain": [
       "array([[812,   2],\n",
       "       [ 59,   2]], dtype=int64)"
      ]
     },
     "execution_count": 6,
     "metadata": {},
     "output_type": "execute_result"
    }
   ],
   "source": [
    "# Obtain confusion matrix\n",
    "\n",
    "metrics.confusion_matrix(ytest, pred)"
   ]
  },
  {
   "cell_type": "markdown",
   "metadata": {
    "id": "qz7znH72HUGG"
   },
   "source": [
    "- `metrics.confusion_matrix(ytest, pred)` calculates and returns a confusion matrix based on the actual target values (ytest) and the predicted values (pred). The matrix shows detailed breakdown of the model's predictions, showing the true positives (TP), true negatives (TN), false positives (FP), and false negatives (FN)."
   ]
  },
  {
   "cell_type": "markdown",
   "metadata": {
    "id": "hu2ObwK6Eb6Z"
   },
   "source": [
    "|          | Predicted 0   | Predicted 1 |\n",
    "|----------|:-------------:|------------:|\n",
    "| Actual 0 |       TN      |      FP     |\n",
    "| Actual 1 |       FN      |      TP     |"
   ]
  },
  {
   "cell_type": "markdown",
   "metadata": {
    "id": "uRA-lDumEb6Z"
   },
   "source": [
    "- True negative (TN) is very high, but true positive (TP) is very low."
   ]
  },
  {
   "cell_type": "markdown",
   "metadata": {
    "id": "7loAzPgxEb6a"
   },
   "source": [
    "### 4. Report True negative rate (TNR), False positive rate (FPR), True positive rate (TPR), and False negative rate (FNR)"
   ]
  },
  {
   "cell_type": "code",
   "execution_count": 7,
   "metadata": {
    "id": "ec8-kJi6Eb6a",
    "outputId": "c76b952c-fcc5-4712-fa75-4be9526b5332"
   },
   "outputs": [
    {
     "name": "stdout",
     "output_type": "stream",
     "text": [
      "TNR 1.0\n",
      "FPR 0.0\n",
      "TPR 0.03636363636363636\n",
      "FNR 0.9636363636363636\n"
     ]
    }
   ],
   "source": [
    "# Report TNR, FPR, TPR, FNR \n",
    "\n",
    "print('TNR', 820/(820+0))  # TN/(N=FP+TN): Specificity\n",
    "print('FPR', 0/(820+0))  # FP/N: Type I Error (TNR+FPR=1, FPR=1-Specificity)\n",
    "print('TPR', 2/(53+2))  # TP/(P=TP+FN): Power,Sensitivity,Recall\n",
    "print('FNR', 53/(53+2))  # FN/P: Type II Error (TPR+FNR=1)\n",
    " # Adjust numbers based on your results"
   ]
  },
  {
   "cell_type": "markdown",
   "metadata": {
    "id": "vkbIB2QFEb6a"
   },
   "source": [
    "- TNR is very high, but TPR is is very low. FNR is also very high.\n",
    "- To see Why, let's look at the mean Y."
   ]
  },
  {
   "cell_type": "markdown",
   "metadata": {
    "id": "GQ8rypFQEb6a"
   },
   "source": [
    "### 5. What percentage of customers bought the book?"
   ]
  },
  {
   "cell_type": "code",
   "execution_count": 8,
   "metadata": {
    "id": "7uhDuJ8qEb6a",
    "outputId": "f3bf6870-adb7-4568-dd79-7d79120764c4"
   },
   "outputs": [
    {
     "data": {
      "text/plain": [
       "0.05828571428571429"
      ]
     },
     "execution_count": 8,
     "metadata": {},
     "output_type": "execute_result"
    }
   ],
   "source": [
    "# Calculate the average of 'buy'\n",
    "\n",
    "df.buy.mean()"
   ]
  },
  {
   "cell_type": "markdown",
   "metadata": {
    "id": "aaSHDXnLJhW-"
   },
   "source": [
    "- `df.buy.mean()`: calculates the mean of the 'buy' column in your DataFrame df\n",
    "- `buy` takes 1 or 0: Mean represents the percentage of purchase"
   ]
  },
  {
   "cell_type": "markdown",
   "metadata": {
    "id": "2r-ZWTOFEb6a"
   },
   "source": [
    "- The two classes in y (buy vs. no-buy) are highly imbalanced. Only 5.8% of the customers bought the book.\n",
    "- As a result, the model predicts most cases as no-buy. This is the reason that TN is very high, but TP is very low."
   ]
  },
  {
   "cell_type": "markdown",
   "metadata": {
    "id": "3Zx3Qo8fEb6b"
   },
   "source": [
    "### 6. Draw ROC curve with AUC on test data."
   ]
  },
  {
   "cell_type": "code",
   "execution_count": 9,
   "metadata": {
    "id": "Az_RkNUvEb6b",
    "outputId": "dba7eaea-57b1-40e0-fbf9-baa01cecda98"
   },
   "outputs": [
    {
     "data": {
      "text/plain": [
       "array([[0.93990932, 0.06009068],\n",
       "       [0.98549193, 0.01450807],\n",
       "       [0.906433  , 0.093567  ],\n",
       "       ...,\n",
       "       [0.97865247, 0.02134753],\n",
       "       [0.95855301, 0.04144699],\n",
       "       [0.93306391, 0.06693609]])"
      ]
     },
     "execution_count": 9,
     "metadata": {},
     "output_type": "execute_result"
    }
   ],
   "source": [
    "#  Predict probablity of each sample in the test data\n",
    "\n",
    "prob = m.predict_proba(xtest)\n",
    "prob  # column 1,2: probability of negative and positive class"
   ]
  },
  {
   "cell_type": "markdown",
   "metadata": {
    "id": "vQFaOjsmJ0WE"
   },
   "source": [
    "- `m.predict_proba(xtest)`: It computes the probability estimates for each class.\n",
    "    - In binary classification, it returns a two-column array.\n",
    "    - The first column corresponds to the probability of the instance belonging to class 0 (negative class).\n",
    "    - The second column corresponds to the probability of the instance belonging to class 1 (positive class)."
   ]
  },
  {
   "cell_type": "code",
   "execution_count": 10,
   "metadata": {
    "id": "pl-icG1ZEb6b",
    "outputId": "04dbb62d-9f03-42cd-f4ae-6513ed7ac7a6"
   },
   "outputs": [
    {
     "name": "stdout",
     "output_type": "stream",
     "text": [
      "Out-of-sample AUC: 0.8109\n"
     ]
    }
   ],
   "source": [
    "# Obtain predictions for positive class, fpr, tpr, decisin threshold, AUC\n",
    "\n",
    "prob = m.predict_proba(xtest)[:,1]  # all rows and 2nd column (= positive class)\n",
    "fpr, tpr, threshold = roc_curve(ytest, prob)\n",
    " # roc_curve takes observed labels with predicted prob and returns fpr,tpr,thresholds for each tpr & fpr\n",
    "\n",
    "area = auc(fpr, tpr)  # area under the ROC curve\n",
    "print('Out-of-sample AUC: %0.4f' % auc(fpr, tpr))  # '%0.4f' %: display 4 digit"
   ]
  },
  {
   "cell_type": "markdown",
   "metadata": {
    "id": "QsYhIo2HQ2xZ"
   },
   "source": [
    "- `[:, 1]`: Extract the second column of the array (column with index 1), which contains the probability estimates for the positive class (class 1).\n",
    "- `roc_curve(ytest, prob)` calculates the FPR and TPR for different classification thresholds and provides these values in fpr, tpr, and threshold arrays.\n",
    "- `area = auc(fpr, tpr)`: This line calculates the area under the ROC curve\n",
    "    - The auc function takes as arguments the false positive rate (fpr) and true positive rate (tpr) values.\n",
    "- `print('Out-of-sample AUC: %0.4f' % auc(fpr, tpr))`: Prints the AUC value. \n",
    "    - %0.4f displayss a floating-point number with four decimal places."
   ]
  },
  {
   "cell_type": "code",
   "execution_count": 11,
   "metadata": {
    "id": "Xwx6nlX3Eb6b",
    "outputId": "54378680-6b1a-4ec2-ec28-fa0ed2356e3d"
   },
   "outputs": [
    {
     "data": {
      "text/plain": [
       "<matplotlib.legend.Legend at 0x221700e3040>"
      ]
     },
     "execution_count": 11,
     "metadata": {},
     "output_type": "execute_result"
    },
    {
     "data": {
      "image/png": "[encoded data removed]",
      "text/plain": [
       "<Figure size 432x288 with 1 Axes>"
      ]
     },
     "metadata": {
      "needs_background": "light"
     },
     "output_type": "display_data"
    }
   ],
   "source": [
    "# Disply ROC curve\n",
    "\n",
    "plt.plot(fpr, tpr, label=area, marker='*')\n",
    "# plt.plot(fpr, tpr, label=('AUC = ', area))\n",
    "# plt.plot(fpr, tpr, label='AUC = %0.4f' % area)  # 0.4f=4 digits after decimal\n",
    "plt.plot([0, 1], [0, 1])  # Display straight line\n",
    "plt.grid()\n",
    "plt.xlabel('False Positive Rate (=1-Specificity)')\n",
    "plt.ylabel('True Positive Rate (=Sensitiviey)')\n",
    "plt.title('ROC Curve')\n",
    "plt.legend(loc=\"lower right\")"
   ]
  },
  {
   "cell_type": "markdown",
   "metadata": {
    "id": "Bg7WRp_zSSUZ"
   },
   "source": [
    "- `plt.plot(fpr, tpr, label=area, marker='*')`: Plots the ROC curve using the false positive rate (fpr) on the x-axis and the true positive rate (tpr) on the y-axis.\n",
    "    - `label=area`: It labels the curve with the AUC value calculated earlier. \n",
    "    - `marker='*'`: This parameter specifies that the points on the curve should be marked with asterisks\n",
    "- `plt.plot([0, 1], [0, 1])`: This line adds a straight line to the plot. This straight line represents the ROC curve of a random classifier with no discriminatory power.\n",
    "- In a ROC curve, a diagonal line from the bottom-left corner to the top-right corner (the line with slope 45 degrees) represents a random classifier, and a good model should be above this line.\n",
    "- `plt.grid()`: This command adds a grid to the plot.\n",
    "- `plt.xlabel('False Positive Rate (=1-Specificity)')`: This sets the label for the x-axis.\n",
    "- `plt.ylabel('True Positive Rate (=Sensitivity)')`: This sets the label for the y-axis.\n",
    "- `plt.title('ROC Curve')`: This line sets the title of the plot to \"ROC Curve.\"\n",
    "- `plt.legend(loc=\"lower right\")`: This command adds a legend to the plot. \n",
    "    - `loc=\"lower right\"` specifies that the legend should be placed in the lower-right corner of the plot."
   ]
  },
  {
   "cell_type": "markdown",
   "metadata": {
    "id": "Gk6lXAauEb6b"
   },
   "source": [
    "### 7. What is the optimal decision threshold (probability) that maximizes (TPR-FPR)?"
   ]
  },
  {
   "cell_type": "code",
   "execution_count": 12,
   "metadata": {
    "id": "myLshPY_Eb6c",
    "outputId": "a63627a4-59cd-4a72-f6fe-f440f617c59d"
   },
   "outputs": [
    {
     "data": {
      "text/plain": [
       "0.07657562495328728"
      ]
     },
     "execution_count": 12,
     "metadata": {},
     "output_type": "execute_result"
    }
   ],
   "source": [
    "# Obtain the optimal decision threshold \n",
    "\n",
    "best_thresh = threshold[np.argmax(tpr - fpr)]\n",
    "best_thresh\n",
    " # np.argmax: Returns index of maximum value\n",
    " # threshold(index): Returns the threshold value corresponding to the index"
   ]
  },
  {
   "cell_type": "markdown",
   "metadata": {
    "id": "qFxBTv0JUbHz"
   },
   "source": [
    "- `np.argmax(tpr - fpr)`: Calculates the index of the threshold that maximizes the difference between the true positive rate (TPR) and the false positive rate (FPR). The np.argmax() function then finds the index where this difference is maximized.\n",
    "- `threshold[np.argmax(tpr - fpr)]`: After finding the index of the best threshold, this part retrieves the actual threshold value from the threshold array at that index."
   ]
  },
  {
   "cell_type": "markdown",
   "metadata": {
    "id": "uOvBQlisEb6c"
   },
   "source": [
    "- The optimal threshold that maximizes (TPR-FPR) is much lower than the default 50%."
   ]
  },
  {
   "cell_type": "code",
   "execution_count": 13,
   "metadata": {
    "id": "H9U8lMPREb6c",
    "outputId": "2b39f0d9-4fe6-48e6-fcc0-ca1f530a87da"
   },
   "outputs": [
    {
     "name": "stdout",
     "output_type": "stream",
     "text": [
      "0.5189914206307649\n"
     ]
    },
    {
     "data": {
      "text/plain": [
       "64"
      ]
     },
     "execution_count": 13,
     "metadata": {},
     "output_type": "execute_result"
    }
   ],
   "source": [
    "print(max(tpr - fpr))  # maximum of (TPR-FPR)\n",
    "np.argmax(tpr - fpr)  # Index of maximum of (TPR-FPR)"
   ]
  },
  {
   "cell_type": "markdown",
   "metadata": {
    "id": "e9mvEj66Eb6c"
   },
   "source": [
    "### 8. Report model accuracy, Confusion matrix, Precision, Recall, and F1 score on test data using the optimal threshold. Discuss differences in results based on the two thresholds (default vs. optimal)."
   ]
  },
  {
   "cell_type": "code",
   "execution_count": 14,
   "metadata": {
    "id": "U3SEoeuuEb6d",
    "outputId": "19f61a5d-503a-45a5-b50f-cb4dfed6df32"
   },
   "outputs": [
    {
     "data": {
      "text/plain": [
       "array([0, 0, 1, 0, 1])"
      ]
     },
     "execution_count": 14,
     "metadata": {},
     "output_type": "execute_result"
    }
   ],
   "source": [
    "# Predict y using the optimal threshold and obtain scores\n",
    " # Set predicted y=1 if predicted probability exceeds the optimal threshold\n",
    "\n",
    "pred1 = (prob >= best_thresh).astype('int')\n",
    "pred1[0:5]  # first 5 values\n",
    " # pred1=1 if prob>=best_thresh, 0 otherwise\n",
    " # astype('int'): convert Boolean to integer"
   ]
  },
  {
   "cell_type": "markdown",
   "metadata": {
    "id": "fHMdf9_5Uy2X"
   },
   "source": [
    "- `pred1 = (prob >= best_thresh).astype('int')`: Creates a new binary prediction array pred1 by comparing the predicted probabilities in prob with the best_thresh value.\n",
    "    - `(prob >= best_thresh)`: Creates a boolean mask by comparing each element in the prob array with the best_thresh. For each element, it will be True if the probability is greater than or equal to the best_thresh, and False otherwise.\n",
    "    - `astype('int')`: After creating the boolean mask, this part converts it to integers. True becomes 1, and False becomes 0, resulting in a binary prediction array.\n",
    "- `pred1[0:5]`: This line displays the first five elements of the pred1 array."
   ]
  },
  {
   "cell_type": "code",
   "execution_count": 15,
   "metadata": {
    "id": "eHai1El7Eb6d",
    "outputId": "c3b11985-92ec-4855-cd10-c7f33cf913a3"
   },
   "outputs": [
    {
     "data": {
      "text/plain": [
       "array([[676, 138],\n",
       "       [ 19,  42]], dtype=int64)"
      ]
     },
     "execution_count": 15,
     "metadata": {},
     "output_type": "execute_result"
    }
   ],
   "source": [
    "# Obtain confusion matrix\n",
    "\n",
    "metrics.confusion_matrix(ytest, pred1)"
   ]
  },
  {
   "cell_type": "markdown",
   "metadata": {
    "id": "GL2UF7UOEb6d"
   },
   "source": [
    "|          | Predicted 0   | Predicted 1 |\n",
    "|----------|:-------------:|------------:|\n",
    "| Actual 0 |       TN      |      FP     |\n",
    "| Actual 1 |       FN      |      TP     |"
   ]
  },
  {
   "cell_type": "markdown",
   "metadata": {
    "id": "qADLD5PiEb6d"
   },
   "source": [
    "- The model predicts many samples as positive classes.\n",
    "- As a result, TP and FP are much higher even if TN and FN are lower than before."
   ]
  },
  {
   "cell_type": "code",
   "execution_count": 16,
   "metadata": {
    "id": "xrEJqd1IEb6d",
    "outputId": "d1eb9fdf-0680-430c-b38d-fe86842664cd"
   },
   "outputs": [
    {
     "name": "stdout",
     "output_type": "stream",
     "text": [
      "Accuracy 0.8205714285714286\n",
      "Precision 0.23333333333333334\n",
      "Recall 0.6885245901639344\n",
      "F1 Score 0.3485477178423237\n"
     ]
    }
   ],
   "source": [
    "# Obtain accuracy, precision, recall, F1\n",
    "\n",
    "print('Accuracy',  metrics.accuracy_score(ytest, pred1))\n",
    "print('Precision', metrics.precision_score(ytest, pred1))\n",
    "print('Recall',    metrics.recall_score(ytest, pred1))\n",
    "print('F1 Score',  metrics.f1_score(ytest, pred1))"
   ]
  },
  {
   "cell_type": "markdown",
   "metadata": {
    "id": "2oF8i7QiEb6e"
   },
   "source": [
    "- Recall is significantly higher even if Prcision is lower than before.\n",
    "- As a result, F1 is much higher than before.\n",
    "- Overall accuracy rate declined."
   ]
  },
  {
   "cell_type": "markdown",
   "metadata": {
    "id": "ZyQrU5ymEb6e"
   },
   "source": [
    "### 9. Run the following logit model on training data. Draw ROC curve with AUC on test data from M1 and M2.\n",
    "- **(M2) Buy = β0 + β1 Male + β2 Buyamt + β3 Freq + β4 Lastbuy + β5 Firstbuy + e**"
   ]
  },
  {
   "cell_type": "code",
   "execution_count": 17,
   "metadata": {
    "id": "t2R2_daAEb6e",
    "scrolled": true
   },
   "outputs": [],
   "source": [
    "# Define x for M2. \n",
    "\n",
    "x2=df[['male', 'buyamt', 'freq', 'lastbuy', 'firstbuy']]"
   ]
  },
  {
   "cell_type": "code",
   "execution_count": 18,
   "metadata": {
    "id": "t2R2_daAEb6e",
    "scrolled": true
   },
   "outputs": [],
   "source": [
    "# Divide data into training and test data. Run logistic regression training data.\n",
    "\n",
    "xtrain2, xtest2, ytrain, ytest=train_test_split(x2, y)\n",
    "m2 = LogisticRegression(max_iter=300).fit(xtrain2, ytrain)"
   ]
  },
  {
   "cell_type": "code",
   "execution_count": 19,
   "metadata": {
    "id": "Ygsrs3eQEb6e",
    "outputId": "dfe7733e-200c-4cc7-dbbc-6ddcf95b19c4"
   },
   "outputs": [
    {
     "name": "stdout",
     "output_type": "stream",
     "text": [
      "Out-of-sample AUC: 0.6720088520845231\n"
     ]
    }
   ],
   "source": [
    "# Obtain predictions for positive class, fpr, tpr, decisin threshold, AUC\n",
    "\n",
    "prob2 = m2.predict_proba(xtest2)[:,1]  # all rows and 2nd column\n",
    " # column 1,2 of prob: probability of negative and positive class\n",
    "fpr2, tpr2, threshold2 = roc_curve(ytest, prob2)\n",
    " # roc_curve takes observed labels with predicted prob and returns fpr,tpr,thresholds for each tpr & fpr\n",
    "area2 = auc(fpr2, tpr2)\n",
    "print('Out-of-sample AUC:', area2)  # '%0.4f' %: display 4 digit"
   ]
  },
  {
   "cell_type": "code",
   "execution_count": 20,
   "metadata": {
    "id": "7B6G9YXoEb6e",
    "outputId": "748e7a05-2021-4e37-ae14-a7425ccc476f"
   },
   "outputs": [
    {
     "data": {
      "text/plain": [
       "<matplotlib.legend.Legend at 0x221701cd1f0>"
      ]
     },
     "execution_count": 20,
     "metadata": {},
     "output_type": "execute_result"
    },
    {
     "data": {
      "image/png": "[encoded data removed]",
      "text/plain": [
       "<Figure size 432x288 with 1 Axes>"
      ]
     },
     "metadata": {
      "needs_background": "light"
     },
     "output_type": "display_data"
    }
   ],
   "source": [
    "# Disply ROC curve for both M1, M2\n",
    "\n",
    "plt.plot(fpr, tpr, label=('AUC M1', area))\n",
    "plt.plot(fpr2, tpr2, label=('AUC M2', area2))\n",
    "plt.plot([0, 1], [0, 1])  # Display straight line\n",
    "plt.grid()\n",
    "plt.xlabel('False Positive Rate (=1-Specificity)')\n",
    "plt.ylabel('True Positive Rate (=Sensitiviey)')\n",
    "plt.title('ROC Curve')\n",
    "plt.legend(loc=\"lower right\")"
   ]
  },
  {
   "cell_type": "markdown",
   "metadata": {
    "id": "slGGy5YSEb6e"
   },
   "source": [
    "- Model 1 is better: M1 has higher AUC than M2."
   ]
  },
  {
   "cell_type": "markdown",
   "metadata": {
    "id": "JZIXZ79AEb6e"
   },
   "source": []
  },
  {
   "cell_type": "code",
   "execution_count": 21,
   "metadata": {
    "id": "2Kl_tDgfEb6Z",
    "outputId": "56286861-a8c6-4e50-c0c8-0132f45dbd4e"
   },
   "outputs": [
    {
     "data": {
      "text/plain": [
       "Text(0.5, 15.0, 'Predicted')"
      ]
     },
     "execution_count": 21,
     "metadata": {},
     "output_type": "execute_result"
    },
    {
     "data": {
      "image/png": "[encoded data removed]",
      "text/plain": [
       "<Figure size 432x288 with 2 Axes>"
      ]
     },
     "metadata": {
      "needs_background": "light"
     },
     "output_type": "display_data"
    }
   ],
   "source": [
    "# Confusion matrix heatmap\n",
    "\n",
    "sns.heatmap(pd.DataFrame(metrics.confusion_matrix(ytest, pred)), annot=True, cmap=\"YlGnBu\", fmt='g')\n",
    " # annot: number in cell, cmap: color, fmt: string format\n",
    "plt.title('Confusion Matrix')\n",
    "plt.ylabel('Actual')\n",
    "plt.xlabel('Predicted')"
   ]
  },
  {
   "cell_type": "markdown",
   "metadata": {
    "id": "qqGhu8maIUf0"
   },
   "source": [
    "- `sns.heatmap(pd.DataFrame(metrics.confusion_matrix(ytest, pred)), annot=True, cmap=\"YlGnBu\", fmt='g')`: This line creates the heatmap using seaborn.\n",
    "    - `pd.DataFrame(metrics.confusion_matrix(ytest, pred))`: It converts the confusion matrix (which is typically a NumPy array) into a pandas DataFrame for better visualization.\n",
    "    - `annot=True:` This parameter specifies that the values should be annotated (displayed) within each cell of the heatmap, showing the actual counts of true positives, true negatives, false positives, and false negatives.\n",
    "    - `cmap=\"YlGnBu\"`: This parameter sets the color map for the heatmap. In this case, it uses the \"YlGnBu\" color map, which goes from yellow (low values) to green and blue (high values), providing a visual representation of the count of instances in each cell.\n",
    "    - `fmt='g'`: This parameter specifies the format for displaying the numbers in each cell. 'g' means to use the default numeric format.\n",
    "- `plt.title('Confusion Matrix')`: This line sets the title of the heatmap to \"Confusion Matrix.\"\n",
    "- `plt.ylabel('Actual')`: This line labels the y-axis of the heatmap with \"Actual,\" indicating the actual class labels.\n",
    "- `plt.xlabel('Predicted')`: This line labels the x-axis of the heatmap with \"Predicted,\" indicating the predicted class labels"
   ]
  },
  {
   "cell_type": "code",
   "execution_count": 22,
   "metadata": {
    "id": "dWft_J-UEb6b",
    "outputId": "eb3a2ac9-4829-4ad9-ba56-3b01c365c3a4"
   },
   "outputs": [
    {
     "name": "stdout",
     "output_type": "stream",
     "text": [
      "5\n"
     ]
    },
    {
     "data": {
      "text/plain": [
       "4"
      ]
     },
     "execution_count": 22,
     "metadata": {},
     "output_type": "execute_result"
    }
   ],
   "source": [
    "# max vs. np.argmax\n",
    "\n",
    "a = [1,2,3,4,5]\n",
    "print(max(a))  # max value\n",
    "np.argmax(a)  # index(position) of max value"
   ]
  },
  {
   "cell_type": "markdown",
   "metadata": {
    "id": "1BnHaLR0TdkM"
   },
   "source": [
    "- `(max(a))`: finds the maximum value in the list a.\n",
    "- `np.argmax(a)`: finds the index of the maximum value in the array a."
   ]
  },
  {
   "cell_type": "code",
   "execution_count": 23,
   "metadata": {
    "id": "whz81MseEb6c",
    "outputId": "7bf4ff44-0273-4995-f453-ccf60df6ae22"
   },
   "outputs": [
    {
     "name": "stdout",
     "output_type": "stream",
     "text": [
      "[1, 2, 3, 4, 5]\n"
     ]
    },
    {
     "data": {
      "text/plain": [
       "4"
      ]
     },
     "execution_count": 23,
     "metadata": {},
     "output_type": "execute_result"
    }
   ],
   "source": [
    "b = [[1,2,3,4,5]]  # Notice two bracketss: 5 elements are combined as one\n",
    "\n",
    "print(max(b))  # max value is the whole list\n",
    "np.argmax(b)  # index(position) of max value is the same"
   ]
  },
  {
   "cell_type": "code",
   "execution_count": 24,
   "metadata": {
    "id": "6_iL5J74Eb6c",
    "outputId": "015a42b3-92fe-4bb8-9d5a-5f35f63ccf71"
   },
   "outputs": [
    {
     "data": {
      "text/plain": [
       "matrix([[ 1,  2, 10],\n",
       "        [ 3,  4, 20],\n",
       "        [ 5,  6, 30]])"
      ]
     },
     "execution_count": 24,
     "metadata": {},
     "output_type": "execute_result"
    }
   ],
   "source": [
    "c = np.matrix([[1,2,10], [3,4,20], [5,6,30]])  # 2-D materix\n",
    "c"
   ]
  },
  {
   "cell_type": "markdown",
   "metadata": {
    "id": "iF_ja5BLT4wa"
   },
   "source": [
    "- `np.matrix()`: Creates a 3x3 matrix using NumPy."
   ]
  },
  {
   "cell_type": "code",
   "execution_count": 25,
   "metadata": {
    "id": "lzZWJnaqEb6c",
    "outputId": "21c6fb42-a3c3-4a3e-d13e-0bb4e4750881"
   },
   "outputs": [
    {
     "name": "stdout",
     "output_type": "stream",
     "text": [
      "30\n"
     ]
    },
    {
     "data": {
      "text/plain": [
       "8"
      ]
     },
     "execution_count": 25,
     "metadata": {},
     "output_type": "execute_result"
    }
   ],
   "source": [
    "print(np.max(c))  # max value is a single number\n",
    "np.argmax(c)  # index(position) of max value"
   ]
  },
  {
   "cell_type": "code",
   "execution_count": null,
   "metadata": {},
   "outputs": [],
   "source": []
  }
 ],
 "metadata": {
  "colab": {
   "provenance": []
  },
  "kernelspec": {
   "display_name": "Python 3 (ipykernel)",
   "language": "python",
   "name": "python3"
  },
  "language_info": {
   "codemirror_mode": {
    "name": "ipython",
    "version": 3
   },
   "file_extension": ".py",
   "mimetype": "text/x-python",
   "name": "python",
   "nbconvert_exporter": "python",
   "pygments_lexer": "ipython3",
   "version": "3.11.4"
  }
 },
 "nbformat": 4,
 "nbformat_minor": 4
}
