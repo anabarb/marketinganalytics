{
 "cells": [
  {
   "cell_type": "markdown",
   "metadata": {
    "id": "sGFHCFseo26G"
   },
   "source": [
    "# Wholesale customer: Hierarchical clustering"
   ]
  },
  {
   "cell_type": "code",
   "execution_count": 1,
   "metadata": {
    "id": "pSfKuUzAo26I"
   },
   "outputs": [],
   "source": [
    "import pandas as pd\n",
    "import numpy as np\n",
    "import scipy.cluster.hierarchy as sci\n",
    "from sklearn.cluster import AgglomerativeClustering\n",
    "import matplotlib.pyplot as plt"
   ]
  },
  {
   "cell_type": "code",
   "execution_count": 2,
   "metadata": {
    "id": "zFrUMjALo26J",
    "outputId": "b3d0a7a0-c0d2-4d2f-91d2-4e6cd2ca17f2"
   },
   "outputs": [
    {
     "data": {
      "text/html": [
       "<div>\n",
       "<style scoped>\n",
       "    .dataframe tbody tr th:only-of-type {\n",
       "        vertical-align: middle;\n",
       "    }\n",
       "\n",
       "    .dataframe tbody tr th {\n",
       "        vertical-align: top;\n",
       "    }\n",
       "\n",
       "    .dataframe thead th {\n",
       "        text-align: right;\n",
       "    }\n",
       "</style>\n",
       "<table border=\"1\" class=\"dataframe\">\n",
       "  <thead>\n",
       "    <tr style=\"text-align: right;\">\n",
       "      <th></th>\n",
       "      <th>CustomerID</th>\n",
       "      <th>Channel</th>\n",
       "      <th>Region</th>\n",
       "      <th>Fresh</th>\n",
       "      <th>Milk</th>\n",
       "      <th>Grocery</th>\n",
       "      <th>Frozen</th>\n",
       "      <th>Detergents_Paper</th>\n",
       "      <th>Delicatessen</th>\n",
       "    </tr>\n",
       "  </thead>\n",
       "  <tbody>\n",
       "    <tr>\n",
       "      <th>0</th>\n",
       "      <td>1</td>\n",
       "      <td>2</td>\n",
       "      <td>3</td>\n",
       "      <td>12669</td>\n",
       "      <td>9656</td>\n",
       "      <td>7561</td>\n",
       "      <td>214</td>\n",
       "      <td>2674</td>\n",
       "      <td>1338</td>\n",
       "    </tr>\n",
       "    <tr>\n",
       "      <th>1</th>\n",
       "      <td>2</td>\n",
       "      <td>2</td>\n",
       "      <td>3</td>\n",
       "      <td>7057</td>\n",
       "      <td>9810</td>\n",
       "      <td>9568</td>\n",
       "      <td>1762</td>\n",
       "      <td>3293</td>\n",
       "      <td>1776</td>\n",
       "    </tr>\n",
       "    <tr>\n",
       "      <th>2</th>\n",
       "      <td>3</td>\n",
       "      <td>2</td>\n",
       "      <td>3</td>\n",
       "      <td>6353</td>\n",
       "      <td>8808</td>\n",
       "      <td>7684</td>\n",
       "      <td>2405</td>\n",
       "      <td>3516</td>\n",
       "      <td>7844</td>\n",
       "    </tr>\n",
       "    <tr>\n",
       "      <th>3</th>\n",
       "      <td>4</td>\n",
       "      <td>1</td>\n",
       "      <td>3</td>\n",
       "      <td>13265</td>\n",
       "      <td>1196</td>\n",
       "      <td>4221</td>\n",
       "      <td>6404</td>\n",
       "      <td>507</td>\n",
       "      <td>1788</td>\n",
       "    </tr>\n",
       "    <tr>\n",
       "      <th>4</th>\n",
       "      <td>5</td>\n",
       "      <td>2</td>\n",
       "      <td>3</td>\n",
       "      <td>22615</td>\n",
       "      <td>5410</td>\n",
       "      <td>7198</td>\n",
       "      <td>3915</td>\n",
       "      <td>1777</td>\n",
       "      <td>5185</td>\n",
       "    </tr>\n",
       "  </tbody>\n",
       "</table>\n",
       "</div>"
      ],
      "text/plain": [
       "   CustomerID  Channel  Region  Fresh  Milk  Grocery  Frozen  \\\n",
       "0           1        2       3  12669  9656     7561     214   \n",
       "1           2        2       3   7057  9810     9568    1762   \n",
       "2           3        2       3   6353  8808     7684    2405   \n",
       "3           4        1       3  13265  1196     4221    6404   \n",
       "4           5        2       3  22615  5410     7198    3915   \n",
       "\n",
       "   Detergents_Paper  Delicatessen  \n",
       "0              2674          1338  \n",
       "1              3293          1776  \n",
       "2              3516          7844  \n",
       "3               507          1788  \n",
       "4              1777          5185  "
      ]
     },
     "execution_count": 2,
     "metadata": {},
     "output_type": "execute_result"
    }
   ],
   "source": [
    "df = pd.read_csv('Wholesale customer.csv')\n",
    "df.head()"
   ]
  },
  {
   "cell_type": "markdown",
   "metadata": {
    "id": "h64an1iXo26K"
   },
   "source": [
    "### 1. Use dendrogram to determine the number of clusters based on the following variables: Fresh, Milk, Grocery, Frozen, Detergents_Paper, Delicatessen. How many clusters would you choose and why?"
   ]
  },
  {
   "cell_type": "code",
   "execution_count": 3,
   "metadata": {
    "id": "DWEBVTk5o26L",
    "outputId": "14f197e0-fc33-4c96-84c8-95c0e70f25f1"
   },
   "outputs": [
    {
     "data": {
      "text/plain": [
       "Text(0, 0.5, 'Euclidean distance')"
      ]
     },
     "execution_count": 3,
     "metadata": {},
     "output_type": "execute_result"
    },
    {
     "data": {
      "image/png": "[encoded data removed]",
      "text/plain": [
       "<Figure size 432x288 with 1 Axes>"
      ]
     },
     "metadata": {
      "needs_background": "light"
     },
     "output_type": "display_data"
    }
   ],
   "source": [
    "x=df[['Fresh', 'Milk', 'Grocery', 'Frozen', 'Detergents_Paper', 'Delicatessen']]\n",
    "x=df.iloc[:, 3:]  # alternative\n",
    "sci.dendrogram(sci.linkage(x, method='ward'))\n",
    "\n",
    "plt.title('Dendrogram')\n",
    "plt.xlabel('Customer')\n",
    "plt.ylabel('Euclidean distance')"
   ]
  },
  {
   "cell_type": "markdown",
   "metadata": {
    "id": "K6doJyRc8ROG"
   },
   "source": [
    "- `sci.dendrogram(sci.linkage(x, method='ward'))`: performs hierarchical/agglomerative clustering.\n",
    "    - The 'ward' method is a criterion used in agglomerative clustering that minimizes the total within-cluster variance. With this method, at each step, the pair of clusters with the minimum between-cluster distance are merged.\n",
    "    - Alternative linkage methods include single, complete, average, centroid, median linkage.\n",
    "    - `sci.dendrogram()` takes the linkage matrix produced by `sci.linkage()` and creates a dendrogram visualization. A dendrogram is a tree-like diagram that records the sequences of merges or splits."
   ]
  },
  {
   "cell_type": "markdown",
   "metadata": {
    "id": "xf25wjkWo26L"
   },
   "source": [
    "- 4 cluster solution seems reasonable (by drawing a horizontal line at about 17500 of Euclidean distance)"
   ]
  },
  {
   "cell_type": "markdown",
   "metadata": {
    "id": "7AvC1P0so26L"
   },
   "source": [
    "### 2. Perform a hierarchical clustering analysis based on the agglomerative method using the number of clusters you determined. Add predicted clusters to the data"
   ]
  },
  {
   "cell_type": "code",
   "execution_count": 4,
   "metadata": {
    "id": "IsndomJOo26M",
    "outputId": "402d166f-f10c-4996-ea8a-cc7d6c8a24c1"
   },
   "outputs": [
    {
     "data": {
      "text/html": [
       "<div>\n",
       "<style scoped>\n",
       "    .dataframe tbody tr th:only-of-type {\n",
       "        vertical-align: middle;\n",
       "    }\n",
       "\n",
       "    .dataframe tbody tr th {\n",
       "        vertical-align: top;\n",
       "    }\n",
       "\n",
       "    .dataframe thead th {\n",
       "        text-align: right;\n",
       "    }\n",
       "</style>\n",
       "<table border=\"1\" class=\"dataframe\">\n",
       "  <thead>\n",
       "    <tr style=\"text-align: right;\">\n",
       "      <th></th>\n",
       "      <th>CustomerID</th>\n",
       "      <th>Channel</th>\n",
       "      <th>Region</th>\n",
       "      <th>Fresh</th>\n",
       "      <th>Milk</th>\n",
       "      <th>Grocery</th>\n",
       "      <th>Frozen</th>\n",
       "      <th>Detergents_Paper</th>\n",
       "      <th>Delicatessen</th>\n",
       "      <th>cluster</th>\n",
       "    </tr>\n",
       "  </thead>\n",
       "  <tbody>\n",
       "    <tr>\n",
       "      <th>0</th>\n",
       "      <td>1</td>\n",
       "      <td>2</td>\n",
       "      <td>3</td>\n",
       "      <td>12669</td>\n",
       "      <td>9656</td>\n",
       "      <td>7561</td>\n",
       "      <td>214</td>\n",
       "      <td>2674</td>\n",
       "      <td>1338</td>\n",
       "      <td>2</td>\n",
       "    </tr>\n",
       "    <tr>\n",
       "      <th>1</th>\n",
       "      <td>2</td>\n",
       "      <td>2</td>\n",
       "      <td>3</td>\n",
       "      <td>7057</td>\n",
       "      <td>9810</td>\n",
       "      <td>9568</td>\n",
       "      <td>1762</td>\n",
       "      <td>3293</td>\n",
       "      <td>1776</td>\n",
       "      <td>2</td>\n",
       "    </tr>\n",
       "    <tr>\n",
       "      <th>2</th>\n",
       "      <td>3</td>\n",
       "      <td>2</td>\n",
       "      <td>3</td>\n",
       "      <td>6353</td>\n",
       "      <td>8808</td>\n",
       "      <td>7684</td>\n",
       "      <td>2405</td>\n",
       "      <td>3516</td>\n",
       "      <td>7844</td>\n",
       "      <td>2</td>\n",
       "    </tr>\n",
       "    <tr>\n",
       "      <th>3</th>\n",
       "      <td>4</td>\n",
       "      <td>1</td>\n",
       "      <td>3</td>\n",
       "      <td>13265</td>\n",
       "      <td>1196</td>\n",
       "      <td>4221</td>\n",
       "      <td>6404</td>\n",
       "      <td>507</td>\n",
       "      <td>1788</td>\n",
       "      <td>2</td>\n",
       "    </tr>\n",
       "    <tr>\n",
       "      <th>4</th>\n",
       "      <td>5</td>\n",
       "      <td>2</td>\n",
       "      <td>3</td>\n",
       "      <td>22615</td>\n",
       "      <td>5410</td>\n",
       "      <td>7198</td>\n",
       "      <td>3915</td>\n",
       "      <td>1777</td>\n",
       "      <td>5185</td>\n",
       "      <td>3</td>\n",
       "    </tr>\n",
       "  </tbody>\n",
       "</table>\n",
       "</div>"
      ],
      "text/plain": [
       "   CustomerID  Channel  Region  Fresh  Milk  Grocery  Frozen  \\\n",
       "0           1        2       3  12669  9656     7561     214   \n",
       "1           2        2       3   7057  9810     9568    1762   \n",
       "2           3        2       3   6353  8808     7684    2405   \n",
       "3           4        1       3  13265  1196     4221    6404   \n",
       "4           5        2       3  22615  5410     7198    3915   \n",
       "\n",
       "   Detergents_Paper  Delicatessen  cluster  \n",
       "0              2674          1338        2  \n",
       "1              3293          1776        2  \n",
       "2              3516          7844        2  \n",
       "3               507          1788        2  \n",
       "4              1777          5185        3  "
      ]
     },
     "execution_count": 4,
     "metadata": {},
     "output_type": "execute_result"
    }
   ],
   "source": [
    "ac=AgglomerativeClustering(n_clusters=4, affinity='euclidean', linkage='ward').fit(x)\n",
    "df['cluster']=ac.labels_  # cluster label\n",
    "df.head()"
   ]
  },
  {
   "cell_type": "markdown",
   "metadata": {
    "id": "4Rnr4eCaqUmC"
   },
   "source": [
    "- `AgglomerativeClustering(n_clusters=4, affinity='euclidean', linkage='ward').fit(X)`: This line initializes the agglomerative clustering algorithm\n",
    "    - `n_clusters=4` specifies four clusters.\n",
    "    - `affinity='euclidean'` (Default) uses euclidean distance as the distance measure between data points.\n",
    "    - `linkage='ward'` (Default) specifies the Ward linkage which minimizes the sum of squared differences within all clusters. \n",
    "- `df['cluster'] = ac.labels_` : After the fitting process, the cluster labels for each data point are stored in ac.labels_. This line adds a new column to your DataFrame df called 'cluster'."
   ]
  },
  {
   "cell_type": "markdown",
   "metadata": {
    "id": "aL0LGccdo26M"
   },
   "source": [
    "### 3. Customers in each cluster"
   ]
  },
  {
   "cell_type": "code",
   "execution_count": 5,
   "metadata": {
    "id": "h5G_D0WGo26M",
    "outputId": "b5cf7d90-3837-4f40-b77a-1af17c60e4a4"
   },
   "outputs": [
    {
     "data": {
      "text/html": [
       "<div>\n",
       "<style scoped>\n",
       "    .dataframe tbody tr th:only-of-type {\n",
       "        vertical-align: middle;\n",
       "    }\n",
       "\n",
       "    .dataframe tbody tr th {\n",
       "        vertical-align: top;\n",
       "    }\n",
       "\n",
       "    .dataframe thead th {\n",
       "        text-align: right;\n",
       "    }\n",
       "</style>\n",
       "<table border=\"1\" class=\"dataframe\">\n",
       "  <thead>\n",
       "    <tr style=\"text-align: right;\">\n",
       "      <th></th>\n",
       "      <th>CustomerID</th>\n",
       "      <th>Channel</th>\n",
       "      <th>Region</th>\n",
       "      <th>Fresh</th>\n",
       "      <th>Milk</th>\n",
       "      <th>Grocery</th>\n",
       "      <th>Frozen</th>\n",
       "      <th>Detergents_Paper</th>\n",
       "      <th>Delicatessen</th>\n",
       "    </tr>\n",
       "    <tr>\n",
       "      <th>cluster</th>\n",
       "      <th></th>\n",
       "      <th></th>\n",
       "      <th></th>\n",
       "      <th></th>\n",
       "      <th></th>\n",
       "      <th></th>\n",
       "      <th></th>\n",
       "      <th></th>\n",
       "      <th></th>\n",
       "    </tr>\n",
       "  </thead>\n",
       "  <tbody>\n",
       "    <tr>\n",
       "      <th>0</th>\n",
       "      <td>45</td>\n",
       "      <td>45</td>\n",
       "      <td>45</td>\n",
       "      <td>45</td>\n",
       "      <td>45</td>\n",
       "      <td>45</td>\n",
       "      <td>45</td>\n",
       "      <td>45</td>\n",
       "      <td>45</td>\n",
       "    </tr>\n",
       "    <tr>\n",
       "      <th>1</th>\n",
       "      <td>23</td>\n",
       "      <td>23</td>\n",
       "      <td>23</td>\n",
       "      <td>23</td>\n",
       "      <td>23</td>\n",
       "      <td>23</td>\n",
       "      <td>23</td>\n",
       "      <td>23</td>\n",
       "      <td>23</td>\n",
       "    </tr>\n",
       "    <tr>\n",
       "      <th>2</th>\n",
       "      <td>261</td>\n",
       "      <td>261</td>\n",
       "      <td>261</td>\n",
       "      <td>261</td>\n",
       "      <td>261</td>\n",
       "      <td>261</td>\n",
       "      <td>261</td>\n",
       "      <td>261</td>\n",
       "      <td>261</td>\n",
       "    </tr>\n",
       "    <tr>\n",
       "      <th>3</th>\n",
       "      <td>111</td>\n",
       "      <td>111</td>\n",
       "      <td>111</td>\n",
       "      <td>111</td>\n",
       "      <td>111</td>\n",
       "      <td>111</td>\n",
       "      <td>111</td>\n",
       "      <td>111</td>\n",
       "      <td>111</td>\n",
       "    </tr>\n",
       "  </tbody>\n",
       "</table>\n",
       "</div>"
      ],
      "text/plain": [
       "         CustomerID  Channel  Region  Fresh  Milk  Grocery  Frozen  \\\n",
       "cluster                                                              \n",
       "0                45       45      45     45    45       45      45   \n",
       "1                23       23      23     23    23       23      23   \n",
       "2               261      261     261    261   261      261     261   \n",
       "3               111      111     111    111   111      111     111   \n",
       "\n",
       "         Detergents_Paper  Delicatessen  \n",
       "cluster                                  \n",
       "0                      45            45  \n",
       "1                      23            23  \n",
       "2                     261           261  \n",
       "3                     111           111  "
      ]
     },
     "execution_count": 5,
     "metadata": {},
     "output_type": "execute_result"
    }
   ],
   "source": [
    "df.groupby('cluster').count()"
   ]
  },
  {
   "cell_type": "markdown",
   "metadata": {
    "id": "0KK52CRCq0_Y"
   },
   "source": [
    "- `df.groupby('cluster')`: splits the DataFrame into groups based on the values in the 'cluster' column. \n",
    "- `count()`: counts the number of entries for each column in each cluster."
   ]
  },
  {
   "cell_type": "markdown",
   "metadata": {
    "id": "mrMxEvqmo26N"
   },
   "source": [
    "### 4. Report the average annual spending on each product by cluster. Interpret (profile) each customer segment."
   ]
  },
  {
   "cell_type": "code",
   "execution_count": 6,
   "metadata": {
    "id": "noe0zv-wo26N",
    "outputId": "bd4fbc35-ace5-442b-dbaa-1af7c48ca950"
   },
   "outputs": [
    {
     "data": {
      "text/html": [
       "<div>\n",
       "<style scoped>\n",
       "    .dataframe tbody tr th:only-of-type {\n",
       "        vertical-align: middle;\n",
       "    }\n",
       "\n",
       "    .dataframe tbody tr th {\n",
       "        vertical-align: top;\n",
       "    }\n",
       "\n",
       "    .dataframe thead th {\n",
       "        text-align: right;\n",
       "    }\n",
       "</style>\n",
       "<table border=\"1\" class=\"dataframe\">\n",
       "  <thead>\n",
       "    <tr style=\"text-align: right;\">\n",
       "      <th></th>\n",
       "      <th>CustomerID</th>\n",
       "      <th>Channel</th>\n",
       "      <th>Region</th>\n",
       "      <th>Fresh</th>\n",
       "      <th>Milk</th>\n",
       "      <th>Grocery</th>\n",
       "      <th>Frozen</th>\n",
       "      <th>Detergents_Paper</th>\n",
       "      <th>Delicatessen</th>\n",
       "    </tr>\n",
       "    <tr>\n",
       "      <th>cluster</th>\n",
       "      <th></th>\n",
       "      <th></th>\n",
       "      <th></th>\n",
       "      <th></th>\n",
       "      <th></th>\n",
       "      <th></th>\n",
       "      <th></th>\n",
       "      <th></th>\n",
       "      <th></th>\n",
       "    </tr>\n",
       "  </thead>\n",
       "  <tbody>\n",
       "    <tr>\n",
       "      <th>0</th>\n",
       "      <td>199.133333</td>\n",
       "      <td>2.000000</td>\n",
       "      <td>2.488889</td>\n",
       "      <td>7027.422222</td>\n",
       "      <td>17689.955556</td>\n",
       "      <td>28873.333333</td>\n",
       "      <td>1649.377778</td>\n",
       "      <td>13344.422222</td>\n",
       "      <td>1837.688889</td>\n",
       "    </tr>\n",
       "    <tr>\n",
       "      <th>1</th>\n",
       "      <td>214.260870</td>\n",
       "      <td>1.086957</td>\n",
       "      <td>2.695652</td>\n",
       "      <td>49287.869565</td>\n",
       "      <td>6583.695652</td>\n",
       "      <td>6108.434783</td>\n",
       "      <td>9744.000000</td>\n",
       "      <td>971.782609</td>\n",
       "      <td>4628.043478</td>\n",
       "    </tr>\n",
       "    <tr>\n",
       "      <th>2</th>\n",
       "      <td>225.505747</td>\n",
       "      <td>1.283525</td>\n",
       "      <td>2.540230</td>\n",
       "      <td>5779.628352</td>\n",
       "      <td>4560.091954</td>\n",
       "      <td>5727.279693</td>\n",
       "      <td>2508.191571</td>\n",
       "      <td>2012.122605</td>\n",
       "      <td>1159.486590</td>\n",
       "    </tr>\n",
       "    <tr>\n",
       "      <th>3</th>\n",
       "      <td>218.684685</td>\n",
       "      <td>1.189189</td>\n",
       "      <td>2.540541</td>\n",
       "      <td>20917.054054</td>\n",
       "      <td>3718.018018</td>\n",
       "      <td>5080.612613</td>\n",
       "      <td>3591.693694</td>\n",
       "      <td>1079.666667</td>\n",
       "      <td>1614.198198</td>\n",
       "    </tr>\n",
       "  </tbody>\n",
       "</table>\n",
       "</div>"
      ],
      "text/plain": [
       "         CustomerID   Channel    Region         Fresh          Milk  \\\n",
       "cluster                                                               \n",
       "0        199.133333  2.000000  2.488889   7027.422222  17689.955556   \n",
       "1        214.260870  1.086957  2.695652  49287.869565   6583.695652   \n",
       "2        225.505747  1.283525  2.540230   5779.628352   4560.091954   \n",
       "3        218.684685  1.189189  2.540541  20917.054054   3718.018018   \n",
       "\n",
       "              Grocery       Frozen  Detergents_Paper  Delicatessen  \n",
       "cluster                                                             \n",
       "0        28873.333333  1649.377778      13344.422222   1837.688889  \n",
       "1         6108.434783  9744.000000        971.782609   4628.043478  \n",
       "2         5727.279693  2508.191571       2012.122605   1159.486590  \n",
       "3         5080.612613  3591.693694       1079.666667   1614.198198  "
      ]
     },
     "execution_count": 6,
     "metadata": {},
     "output_type": "execute_result"
    }
   ],
   "source": [
    "df.groupby('cluster').mean()"
   ]
  },
  {
   "cell_type": "markdown",
   "metadata": {
    "id": "uy0cCJkOrFMd"
   },
   "source": [
    "- `mean()`: calculates the average of each feature within each group. The result is the centroid of each cluster in terms of the original features, representing the \"center\" of the data points in each cluster."
   ]
  },
  {
   "cell_type": "code",
   "execution_count": 7,
   "metadata": {
    "id": "MP1iRNYFo26N",
    "outputId": "1ae52560-653f-4fed-ffe5-f7ada6fb2837"
   },
   "outputs": [
    {
     "data": {
      "text/html": [
       "<div>\n",
       "<style scoped>\n",
       "    .dataframe tbody tr th:only-of-type {\n",
       "        vertical-align: middle;\n",
       "    }\n",
       "\n",
       "    .dataframe tbody tr th {\n",
       "        vertical-align: top;\n",
       "    }\n",
       "\n",
       "    .dataframe thead th {\n",
       "        text-align: right;\n",
       "    }\n",
       "</style>\n",
       "<table border=\"1\" class=\"dataframe\">\n",
       "  <thead>\n",
       "    <tr style=\"text-align: right;\">\n",
       "      <th></th>\n",
       "      <th>CustomerID</th>\n",
       "      <th>Channel</th>\n",
       "      <th>Region</th>\n",
       "      <th>Fresh</th>\n",
       "      <th>Milk</th>\n",
       "      <th>Grocery</th>\n",
       "      <th>Frozen</th>\n",
       "      <th>Detergents_Paper</th>\n",
       "      <th>Delicatessen</th>\n",
       "    </tr>\n",
       "    <tr>\n",
       "      <th>cluster</th>\n",
       "      <th></th>\n",
       "      <th></th>\n",
       "      <th></th>\n",
       "      <th></th>\n",
       "      <th></th>\n",
       "      <th></th>\n",
       "      <th></th>\n",
       "      <th></th>\n",
       "      <th></th>\n",
       "    </tr>\n",
       "  </thead>\n",
       "  <tbody>\n",
       "    <tr>\n",
       "      <th>0</th>\n",
       "      <td>199.13</td>\n",
       "      <td>2.00</td>\n",
       "      <td>2.49</td>\n",
       "      <td>7027.42</td>\n",
       "      <td>17689.96</td>\n",
       "      <td>28873.33</td>\n",
       "      <td>1649.38</td>\n",
       "      <td>13344.42</td>\n",
       "      <td>1837.69</td>\n",
       "    </tr>\n",
       "    <tr>\n",
       "      <th>1</th>\n",
       "      <td>214.26</td>\n",
       "      <td>1.09</td>\n",
       "      <td>2.70</td>\n",
       "      <td>49287.87</td>\n",
       "      <td>6583.70</td>\n",
       "      <td>6108.43</td>\n",
       "      <td>9744.00</td>\n",
       "      <td>971.78</td>\n",
       "      <td>4628.04</td>\n",
       "    </tr>\n",
       "    <tr>\n",
       "      <th>2</th>\n",
       "      <td>225.51</td>\n",
       "      <td>1.28</td>\n",
       "      <td>2.54</td>\n",
       "      <td>5779.63</td>\n",
       "      <td>4560.09</td>\n",
       "      <td>5727.28</td>\n",
       "      <td>2508.19</td>\n",
       "      <td>2012.12</td>\n",
       "      <td>1159.49</td>\n",
       "    </tr>\n",
       "    <tr>\n",
       "      <th>3</th>\n",
       "      <td>218.68</td>\n",
       "      <td>1.19</td>\n",
       "      <td>2.54</td>\n",
       "      <td>20917.05</td>\n",
       "      <td>3718.02</td>\n",
       "      <td>5080.61</td>\n",
       "      <td>3591.69</td>\n",
       "      <td>1079.67</td>\n",
       "      <td>1614.20</td>\n",
       "    </tr>\n",
       "  </tbody>\n",
       "</table>\n",
       "</div>"
      ],
      "text/plain": [
       "         CustomerID  Channel  Region    Fresh     Milk  Grocery  Frozen  \\\n",
       "cluster                                                                   \n",
       "0            199.13     2.00    2.49  7027.42 17689.96 28873.33 1649.38   \n",
       "1            214.26     1.09    2.70 49287.87  6583.70  6108.43 9744.00   \n",
       "2            225.51     1.28    2.54  5779.63  4560.09  5727.28 2508.19   \n",
       "3            218.68     1.19    2.54 20917.05  3718.02  5080.61 3591.69   \n",
       "\n",
       "         Detergents_Paper  Delicatessen  \n",
       "cluster                                  \n",
       "0                13344.42       1837.69  \n",
       "1                  971.78       4628.04  \n",
       "2                 2012.12       1159.49  \n",
       "3                 1079.67       1614.20  "
      ]
     },
     "execution_count": 7,
     "metadata": {},
     "output_type": "execute_result"
    }
   ],
   "source": [
    "pd.options.display.float_format = \"{:.2f}\".format  # print two decimals\n",
    "\n",
    "df.groupby('cluster').mean()"
   ]
  },
  {
   "cell_type": "markdown",
   "metadata": {
    "id": "zRSMn4KxrTS-"
   },
   "source": [
    "- `pd.options.display.float_format`: This line sets an option for formatting floating-point numbers. It uses Python's string formatting method to specify the format.\n",
    "- `\"{:.2f}\".format` formats the floating-point number with 2 places after the decimal point."
   ]
  },
  {
   "cell_type": "markdown",
   "metadata": {
    "id": "FbJhtIGPo26O"
   },
   "source": [
    " - Cluster 0 has highest spending on Milk, Grocery, Detergents_Paper\n",
    " - Cluster 1 has highest spending on Fresh, Frozen, Delicatessen"
   ]
  },
  {
   "cell_type": "markdown",
   "metadata": {
    "id": "EIR8fuvso26O"
   },
   "source": [
    "### 5. Select the segment whose spending on Fresh is the highest. Report top 5 customers whose spending on Fresh is the highest within the segment."
   ]
  },
  {
   "cell_type": "code",
   "execution_count": 8,
   "metadata": {
    "id": "5luD4Pcro26O",
    "outputId": "4a9d2b20-c349-4201-f0ad-bc3ed156e65b"
   },
   "outputs": [
    {
     "data": {
      "text/html": [
       "<div>\n",
       "<style scoped>\n",
       "    .dataframe tbody tr th:only-of-type {\n",
       "        vertical-align: middle;\n",
       "    }\n",
       "\n",
       "    .dataframe tbody tr th {\n",
       "        vertical-align: top;\n",
       "    }\n",
       "\n",
       "    .dataframe thead th {\n",
       "        text-align: right;\n",
       "    }\n",
       "</style>\n",
       "<table border=\"1\" class=\"dataframe\">\n",
       "  <thead>\n",
       "    <tr style=\"text-align: right;\">\n",
       "      <th></th>\n",
       "      <th>CustomerID</th>\n",
       "      <th>Channel</th>\n",
       "      <th>Region</th>\n",
       "      <th>Fresh</th>\n",
       "      <th>Milk</th>\n",
       "      <th>Grocery</th>\n",
       "      <th>Frozen</th>\n",
       "      <th>Detergents_Paper</th>\n",
       "      <th>Delicatessen</th>\n",
       "      <th>cluster</th>\n",
       "    </tr>\n",
       "  </thead>\n",
       "  <tbody>\n",
       "    <tr>\n",
       "      <th>29</th>\n",
       "      <td>30</td>\n",
       "      <td>1</td>\n",
       "      <td>3</td>\n",
       "      <td>43088</td>\n",
       "      <td>2100</td>\n",
       "      <td>2609</td>\n",
       "      <td>1200</td>\n",
       "      <td>1107</td>\n",
       "      <td>823</td>\n",
       "      <td>1</td>\n",
       "    </tr>\n",
       "    <tr>\n",
       "      <th>39</th>\n",
       "      <td>40</td>\n",
       "      <td>1</td>\n",
       "      <td>3</td>\n",
       "      <td>56159</td>\n",
       "      <td>555</td>\n",
       "      <td>902</td>\n",
       "      <td>10002</td>\n",
       "      <td>212</td>\n",
       "      <td>2916</td>\n",
       "      <td>1</td>\n",
       "    </tr>\n",
       "    <tr>\n",
       "      <th>52</th>\n",
       "      <td>53</td>\n",
       "      <td>2</td>\n",
       "      <td>3</td>\n",
       "      <td>40721</td>\n",
       "      <td>3916</td>\n",
       "      <td>5876</td>\n",
       "      <td>532</td>\n",
       "      <td>2587</td>\n",
       "      <td>1278</td>\n",
       "      <td>1</td>\n",
       "    </tr>\n",
       "    <tr>\n",
       "      <th>87</th>\n",
       "      <td>88</td>\n",
       "      <td>1</td>\n",
       "      <td>3</td>\n",
       "      <td>43265</td>\n",
       "      <td>5025</td>\n",
       "      <td>8117</td>\n",
       "      <td>6312</td>\n",
       "      <td>1579</td>\n",
       "      <td>14351</td>\n",
       "      <td>1</td>\n",
       "    </tr>\n",
       "    <tr>\n",
       "      <th>103</th>\n",
       "      <td>104</td>\n",
       "      <td>1</td>\n",
       "      <td>3</td>\n",
       "      <td>56082</td>\n",
       "      <td>3504</td>\n",
       "      <td>8906</td>\n",
       "      <td>18028</td>\n",
       "      <td>1480</td>\n",
       "      <td>2498</td>\n",
       "      <td>1</td>\n",
       "    </tr>\n",
       "  </tbody>\n",
       "</table>\n",
       "</div>"
      ],
      "text/plain": [
       "     CustomerID  Channel  Region  Fresh  Milk  Grocery  Frozen  \\\n",
       "29           30        1       3  43088  2100     2609    1200   \n",
       "39           40        1       3  56159   555      902   10002   \n",
       "52           53        2       3  40721  3916     5876     532   \n",
       "87           88        1       3  43265  5025     8117    6312   \n",
       "103         104        1       3  56082  3504     8906   18028   \n",
       "\n",
       "     Detergents_Paper  Delicatessen  cluster  \n",
       "29               1107           823        1  \n",
       "39                212          2916        1  \n",
       "52               2587          1278        1  \n",
       "87               1579         14351        1  \n",
       "103              1480          2498        1  "
      ]
     },
     "execution_count": 8,
     "metadata": {},
     "output_type": "execute_result"
    }
   ],
   "source": [
    "df.loc[df.cluster==1].head()  # .loc can be omitted\n",
    "df[df.cluster==1].head() "
   ]
  },
  {
   "cell_type": "markdown",
   "metadata": {
    "id": "cFjw2i1yroSF"
   },
   "source": [
    "- `df.loc[df.cluster==1]`: the loc accessor allows for label-based indexing. `.loc` can be omited in this case.\n",
    "- `df.cluster==1` creates a boolean mask. Every record where the 'cluster' column's value is 1 will have True in the corresponding position in the mask, and all others will be False.\n",
    "- By passing this mask to loc, you filter the DataFrame to include only the rows where the condition is True (i.e., only records belonging to cluster 1)."
   ]
  },
  {
   "cell_type": "code",
   "execution_count": 9,
   "metadata": {
    "id": "H6MCM2Aso26O",
    "outputId": "c47ff819-de55-44eb-cbdb-200ef6865d64"
   },
   "outputs": [
    {
     "data": {
      "text/html": [
       "<div>\n",
       "<style scoped>\n",
       "    .dataframe tbody tr th:only-of-type {\n",
       "        vertical-align: middle;\n",
       "    }\n",
       "\n",
       "    .dataframe tbody tr th {\n",
       "        vertical-align: top;\n",
       "    }\n",
       "\n",
       "    .dataframe thead th {\n",
       "        text-align: right;\n",
       "    }\n",
       "</style>\n",
       "<table border=\"1\" class=\"dataframe\">\n",
       "  <thead>\n",
       "    <tr style=\"text-align: right;\">\n",
       "      <th></th>\n",
       "      <th>CustomerID</th>\n",
       "      <th>Channel</th>\n",
       "      <th>Region</th>\n",
       "      <th>Fresh</th>\n",
       "      <th>Milk</th>\n",
       "      <th>Grocery</th>\n",
       "      <th>Frozen</th>\n",
       "      <th>Detergents_Paper</th>\n",
       "      <th>Delicatessen</th>\n",
       "      <th>cluster</th>\n",
       "    </tr>\n",
       "  </thead>\n",
       "  <tbody>\n",
       "    <tr>\n",
       "      <th>181</th>\n",
       "      <td>182</td>\n",
       "      <td>1</td>\n",
       "      <td>3</td>\n",
       "      <td>112151</td>\n",
       "      <td>29627</td>\n",
       "      <td>18148</td>\n",
       "      <td>16745</td>\n",
       "      <td>4948</td>\n",
       "      <td>8550</td>\n",
       "      <td>1</td>\n",
       "    </tr>\n",
       "    <tr>\n",
       "      <th>125</th>\n",
       "      <td>126</td>\n",
       "      <td>1</td>\n",
       "      <td>3</td>\n",
       "      <td>76237</td>\n",
       "      <td>3473</td>\n",
       "      <td>7102</td>\n",
       "      <td>16538</td>\n",
       "      <td>778</td>\n",
       "      <td>918</td>\n",
       "      <td>1</td>\n",
       "    </tr>\n",
       "    <tr>\n",
       "      <th>284</th>\n",
       "      <td>285</td>\n",
       "      <td>1</td>\n",
       "      <td>3</td>\n",
       "      <td>68951</td>\n",
       "      <td>4411</td>\n",
       "      <td>12609</td>\n",
       "      <td>8692</td>\n",
       "      <td>751</td>\n",
       "      <td>2406</td>\n",
       "      <td>1</td>\n",
       "    </tr>\n",
       "    <tr>\n",
       "      <th>39</th>\n",
       "      <td>40</td>\n",
       "      <td>1</td>\n",
       "      <td>3</td>\n",
       "      <td>56159</td>\n",
       "      <td>555</td>\n",
       "      <td>902</td>\n",
       "      <td>10002</td>\n",
       "      <td>212</td>\n",
       "      <td>2916</td>\n",
       "      <td>1</td>\n",
       "    </tr>\n",
       "    <tr>\n",
       "      <th>258</th>\n",
       "      <td>259</td>\n",
       "      <td>1</td>\n",
       "      <td>1</td>\n",
       "      <td>56083</td>\n",
       "      <td>4563</td>\n",
       "      <td>2124</td>\n",
       "      <td>6422</td>\n",
       "      <td>730</td>\n",
       "      <td>3321</td>\n",
       "      <td>1</td>\n",
       "    </tr>\n",
       "  </tbody>\n",
       "</table>\n",
       "</div>"
      ],
      "text/plain": [
       "     CustomerID  Channel  Region   Fresh   Milk  Grocery  Frozen  \\\n",
       "181         182        1       3  112151  29627    18148   16745   \n",
       "125         126        1       3   76237   3473     7102   16538   \n",
       "284         285        1       3   68951   4411    12609    8692   \n",
       "39           40        1       3   56159    555      902   10002   \n",
       "258         259        1       1   56083   4563     2124    6422   \n",
       "\n",
       "     Detergents_Paper  Delicatessen  cluster  \n",
       "181              4948          8550        1  \n",
       "125               778           918        1  \n",
       "284               751          2406        1  \n",
       "39                212          2916        1  \n",
       "258               730          3321        1  "
      ]
     },
     "execution_count": 9,
     "metadata": {},
     "output_type": "execute_result"
    }
   ],
   "source": [
    "df.loc[df.cluster==1].sort_values('Fresh', ascending=False).head()  # .loc can be omitted\n",
    "df[df.cluster==1].sort_values('Fresh', ascending=False).head()"
   ]
  },
  {
   "cell_type": "markdown",
   "metadata": {
    "id": "WVmbNDr3r4Ok"
   },
   "source": [
    "- `sort_values('Fresh', ascending=False)`: sorts the DataFrame based on the values in the 'Fresh' column.\n",
    "- `ascending=False`: The sorting will be in descending order (highest values at the top)."
   ]
  },
  {
   "cell_type": "code",
   "execution_count": null,
   "metadata": {
    "id": "2v48Yzuio26P"
   },
   "outputs": [],
   "source": []
  }
 ],
 "metadata": {
  "colab": {
   "provenance": []
  },
  "kernelspec": {
   "display_name": "Python 3 (ipykernel)",
   "language": "python",
   "name": "python3"
  },
  "language_info": {
   "codemirror_mode": {
    "name": "ipython",
    "version": 3
   },
   "file_extension": ".py",
   "mimetype": "text/x-python",
   "name": "python",
   "nbconvert_exporter": "python",
   "pygments_lexer": "ipython3",
   "version": "3.11.4"
  }
 },
 "nbformat": 4,
 "nbformat_minor": 4
}
