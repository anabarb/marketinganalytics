{
 "cells": [
  {
   "cell_type": "markdown",
   "metadata": {
    "id": "9LDdutA_1Ugu"
   },
   "source": [
    "# Silhoutte score: Selecting the number of clusters"
   ]
  },
  {
   "cell_type": "code",
   "execution_count": 1,
   "metadata": {
    "id": "Am-gR5AC1Ugw"
   },
   "outputs": [],
   "source": [
    "import pandas as pd\n",
    "import numpy as np\n",
    "from sklearn import metrics\n",
    "from sklearn import model_selection\n",
    "from sklearn import preprocessing\n",
    "import matplotlib.pyplot as plt\n",
    "from sklearn import cluster"
   ]
  },
  {
   "cell_type": "markdown",
   "metadata": {
    "id": "D2MWS49x1Ugx"
   },
   "source": [
    "### 1. Use 'Annual spending.csv'. Standardize the variables."
   ]
  },
  {
   "cell_type": "code",
   "execution_count": 2,
   "metadata": {
    "id": "6Cy0cFzg1Ugx",
    "outputId": "b76e052b-a20c-43a2-abdd-e580d55ee3eb"
   },
   "outputs": [
    {
     "data": {
      "text/html": [
       "<div>\n",
       "<style scoped>\n",
       "    .dataframe tbody tr th:only-of-type {\n",
       "        vertical-align: middle;\n",
       "    }\n",
       "\n",
       "    .dataframe tbody tr th {\n",
       "        vertical-align: top;\n",
       "    }\n",
       "\n",
       "    .dataframe thead th {\n",
       "        text-align: right;\n",
       "    }\n",
       "</style>\n",
       "<table border=\"1\" class=\"dataframe\">\n",
       "  <thead>\n",
       "    <tr style=\"text-align: right;\">\n",
       "      <th></th>\n",
       "      <th>income</th>\n",
       "      <th>age</th>\n",
       "      <th>days_since_buy</th>\n",
       "      <th>annual_spend</th>\n",
       "    </tr>\n",
       "  </thead>\n",
       "  <tbody>\n",
       "    <tr>\n",
       "      <th>0</th>\n",
       "      <td>37453</td>\n",
       "      <td>48</td>\n",
       "      <td>504</td>\n",
       "      <td>4441</td>\n",
       "    </tr>\n",
       "    <tr>\n",
       "      <th>1</th>\n",
       "      <td>50775</td>\n",
       "      <td>50</td>\n",
       "      <td>566</td>\n",
       "      <td>4239</td>\n",
       "    </tr>\n",
       "    <tr>\n",
       "      <th>2</th>\n",
       "      <td>71047</td>\n",
       "      <td>41</td>\n",
       "      <td>326</td>\n",
       "      <td>5834</td>\n",
       "    </tr>\n",
       "    <tr>\n",
       "      <th>3</th>\n",
       "      <td>52239</td>\n",
       "      <td>52</td>\n",
       "      <td>259</td>\n",
       "      <td>5456</td>\n",
       "    </tr>\n",
       "    <tr>\n",
       "      <th>4</th>\n",
       "      <td>112343</td>\n",
       "      <td>27</td>\n",
       "      <td>279</td>\n",
       "      <td>1749</td>\n",
       "    </tr>\n",
       "  </tbody>\n",
       "</table>\n",
       "</div>"
      ],
      "text/plain": [
       "   income  age  days_since_buy  annual_spend\n",
       "0   37453   48             504          4441\n",
       "1   50775   50             566          4239\n",
       "2   71047   41             326          5834\n",
       "3   52239   52             259          5456\n",
       "4  112343   27             279          1749"
      ]
     },
     "execution_count": 2,
     "metadata": {},
     "output_type": "execute_result"
    }
   ],
   "source": [
    "df = pd.read_csv('Annual spending.csv')\n",
    "df.head()"
   ]
  },
  {
   "cell_type": "code",
   "execution_count": 3,
   "metadata": {
    "id": "jILO-veo1Ugy",
    "outputId": "77714912-e75c-4bc9-d6b6-7f7707fe044c"
   },
   "outputs": [
    {
     "data": {
      "text/html": [
       "<div>\n",
       "<style scoped>\n",
       "    .dataframe tbody tr th:only-of-type {\n",
       "        vertical-align: middle;\n",
       "    }\n",
       "\n",
       "    .dataframe tbody tr th {\n",
       "        vertical-align: top;\n",
       "    }\n",
       "\n",
       "    .dataframe thead th {\n",
       "        text-align: right;\n",
       "    }\n",
       "</style>\n",
       "<table border=\"1\" class=\"dataframe\">\n",
       "  <thead>\n",
       "    <tr style=\"text-align: right;\">\n",
       "      <th></th>\n",
       "      <th>income</th>\n",
       "      <th>age</th>\n",
       "      <th>days_since_buy</th>\n",
       "      <th>annual_spend</th>\n",
       "      <th>z_income</th>\n",
       "      <th>z_age</th>\n",
       "      <th>z_days_since_buy</th>\n",
       "      <th>z_annual_spend</th>\n",
       "    </tr>\n",
       "  </thead>\n",
       "  <tbody>\n",
       "    <tr>\n",
       "      <th>0</th>\n",
       "      <td>37453</td>\n",
       "      <td>48</td>\n",
       "      <td>504</td>\n",
       "      <td>4441</td>\n",
       "      <td>-0.890426</td>\n",
       "      <td>0.604861</td>\n",
       "      <td>0.753257</td>\n",
       "      <td>0.062276</td>\n",
       "    </tr>\n",
       "    <tr>\n",
       "      <th>1</th>\n",
       "      <td>50775</td>\n",
       "      <td>50</td>\n",
       "      <td>566</td>\n",
       "      <td>4239</td>\n",
       "      <td>-0.553094</td>\n",
       "      <td>0.789354</td>\n",
       "      <td>1.306361</td>\n",
       "      <td>-0.058939</td>\n",
       "    </tr>\n",
       "    <tr>\n",
       "      <th>2</th>\n",
       "      <td>71047</td>\n",
       "      <td>41</td>\n",
       "      <td>326</td>\n",
       "      <td>5834</td>\n",
       "      <td>-0.039778</td>\n",
       "      <td>-0.040865</td>\n",
       "      <td>-0.834688</td>\n",
       "      <td>0.898182</td>\n",
       "    </tr>\n",
       "    <tr>\n",
       "      <th>3</th>\n",
       "      <td>52239</td>\n",
       "      <td>52</td>\n",
       "      <td>259</td>\n",
       "      <td>5456</td>\n",
       "      <td>-0.516023</td>\n",
       "      <td>0.973847</td>\n",
       "      <td>-1.432398</td>\n",
       "      <td>0.671353</td>\n",
       "    </tr>\n",
       "    <tr>\n",
       "      <th>4</th>\n",
       "      <td>112343</td>\n",
       "      <td>27</td>\n",
       "      <td>279</td>\n",
       "      <td>1749</td>\n",
       "      <td>1.005897</td>\n",
       "      <td>-1.332317</td>\n",
       "      <td>-1.253977</td>\n",
       "      <td>-1.553129</td>\n",
       "    </tr>\n",
       "  </tbody>\n",
       "</table>\n",
       "</div>"
      ],
      "text/plain": [
       "   income  age  days_since_buy  annual_spend  z_income     z_age  \\\n",
       "0   37453   48             504          4441 -0.890426  0.604861   \n",
       "1   50775   50             566          4239 -0.553094  0.789354   \n",
       "2   71047   41             326          5834 -0.039778 -0.040865   \n",
       "3   52239   52             259          5456 -0.516023  0.973847   \n",
       "4  112343   27             279          1749  1.005897 -1.332317   \n",
       "\n",
       "   z_days_since_buy  z_annual_spend  \n",
       "0          0.753257        0.062276  \n",
       "1          1.306361       -0.058939  \n",
       "2         -0.834688        0.898182  \n",
       "3         -1.432398        0.671353  \n",
       "4         -1.253977       -1.553129  "
      ]
     },
     "execution_count": 3,
     "metadata": {},
     "output_type": "execute_result"
    }
   ],
   "source": [
    "col = df.columns  \n",
    "for c in col:\n",
    "    df['z_'+c] = (df[c] - df[c].mean())/df[c].std()\n",
    "    df['z_'+c]=preprocessing.scale(df[c])  # alternative\n",
    "    \n",
    "df.head()"
   ]
  },
  {
   "cell_type": "markdown",
   "metadata": {
    "id": "eM5Yp0Qi2jw9"
   },
   "source": [
    "- `col = df.columns`: Retrieves all the column names from the DataFrame df and stores them in the variable col.\n",
    "- `for c in col`: Iterates over each column name in the DataFrame.\n",
    "    - `df['z_'+c] = (df[c] - df[c].mean())/df[c].std()`: For each column, this line computes the z-score, which standardizes the data points. The standardized values for each column c are calculated by subtracting the mean and dividing by the standard deviation. The results are stored in new columns with names formed by prefixing the original names with 'z_'."
   ]
  },
  {
   "cell_type": "markdown",
   "metadata": {
    "id": "oW9UUrZt1Ugy"
   },
   "source": [
    "### 2. Use the Silhoutte score method to select the number of clusters"
   ]
  },
  {
   "cell_type": "code",
   "execution_count": 4,
   "metadata": {
    "id": "kuDEpLWI1Ugy",
    "outputId": "cadb235f-08e1-457e-dbcc-c44b86c39757"
   },
   "outputs": [
    {
     "name": "stdout",
     "output_type": "stream",
     "text": [
      "Silhouette Score: (2, 0.39766635502349)\n",
      "Silhouette Score: (3, 0.43678441648152466)\n",
      "Silhouette Score: (4, 0.4444649277848981)\n",
      "Silhouette Score: (5, 0.4731327191810766)\n",
      "Silhouette Score: (6, 0.3961300672367258)\n",
      "Silhouette Score: (7, 0.32709252160811514)\n",
      "Silhouette Score: (8, 0.26380055844457523)\n",
      "Silhouette Score: (9, 0.2236349135196424)\n",
      "Silhouette Score: (10, 0.23112978675860096)\n"
     ]
    },
    {
     "data": {
      "text/plain": [
       "Text(0, 0.5, 'Average Silhouette Score')"
      ]
     },
     "execution_count": 4,
     "metadata": {},
     "output_type": "execute_result"
    },
    {
     "data": {
      "image/png": "[encoded data removed]",
      "text/plain": [
       "<Figure size 432x288 with 1 Axes>"
      ]
     },
     "metadata": {
      "needs_background": "light"
     },
     "output_type": "display_data"
    }
   ],
   "source": [
    "x = df[['z_income', 'z_age', 'z_days_since_buy', 'z_annual_spend']]\n",
    "x = df.iloc[:, 4:]  # alternative: all rows and columns 5~end\n",
    "\n",
    "krange = range(2,11)  # 2~10\n",
    "silhou = []\n",
    "for i in krange:\n",
    "    m = cluster.KMeans(n_clusters=i)\n",
    "    pred = m.fit_predict(x)  # fit and predict cluster\n",
    "    score = metrics.silhouette_score(x, pred)  # (x, predicted cluster)\n",
    "    silhou.append(score)\n",
    "    print('Silhouette Score:', (i, score))\n",
    "     # print('Silhouette Score for %i Clusters: %0.4f' % (i, score))  # 4 decimal points\n",
    "\n",
    "plt.plot(krange, silhou)\n",
    "plt.xlabel('K')\n",
    "plt.ylabel('Average Silhouette Score')"
   ]
  },
  {
   "cell_type": "markdown",
   "metadata": {
    "id": "CQrEkiSD27mi"
   },
   "source": [
    "- `krange = range(2,11)` defines a range of values from 2 to 10, representing the number of clusters to test.\n",
    "- `range()` function generates a sequence of numbers. It can take one, two, or three arguments, `range(start(inclusive), stop(exclusive), step)`\n",
    "    - `range(stop)` generates numbers from 0 up to (but not including) the `stop` value, with a step size 1.\n",
    "        - `range(5)` = 0, 1, 2, 3, 4\n",
    "    - `range(start, stop)` generates numbers from `start` up to (but not including) the `stop` value, with a step size of 1.\n",
    "        - `range(2, 8)` = 2, 3, 4, 5, 6, 7.\n",
    "    - `range(start, stop, step)` generates numbers fr\n",
    "- `m = cluster.KMeans(n_clusters=i)` creates a k-means clustering model with i clusters.\n",
    "- `pred = m.fit_predict(x)` fits the model and assigns each data point to a cluster, returning the cluster indices.\n",
    "- `score = metrics.silhouette_score(x, pred)` calculates the silhouette score for the current clustering, providing a measure of how similar an object is to its own cluster compared to other clusters. The silhouette score ranges from -1 (incorrect clustering) to +1 (highly dense clustering).\n",
    "- `silhou.append(score)` adds the silhouette score to the list silhou.\n",
    "- `plt.plot(krange, silhou)` plots the silhouette scores, allowing visual identification of the optimal number of clusters."
   ]
  },
  {
   "cell_type": "markdown",
   "metadata": {
    "id": "LjMtwd7m1Ug0"
   },
   "source": [
    "- K=5 is the optimal solution"
   ]
  },
  {
   "cell_type": "markdown",
   "metadata": {
    "id": "4MCgmbGs1Ugy"
   },
   "source": [
    "### 3. Conduct k-means clustering using the best number of clusters you found"
   ]
  },
  {
   "cell_type": "code",
   "execution_count": 5,
   "metadata": {
    "id": "ib9OZSYk1Ugz",
    "outputId": "7775b2d8-9c25-433c-af49-231119c6a2e4"
   },
   "outputs": [
    {
     "name": "stdout",
     "output_type": "stream",
     "text": [
      "Silhouette score 0.4731327191810766\n"
     ]
    }
   ],
   "source": [
    "m = cluster.KMeans(n_clusters=5)\n",
    "m.fit_predict(x)\n",
    "\n",
    "silhou = metrics.silhouette_score(x, m.labels_)  # (x, cluster)\n",
    "print('Silhouette score', silhou)"
   ]
  },
  {
   "cell_type": "markdown",
   "metadata": {
    "id": "Vj9UGfe94kGw"
   },
   "source": [
    "- `m.labels_`: returns the cluster labels generated by the k-means model m."
   ]
  },
  {
   "cell_type": "code",
   "execution_count": 6,
   "metadata": {
    "id": "r4we59Ob1Ugz",
    "outputId": "930b5f28-04a0-459d-c98b-980af8141a67"
   },
   "outputs": [
    {
     "data": {
      "text/html": [
       "<div>\n",
       "<style scoped>\n",
       "    .dataframe tbody tr th:only-of-type {\n",
       "        vertical-align: middle;\n",
       "    }\n",
       "\n",
       "    .dataframe tbody tr th {\n",
       "        vertical-align: top;\n",
       "    }\n",
       "\n",
       "    .dataframe thead th {\n",
       "        text-align: right;\n",
       "    }\n",
       "</style>\n",
       "<table border=\"1\" class=\"dataframe\">\n",
       "  <thead>\n",
       "    <tr style=\"text-align: right;\">\n",
       "      <th></th>\n",
       "      <th>income</th>\n",
       "      <th>age</th>\n",
       "      <th>days_since_buy</th>\n",
       "      <th>annual_spend</th>\n",
       "      <th>z_income</th>\n",
       "      <th>z_age</th>\n",
       "      <th>z_days_since_buy</th>\n",
       "      <th>z_annual_spend</th>\n",
       "      <th>cluster</th>\n",
       "    </tr>\n",
       "  </thead>\n",
       "  <tbody>\n",
       "    <tr>\n",
       "      <th>0</th>\n",
       "      <td>37453</td>\n",
       "      <td>48</td>\n",
       "      <td>504</td>\n",
       "      <td>4441</td>\n",
       "      <td>-0.890426</td>\n",
       "      <td>0.604861</td>\n",
       "      <td>0.753257</td>\n",
       "      <td>0.062276</td>\n",
       "      <td>3</td>\n",
       "    </tr>\n",
       "    <tr>\n",
       "      <th>1</th>\n",
       "      <td>50775</td>\n",
       "      <td>50</td>\n",
       "      <td>566</td>\n",
       "      <td>4239</td>\n",
       "      <td>-0.553094</td>\n",
       "      <td>0.789354</td>\n",
       "      <td>1.306361</td>\n",
       "      <td>-0.058939</td>\n",
       "      <td>3</td>\n",
       "    </tr>\n",
       "    <tr>\n",
       "      <th>2</th>\n",
       "      <td>71047</td>\n",
       "      <td>41</td>\n",
       "      <td>326</td>\n",
       "      <td>5834</td>\n",
       "      <td>-0.039778</td>\n",
       "      <td>-0.040865</td>\n",
       "      <td>-0.834688</td>\n",
       "      <td>0.898182</td>\n",
       "      <td>4</td>\n",
       "    </tr>\n",
       "    <tr>\n",
       "      <th>3</th>\n",
       "      <td>52239</td>\n",
       "      <td>52</td>\n",
       "      <td>259</td>\n",
       "      <td>5456</td>\n",
       "      <td>-0.516023</td>\n",
       "      <td>0.973847</td>\n",
       "      <td>-1.432398</td>\n",
       "      <td>0.671353</td>\n",
       "      <td>4</td>\n",
       "    </tr>\n",
       "    <tr>\n",
       "      <th>4</th>\n",
       "      <td>112343</td>\n",
       "      <td>27</td>\n",
       "      <td>279</td>\n",
       "      <td>1749</td>\n",
       "      <td>1.005897</td>\n",
       "      <td>-1.332317</td>\n",
       "      <td>-1.253977</td>\n",
       "      <td>-1.553129</td>\n",
       "      <td>1</td>\n",
       "    </tr>\n",
       "  </tbody>\n",
       "</table>\n",
       "</div>"
      ],
      "text/plain": [
       "   income  age  days_since_buy  annual_spend  z_income     z_age  \\\n",
       "0   37453   48             504          4441 -0.890426  0.604861   \n",
       "1   50775   50             566          4239 -0.553094  0.789354   \n",
       "2   71047   41             326          5834 -0.039778 -0.040865   \n",
       "3   52239   52             259          5456 -0.516023  0.973847   \n",
       "4  112343   27             279          1749  1.005897 -1.332317   \n",
       "\n",
       "   z_days_since_buy  z_annual_spend  cluster  \n",
       "0          0.753257        0.062276        3  \n",
       "1          1.306361       -0.058939        3  \n",
       "2         -0.834688        0.898182        4  \n",
       "3         -1.432398        0.671353        4  \n",
       "4         -1.253977       -1.553129        1  "
      ]
     },
     "execution_count": 6,
     "metadata": {},
     "output_type": "execute_result"
    }
   ],
   "source": [
    "df['cluster'] = m.labels_  # Add cluster to df\n",
    "df.head()"
   ]
  },
  {
   "cell_type": "markdown",
   "metadata": {
    "id": "Vj9UGfe94kGw"
   },
   "source": [
    "- `df['cluster'] = m.labels_`: This line adds a new column to the DataFrame df named 'cluster'. It fills this column with the cluster labels generated by the k-means model m. "
   ]
  },
  {
   "cell_type": "markdown",
   "metadata": {
    "id": "hNJUcRUI1Ugz"
   },
   "source": [
    "### 4. Split the data into training and test data. Estimate the Silhoutte score method on test data to select the number of clusters"
   ]
  },
  {
   "cell_type": "code",
   "execution_count": 7,
   "metadata": {
    "id": "lYFubqSJ1Ugz"
   },
   "outputs": [],
   "source": [
    "xtrain, xtest = model_selection.train_test_split(x)"
   ]
  },
  {
   "cell_type": "markdown",
   "metadata": {
    "id": "wI_Uuwd246oS"
   },
   "source": [
    "- `model_selection.train_test_split(x)`: splits the dataset into random train and test subsets. By default, it allocates 75% of the data to the training set and the remaining 25% to the test set. \n",
    "- `xtrain, xtest`: These are the two subsets returned by the train_test_split function. xtrain contains the portion of the data used for training the model, and xtest contains the portion used for evaluating the model."
   ]
  },
  {
   "cell_type": "code",
   "execution_count": 8,
   "metadata": {
    "id": "Sd2qKmoh1Ugz",
    "outputId": "1776a3e1-fcdb-4d02-e82d-32368a8bd15f"
   },
   "outputs": [
    {
     "name": "stdout",
     "output_type": "stream",
     "text": [
      "Silhouette Score for 2 Clusters: 0.3822\n",
      "Silhouette Score for 3 Clusters: 0.4280\n",
      "Silhouette Score for 4 Clusters: 0.4583\n",
      "Silhouette Score for 5 Clusters: 0.4840\n",
      "Silhouette Score for 6 Clusters: 0.4117\n",
      "Silhouette Score for 7 Clusters: 0.3061\n",
      "Silhouette Score for 8 Clusters: 0.2727\n",
      "Silhouette Score for 9 Clusters: 0.1868\n",
      "Silhouette Score for 10 Clusters: 0.1407\n"
     ]
    },
    {
     "data": {
      "text/plain": [
       "Text(0, 0.5, 'Average Silhouette Score')"
      ]
     },
     "execution_count": 8,
     "metadata": {},
     "output_type": "execute_result"
    },
    {
     "data": {
      "image/png": "[encoded data removed]",
      "text/plain": [
       "<Figure size 432x288 with 1 Axes>"
      ]
     },
     "metadata": {
      "needs_background": "light"
     },
     "output_type": "display_data"
    }
   ],
   "source": [
    "import warnings\n",
    "warnings.filterwarnings('ignore')  # turn off warnings\n",
    "\n",
    "krange = range(2,11)\n",
    "silhou = []\n",
    "for i in krange:\n",
    "    m = cluster.KMeans(n_clusters=i).fit(xtrain)\n",
    "    pred = m.predict(xtest)  # predict cluster\n",
    "    score = metrics.silhouette_score(xtest, pred)\n",
    "    silhou.append(score)\n",
    "    print('Silhouette Score for %i Clusters: %0.4f' % (i, score))\n",
    "    \n",
    "plt.plot(krange, silhou)\n",
    "plt.xlabel('K')\n",
    "plt.ylabel('Average Silhouette Score')"
   ]
  },
  {
   "cell_type": "markdown",
   "metadata": {
    "id": "B_zCQWT-6O8_"
   },
   "source": [
    "- `warnings.filterwarnings('ignore')` are used to suppress warnings that might clutter the output."
   ]
  },
  {
   "cell_type": "markdown",
   "metadata": {
    "id": "LjMtwd7m1Ug0"
   },
   "source": [
    "- K=5 is the optimal solution"
   ]
  },
  {
   "cell_type": "code",
   "execution_count": null,
   "metadata": {},
   "outputs": [],
   "source": []
  }
 ],
 "metadata": {
  "anaconda-cloud": {},
  "colab": {
   "provenance": []
  },
  "kernelspec": {
   "display_name": "Python 3",
   "language": "python",
   "name": "python3"
  },
  "language_info": {
   "codemirror_mode": {
    "name": "ipython",
    "version": 3
   },
   "file_extension": ".py",
   "mimetype": "text/x-python",
   "name": "python",
   "nbconvert_exporter": "python",
   "pygments_lexer": "ipython3",
   "version": "3.8.8"
  }
 },
 "nbformat": 4,
 "nbformat_minor": 4
}
