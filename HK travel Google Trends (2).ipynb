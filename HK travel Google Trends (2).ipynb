{
 "cells": [
  {
   "cell_type": "markdown",
   "metadata": {
    "id": "TD9-tNEPGphV"
   },
   "source": [
    "# HK Travel: Forecasting with Google Trends\n",
    "\n",
    "### Data is downloaded from Google Trends : www.google.com/trends\n",
    "- Search term: Hong Kong\n",
    "- US (Country), Jan 1, 2009 – Aug 31, 2014 (date), Travel (category), web search\n",
    "- Data id named as “HK search.csv”"
   ]
  },
  {
   "cell_type": "code",
   "execution_count": 1,
   "metadata": {
    "id": "aFsqfBPQGphY"
   },
   "outputs": [],
   "source": [
    "import pandas as pd\n",
    "import numpy as np\n",
    "from sklearn.linear_model import LinearRegression\n",
    "from sklearn.metrics import mean_squared_error\n",
    "import matplotlib.pyplot as plt\n",
    "\n",
    " # scikit-learn is designed for prediction\n",
    " # statsmodels is better suited for explanatiion"
   ]
  },
  {
   "cell_type": "markdown",
   "metadata": {
    "id": "dz5PvaGsGphZ"
   },
   "source": [
    "### 1. Use \"HK visit\" data. Split “Date” in the search data into year and month.\n"
   ]
  },
  {
   "cell_type": "code",
   "execution_count": 2,
   "metadata": {
    "id": "8PeHYDOLGpha",
    "outputId": "47ed6292-c239-497d-c1b0-fb46d2581925"
   },
   "outputs": [
    {
     "data": {
      "text/html": [
       "<div>\n",
       "<style scoped>\n",
       "    .dataframe tbody tr th:only-of-type {\n",
       "        vertical-align: middle;\n",
       "    }\n",
       "\n",
       "    .dataframe tbody tr th {\n",
       "        vertical-align: top;\n",
       "    }\n",
       "\n",
       "    .dataframe thead th {\n",
       "        text-align: right;\n",
       "    }\n",
       "</style>\n",
       "<table border=\"1\" class=\"dataframe\">\n",
       "  <thead>\n",
       "    <tr style=\"text-align: right;\">\n",
       "      <th></th>\n",
       "      <th>date</th>\n",
       "      <th>search</th>\n",
       "    </tr>\n",
       "  </thead>\n",
       "  <tbody>\n",
       "    <tr>\n",
       "      <th>0</th>\n",
       "      <td>2009-01</td>\n",
       "      <td>82</td>\n",
       "    </tr>\n",
       "    <tr>\n",
       "      <th>1</th>\n",
       "      <td>2009-02</td>\n",
       "      <td>92</td>\n",
       "    </tr>\n",
       "    <tr>\n",
       "      <th>2</th>\n",
       "      <td>2009-03</td>\n",
       "      <td>87</td>\n",
       "    </tr>\n",
       "    <tr>\n",
       "      <th>3</th>\n",
       "      <td>2009-04</td>\n",
       "      <td>85</td>\n",
       "    </tr>\n",
       "    <tr>\n",
       "      <th>4</th>\n",
       "      <td>2009-05</td>\n",
       "      <td>81</td>\n",
       "    </tr>\n",
       "  </tbody>\n",
       "</table>\n",
       "</div>"
      ],
      "text/plain": [
       "      date  search\n",
       "0  2009-01      82\n",
       "1  2009-02      92\n",
       "2  2009-03      87\n",
       "3  2009-04      85\n",
       "4  2009-05      81"
      ]
     },
     "execution_count": 2,
     "metadata": {},
     "output_type": "execute_result"
    }
   ],
   "source": [
    "# Read data. Both Search data and Vistor data are monthly\n",
    "\n",
    "df1 = pd.read_csv('HK search.csv')\n",
    "df1.head()"
   ]
  },
  {
   "cell_type": "markdown",
   "metadata": {
    "id": "xLmpPstGG0af"
   },
   "source": [
    "- This code reads a CSV file named 'HK search.csv' into a pandas DataFrame (df1) and displays the first few rows of the DataFrame using the `head()` method."
   ]
  },
  {
   "cell_type": "code",
   "execution_count": 3,
   "metadata": {
    "id": "HLe1d9lTGpha",
    "outputId": "33d36ddc-90e0-4bd5-996c-d236b53a2358"
   },
   "outputs": [
    {
     "data": {
      "text/html": [
       "<div>\n",
       "<style scoped>\n",
       "    .dataframe tbody tr th:only-of-type {\n",
       "        vertical-align: middle;\n",
       "    }\n",
       "\n",
       "    .dataframe tbody tr th {\n",
       "        vertical-align: top;\n",
       "    }\n",
       "\n",
       "    .dataframe thead th {\n",
       "        text-align: right;\n",
       "    }\n",
       "</style>\n",
       "<table border=\"1\" class=\"dataframe\">\n",
       "  <thead>\n",
       "    <tr style=\"text-align: right;\">\n",
       "      <th></th>\n",
       "      <th>date</th>\n",
       "      <th>search</th>\n",
       "      <th>year</th>\n",
       "      <th>month</th>\n",
       "    </tr>\n",
       "  </thead>\n",
       "  <tbody>\n",
       "    <tr>\n",
       "      <th>0</th>\n",
       "      <td>2009-01</td>\n",
       "      <td>82</td>\n",
       "      <td>2009</td>\n",
       "      <td>1</td>\n",
       "    </tr>\n",
       "    <tr>\n",
       "      <th>1</th>\n",
       "      <td>2009-02</td>\n",
       "      <td>92</td>\n",
       "      <td>2009</td>\n",
       "      <td>2</td>\n",
       "    </tr>\n",
       "    <tr>\n",
       "      <th>2</th>\n",
       "      <td>2009-03</td>\n",
       "      <td>87</td>\n",
       "      <td>2009</td>\n",
       "      <td>3</td>\n",
       "    </tr>\n",
       "    <tr>\n",
       "      <th>3</th>\n",
       "      <td>2009-04</td>\n",
       "      <td>85</td>\n",
       "      <td>2009</td>\n",
       "      <td>4</td>\n",
       "    </tr>\n",
       "    <tr>\n",
       "      <th>4</th>\n",
       "      <td>2009-05</td>\n",
       "      <td>81</td>\n",
       "      <td>2009</td>\n",
       "      <td>5</td>\n",
       "    </tr>\n",
       "  </tbody>\n",
       "</table>\n",
       "</div>"
      ],
      "text/plain": [
       "      date  search  year  month\n",
       "0  2009-01      82  2009      1\n",
       "1  2009-02      92  2009      2\n",
       "2  2009-03      87  2009      3\n",
       "3  2009-04      85  2009      4\n",
       "4  2009-05      81  2009      5"
      ]
     },
     "execution_count": 3,
     "metadata": {},
     "output_type": "execute_result"
    }
   ],
   "source": [
    "# Split date into year and moth\n",
    "\n",
    "df1['year'] = pd.to_numeric(df1.date.str.split('-').str[0])  # str[0]: 1st string\n",
    "df1['month']= pd.to_numeric(df1.date.str.split('-').str[1])  # str[1]: 2nd string\n",
    "df1.head()"
   ]
  },
  {
   "cell_type": "markdown",
   "metadata": {
    "id": "CS67APIrHMGA"
   },
   "source": [
    "- `df1['year'] = pd.to_numeric(df1.date.str.split('-').str[0])`:\n",
    "  - `df1['date']` accesses the 'date' column in the DataFrame.\n",
    "  - `str.split('-')` splits each entry in the 'date' column using the hyphen ('-') as the delimiter.\n",
    "  - `str[0]` accesses the first element (index 0) of each split string, which represents the year.\n",
    "  - `pd.to_numeric(...)` converts the extracted values into numeric format (integers). This is necessary because year and month become objects(string) after split.\n",
    "- `df1['month'] = pd.to_numeric(df1.date.str.split('-').str[1])`: Similar to the first line, this line extracts the 'month' component from the 'date' column.\n",
    "  - `str[1]` accesses the second element (index 1) of each split string, representing the month."
   ]
  },
  {
   "cell_type": "markdown",
   "metadata": {
    "id": "BidGATm6Gphc"
   },
   "source": [
    "### 2. Merge the search data with Hong Kong visitor data based on year and month.\n"
   ]
  },
  {
   "cell_type": "code",
   "execution_count": 4,
   "metadata": {
    "id": "3Y3Y6Ay-Gphd",
    "outputId": "aa6b0e65-677e-458f-93a9-21be0ac409fb"
   },
   "outputs": [
    {
     "data": {
      "text/html": [
       "<div>\n",
       "<style scoped>\n",
       "    .dataframe tbody tr th:only-of-type {\n",
       "        vertical-align: middle;\n",
       "    }\n",
       "\n",
       "    .dataframe tbody tr th {\n",
       "        vertical-align: top;\n",
       "    }\n",
       "\n",
       "    .dataframe thead th {\n",
       "        text-align: right;\n",
       "    }\n",
       "</style>\n",
       "<table border=\"1\" class=\"dataframe\">\n",
       "  <thead>\n",
       "    <tr style=\"text-align: right;\">\n",
       "      <th></th>\n",
       "      <th>visit</th>\n",
       "      <th>year</th>\n",
       "      <th>month</th>\n",
       "    </tr>\n",
       "  </thead>\n",
       "  <tbody>\n",
       "    <tr>\n",
       "      <th>0</th>\n",
       "      <td>76682</td>\n",
       "      <td>2009</td>\n",
       "      <td>1</td>\n",
       "    </tr>\n",
       "    <tr>\n",
       "      <th>1</th>\n",
       "      <td>67687</td>\n",
       "      <td>2009</td>\n",
       "      <td>2</td>\n",
       "    </tr>\n",
       "    <tr>\n",
       "      <th>2</th>\n",
       "      <td>98750</td>\n",
       "      <td>2009</td>\n",
       "      <td>3</td>\n",
       "    </tr>\n",
       "    <tr>\n",
       "      <th>3</th>\n",
       "      <td>98067</td>\n",
       "      <td>2009</td>\n",
       "      <td>4</td>\n",
       "    </tr>\n",
       "    <tr>\n",
       "      <th>4</th>\n",
       "      <td>82771</td>\n",
       "      <td>2009</td>\n",
       "      <td>5</td>\n",
       "    </tr>\n",
       "  </tbody>\n",
       "</table>\n",
       "</div>"
      ],
      "text/plain": [
       "   visit  year  month\n",
       "0  76682  2009      1\n",
       "1  67687  2009      2\n",
       "2  98750  2009      3\n",
       "3  98067  2009      4\n",
       "4  82771  2009      5"
      ]
     },
     "execution_count": 4,
     "metadata": {},
     "output_type": "execute_result"
    }
   ],
   "source": [
    "#  Read data\n",
    "\n",
    "df2 = pd.read_csv('HK visit.csv')  # monthly data\n",
    "df2.head()"
   ]
  },
  {
   "cell_type": "code",
   "execution_count": 5,
   "metadata": {
    "id": "wi-giTXSGphd",
    "outputId": "a4aa9b05-2c21-4fbb-81cb-81cbb24f43f7"
   },
   "outputs": [
    {
     "data": {
      "text/html": [
       "<div>\n",
       "<style scoped>\n",
       "    .dataframe tbody tr th:only-of-type {\n",
       "        vertical-align: middle;\n",
       "    }\n",
       "\n",
       "    .dataframe tbody tr th {\n",
       "        vertical-align: top;\n",
       "    }\n",
       "\n",
       "    .dataframe thead th {\n",
       "        text-align: right;\n",
       "    }\n",
       "</style>\n",
       "<table border=\"1\" class=\"dataframe\">\n",
       "  <thead>\n",
       "    <tr style=\"text-align: right;\">\n",
       "      <th></th>\n",
       "      <th>date</th>\n",
       "      <th>search</th>\n",
       "      <th>year</th>\n",
       "      <th>month</th>\n",
       "      <th>visit</th>\n",
       "    </tr>\n",
       "  </thead>\n",
       "  <tbody>\n",
       "    <tr>\n",
       "      <th>0</th>\n",
       "      <td>2009-01</td>\n",
       "      <td>82</td>\n",
       "      <td>2009</td>\n",
       "      <td>1</td>\n",
       "      <td>76682</td>\n",
       "    </tr>\n",
       "    <tr>\n",
       "      <th>1</th>\n",
       "      <td>2009-02</td>\n",
       "      <td>92</td>\n",
       "      <td>2009</td>\n",
       "      <td>2</td>\n",
       "      <td>67687</td>\n",
       "    </tr>\n",
       "    <tr>\n",
       "      <th>2</th>\n",
       "      <td>2009-03</td>\n",
       "      <td>87</td>\n",
       "      <td>2009</td>\n",
       "      <td>3</td>\n",
       "      <td>98750</td>\n",
       "    </tr>\n",
       "    <tr>\n",
       "      <th>3</th>\n",
       "      <td>2009-04</td>\n",
       "      <td>85</td>\n",
       "      <td>2009</td>\n",
       "      <td>4</td>\n",
       "      <td>98067</td>\n",
       "    </tr>\n",
       "    <tr>\n",
       "      <th>4</th>\n",
       "      <td>2009-05</td>\n",
       "      <td>81</td>\n",
       "      <td>2009</td>\n",
       "      <td>5</td>\n",
       "      <td>82771</td>\n",
       "    </tr>\n",
       "    <tr>\n",
       "      <th>...</th>\n",
       "      <td>...</td>\n",
       "      <td>...</td>\n",
       "      <td>...</td>\n",
       "      <td>...</td>\n",
       "      <td>...</td>\n",
       "    </tr>\n",
       "    <tr>\n",
       "      <th>63</th>\n",
       "      <td>2014-04</td>\n",
       "      <td>68</td>\n",
       "      <td>2014</td>\n",
       "      <td>4</td>\n",
       "      <td>101917</td>\n",
       "    </tr>\n",
       "    <tr>\n",
       "      <th>64</th>\n",
       "      <td>2014-05</td>\n",
       "      <td>72</td>\n",
       "      <td>2014</td>\n",
       "      <td>5</td>\n",
       "      <td>96068</td>\n",
       "    </tr>\n",
       "    <tr>\n",
       "      <th>65</th>\n",
       "      <td>2014-06</td>\n",
       "      <td>71</td>\n",
       "      <td>2014</td>\n",
       "      <td>6</td>\n",
       "      <td>98659</td>\n",
       "    </tr>\n",
       "    <tr>\n",
       "      <th>66</th>\n",
       "      <td>2014-07</td>\n",
       "      <td>73</td>\n",
       "      <td>2014</td>\n",
       "      <td>7</td>\n",
       "      <td>92397</td>\n",
       "    </tr>\n",
       "    <tr>\n",
       "      <th>67</th>\n",
       "      <td>2014-08</td>\n",
       "      <td>74</td>\n",
       "      <td>2014</td>\n",
       "      <td>8</td>\n",
       "      <td>81298</td>\n",
       "    </tr>\n",
       "  </tbody>\n",
       "</table>\n",
       "<p>68 rows × 5 columns</p>\n",
       "</div>"
      ],
      "text/plain": [
       "       date  search  year  month   visit\n",
       "0   2009-01      82  2009      1   76682\n",
       "1   2009-02      92  2009      2   67687\n",
       "2   2009-03      87  2009      3   98750\n",
       "3   2009-04      85  2009      4   98067\n",
       "4   2009-05      81  2009      5   82771\n",
       "..      ...     ...   ...    ...     ...\n",
       "63  2014-04      68  2014      4  101917\n",
       "64  2014-05      72  2014      5   96068\n",
       "65  2014-06      71  2014      6   98659\n",
       "66  2014-07      73  2014      7   92397\n",
       "67  2014-08      74  2014      8   81298\n",
       "\n",
       "[68 rows x 5 columns]"
      ]
     },
     "execution_count": 5,
     "metadata": {},
     "output_type": "execute_result"
    }
   ],
   "source": [
    "# Merge the two datasets and sort by year and month. Save the sorted result.\n",
    "\n",
    "df = pd.merge(df1, df2, on=['year', 'month'], how='inner')  # inner: Keep common obs\n",
    "df.sort_values(['year', 'month'], inplace=True)\n",
    " # inplace=True: impose operation to data\n",
    " # Alternative: df=df.sort_values(['year', 'month'])\n",
    "df.head(100)"
   ]
  },
  {
   "cell_type": "markdown",
   "metadata": {
    "id": "l9CfJnJoJoOW"
   },
   "source": [
    "- `df = pd.merge(df1, df2, on=['year', 'month'], how='inner')`: This line performs a database-style join between two DataFrames, df1 and df2.\n",
    "    - `on=['year', 'month']` specifies that the merge is based on the 'year' and 'month' columns.\n",
    "    - `how='inner'` specifies that an inner join should be used. This means that only rows with matching 'year' and 'month' values in both DataFrames will be included in the resulting DataFrame 'df'.\n",
    "    - (options): suffixes=(), validate()\n",
    "- `df.sort_values(['year', 'month'], inplace=True)`: After the merge operation, this line sorts the DataFrame 'df' based on the 'year' and 'month' columns in ascending order.\n",
    "    - `['year', 'month']` specifies the sort order, where the DataFrame is first sorted by 'year' and then, within each 'year', by 'month' in ascending order.\n",
    "    - `inplace=True` indicates that the sorting is performed on the DataFrame 'df' itself, and it doesn't create a new DataFrame."
   ]
  },
  {
   "cell_type": "markdown",
   "metadata": {
    "id": "98MNclJtGphd"
   },
   "source": [
    "### 3. Create the following lagged variables.\n",
    "- L1Visit, L12Visit, L1Search, L12Search (L1: Lagged by one month, L12: Lagged by 12 months)"
   ]
  },
  {
   "cell_type": "code",
   "execution_count": 6,
   "metadata": {
    "id": "BXrKmzgQGphd",
    "outputId": "c502f7a9-db93-4ad5-d32c-d5fa27acc3b9"
   },
   "outputs": [
    {
     "data": {
      "text/html": [
       "<div>\n",
       "<style scoped>\n",
       "    .dataframe tbody tr th:only-of-type {\n",
       "        vertical-align: middle;\n",
       "    }\n",
       "\n",
       "    .dataframe tbody tr th {\n",
       "        vertical-align: top;\n",
       "    }\n",
       "\n",
       "    .dataframe thead th {\n",
       "        text-align: right;\n",
       "    }\n",
       "</style>\n",
       "<table border=\"1\" class=\"dataframe\">\n",
       "  <thead>\n",
       "    <tr style=\"text-align: right;\">\n",
       "      <th></th>\n",
       "      <th>date</th>\n",
       "      <th>search</th>\n",
       "      <th>year</th>\n",
       "      <th>month</th>\n",
       "      <th>visit</th>\n",
       "      <th>L1visit</th>\n",
       "      <th>L12visit</th>\n",
       "      <th>L1search</th>\n",
       "      <th>L12search</th>\n",
       "    </tr>\n",
       "  </thead>\n",
       "  <tbody>\n",
       "    <tr>\n",
       "      <th>0</th>\n",
       "      <td>2009-01</td>\n",
       "      <td>82</td>\n",
       "      <td>2009</td>\n",
       "      <td>1</td>\n",
       "      <td>76682</td>\n",
       "      <td>NaN</td>\n",
       "      <td>NaN</td>\n",
       "      <td>NaN</td>\n",
       "      <td>NaN</td>\n",
       "    </tr>\n",
       "    <tr>\n",
       "      <th>1</th>\n",
       "      <td>2009-02</td>\n",
       "      <td>92</td>\n",
       "      <td>2009</td>\n",
       "      <td>2</td>\n",
       "      <td>67687</td>\n",
       "      <td>76682.0</td>\n",
       "      <td>NaN</td>\n",
       "      <td>82.0</td>\n",
       "      <td>NaN</td>\n",
       "    </tr>\n",
       "    <tr>\n",
       "      <th>2</th>\n",
       "      <td>2009-03</td>\n",
       "      <td>87</td>\n",
       "      <td>2009</td>\n",
       "      <td>3</td>\n",
       "      <td>98750</td>\n",
       "      <td>67687.0</td>\n",
       "      <td>NaN</td>\n",
       "      <td>92.0</td>\n",
       "      <td>NaN</td>\n",
       "    </tr>\n",
       "    <tr>\n",
       "      <th>3</th>\n",
       "      <td>2009-04</td>\n",
       "      <td>85</td>\n",
       "      <td>2009</td>\n",
       "      <td>4</td>\n",
       "      <td>98067</td>\n",
       "      <td>98750.0</td>\n",
       "      <td>NaN</td>\n",
       "      <td>87.0</td>\n",
       "      <td>NaN</td>\n",
       "    </tr>\n",
       "    <tr>\n",
       "      <th>4</th>\n",
       "      <td>2009-05</td>\n",
       "      <td>81</td>\n",
       "      <td>2009</td>\n",
       "      <td>5</td>\n",
       "      <td>82771</td>\n",
       "      <td>98067.0</td>\n",
       "      <td>NaN</td>\n",
       "      <td>85.0</td>\n",
       "      <td>NaN</td>\n",
       "    </tr>\n",
       "    <tr>\n",
       "      <th>5</th>\n",
       "      <td>2009-06</td>\n",
       "      <td>82</td>\n",
       "      <td>2009</td>\n",
       "      <td>6</td>\n",
       "      <td>87574</td>\n",
       "      <td>82771.0</td>\n",
       "      <td>NaN</td>\n",
       "      <td>81.0</td>\n",
       "      <td>NaN</td>\n",
       "    </tr>\n",
       "    <tr>\n",
       "      <th>6</th>\n",
       "      <td>2009-07</td>\n",
       "      <td>82</td>\n",
       "      <td>2009</td>\n",
       "      <td>7</td>\n",
       "      <td>96512</td>\n",
       "      <td>87574.0</td>\n",
       "      <td>NaN</td>\n",
       "      <td>82.0</td>\n",
       "      <td>NaN</td>\n",
       "    </tr>\n",
       "    <tr>\n",
       "      <th>7</th>\n",
       "      <td>2009-08</td>\n",
       "      <td>82</td>\n",
       "      <td>2009</td>\n",
       "      <td>8</td>\n",
       "      <td>84269</td>\n",
       "      <td>96512.0</td>\n",
       "      <td>NaN</td>\n",
       "      <td>82.0</td>\n",
       "      <td>NaN</td>\n",
       "    </tr>\n",
       "    <tr>\n",
       "      <th>8</th>\n",
       "      <td>2009-09</td>\n",
       "      <td>90</td>\n",
       "      <td>2009</td>\n",
       "      <td>9</td>\n",
       "      <td>77021</td>\n",
       "      <td>84269.0</td>\n",
       "      <td>NaN</td>\n",
       "      <td>82.0</td>\n",
       "      <td>NaN</td>\n",
       "    </tr>\n",
       "    <tr>\n",
       "      <th>9</th>\n",
       "      <td>2009-10</td>\n",
       "      <td>93</td>\n",
       "      <td>2009</td>\n",
       "      <td>10</td>\n",
       "      <td>105758</td>\n",
       "      <td>77021.0</td>\n",
       "      <td>NaN</td>\n",
       "      <td>90.0</td>\n",
       "      <td>NaN</td>\n",
       "    </tr>\n",
       "    <tr>\n",
       "      <th>10</th>\n",
       "      <td>2009-11</td>\n",
       "      <td>82</td>\n",
       "      <td>2009</td>\n",
       "      <td>11</td>\n",
       "      <td>102851</td>\n",
       "      <td>105758.0</td>\n",
       "      <td>NaN</td>\n",
       "      <td>93.0</td>\n",
       "      <td>NaN</td>\n",
       "    </tr>\n",
       "    <tr>\n",
       "      <th>11</th>\n",
       "      <td>2009-12</td>\n",
       "      <td>79</td>\n",
       "      <td>2009</td>\n",
       "      <td>12</td>\n",
       "      <td>92131</td>\n",
       "      <td>102851.0</td>\n",
       "      <td>NaN</td>\n",
       "      <td>82.0</td>\n",
       "      <td>NaN</td>\n",
       "    </tr>\n",
       "    <tr>\n",
       "      <th>12</th>\n",
       "      <td>2010-01</td>\n",
       "      <td>87</td>\n",
       "      <td>2010</td>\n",
       "      <td>1</td>\n",
       "      <td>92278</td>\n",
       "      <td>92131.0</td>\n",
       "      <td>76682.0</td>\n",
       "      <td>79.0</td>\n",
       "      <td>82.0</td>\n",
       "    </tr>\n",
       "    <tr>\n",
       "      <th>13</th>\n",
       "      <td>2010-02</td>\n",
       "      <td>86</td>\n",
       "      <td>2010</td>\n",
       "      <td>2</td>\n",
       "      <td>65200</td>\n",
       "      <td>92278.0</td>\n",
       "      <td>67687.0</td>\n",
       "      <td>87.0</td>\n",
       "      <td>92.0</td>\n",
       "    </tr>\n",
       "    <tr>\n",
       "      <th>14</th>\n",
       "      <td>2010-03</td>\n",
       "      <td>91</td>\n",
       "      <td>2010</td>\n",
       "      <td>3</td>\n",
       "      <td>107765</td>\n",
       "      <td>65200.0</td>\n",
       "      <td>98750.0</td>\n",
       "      <td>86.0</td>\n",
       "      <td>87.0</td>\n",
       "    </tr>\n",
       "  </tbody>\n",
       "</table>\n",
       "</div>"
      ],
      "text/plain": [
       "       date  search  year  month   visit   L1visit  L12visit  L1search  \\\n",
       "0   2009-01      82  2009      1   76682       NaN       NaN       NaN   \n",
       "1   2009-02      92  2009      2   67687   76682.0       NaN      82.0   \n",
       "2   2009-03      87  2009      3   98750   67687.0       NaN      92.0   \n",
       "3   2009-04      85  2009      4   98067   98750.0       NaN      87.0   \n",
       "4   2009-05      81  2009      5   82771   98067.0       NaN      85.0   \n",
       "5   2009-06      82  2009      6   87574   82771.0       NaN      81.0   \n",
       "6   2009-07      82  2009      7   96512   87574.0       NaN      82.0   \n",
       "7   2009-08      82  2009      8   84269   96512.0       NaN      82.0   \n",
       "8   2009-09      90  2009      9   77021   84269.0       NaN      82.0   \n",
       "9   2009-10      93  2009     10  105758   77021.0       NaN      90.0   \n",
       "10  2009-11      82  2009     11  102851  105758.0       NaN      93.0   \n",
       "11  2009-12      79  2009     12   92131  102851.0       NaN      82.0   \n",
       "12  2010-01      87  2010      1   92278   92131.0   76682.0      79.0   \n",
       "13  2010-02      86  2010      2   65200   92278.0   67687.0      87.0   \n",
       "14  2010-03      91  2010      3  107765   65200.0   98750.0      86.0   \n",
       "\n",
       "    L12search  \n",
       "0         NaN  \n",
       "1         NaN  \n",
       "2         NaN  \n",
       "3         NaN  \n",
       "4         NaN  \n",
       "5         NaN  \n",
       "6         NaN  \n",
       "7         NaN  \n",
       "8         NaN  \n",
       "9         NaN  \n",
       "10        NaN  \n",
       "11        NaN  \n",
       "12       82.0  \n",
       "13       92.0  \n",
       "14       87.0  "
      ]
     },
     "execution_count": 6,
     "metadata": {},
     "output_type": "execute_result"
    }
   ],
   "source": [
    "# Create lagged variables\n",
    "\n",
    "df['L1visit'] = df.visit.shift(1)\n",
    "df['L12visit'] = df.visit.shift(12)\n",
    "df['L1search'] = df.search.shift(1)\n",
    "df['L12search'] = df.search.shift(12)\n",
    "df.head(15)"
   ]
  },
  {
   "cell_type": "markdown",
   "metadata": {
    "id": "5naD6XtSKLHO"
   },
   "source": [
    "- `df['L1visit'] = df.visit.shift(1)`: This line creates a new column 'L1visit' in the DataFrame 'df'.The values in this new column are obtained by shifting the values in the 'visit' column by 1 time period.\n",
    "- `df['L12visit'] = df.visit.shift(12)`: Similarly, this creates new column 'L12visit'. The values in this new column are obtained by shifting the values in the 'visit' column by 12 time periods.\n",
    "- `df['L1search']` = df.search.shift(1)`: This line creates a new column 'L1search'.\n",
    "- `df['L12search'] = df.search.shift(12)`: Like the previous lines, this line creates another new column 'L12search'."
   ]
  },
  {
   "cell_type": "code",
   "execution_count": 7,
   "metadata": {
    "id": "2cU5Pf5_Gphe",
    "outputId": "f7fc8cb4-80a8-4d82-8301-b9071b0e26ee"
   },
   "outputs": [
    {
     "data": {
      "text/html": [
       "<div>\n",
       "<style scoped>\n",
       "    .dataframe tbody tr th:only-of-type {\n",
       "        vertical-align: middle;\n",
       "    }\n",
       "\n",
       "    .dataframe tbody tr th {\n",
       "        vertical-align: top;\n",
       "    }\n",
       "\n",
       "    .dataframe thead th {\n",
       "        text-align: right;\n",
       "    }\n",
       "</style>\n",
       "<table border=\"1\" class=\"dataframe\">\n",
       "  <thead>\n",
       "    <tr style=\"text-align: right;\">\n",
       "      <th></th>\n",
       "      <th>date</th>\n",
       "      <th>search</th>\n",
       "      <th>year</th>\n",
       "      <th>month</th>\n",
       "      <th>visit</th>\n",
       "      <th>L1visit</th>\n",
       "      <th>L12visit</th>\n",
       "      <th>L1search</th>\n",
       "      <th>L12search</th>\n",
       "    </tr>\n",
       "  </thead>\n",
       "  <tbody>\n",
       "    <tr>\n",
       "      <th>12</th>\n",
       "      <td>2010-01</td>\n",
       "      <td>87</td>\n",
       "      <td>2010</td>\n",
       "      <td>1</td>\n",
       "      <td>92278</td>\n",
       "      <td>92131.0</td>\n",
       "      <td>76682.0</td>\n",
       "      <td>79.0</td>\n",
       "      <td>82.0</td>\n",
       "    </tr>\n",
       "    <tr>\n",
       "      <th>13</th>\n",
       "      <td>2010-02</td>\n",
       "      <td>86</td>\n",
       "      <td>2010</td>\n",
       "      <td>2</td>\n",
       "      <td>65200</td>\n",
       "      <td>92278.0</td>\n",
       "      <td>67687.0</td>\n",
       "      <td>87.0</td>\n",
       "      <td>92.0</td>\n",
       "    </tr>\n",
       "    <tr>\n",
       "      <th>14</th>\n",
       "      <td>2010-03</td>\n",
       "      <td>91</td>\n",
       "      <td>2010</td>\n",
       "      <td>3</td>\n",
       "      <td>107765</td>\n",
       "      <td>65200.0</td>\n",
       "      <td>98750.0</td>\n",
       "      <td>86.0</td>\n",
       "      <td>87.0</td>\n",
       "    </tr>\n",
       "    <tr>\n",
       "      <th>15</th>\n",
       "      <td>2010-04</td>\n",
       "      <td>90</td>\n",
       "      <td>2010</td>\n",
       "      <td>4</td>\n",
       "      <td>105080</td>\n",
       "      <td>107765.0</td>\n",
       "      <td>98067.0</td>\n",
       "      <td>91.0</td>\n",
       "      <td>85.0</td>\n",
       "    </tr>\n",
       "    <tr>\n",
       "      <th>16</th>\n",
       "      <td>2010-05</td>\n",
       "      <td>89</td>\n",
       "      <td>2010</td>\n",
       "      <td>5</td>\n",
       "      <td>95129</td>\n",
       "      <td>105080.0</td>\n",
       "      <td>82771.0</td>\n",
       "      <td>90.0</td>\n",
       "      <td>81.0</td>\n",
       "    </tr>\n",
       "  </tbody>\n",
       "</table>\n",
       "</div>"
      ],
      "text/plain": [
       "       date  search  year  month   visit   L1visit  L12visit  L1search  \\\n",
       "12  2010-01      87  2010      1   92278   92131.0   76682.0      79.0   \n",
       "13  2010-02      86  2010      2   65200   92278.0   67687.0      87.0   \n",
       "14  2010-03      91  2010      3  107765   65200.0   98750.0      86.0   \n",
       "15  2010-04      90  2010      4  105080  107765.0   98067.0      91.0   \n",
       "16  2010-05      89  2010      5   95129  105080.0   82771.0      90.0   \n",
       "\n",
       "    L12search  \n",
       "12       82.0  \n",
       "13       92.0  \n",
       "14       87.0  \n",
       "15       85.0  \n",
       "16       81.0  "
      ]
     },
     "execution_count": 7,
     "metadata": {},
     "output_type": "execute_result"
    }
   ],
   "source": [
    "# Drop missig values\n",
    "\n",
    "df = df.dropna()  \n",
    "df.head()"
   ]
  },
  {
   "cell_type": "markdown",
   "metadata": {
    "id": "WC8z_OaLK49s"
   },
   "source": [
    "- `df = df.dropna()` is removing rows with missing (NaN) values from the DataFrame df"
   ]
  },
  {
   "cell_type": "code",
   "execution_count": 8,
   "metadata": {
    "id": "zcM8NQL6Gphe",
    "outputId": "c04af4eb-d3eb-458e-9cf5-2860753e2826"
   },
   "outputs": [
    {
     "data": {
      "text/plain": [
       "(56, 9)"
      ]
     },
     "execution_count": 8,
     "metadata": {},
     "output_type": "execute_result"
    }
   ],
   "source": [
    "# Check data dimension (the number of rows and columns)\n",
    "\n",
    "df.shape"
   ]
  },
  {
   "cell_type": "markdown",
   "metadata": {
    "id": "2OAw5ffGK-aJ"
   },
   "source": [
    "- `df.shape` obtains the dimensions of a DataFrame in the form of a tuple."
   ]
  },
  {
   "cell_type": "markdown",
   "metadata": {
    "id": "vXpupTjQGphe"
   },
   "source": [
    "### 4. Run the following regression models and report the results \n",
    "- M1 (base model): Visit = β0 + β1 L1Visit + β2 L12Visit + e\n",
    "- M2: Visit = β0 + β1 L1Visit + β2 L12Visit + β3 Search + e\n",
    "- M3: Visit = β0 + β1 L1Visit + β2 L12Visit + β3 L1Search + e\n",
    "- M4: Visit = β0 + β1 L1Visit + β2 L12Visit + β3 L1Search + β4 L12Search + e"
   ]
  },
  {
   "cell_type": "code",
   "execution_count": 9,
   "metadata": {
    "id": "SyypnqrXGphe"
   },
   "outputs": [],
   "source": [
    "# Define y and x\n",
    "\n",
    "y = df.visit\n",
    "x1 = df[['L1visit', 'L12visit']]\n",
    "x2 = df[['L1visit', 'L12visit', 'search']]\n",
    "x3 = df[['L1visit', 'L12visit', 'L1search']]\n",
    "x4 = df[['L1visit', 'L12visit', 'L1search', 'L12search']]"
   ]
  },
  {
   "cell_type": "markdown",
   "metadata": {
    "id": "4faiWNR7LP6W"
   },
   "source": [
    "- `y = df.visit`: It creates a variable 'y' that stores the 'visit' column.\n",
    "- `x1 = df[['L1visit', 'L12visit']]`: Creates a DataFrame 'x1' that contains two independent variables.\n",
    "- `x2 = df[['L1visit', 'L12visit', 'search']]`: Similar to 'x1,' this line creates a DataFrame 'x2' with three independent variables."
   ]
  },
  {
   "cell_type": "code",
   "execution_count": 10,
   "metadata": {
    "id": "0RTQX9-JGphe",
    "outputId": "97685df1-a6b0-484f-c27c-d9018487ae3d"
   },
   "outputs": [
    {
     "name": "stdout",
     "output_type": "stream",
     "text": [
      "Coefficients [0.0371089  0.80249627]\n",
      "Coefficients [8.44168558e-02 8.17686143e-01 5.02813215e+02]\n",
      "Coefficients [-3.49037960e-02  8.09337250e-01  5.02423821e+02]\n",
      "Coefficients [-1.48588185e-02  7.99072735e-01  4.40627188e+02  1.19555233e+02]\n"
     ]
    }
   ],
   "source": [
    "#  Fit regression and display coefficients\n",
    "\n",
    "m1 = LinearRegression().fit(x1, y)\n",
    "print('Coefficients', m1.coef_)\n",
    "\n",
    "m2 = LinearRegression().fit(x2, y)\n",
    "print('Coefficients', m2.coef_)\n",
    "\n",
    "m3 = LinearRegression().fit(x3, y)\n",
    "print('Coefficients', m3.coef_)\n",
    "\n",
    "m4 = LinearRegression().fit(x4, y)\n",
    "print('Coefficients', m4.coef_)"
   ]
  },
  {
   "cell_type": "markdown",
   "metadata": {
    "id": "Sg2z1nojMDWA"
   },
   "source": [
    "- `m1 = LinearRegression().fit(x1, y)`:This line creates an instance of the LinearRegression model using LinearRegression(). This model is used to perform linear regression.\n",
    "    - `fit(x1, y)` fits the linear regression model to the data. x1 represents the independent variables (features), and y represents the dependent variable (the target variable). The model will learn to make predictions of 'y' based on the values in 'x1'."
   ]
  },
  {
   "cell_type": "markdown",
   "metadata": {
    "id": "lA2waf7VGphf"
   },
   "source": [
    "### 5. Compare Root MSE (RMSE) of the models. Which model fits the data best? How much does the better model improve RMSE (% improvement)?"
   ]
  },
  {
   "cell_type": "code",
   "execution_count": 11,
   "metadata": {
    "id": "7_eprCQNGphf"
   },
   "outputs": [],
   "source": [
    "# Predict the dependent variables\n",
    "\n",
    "pred1 = m1.predict(x1)\n",
    "pred2 = m2.predict(x2)\n",
    "pred3 = m3.predict(x3)\n",
    "pred4 = m4.predict(x4)"
   ]
  },
  {
   "cell_type": "markdown",
   "metadata": {
    "id": "dzRDYBcENHLL"
   },
   "source": [
    "- `pred1 = m1.predict(x1)`: By using the trained linear regression model m1 to make predictions based on the independent variables in x1.\n",
    "    - `predict(x1)` takes the features in x1 as input and calculates predicted values for the dependent variable based on the linear relationship established during the model training."
   ]
  },
  {
   "cell_type": "code",
   "execution_count": 12,
   "metadata": {
    "id": "U1qfk4RaGphf",
    "outputId": "2820fbf9-bb95-43e8-9842-513a46c94462"
   },
   "outputs": [
    {
     "name": "stdout",
     "output_type": "stream",
     "text": [
      "rmse1 = 7251.077049628914\n",
      "rmse2 = 6103.001547630921\n",
      "rmse3 = 6141.311520792962\n",
      "rmse4 = 6090.118196627749\n"
     ]
    }
   ],
   "source": [
    "# Obtain RMSE\n",
    "\n",
    "rmse1 = mean_squared_error(y, pred1)**0.5  # **0.5: square root\n",
    "rmse2 = mean_squared_error(y, pred2)**0.5\n",
    "rmse3 = mean_squared_error(y, pred3)**0.5\n",
    "rmse4 = mean_squared_error(y, pred4)**0.5\n",
    "\n",
    "print('rmse1 =', rmse1)\n",
    "print('rmse2 =', rmse2)\n",
    "print('rmse3 =', rmse3)\n",
    "print('rmse4 =', rmse4)"
   ]
  },
  {
   "cell_type": "markdown",
   "metadata": {
    "id": "iSAQCGm_Odxq"
   },
   "source": [
    "- `rmse1 = mean_squared_error(y, pred1)**0.5`: Computes the Mean Squared Error (MSE) between the actual values ('y') and the predicted values ('pred1').\n",
    "    - `**0.5` calculates the square root of the MSE, which results in the RMSE. The RMSE is used to measure the average magnitude of the prediction errors, and it provides a sense of how far off your predictions are from the actual values."
   ]
  },
  {
   "cell_type": "code",
   "execution_count": 13,
   "metadata": {
    "id": "rti8O-oaGphf",
    "outputId": "c67ed262-dbba-4be5-d2d2-0a1aa77252c2"
   },
   "outputs": [
    {
     "data": {
      "text/plain": [
       "-0.1601084701010837"
      ]
     },
     "execution_count": 13,
     "metadata": {},
     "output_type": "execute_result"
    }
   ],
   "source": [
    "# Calcualte % improvement of the best model over the base model\n",
    "\n",
    "(rmse4-rmse1)/rmse1"
   ]
  },
  {
   "cell_type": "markdown",
   "metadata": {
    "id": "G91xkS2IGphf"
   },
   "source": [
    "- M4 decreases RMSE by 16% over M1 (= improvement)"
   ]
  },
  {
   "cell_type": "code",
   "execution_count": null,
   "metadata": {
    "id": "kNAsxsHNGphg"
   },
   "outputs": [],
   "source": []
  },
  {
   "cell_type": "markdown",
   "metadata": {},
   "source": []
  },
  {
   "cell_type": "markdown",
   "metadata": {
    "id": "PKwS87FWGphf"
   },
   "source": [
    "### 6. Graph actual vs. predicted visits (3 lines in one graph: actual, predictions from the base and best model)."
   ]
  },
  {
   "cell_type": "code",
   "execution_count": 14,
   "metadata": {
    "id": "i1s14k0uGphg",
    "outputId": "41346748-3b29-4af6-b17f-5291b464d291"
   },
   "outputs": [
    {
     "data": {
      "image/png": "[encoded data removed]",
      "text/plain": [
       "<Figure size 1080x1080 with 1 Axes>"
      ]
     },
     "metadata": {
      "needs_background": "light"
     },
     "output_type": "display_data"
    }
   ],
   "source": [
    "# Set figure size, define x and y lables.\n",
    "\n",
    "plt.figure(figsize=(15,15))  # figure size\n",
    "plt.xlabel('Date')\n",
    "plt.ylabel('Visit')\n",
    "\n",
    "plt.plot(df.date, df.visit)  # x,y: actual visit\n",
    "plt.plot(df.date, pred1)  # predicted visit by M1\n",
    "plt.plot(df.date, pred4)  # predicted visit by M4\n",
    "plt.legend(['Actual', 'Base model(M1)', 'Best model(M4)'])\n",
    "plt.xticks(rotation=90)  # Rotate xticks by 90 degree\n",
    "plt.show()"
   ]
  },
  {
   "cell_type": "markdown",
   "metadata": {
    "id": "bTBno7LOPQVg"
   },
   "source": [
    "- `plt.figure(figsize=(15, 15))`: Sets the figure size to 15 inches by 15 inches, specifying the width and height of the plot.\n",
    "- `plt.xlabel('Date') and plt.ylabel('Visit')`: Set the labels for the x-axis (Date) and y-axis (Visit) on the plot.\n",
    "- `plt.plot(df.date, df.visit)`: Plots the actual visit data. It uses 'df.date' for the x-axis (dates) and 'df.visit' for the y-axis (actual visit counts).\n",
    "- `plt.plot(df.date, pred1)`: Similarly, this line plots the predicted visit data from 'M1.' It uses 'df.date' for the x-axis and 'pred1' for the y-axis.\n",
    "- `plt.plot(df.date, pred4)`: This line plots the predicted visit data from 'M4.' It uses 'df.date' for the x-axis and 'pred4' for the y-axis.\n",
    "- `plt.legend(['Actual', 'Base model (M1)', 'Best model (M4)'])`: This line adds a legend to the plot, labeling each line with its corresponding information. It specifies that 'Actual' represents the actual visit data, 'Base model (M1)' represents the predicted visit data from 'M1,' and 'Best model (M4)' represents the predicted visit data from 'M4.'\n",
    "- `plt.xticks(rotation=90)`: This line rotates the x-axis labels by 90 degrees. Rotating the x-axis labels can make them more readable when there are many data points, as it prevents them from overlapping."
   ]
  },
  {
   "cell_type": "markdown",
   "metadata": {
    "id": "d7Ghis1DGphg"
   },
   "source": [
    "- A visual inspection shows that M4 perfomrs better than M1: Predictions by M4 are closer to actual data than those of M1"
   ]
  },
  {
   "cell_type": "code",
   "execution_count": 15,
   "metadata": {
    "id": "8PeHYDOLGpha",
    "outputId": "47ed6292-c239-497d-c1b0-fb46d2581925"
   },
   "outputs": [
    {
     "data": {
      "text/html": [
       "<div>\n",
       "<style scoped>\n",
       "    .dataframe tbody tr th:only-of-type {\n",
       "        vertical-align: middle;\n",
       "    }\n",
       "\n",
       "    .dataframe tbody tr th {\n",
       "        vertical-align: top;\n",
       "    }\n",
       "\n",
       "    .dataframe thead th {\n",
       "        text-align: right;\n",
       "    }\n",
       "</style>\n",
       "<table border=\"1\" class=\"dataframe\">\n",
       "  <thead>\n",
       "    <tr style=\"text-align: right;\">\n",
       "      <th></th>\n",
       "      <th>date</th>\n",
       "      <th>search</th>\n",
       "    </tr>\n",
       "  </thead>\n",
       "  <tbody>\n",
       "    <tr>\n",
       "      <th>0</th>\n",
       "      <td>2009-01</td>\n",
       "      <td>82</td>\n",
       "    </tr>\n",
       "    <tr>\n",
       "      <th>1</th>\n",
       "      <td>2009-02</td>\n",
       "      <td>92</td>\n",
       "    </tr>\n",
       "    <tr>\n",
       "      <th>2</th>\n",
       "      <td>2009-03</td>\n",
       "      <td>87</td>\n",
       "    </tr>\n",
       "    <tr>\n",
       "      <th>3</th>\n",
       "      <td>2009-04</td>\n",
       "      <td>85</td>\n",
       "    </tr>\n",
       "    <tr>\n",
       "      <th>4</th>\n",
       "      <td>2009-05</td>\n",
       "      <td>81</td>\n",
       "    </tr>\n",
       "  </tbody>\n",
       "</table>\n",
       "</div>"
      ],
      "text/plain": [
       "      date  search\n",
       "0  2009-01      82\n",
       "1  2009-02      92\n",
       "2  2009-03      87\n",
       "3  2009-04      85\n",
       "4  2009-05      81"
      ]
     },
     "execution_count": 15,
     "metadata": {},
     "output_type": "execute_result"
    }
   ],
   "source": [
    "df1 = pd.read_csv('HK search.csv')\n",
    "df1.head()"
   ]
  },
  {
   "cell_type": "code",
   "execution_count": 16,
   "metadata": {
    "id": "B60astU4Gphb",
    "outputId": "7b9fc517-fe7f-4468-c4be-0344e386724f"
   },
   "outputs": [
    {
     "data": {
      "text/plain": [
       "date      object\n",
       "search     int64\n",
       "dtype: object"
      ]
     },
     "execution_count": 16,
     "metadata": {},
     "output_type": "execute_result"
    }
   ],
   "source": [
    "# check the data types\n",
    "\n",
    "df1.dtypes"
   ]
  },
  {
   "cell_type": "markdown",
   "metadata": {
    "id": "sDyIHYRoIGd3"
   },
   "source": [
    "- `df1.dtypes`: check the data types of each column in the DataFrame df1.\n",
    "    - year,month,search: numeric(int64)\n",
    "    - date: string(object)"
   ]
  },
  {
   "cell_type": "code",
   "execution_count": 17,
   "metadata": {
    "id": "mmpz6T1PGphb",
    "outputId": "9cd356e0-ee95-4845-8e4c-12eea90b33b1"
   },
   "outputs": [
    {
     "data": {
      "text/plain": [
       "0     [2009, 01]\n",
       "1     [2009, 02]\n",
       "2     [2009, 03]\n",
       "3     [2009, 04]\n",
       "4     [2009, 05]\n",
       "         ...    \n",
       "63    [2014, 04]\n",
       "64    [2014, 05]\n",
       "65    [2014, 06]\n",
       "66    [2014, 07]\n",
       "67    [2014, 08]\n",
       "Name: date, Length: 68, dtype: object"
      ]
     },
     "execution_count": 17,
     "metadata": {},
     "output_type": "execute_result"
    }
   ],
   "source": [
    "df1.date.str.split('-')  # split based on '-'"
   ]
  },
  {
   "cell_type": "markdown",
   "metadata": {
    "id": "khpro5rHIRbx"
   },
   "source": [
    "- `df1.date.str.split('-')`:  split the values in the 'date' column of the DataFrame df1 based on the hyphen ('-') separator."
   ]
  },
  {
   "cell_type": "code",
   "execution_count": 18,
   "metadata": {
    "id": "jUEkrN82Gphb",
    "outputId": "3fdfe47d-d428-4679-e2fc-c7ede04312c0"
   },
   "outputs": [
    {
     "data": {
      "text/plain": [
       "0     2009\n",
       "1     2009\n",
       "2     2009\n",
       "3     2009\n",
       "4     2009\n",
       "      ... \n",
       "63    2014\n",
       "64    2014\n",
       "65    2014\n",
       "66    2014\n",
       "67    2014\n",
       "Name: date, Length: 68, dtype: object"
      ]
     },
     "execution_count": 18,
     "metadata": {},
     "output_type": "execute_result"
    }
   ],
   "source": [
    "df1.date.str.split('-').str[0]  # first string=year"
   ]
  },
  {
   "cell_type": "markdown",
   "metadata": {
    "id": "ZgaqClSdIhci"
   },
   "source": [
    "- `df1.date.str.split('-').str[0]`: Splits the values in the 'date' column of the DataFrame df1 based on the hyphen ('-') separator and then extract the first element (index 0: year) from each resulting list."
   ]
  },
  {
   "cell_type": "code",
   "execution_count": 19,
   "metadata": {
    "id": "umffHD9cGphc",
    "outputId": "85d682c3-6e0e-4d42-ac1e-ebb2b4de2a8f"
   },
   "outputs": [
    {
     "data": {
      "text/plain": [
       "date      object\n",
       "search     int64\n",
       "test      object\n",
       "dtype: object"
      ]
     },
     "execution_count": 19,
     "metadata": {},
     "output_type": "execute_result"
    }
   ],
   "source": [
    "df1['test']=df1.date.str.split('-').str[0]\n",
    "df1.dtypes"
   ]
  },
  {
   "cell_type": "markdown",
   "metadata": {
    "id": "qmoYhgdyIuN5"
   },
   "source": [
    "- `df1['test'] = df1.date.str.split('-').str[0]`: This line creates a new column 'test' in the DataFrame 'df1'.\n",
    "    - `df1.date` accesses the 'date' column in the DataFrame.\n",
    "    - `str.split('-')` splits each entry in the 'date' column based on the hyphen ('-') separator, which separates the year and month in the date string.\n",
    "    - `str[0]` extracts the first element (index 0) from each split string, which represents the year component. The extracted year values are assigned to the 'test' column.\n",
    "- `df1.dtypes`: After adding the 'test' column, you check the data types of all columns in the DataFrame 'df1' using the .dtypes attribute.\n",
    "    - 'test' becomes object(string) after split. Need to change it to a number format to merge with the 'visit data."
   ]
  },
  {
   "cell_type": "code",
   "execution_count": 20,
   "metadata": {
    "id": "v77xsqs9Gphc",
    "outputId": "cac4543c-87c7-4179-fc63-3bb8fe377880"
   },
   "outputs": [
    {
     "data": {
      "text/html": [
       "<div>\n",
       "<style scoped>\n",
       "    .dataframe tbody tr th:only-of-type {\n",
       "        vertical-align: middle;\n",
       "    }\n",
       "\n",
       "    .dataframe tbody tr th {\n",
       "        vertical-align: top;\n",
       "    }\n",
       "\n",
       "    .dataframe thead th {\n",
       "        text-align: right;\n",
       "    }\n",
       "</style>\n",
       "<table border=\"1\" class=\"dataframe\">\n",
       "  <thead>\n",
       "    <tr style=\"text-align: right;\">\n",
       "      <th></th>\n",
       "      <th>date</th>\n",
       "      <th>search</th>\n",
       "    </tr>\n",
       "  </thead>\n",
       "  <tbody>\n",
       "    <tr>\n",
       "      <th>0</th>\n",
       "      <td>2009-01</td>\n",
       "      <td>82</td>\n",
       "    </tr>\n",
       "    <tr>\n",
       "      <th>1</th>\n",
       "      <td>2009-02</td>\n",
       "      <td>92</td>\n",
       "    </tr>\n",
       "    <tr>\n",
       "      <th>2</th>\n",
       "      <td>2009-03</td>\n",
       "      <td>87</td>\n",
       "    </tr>\n",
       "    <tr>\n",
       "      <th>3</th>\n",
       "      <td>2009-04</td>\n",
       "      <td>85</td>\n",
       "    </tr>\n",
       "    <tr>\n",
       "      <th>4</th>\n",
       "      <td>2009-05</td>\n",
       "      <td>81</td>\n",
       "    </tr>\n",
       "  </tbody>\n",
       "</table>\n",
       "</div>"
      ],
      "text/plain": [
       "      date  search\n",
       "0  2009-01      82\n",
       "1  2009-02      92\n",
       "2  2009-03      87\n",
       "3  2009-04      85\n",
       "4  2009-05      81"
      ]
     },
     "execution_count": 20,
     "metadata": {},
     "output_type": "execute_result"
    }
   ],
   "source": [
    "df1=df1.drop(['test'], axis=1)  # drop the 'test' column (axis=1)\n",
    "df1.head()"
   ]
  },
  {
   "cell_type": "markdown",
   "metadata": {
    "id": "nOBCgtpGJQV0"
   },
   "source": [
    "- `df1.drop(['test'], axis=1)`: This line removes the 'test' column from the DataFrame 'df1'.\n",
    "    - `axis=1` is specified to indicate that you are dropping a column (column-wise operation)."
   ]
  },
  {
   "cell_type": "code",
   "execution_count": null,
   "metadata": {},
   "outputs": [],
   "source": []
  }
 ],
 "metadata": {
  "colab": {
   "provenance": []
  },
  "kernelspec": {
   "display_name": "Python 3 (ipykernel)",
   "language": "python",
   "name": "python3"
  },
  "language_info": {
   "codemirror_mode": {
    "name": "ipython",
    "version": 3
   },
   "file_extension": ".py",
   "mimetype": "text/x-python",
   "name": "python",
   "nbconvert_exporter": "python",
   "pygments_lexer": "ipython3",
   "version": "3.11.4"
  }
 },
 "nbformat": 4,
 "nbformat_minor": 4
}
