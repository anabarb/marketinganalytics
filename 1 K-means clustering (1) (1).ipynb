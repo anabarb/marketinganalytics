{
 "cells": [
  {
   "cell_type": "markdown",
   "metadata": {
    "id": "INO11zr1zK6i"
   },
   "source": [
    "# K-means clustering"
   ]
  },
  {
   "cell_type": "code",
   "execution_count": 1,
   "metadata": {
    "id": "7XLYYnbezK6j"
   },
   "outputs": [],
   "source": [
    "import math\n",
    "import pandas as pd\n",
    "import numpy as np\n",
    "import matplotlib.pyplot as plt\n",
    "from sklearn import preprocessing\n",
    "from sklearn import cluster"
   ]
  },
  {
   "cell_type": "markdown",
   "metadata": {
    "id": "hnlScbH4zK6l"
   },
   "source": [
    "### 1. Use 'Customer.csv'. Standardize the variables."
   ]
  },
  {
   "cell_type": "code",
   "execution_count": 2,
   "metadata": {
    "id": "ysq-JaomzK6l",
    "outputId": "c76bf39c-46ba-468e-d562-877bfea78850"
   },
   "outputs": [
    {
     "data": {
      "text/html": [
       "<div>\n",
       "<style scoped>\n",
       "    .dataframe tbody tr th:only-of-type {\n",
       "        vertical-align: middle;\n",
       "    }\n",
       "\n",
       "    .dataframe tbody tr th {\n",
       "        vertical-align: top;\n",
       "    }\n",
       "\n",
       "    .dataframe thead th {\n",
       "        text-align: right;\n",
       "    }\n",
       "</style>\n",
       "<table border=\"1\" class=\"dataframe\">\n",
       "  <thead>\n",
       "    <tr style=\"text-align: right;\">\n",
       "      <th></th>\n",
       "      <th>income</th>\n",
       "      <th>age</th>\n",
       "    </tr>\n",
       "  </thead>\n",
       "  <tbody>\n",
       "    <tr>\n",
       "      <th>0</th>\n",
       "      <td>101743</td>\n",
       "      <td>58</td>\n",
       "    </tr>\n",
       "    <tr>\n",
       "      <th>1</th>\n",
       "      <td>49597</td>\n",
       "      <td>27</td>\n",
       "    </tr>\n",
       "    <tr>\n",
       "      <th>2</th>\n",
       "      <td>36517</td>\n",
       "      <td>52</td>\n",
       "    </tr>\n",
       "    <tr>\n",
       "      <th>3</th>\n",
       "      <td>33223</td>\n",
       "      <td>49</td>\n",
       "    </tr>\n",
       "    <tr>\n",
       "      <th>4</th>\n",
       "      <td>72994</td>\n",
       "      <td>53</td>\n",
       "    </tr>\n",
       "  </tbody>\n",
       "</table>\n",
       "</div>"
      ],
      "text/plain": [
       "   income  age\n",
       "0  101743   58\n",
       "1   49597   27\n",
       "2   36517   52\n",
       "3   33223   49\n",
       "4   72994   53"
      ]
     },
     "execution_count": 2,
     "metadata": {},
     "output_type": "execute_result"
    }
   ],
   "source": [
    "df = pd.read_csv('Customer.csv')\n",
    "df.head()"
   ]
  },
  {
   "cell_type": "markdown",
   "metadata": {
    "id": "Z-9EYK8wzWYJ"
   },
   "source": [
    "- `df = pd.read_csv('Customer.csv')`: This line uses Pandas to read 'Customer.csv' and store its data into a DataFrame df.\n",
    "- `df.head()`: This line displays the first five rows of df for a quick data preview."
   ]
  },
  {
   "cell_type": "code",
   "execution_count": 3,
   "metadata": {
    "id": "cqbeZ2phzK6l",
    "outputId": "48e13726-e6ab-48f0-b2c2-321d016d0894",
    "tags": []
   },
   "outputs": [
    {
     "data": {
      "text/html": [
       "<div>\n",
       "<style scoped>\n",
       "    .dataframe tbody tr th:only-of-type {\n",
       "        vertical-align: middle;\n",
       "    }\n",
       "\n",
       "    .dataframe tbody tr th {\n",
       "        vertical-align: top;\n",
       "    }\n",
       "\n",
       "    .dataframe thead th {\n",
       "        text-align: right;\n",
       "    }\n",
       "</style>\n",
       "<table border=\"1\" class=\"dataframe\">\n",
       "  <thead>\n",
       "    <tr style=\"text-align: right;\">\n",
       "      <th></th>\n",
       "      <th>income</th>\n",
       "      <th>age</th>\n",
       "      <th>z_income</th>\n",
       "      <th>z_age</th>\n",
       "    </tr>\n",
       "  </thead>\n",
       "  <tbody>\n",
       "    <tr>\n",
       "      <th>0</th>\n",
       "      <td>101743</td>\n",
       "      <td>58</td>\n",
       "      <td>0.551088</td>\n",
       "      <td>1.694418</td>\n",
       "    </tr>\n",
       "    <tr>\n",
       "      <th>1</th>\n",
       "      <td>49597</td>\n",
       "      <td>27</td>\n",
       "      <td>-0.777720</td>\n",
       "      <td>-1.131131</td>\n",
       "    </tr>\n",
       "    <tr>\n",
       "      <th>2</th>\n",
       "      <td>36517</td>\n",
       "      <td>52</td>\n",
       "      <td>-1.111030</td>\n",
       "      <td>1.147537</td>\n",
       "    </tr>\n",
       "    <tr>\n",
       "      <th>3</th>\n",
       "      <td>33223</td>\n",
       "      <td>49</td>\n",
       "      <td>-1.194969</td>\n",
       "      <td>0.874097</td>\n",
       "    </tr>\n",
       "    <tr>\n",
       "      <th>4</th>\n",
       "      <td>72994</td>\n",
       "      <td>53</td>\n",
       "      <td>-0.181507</td>\n",
       "      <td>1.238684</td>\n",
       "    </tr>\n",
       "  </tbody>\n",
       "</table>\n",
       "</div>"
      ],
      "text/plain": [
       "   income  age  z_income     z_age\n",
       "0  101743   58  0.551088  1.694418\n",
       "1   49597   27 -0.777720 -1.131131\n",
       "2   36517   52 -1.111030  1.147537\n",
       "3   33223   49 -1.194969  0.874097\n",
       "4   72994   53 -0.181507  1.238684"
      ]
     },
     "execution_count": 3,
     "metadata": {},
     "output_type": "execute_result"
    }
   ],
   "source": [
    "# Standardize: Method 2\n",
    "\n",
    "df['z_income'] = preprocessing.scale(df.income)\n",
    "df['z_age'] = preprocessing.scale(df.age)\n",
    "df.head()"
   ]
  },
  {
   "cell_type": "markdown",
   "metadata": {
    "id": "vHlPMSZizeq3"
   },
   "source": [
    "- `preprocessing.scale(df.income)`: Standardizes the 'income' column."
   ]
  },
  {
   "cell_type": "markdown",
   "metadata": {
    "id": "rLpmDU4jzK6m"
   },
   "source": [
    "### 2. Inspect the data visually for any clustering."
   ]
  },
  {
   "cell_type": "code",
   "execution_count": 4,
   "metadata": {
    "id": "ElVH3n2TzK6m",
    "outputId": "a98e464f-e51a-448c-e44f-368bec264de8"
   },
   "outputs": [
    {
     "data": {
      "text/plain": [
       "Text(0, 0.5, 'Age')"
      ]
     },
     "execution_count": 4,
     "metadata": {},
     "output_type": "execute_result"
    },
    {
     "data": {
      "image/png": "[encoded data removed]",
      "text/plain": [
       "<Figure size 432x288 with 1 Axes>"
      ]
     },
     "metadata": {
      "needs_background": "light"
     },
     "output_type": "display_data"
    }
   ],
   "source": [
    "plt.scatter(df.income, df.age)\n",
    "plt.xlabel('Income')\n",
    "plt.ylabel('Age')"
   ]
  },
  {
   "cell_type": "markdown",
   "metadata": {
    "id": "DJAnnGIAznBR"
   },
   "source": [
    "- `plt.scatter(df.income, df.age)`: This line creates a scatter plot using the values in the 'income' column for the x-axis and the 'age' column for the y-axis. Each point on the plot represents a single data entry from the DataFrame df.\n",
    "- `plt.xlabel('Income') and plt.ylabel('Age')`: These lines add labels to the x-axis and y-axis of the plot, respectively. "
   ]
  },
  {
   "cell_type": "markdown",
   "metadata": {
    "id": "YJUdpZpSzK6m"
   },
   "source": [
    "### 3. Conduct a 4-cluster k-means clustering analysis using the standardized variables. Add 'cluster' to the data"
   ]
  },
  {
   "cell_type": "code",
   "execution_count": 5,
   "metadata": {
    "id": "78Ph5Vs0zK6n",
    "outputId": "75443599-8c93-4395-b739-f2623f71fe4c"
   },
   "outputs": [
    {
     "data": {
      "text/html": [
       "<div>\n",
       "<style scoped>\n",
       "    .dataframe tbody tr th:only-of-type {\n",
       "        vertical-align: middle;\n",
       "    }\n",
       "\n",
       "    .dataframe tbody tr th {\n",
       "        vertical-align: top;\n",
       "    }\n",
       "\n",
       "    .dataframe thead th {\n",
       "        text-align: right;\n",
       "    }\n",
       "</style>\n",
       "<table border=\"1\" class=\"dataframe\">\n",
       "  <thead>\n",
       "    <tr style=\"text-align: right;\">\n",
       "      <th></th>\n",
       "      <th>income</th>\n",
       "      <th>age</th>\n",
       "      <th>z_income</th>\n",
       "      <th>z_age</th>\n",
       "      <th>cluster</th>\n",
       "    </tr>\n",
       "  </thead>\n",
       "  <tbody>\n",
       "    <tr>\n",
       "      <th>0</th>\n",
       "      <td>101743</td>\n",
       "      <td>58</td>\n",
       "      <td>0.551088</td>\n",
       "      <td>1.694418</td>\n",
       "      <td>1</td>\n",
       "    </tr>\n",
       "    <tr>\n",
       "      <th>1</th>\n",
       "      <td>49597</td>\n",
       "      <td>27</td>\n",
       "      <td>-0.777720</td>\n",
       "      <td>-1.131131</td>\n",
       "      <td>0</td>\n",
       "    </tr>\n",
       "    <tr>\n",
       "      <th>2</th>\n",
       "      <td>36517</td>\n",
       "      <td>52</td>\n",
       "      <td>-1.111030</td>\n",
       "      <td>1.147537</td>\n",
       "      <td>3</td>\n",
       "    </tr>\n",
       "    <tr>\n",
       "      <th>3</th>\n",
       "      <td>33223</td>\n",
       "      <td>49</td>\n",
       "      <td>-1.194969</td>\n",
       "      <td>0.874097</td>\n",
       "      <td>3</td>\n",
       "    </tr>\n",
       "    <tr>\n",
       "      <th>4</th>\n",
       "      <td>72994</td>\n",
       "      <td>53</td>\n",
       "      <td>-0.181507</td>\n",
       "      <td>1.238684</td>\n",
       "      <td>3</td>\n",
       "    </tr>\n",
       "  </tbody>\n",
       "</table>\n",
       "</div>"
      ],
      "text/plain": [
       "   income  age  z_income     z_age  cluster\n",
       "0  101743   58  0.551088  1.694418        1\n",
       "1   49597   27 -0.777720 -1.131131        0\n",
       "2   36517   52 -1.111030  1.147537        3\n",
       "3   33223   49 -1.194969  0.874097        3\n",
       "4   72994   53 -0.181507  1.238684        3"
      ]
     },
     "execution_count": 5,
     "metadata": {},
     "output_type": "execute_result"
    }
   ],
   "source": [
    "m = cluster.KMeans(n_clusters=4, random_state=10).fit(df[['z_income', 'z_age']])\n",
    "df['cluster'] = m.labels_\n",
    "df.head()"
   ]
  },
  {
   "cell_type": "markdown",
   "metadata": {
    "id": "S8MuTuahzpFr"
   },
   "source": [
    "- `m = cluster.KMeans(n_clusters=4, random_state=10).fit(df[['z1_income', 'z1_age']])`: This line initializes a k-means clustering process with 4 clusters (n_clusters=4) and a random state of 10 for reproducibility.\n",
    "It fits the model to the data points represented by the standardized 'income' and 'age' columns in the DataFrame df.\n",
    "- `df['cluster'] = m.labels_`: After the model fitting, each data point is assigned a cluster label (from 0 to 3, since there are four clusters)."
   ]
  },
  {
   "cell_type": "markdown",
   "metadata": {
    "id": "EL3izNCvzK6n"
   },
   "source": [
    "### 4. What are the number of samples in each cluster?"
   ]
  },
  {
   "cell_type": "code",
   "execution_count": 6,
   "metadata": {
    "id": "Wbnpz9aozK6n",
    "outputId": "6253ebe6-25bb-4019-ddae-ae27bbbf7b9e"
   },
   "outputs": [
    {
     "data": {
      "text/html": [
       "<div>\n",
       "<style scoped>\n",
       "    .dataframe tbody tr th:only-of-type {\n",
       "        vertical-align: middle;\n",
       "    }\n",
       "\n",
       "    .dataframe tbody tr th {\n",
       "        vertical-align: top;\n",
       "    }\n",
       "\n",
       "    .dataframe thead th {\n",
       "        text-align: right;\n",
       "    }\n",
       "</style>\n",
       "<table border=\"1\" class=\"dataframe\">\n",
       "  <thead>\n",
       "    <tr style=\"text-align: right;\">\n",
       "      <th></th>\n",
       "      <th>income</th>\n",
       "      <th>age</th>\n",
       "      <th>z_income</th>\n",
       "      <th>z_age</th>\n",
       "    </tr>\n",
       "    <tr>\n",
       "      <th>cluster</th>\n",
       "      <th></th>\n",
       "      <th></th>\n",
       "      <th></th>\n",
       "      <th></th>\n",
       "    </tr>\n",
       "  </thead>\n",
       "  <tbody>\n",
       "    <tr>\n",
       "      <th>0</th>\n",
       "      <td>248</td>\n",
       "      <td>248</td>\n",
       "      <td>248</td>\n",
       "      <td>248</td>\n",
       "    </tr>\n",
       "    <tr>\n",
       "      <th>1</th>\n",
       "      <td>238</td>\n",
       "      <td>238</td>\n",
       "      <td>238</td>\n",
       "      <td>238</td>\n",
       "    </tr>\n",
       "    <tr>\n",
       "      <th>2</th>\n",
       "      <td>258</td>\n",
       "      <td>258</td>\n",
       "      <td>258</td>\n",
       "      <td>258</td>\n",
       "    </tr>\n",
       "    <tr>\n",
       "      <th>3</th>\n",
       "      <td>256</td>\n",
       "      <td>256</td>\n",
       "      <td>256</td>\n",
       "      <td>256</td>\n",
       "    </tr>\n",
       "  </tbody>\n",
       "</table>\n",
       "</div>"
      ],
      "text/plain": [
       "         income  age  z_income  z_age\n",
       "cluster                              \n",
       "0           248  248       248    248\n",
       "1           238  238       238    238\n",
       "2           258  258       258    258\n",
       "3           256  256       256    256"
      ]
     },
     "execution_count": 6,
     "metadata": {},
     "output_type": "execute_result"
    }
   ],
   "source": [
    "df.groupby('cluster').count()"
   ]
  },
  {
   "cell_type": "markdown",
   "metadata": {
    "id": "cGrclEyuzvnY"
   },
   "source": [
    "- `df.groupby('cluster')`: This groups the DataFrame based on unique values in the 'cluster' column. Each unique value represents a different cluster.\n",
    "- `count()`: This function counts the number of rows in each group (i.e., each cluster). The count is done for each column, but since all columns are present for each row, the count will be the same across all columns."
   ]
  },
  {
   "cell_type": "markdown",
   "metadata": {
    "id": "KGmWBoWvzK6n"
   },
   "source": [
    "### 5. Graph the four clusters with different colors."
   ]
  },
  {
   "cell_type": "code",
   "execution_count": 7,
   "metadata": {
    "id": "jyBWe7E5zK6n",
    "outputId": "ab5b899c-2501-4387-e090-ba5e691b2136"
   },
   "outputs": [
    {
     "data": {
      "text/plain": [
       "Text(0, 0.5, 'Age')"
      ]
     },
     "execution_count": 7,
     "metadata": {},
     "output_type": "execute_result"
    },
    {
     "data": {
      "image/png": "[encoded data removed]",
      "text/plain": [
       "<Figure size 432x288 with 1 Axes>"
      ]
     },
     "metadata": {
      "needs_background": "light"
     },
     "output_type": "display_data"
    }
   ],
   "source": [
    "colors = ['r', 'b', 'k', 'g']  # red, blue, black, green\n",
    "markers = ['^', 'o', 'd', 's']\n",
    "for c in df.cluster.unique(): # c=0~3 (unique cluster values)\n",
    "    d = df[df.cluster == c]   # data for each cluster 0~3\n",
    "    plt.scatter(d.income, d.age, marker=markers[c], color=colors[c])  # different color for each of four clusters\n",
    "plt.xlabel('Income')\n",
    "plt.ylabel('Age')"
   ]
  },
  {
   "cell_type": "markdown",
   "metadata": {
    "id": "dhu7mE37z3xJ"
   },
   "source": [
    "- `colors and markers` are lists that define the colors and marker styles that will be used for the different clusters in the scatter plot.\n",
    "- `for c in df.cluster.unique()`: This loop iterates over each unique value in the 'cluster' column, representing different clusters.\n",
    "- `d = df[df.cluster == c]`: For each cluster, this line filters the main DataFrame to contain only the rows belonging to the current cluster.\n",
    "- `plt.scatter(d.income, d.age, marker=markers[c], color=colors[c])`: This plots the 'income' and 'age' of the filtered data d with a specific marker and color for the current cluster.Each cluster will be represented with a different color and marker style on the scatter plot, making them distinguishable.\n",
    "- `plt.xlabel('Income') and plt.ylabel('Age')`: These lines set the labels for the x-axis and y-axis, respectively."
   ]
  },
  {
   "cell_type": "markdown",
   "metadata": {
    "id": "1TE6tWHMzK6n"
   },
   "source": [
    "### 6. Calculate the mean of each variable in each cluster"
   ]
  },
  {
   "cell_type": "code",
   "execution_count": 8,
   "metadata": {
    "id": "dYqHSkdKzK6o",
    "outputId": "24bf9cf3-e362-458c-8782-7a2c591110e1"
   },
   "outputs": [
    {
     "data": {
      "text/html": [
       "<div>\n",
       "<style scoped>\n",
       "    .dataframe tbody tr th:only-of-type {\n",
       "        vertical-align: middle;\n",
       "    }\n",
       "\n",
       "    .dataframe tbody tr th {\n",
       "        vertical-align: top;\n",
       "    }\n",
       "\n",
       "    .dataframe thead th {\n",
       "        text-align: right;\n",
       "    }\n",
       "</style>\n",
       "<table border=\"1\" class=\"dataframe\">\n",
       "  <thead>\n",
       "    <tr style=\"text-align: right;\">\n",
       "      <th></th>\n",
       "      <th>income</th>\n",
       "      <th>age</th>\n",
       "      <th>z_income</th>\n",
       "      <th>z_age</th>\n",
       "    </tr>\n",
       "    <tr>\n",
       "      <th>cluster</th>\n",
       "      <th></th>\n",
       "      <th></th>\n",
       "      <th></th>\n",
       "      <th></th>\n",
       "    </tr>\n",
       "  </thead>\n",
       "  <tbody>\n",
       "    <tr>\n",
       "      <th>0</th>\n",
       "      <td>43699.213710</td>\n",
       "      <td>29.625000</td>\n",
       "      <td>-0.928010</td>\n",
       "      <td>-0.891871</td>\n",
       "    </tr>\n",
       "    <tr>\n",
       "      <th>1</th>\n",
       "      <td>116199.844538</td>\n",
       "      <td>49.399160</td>\n",
       "      <td>0.919484</td>\n",
       "      <td>0.910479</td>\n",
       "    </tr>\n",
       "    <tr>\n",
       "      <th>2</th>\n",
       "      <td>115210.709302</td>\n",
       "      <td>29.748062</td>\n",
       "      <td>0.894278</td>\n",
       "      <td>-0.880654</td>\n",
       "    </tr>\n",
       "    <tr>\n",
       "      <th>3</th>\n",
       "      <td>46482.371094</td>\n",
       "      <td>49.339844</td>\n",
       "      <td>-0.857088</td>\n",
       "      <td>0.905073</td>\n",
       "    </tr>\n",
       "  </tbody>\n",
       "</table>\n",
       "</div>"
      ],
      "text/plain": [
       "                income        age  z_income     z_age\n",
       "cluster                                              \n",
       "0         43699.213710  29.625000 -0.928010 -0.891871\n",
       "1        116199.844538  49.399160  0.919484  0.910479\n",
       "2        115210.709302  29.748062  0.894278 -0.880654\n",
       "3         46482.371094  49.339844 -0.857088  0.905073"
      ]
     },
     "execution_count": 8,
     "metadata": {},
     "output_type": "execute_result"
    }
   ],
   "source": [
    "# # Method 1\n",
    "\n",
    "df.groupby('cluster').mean()  # Mean of each cluster for all columns\n",
    "# df.groupby('cluster')[['income', 'age']].mean()"
   ]
  },
  {
   "cell_type": "markdown",
   "metadata": {
    "id": "kgy3fmp40N6x"
   },
   "source": [
    "- `df.groupby('cluster').mean()`: This command groups the DataFrame by the 'cluster' column and calculates the mean (average) for each group (i.e., each cluster) across all columns. The result is a new DataFrame showing the average values of all features for each cluster."
   ]
  },
  {
   "cell_type": "code",
   "execution_count": 9,
   "metadata": {
    "id": "iAxxIeugzK6o",
    "outputId": "66516ffa-bfc0-4d42-b322-c0cf68166254"
   },
   "outputs": [
    {
     "data": {
      "text/plain": [
       "array([[-0.92800966, -0.89187067],\n",
       "       [ 0.9194838 ,  0.91047915],\n",
       "       [ 0.89427821, -0.88065397],\n",
       "       [-0.857088  ,  0.9050727 ]])"
      ]
     },
     "execution_count": 9,
     "metadata": {},
     "output_type": "execute_result"
    }
   ],
   "source": [
    "# Method 2\n",
    "\n",
    "m.cluster_centers_  # mean of standardized value"
   ]
  },
  {
   "cell_type": "markdown",
   "metadata": {
    "id": "_HjwnUca0Qo0"
   },
   "source": [
    "- `m.cluster_centers_`: This attribute holds the coordinates of the cluster centers (centroids) from the fitted k-means model m. These coordinates are in the space of the standardized variables (since the model was trained on standardized data) and represent the average (mean) values of the data points within each cluster."
   ]
  },
  {
   "cell_type": "markdown",
   "metadata": {
    "id": "KA8dF2tMzK6o"
   },
   "source": [
    "### 7. Display the samples in cluster=1"
   ]
  },
  {
   "cell_type": "code",
   "execution_count": 10,
   "metadata": {
    "id": "wgqgR3q0zK6o",
    "outputId": "0c958064-9704-42cb-c7ec-70e40807f246"
   },
   "outputs": [
    {
     "data": {
      "text/html": [
       "<div>\n",
       "<style scoped>\n",
       "    .dataframe tbody tr th:only-of-type {\n",
       "        vertical-align: middle;\n",
       "    }\n",
       "\n",
       "    .dataframe tbody tr th {\n",
       "        vertical-align: top;\n",
       "    }\n",
       "\n",
       "    .dataframe thead th {\n",
       "        text-align: right;\n",
       "    }\n",
       "</style>\n",
       "<table border=\"1\" class=\"dataframe\">\n",
       "  <thead>\n",
       "    <tr style=\"text-align: right;\">\n",
       "      <th></th>\n",
       "      <th>income</th>\n",
       "      <th>age</th>\n",
       "      <th>z_income</th>\n",
       "      <th>z_age</th>\n",
       "      <th>cluster</th>\n",
       "    </tr>\n",
       "  </thead>\n",
       "  <tbody>\n",
       "    <tr>\n",
       "      <th>0</th>\n",
       "      <td>101743</td>\n",
       "      <td>58</td>\n",
       "      <td>0.551088</td>\n",
       "      <td>1.694418</td>\n",
       "      <td>1</td>\n",
       "    </tr>\n",
       "    <tr>\n",
       "      <th>13</th>\n",
       "      <td>117177</td>\n",
       "      <td>55</td>\n",
       "      <td>0.944384</td>\n",
       "      <td>1.420977</td>\n",
       "      <td>1</td>\n",
       "    </tr>\n",
       "    <tr>\n",
       "      <th>14</th>\n",
       "      <td>134379</td>\n",
       "      <td>48</td>\n",
       "      <td>1.382733</td>\n",
       "      <td>0.782950</td>\n",
       "      <td>1</td>\n",
       "    </tr>\n",
       "    <tr>\n",
       "      <th>22</th>\n",
       "      <td>89332</td>\n",
       "      <td>50</td>\n",
       "      <td>0.234825</td>\n",
       "      <td>0.965244</td>\n",
       "      <td>1</td>\n",
       "    </tr>\n",
       "    <tr>\n",
       "      <th>23</th>\n",
       "      <td>111413</td>\n",
       "      <td>60</td>\n",
       "      <td>0.797503</td>\n",
       "      <td>1.876711</td>\n",
       "      <td>1</td>\n",
       "    </tr>\n",
       "    <tr>\n",
       "      <th>...</th>\n",
       "      <td>...</td>\n",
       "      <td>...</td>\n",
       "      <td>...</td>\n",
       "      <td>...</td>\n",
       "      <td>...</td>\n",
       "    </tr>\n",
       "    <tr>\n",
       "      <th>990</th>\n",
       "      <td>127550</td>\n",
       "      <td>52</td>\n",
       "      <td>1.208714</td>\n",
       "      <td>1.147537</td>\n",
       "      <td>1</td>\n",
       "    </tr>\n",
       "    <tr>\n",
       "      <th>991</th>\n",
       "      <td>95327</td>\n",
       "      <td>46</td>\n",
       "      <td>0.387593</td>\n",
       "      <td>0.600657</td>\n",
       "      <td>1</td>\n",
       "    </tr>\n",
       "    <tr>\n",
       "      <th>992</th>\n",
       "      <td>92675</td>\n",
       "      <td>55</td>\n",
       "      <td>0.320013</td>\n",
       "      <td>1.420977</td>\n",
       "      <td>1</td>\n",
       "    </tr>\n",
       "    <tr>\n",
       "      <th>996</th>\n",
       "      <td>95102</td>\n",
       "      <td>41</td>\n",
       "      <td>0.381859</td>\n",
       "      <td>0.144923</td>\n",
       "      <td>1</td>\n",
       "    </tr>\n",
       "    <tr>\n",
       "      <th>999</th>\n",
       "      <td>123857</td>\n",
       "      <td>44</td>\n",
       "      <td>1.114607</td>\n",
       "      <td>0.418363</td>\n",
       "      <td>1</td>\n",
       "    </tr>\n",
       "  </tbody>\n",
       "</table>\n",
       "<p>238 rows × 5 columns</p>\n",
       "</div>"
      ],
      "text/plain": [
       "     income  age  z_income     z_age  cluster\n",
       "0    101743   58  0.551088  1.694418        1\n",
       "13   117177   55  0.944384  1.420977        1\n",
       "14   134379   48  1.382733  0.782950        1\n",
       "22    89332   50  0.234825  0.965244        1\n",
       "23   111413   60  0.797503  1.876711        1\n",
       "..      ...  ...       ...       ...      ...\n",
       "990  127550   52  1.208714  1.147537        1\n",
       "991   95327   46  0.387593  0.600657        1\n",
       "992   92675   55  0.320013  1.420977        1\n",
       "996   95102   41  0.381859  0.144923        1\n",
       "999  123857   44  1.114607  0.418363        1\n",
       "\n",
       "[238 rows x 5 columns]"
      ]
     },
     "execution_count": 10,
     "metadata": {},
     "output_type": "execute_result"
    }
   ],
   "source": [
    "df.loc[df.cluster==1] \n",
    "df[df.cluster==1]  # '.loc' can be omitted"
   ]
  },
  {
   "cell_type": "markdown",
   "metadata": {
    "id": "LHI5Jio40SpT"
   },
   "source": [
    "- `df.loc[df.cluster==1]`: This command uses the .loc accessor for selection, combined with a boolean condition (df.cluster==1) to filter the rows. It selects all rows where the 'cluster' column value is 1."
   ]
  },
  {
   "cell_type": "code",
   "execution_count": null,
   "metadata": {},
   "outputs": [],
   "source": []
  },
  {
   "cell_type": "markdown",
   "metadata": {
    "id": "l_GTULbDSYQJ"
   },
   "source": []
  },
  {
   "cell_type": "markdown",
   "metadata": {
    "id": "CiyOvON4zK6k"
   },
   "source": [
    "### Calcuate the Euclidean distance between first and second person"
   ]
  },
  {
   "cell_type": "code",
   "execution_count": 11,
   "metadata": {
    "id": "sHHgfz-OzK6k",
    "outputId": "161fa85b-6c7b-44f9-88c6-d13f7bccfe0c"
   },
   "outputs": [
    {
     "name": "stdout",
     "output_type": "stream",
     "text": [
      "6\n",
      "8\n"
     ]
    }
   ],
   "source": [
    "print(2*3)  # multiplication\n",
    "print(2**3)  # exponentiation"
   ]
  },
  {
   "cell_type": "code",
   "execution_count": 12,
   "metadata": {
    "id": "HBstsRHuzK6k"
   },
   "outputs": [],
   "source": [
    "# Age and income of 3 people\n",
    "\n",
    "age = [50, 40, 30]\n",
    "income = [50000, 40000, 30000]"
   ]
  },
  {
   "cell_type": "markdown",
   "metadata": {
    "id": "iqZBywLAzPvW"
   },
   "source": [
    "- `age = [50, 40, 30]`: This line creates a list called age containing the ages of three individuals.\n",
    "- `income = [50000, 40000, 30000]`: This line creates a list called income that stores the income of the same three individuals, assuming the order of income corresponds to the order of ages in the age list."
   ]
  },
  {
   "cell_type": "code",
   "execution_count": 13,
   "metadata": {
    "id": "OKzmrDFSzK6l",
    "outputId": "8f6f449a-7cb8-41f3-b3d1-6cdf40d90b31"
   },
   "outputs": [
    {
     "data": {
      "text/plain": [
       "10000.00499999875"
      ]
     },
     "execution_count": 13,
     "metadata": {},
     "output_type": "execute_result"
    }
   ],
   "source": [
    "# Euclidean distance\n",
    "\n",
    "math.sqrt((age[0] - age[1])**2 + (income[0] - income[1])**2)"
   ]
  },
  {
   "cell_type": "markdown",
   "metadata": {
    "id": "NmTjRE0vzSuT"
   },
   "source": [
    "- `(age[0] - age[1])**2`: Computes the difference in ages between the first and second individuals.\n",
    "- `(income[0] - income[1])**2`: Calculates the squared difference in incomes between the first and second individuals.\n",
    "- `math.sqrt()`: The square root of the sum is taken, resulting in the Euclidean distance."
   ]
  },
  {
   "cell_type": "markdown",
   "metadata": {
    "id": "hnlScbH4zK6l"
   },
   "source": [
    "### Standardize the variables."
   ]
  },
  {
   "cell_type": "code",
   "execution_count": 14,
   "metadata": {
    "id": "6MBOkqMwzK6l",
    "outputId": "19be9c05-2fac-4e9c-e53e-61e91aa482e5"
   },
   "outputs": [
    {
     "data": {
      "text/html": [
       "<div>\n",
       "<style scoped>\n",
       "    .dataframe tbody tr th:only-of-type {\n",
       "        vertical-align: middle;\n",
       "    }\n",
       "\n",
       "    .dataframe tbody tr th {\n",
       "        vertical-align: top;\n",
       "    }\n",
       "\n",
       "    .dataframe thead th {\n",
       "        text-align: right;\n",
       "    }\n",
       "</style>\n",
       "<table border=\"1\" class=\"dataframe\">\n",
       "  <thead>\n",
       "    <tr style=\"text-align: right;\">\n",
       "      <th></th>\n",
       "      <th>income</th>\n",
       "      <th>age</th>\n",
       "      <th>z_income</th>\n",
       "      <th>z_age</th>\n",
       "      <th>cluster</th>\n",
       "      <th>z1_income</th>\n",
       "      <th>z1_age</th>\n",
       "    </tr>\n",
       "  </thead>\n",
       "  <tbody>\n",
       "    <tr>\n",
       "      <th>0</th>\n",
       "      <td>101743</td>\n",
       "      <td>58</td>\n",
       "      <td>0.551088</td>\n",
       "      <td>1.694418</td>\n",
       "      <td>1</td>\n",
       "      <td>0.550812</td>\n",
       "      <td>1.693570</td>\n",
       "    </tr>\n",
       "    <tr>\n",
       "      <th>1</th>\n",
       "      <td>49597</td>\n",
       "      <td>27</td>\n",
       "      <td>-0.777720</td>\n",
       "      <td>-1.131131</td>\n",
       "      <td>0</td>\n",
       "      <td>-0.777331</td>\n",
       "      <td>-1.130565</td>\n",
       "    </tr>\n",
       "    <tr>\n",
       "      <th>2</th>\n",
       "      <td>36517</td>\n",
       "      <td>52</td>\n",
       "      <td>-1.111030</td>\n",
       "      <td>1.147537</td>\n",
       "      <td>3</td>\n",
       "      <td>-1.110474</td>\n",
       "      <td>1.146963</td>\n",
       "    </tr>\n",
       "    <tr>\n",
       "      <th>3</th>\n",
       "      <td>33223</td>\n",
       "      <td>49</td>\n",
       "      <td>-1.194969</td>\n",
       "      <td>0.874097</td>\n",
       "      <td>3</td>\n",
       "      <td>-1.194372</td>\n",
       "      <td>0.873660</td>\n",
       "    </tr>\n",
       "    <tr>\n",
       "      <th>4</th>\n",
       "      <td>72994</td>\n",
       "      <td>53</td>\n",
       "      <td>-0.181507</td>\n",
       "      <td>1.238684</td>\n",
       "      <td>3</td>\n",
       "      <td>-0.181416</td>\n",
       "      <td>1.238064</td>\n",
       "    </tr>\n",
       "  </tbody>\n",
       "</table>\n",
       "</div>"
      ],
      "text/plain": [
       "   income  age  z_income     z_age  cluster  z1_income    z1_age\n",
       "0  101743   58  0.551088  1.694418        1   0.550812  1.693570\n",
       "1   49597   27 -0.777720 -1.131131        0  -0.777331 -1.130565\n",
       "2   36517   52 -1.111030  1.147537        3  -1.110474  1.146963\n",
       "3   33223   49 -1.194969  0.874097        3  -1.194372  0.873660\n",
       "4   72994   53 -0.181507  1.238684        3  -0.181416  1.238064"
      ]
     },
     "execution_count": 14,
     "metadata": {},
     "output_type": "execute_result"
    }
   ],
   "source": [
    "# Standardize: method 1\n",
    "\n",
    "df['z1_income'] = (df.income - df.income.mean())/df.income.std()\n",
    "df['z1_age'] = (df.age - df.age.mean())/df.age.std()\n",
    "df.head()"
   ]
  },
  {
   "cell_type": "markdown",
   "metadata": {
    "id": "i4Rq_VEvzYfQ"
   },
   "source": [
    "- `df.income.mean()`: Computes the average income across all rows in the 'income' column.\n",
    "- `df.income.std()`: Calculates the standard deviation of income across all rows in the 'income' column. This measures the amount of variation from the average.\n",
    "- `df['z1_income'] = (df.income - df.income.mean())/df.income.std()`: Creates a new column 'z1_income' with the standardized value (z-score) of the 'income' column.\n",
    "    - The z-score normalizes the data points in terms of their distance from the mean, measured in standard deviations."
   ]
  },
  {
   "cell_type": "code",
   "execution_count": 15,
   "metadata": {
    "id": "pAHKTOagzK6m",
    "outputId": "dc6ba8d3-f2eb-4253-d9d4-6047811d4181",
    "tags": []
   },
   "outputs": [
    {
     "data": {
      "text/html": [
       "<div>\n",
       "<style scoped>\n",
       "    .dataframe tbody tr th:only-of-type {\n",
       "        vertical-align: middle;\n",
       "    }\n",
       "\n",
       "    .dataframe tbody tr th {\n",
       "        vertical-align: top;\n",
       "    }\n",
       "\n",
       "    .dataframe thead th {\n",
       "        text-align: right;\n",
       "    }\n",
       "</style>\n",
       "<table border=\"1\" class=\"dataframe\">\n",
       "  <thead>\n",
       "    <tr style=\"text-align: right;\">\n",
       "      <th></th>\n",
       "      <th>income</th>\n",
       "      <th>age</th>\n",
       "      <th>z_income</th>\n",
       "      <th>z_age</th>\n",
       "      <th>cluster</th>\n",
       "      <th>z1_income</th>\n",
       "      <th>z1_age</th>\n",
       "      <th>z2_income</th>\n",
       "      <th>z2_age</th>\n",
       "    </tr>\n",
       "  </thead>\n",
       "  <tbody>\n",
       "    <tr>\n",
       "      <th>0</th>\n",
       "      <td>101743</td>\n",
       "      <td>58</td>\n",
       "      <td>0.551088</td>\n",
       "      <td>1.694418</td>\n",
       "      <td>1</td>\n",
       "      <td>0.550812</td>\n",
       "      <td>1.693570</td>\n",
       "      <td>0.551088</td>\n",
       "      <td>1.694418</td>\n",
       "    </tr>\n",
       "    <tr>\n",
       "      <th>1</th>\n",
       "      <td>49597</td>\n",
       "      <td>27</td>\n",
       "      <td>-0.777720</td>\n",
       "      <td>-1.131131</td>\n",
       "      <td>0</td>\n",
       "      <td>-0.777331</td>\n",
       "      <td>-1.130565</td>\n",
       "      <td>-0.777720</td>\n",
       "      <td>-1.131131</td>\n",
       "    </tr>\n",
       "    <tr>\n",
       "      <th>2</th>\n",
       "      <td>36517</td>\n",
       "      <td>52</td>\n",
       "      <td>-1.111030</td>\n",
       "      <td>1.147537</td>\n",
       "      <td>3</td>\n",
       "      <td>-1.110474</td>\n",
       "      <td>1.146963</td>\n",
       "      <td>-1.111030</td>\n",
       "      <td>1.147537</td>\n",
       "    </tr>\n",
       "    <tr>\n",
       "      <th>3</th>\n",
       "      <td>33223</td>\n",
       "      <td>49</td>\n",
       "      <td>-1.194969</td>\n",
       "      <td>0.874097</td>\n",
       "      <td>3</td>\n",
       "      <td>-1.194372</td>\n",
       "      <td>0.873660</td>\n",
       "      <td>-1.194969</td>\n",
       "      <td>0.874097</td>\n",
       "    </tr>\n",
       "    <tr>\n",
       "      <th>4</th>\n",
       "      <td>72994</td>\n",
       "      <td>53</td>\n",
       "      <td>-0.181507</td>\n",
       "      <td>1.238684</td>\n",
       "      <td>3</td>\n",
       "      <td>-0.181416</td>\n",
       "      <td>1.238064</td>\n",
       "      <td>-0.181507</td>\n",
       "      <td>1.238684</td>\n",
       "    </tr>\n",
       "  </tbody>\n",
       "</table>\n",
       "</div>"
      ],
      "text/plain": [
       "   income  age  z_income     z_age  cluster  z1_income    z1_age  z2_income  \\\n",
       "0  101743   58  0.551088  1.694418        1   0.550812  1.693570   0.551088   \n",
       "1   49597   27 -0.777720 -1.131131        0  -0.777331 -1.130565  -0.777720   \n",
       "2   36517   52 -1.111030  1.147537        3  -1.110474  1.146963  -1.111030   \n",
       "3   33223   49 -1.194969  0.874097        3  -1.194372  0.873660  -1.194969   \n",
       "4   72994   53 -0.181507  1.238684        3  -0.181416  1.238064  -0.181507   \n",
       "\n",
       "     z2_age  \n",
       "0  1.694418  \n",
       "1 -1.131131  \n",
       "2  1.147537  \n",
       "3  0.874097  \n",
       "4  1.238684  "
      ]
     },
     "execution_count": 15,
     "metadata": {},
     "output_type": "execute_result"
    }
   ],
   "source": [
    "# Standardize: Method 2\n",
    "\n",
    "col = ['income', 'age']  # df.columns: for all columns\n",
    "for c in col:\n",
    "    df['z2_'+c]=preprocessing.scale(df[c])\n",
    "df.head()"
   ]
  },
  {
   "cell_type": "markdown",
   "metadata": {
    "id": "W2ToUvqIzhlh"
   },
   "source": [
    "- `col = ['income', 'age']`: Defines a list of column names that the script will process.\n",
    "- `for c in col` Starts a loop that iterates over each item in the col list.\n",
    "- `df['z3_'+c] = preprocessing.scale(df[c])`: Within the loop, for each column name in col, standardize the corresponding data using the preprocessing.scale function. Create a new column in df with a name combining 'z3_' and the original column name (stored in c), containing the standardized values."
   ]
  },
  {
   "cell_type": "markdown",
   "metadata": {
    "id": "1TE6tWHMzK6n"
   },
   "source": [
    "### Calculate the mean of each variable in each cluster"
   ]
  },
  {
   "cell_type": "code",
   "execution_count": 16,
   "metadata": {
    "id": "IBsoQA-HzK6n",
    "outputId": "a4cc3800-3e96-487c-d5b2-f9a5d4f91a4c"
   },
   "outputs": [
    {
     "name": "stdout",
     "output_type": "stream",
     "text": [
      "Cluster:  1\n",
      "income: 116199.84\n",
      "age: 49.40\n",
      "Cluster:  0\n",
      "income: 43699.21\n",
      "age: 29.62\n",
      "Cluster:  3\n",
      "income: 46482.37\n",
      "age: 49.34\n",
      "Cluster:  2\n",
      "income: 115210.71\n",
      "age: 29.75\n"
     ]
    }
   ],
   "source": [
    "for c in df.cluster.unique():\n",
    "    print(\"Cluster: \", c)\n",
    "    for col in ['income', 'age']:\n",
    "        print(col + \": {:.2f}\".format(df.loc[df.cluster==c, col].mean()))\n",
    "        # print(col + \": \" + str(df.loc[df.cluster==c, col].mean()))  # alternative"
   ]
  },
  {
   "cell_type": "markdown",
   "metadata": {
    "id": "f04CSj4Q0FTz"
   },
   "source": [
    "- `for c in df.cluster.unique()`: Iterates over each unique cluster identifier in the 'cluster' column.\n",
    "- `print(\"Cluster: \", c)`: Prints the current cluster number.\n",
    "- `for col in ['income', 'age']`: Iterates over the two specified columns, 'income' and 'age'.\n",
    "- `df.loc[df.cluster==c, col].mean()`: For the current cluster and column, this line calculates the average value. It uses: .loc[] to filter rows where the 'cluster' column equals the current cluster (identified by c) and select the current column (identified by col).\n",
    "- `mean()` calculates the average of the selected rows and column.\n",
    "- `{:.2f}\".format(...)`: This constructs a string with the column name and its average value, formatted to have two decimal places (indicated by .2f).\n",
    "    - 2f: 2 digit after decimal point, floating point\n",
    "    - loc: Access data by label\n",
    "    - iloc: Access data by index"
   ]
  }
 ],
 "metadata": {
  "colab": {
   "provenance": []
  },
  "kernelspec": {
   "display_name": "Python 3 (ipykernel)",
   "language": "python",
   "name": "python3"
  },
  "language_info": {
   "codemirror_mode": {
    "name": "ipython",
    "version": 3
   },
   "file_extension": ".py",
   "mimetype": "text/x-python",
   "name": "python",
   "nbconvert_exporter": "python",
   "pygments_lexer": "ipython3",
   "version": "3.11.4"
  }
 },
 "nbformat": 4,
 "nbformat_minor": 4
}
