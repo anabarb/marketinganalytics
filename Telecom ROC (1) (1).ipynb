{
 "cells": [
  {
   "cell_type": "markdown",
   "metadata": {
    "id": "v1PukA0XnE16"
   },
   "source": [
    "# Model Evaluation: F1 and ROC\n",
    "\n",
    "## Use “Telecom churn” data.\n",
    "Job simulation exercise: I am working as a marketing analyst for a large telecom company. The head of marketing wants to know why customers are churning and prepare a plan to reduce customer churn. I am provided with company data and my task is to explore the data and find some insights that will help the marketing head to better strategize the marketing campaign for the next year.\n",
    "- Current bill amount of each customer (Current Bill Amt)\n",
    "- Average calls made by each customer (Avg Calls)\n",
    "- Average calls made by the customers during the weekdays (Avg Calls Weekdays)\n",
    "- How long the account has been active (Account Age)\n",
    "- Average number of days the customer has defaulted on bill payment (Avg Days Delinquent)\n",
    "- Customer complaints (Complaint Code)\n",
    "- Change in monthly bill amount (Percent Increase MOM)"
   ]
  },
  {
   "cell_type": "code",
   "execution_count": 1,
   "metadata": {
    "id": "I2RQAjx9nE18"
   },
   "outputs": [],
   "source": [
    "import pandas as pd\n",
    "import numpy as np\n",
    "from sklearn.model_selection import train_test_split\n",
    "from sklearn.linear_model import LogisticRegression\n",
    "from sklearn.metrics import confusion_matrix, classification_report, roc_curve, auc\n",
    "from sklearn import metrics\n",
    "import matplotlib.pyplot as plt\n",
    "import seaborn as sns"
   ]
  },
  {
   "cell_type": "markdown",
   "metadata": {
    "id": "nrudEwwxnE19"
   },
   "source": [
    "### 1. Report the average values of the following variables by Churn vs. No-churn.\n",
    "- cur_bill_amt, avg_call, avg_call_wkday, acct_age, avg_day_delinquent"
   ]
  },
  {
   "cell_type": "code",
   "execution_count": 2,
   "metadata": {
    "id": "-naPmfqbnE1-",
    "outputId": "8ff19fbb-6c78-4769-e593-2aea53bf4bb2"
   },
   "outputs": [
    {
     "data": {
      "text/html": [
       "<div>\n",
       "<style scoped>\n",
       "    .dataframe tbody tr th:only-of-type {\n",
       "        vertical-align: middle;\n",
       "    }\n",
       "\n",
       "    .dataframe tbody tr th {\n",
       "        vertical-align: top;\n",
       "    }\n",
       "\n",
       "    .dataframe thead th {\n",
       "        text-align: right;\n",
       "    }\n",
       "</style>\n",
       "<table border=\"1\" class=\"dataframe\">\n",
       "  <thead>\n",
       "    <tr style=\"text-align: right;\">\n",
       "      <th></th>\n",
       "      <th>churn</th>\n",
       "      <th>cur_bill_amt</th>\n",
       "      <th>avg_call</th>\n",
       "      <th>avg_call_wkday</th>\n",
       "      <th>acct_age</th>\n",
       "      <th>avg_day_delinquent</th>\n",
       "      <th>percent_MOM</th>\n",
       "      <th>complain_code</th>\n",
       "      <th>acct_plan</th>\n",
       "      <th>tech_sup_complain</th>\n",
       "      <th>day_open_workorder</th>\n",
       "      <th>equipment_age</th>\n",
       "      <th>condition_handset</th>\n",
       "      <th>avg_hour_workorder_open</th>\n",
       "    </tr>\n",
       "  </thead>\n",
       "  <tbody>\n",
       "    <tr>\n",
       "      <th>0</th>\n",
       "      <td>no_churn</td>\n",
       "      <td>14210</td>\n",
       "      <td>17950.00000</td>\n",
       "      <td>30297.000</td>\n",
       "      <td>24</td>\n",
       "      <td>6.2</td>\n",
       "      <td>-0.334193</td>\n",
       "      <td>Billing Problem</td>\n",
       "      <td>Gold</td>\n",
       "      <td>0</td>\n",
       "      <td>0.0</td>\n",
       "      <td>8</td>\n",
       "      <td>1</td>\n",
       "      <td>0.0</td>\n",
       "    </tr>\n",
       "    <tr>\n",
       "      <th>1</th>\n",
       "      <td>churn</td>\n",
       "      <td>14407</td>\n",
       "      <td>0.00000</td>\n",
       "      <td>0.000</td>\n",
       "      <td>28</td>\n",
       "      <td>1.0</td>\n",
       "      <td>0.000000</td>\n",
       "      <td>Moving</td>\n",
       "      <td>Silver</td>\n",
       "      <td>0</td>\n",
       "      <td>0.0</td>\n",
       "      <td>17</td>\n",
       "      <td>1</td>\n",
       "      <td>0.0</td>\n",
       "    </tr>\n",
       "    <tr>\n",
       "      <th>2</th>\n",
       "      <td>churn</td>\n",
       "      <td>12712</td>\n",
       "      <td>204.66667</td>\n",
       "      <td>10393.667</td>\n",
       "      <td>23</td>\n",
       "      <td>17.6</td>\n",
       "      <td>0.000000</td>\n",
       "      <td>Billing Problem</td>\n",
       "      <td>Gold</td>\n",
       "      <td>0</td>\n",
       "      <td>0.0</td>\n",
       "      <td>23</td>\n",
       "      <td>1</td>\n",
       "      <td>0.0</td>\n",
       "    </tr>\n",
       "    <tr>\n",
       "      <th>3</th>\n",
       "      <td>no_churn</td>\n",
       "      <td>13807</td>\n",
       "      <td>15490.33300</td>\n",
       "      <td>41256.332</td>\n",
       "      <td>39</td>\n",
       "      <td>0.0</td>\n",
       "      <td>0.148986</td>\n",
       "      <td>Billing Problem</td>\n",
       "      <td>Silver</td>\n",
       "      <td>0</td>\n",
       "      <td>0.0</td>\n",
       "      <td>17</td>\n",
       "      <td>1</td>\n",
       "      <td>0.0</td>\n",
       "    </tr>\n",
       "    <tr>\n",
       "      <th>4</th>\n",
       "      <td>no_churn</td>\n",
       "      <td>3805</td>\n",
       "      <td>5075.00000</td>\n",
       "      <td>12333.333</td>\n",
       "      <td>23</td>\n",
       "      <td>3.8</td>\n",
       "      <td>-0.686046</td>\n",
       "      <td>Billing Problem</td>\n",
       "      <td>Gold</td>\n",
       "      <td>0</td>\n",
       "      <td>0.0</td>\n",
       "      <td>10</td>\n",
       "      <td>1</td>\n",
       "      <td>0.0</td>\n",
       "    </tr>\n",
       "  </tbody>\n",
       "</table>\n",
       "</div>"
      ],
      "text/plain": [
       "      churn  cur_bill_amt     avg_call  avg_call_wkday  acct_age  \\\n",
       "0  no_churn         14210  17950.00000       30297.000        24   \n",
       "1     churn         14407      0.00000           0.000        28   \n",
       "2     churn         12712    204.66667       10393.667        23   \n",
       "3  no_churn         13807  15490.33300       41256.332        39   \n",
       "4  no_churn          3805   5075.00000       12333.333        23   \n",
       "\n",
       "   avg_day_delinquent  percent_MOM    complain_code acct_plan  \\\n",
       "0                 6.2    -0.334193  Billing Problem      Gold   \n",
       "1                 1.0     0.000000           Moving    Silver   \n",
       "2                17.6     0.000000  Billing Problem      Gold   \n",
       "3                 0.0     0.148986  Billing Problem    Silver   \n",
       "4                 3.8    -0.686046  Billing Problem      Gold   \n",
       "\n",
       "   tech_sup_complain  day_open_workorder  equipment_age  condition_handset  \\\n",
       "0                  0                 0.0              8                  1   \n",
       "1                  0                 0.0             17                  1   \n",
       "2                  0                 0.0             23                  1   \n",
       "3                  0                 0.0             17                  1   \n",
       "4                  0                 0.0             10                  1   \n",
       "\n",
       "   avg_hour_workorder_open  \n",
       "0                      0.0  \n",
       "1                      0.0  \n",
       "2                      0.0  \n",
       "3                      0.0  \n",
       "4                      0.0  "
      ]
     },
     "execution_count": 2,
     "metadata": {},
     "output_type": "execute_result"
    }
   ],
   "source": [
    "# Read data\n",
    "\n",
    "df= pd.read_csv('Telecom churn.csv')\n",
    "df.head()"
   ]
  },
  {
   "cell_type": "markdown",
   "metadata": {
    "id": "sJ8SZ6Gvnv0M"
   },
   "source": [
    "- `df = pd.read_csv('Telco churn.csv')` reads data from a CSV file named \"Telco churn.csv\" and loads it into a pandas DataFrame."
   ]
  },
  {
   "cell_type": "code",
   "execution_count": 3,
   "metadata": {
    "id": "CjVuw8u0nE1-",
    "outputId": "5c03cd03-3a47-47f9-e50f-bbe82d824f47"
   },
   "outputs": [
    {
     "data": {
      "text/html": [
       "<div>\n",
       "<style scoped>\n",
       "    .dataframe tbody tr th:only-of-type {\n",
       "        vertical-align: middle;\n",
       "    }\n",
       "\n",
       "    .dataframe tbody tr th {\n",
       "        vertical-align: top;\n",
       "    }\n",
       "\n",
       "    .dataframe thead th {\n",
       "        text-align: right;\n",
       "    }\n",
       "</style>\n",
       "<table border=\"1\" class=\"dataframe\">\n",
       "  <thead>\n",
       "    <tr style=\"text-align: right;\">\n",
       "      <th></th>\n",
       "      <th>cur_bill_amt</th>\n",
       "      <th>avg_call</th>\n",
       "      <th>avg_call_wkday</th>\n",
       "      <th>acct_age</th>\n",
       "      <th>avg_day_delinquent</th>\n",
       "      <th>percent_MOM</th>\n",
       "      <th>tech_sup_complain</th>\n",
       "      <th>day_open_workorder</th>\n",
       "      <th>equipment_age</th>\n",
       "      <th>condition_handset</th>\n",
       "      <th>avg_hour_workorder_open</th>\n",
       "    </tr>\n",
       "    <tr>\n",
       "      <th>churn</th>\n",
       "      <th></th>\n",
       "      <th></th>\n",
       "      <th></th>\n",
       "      <th></th>\n",
       "      <th></th>\n",
       "      <th></th>\n",
       "      <th></th>\n",
       "      <th></th>\n",
       "      <th></th>\n",
       "      <th></th>\n",
       "      <th></th>\n",
       "    </tr>\n",
       "  </thead>\n",
       "  <tbody>\n",
       "    <tr>\n",
       "      <th>churn</th>\n",
       "      <td>20184.792326</td>\n",
       "      <td>9410.960514</td>\n",
       "      <td>37865.139659</td>\n",
       "      <td>25.591367</td>\n",
       "      <td>19.209832</td>\n",
       "      <td>-0.265381</td>\n",
       "      <td>0.464748</td>\n",
       "      <td>2.741007</td>\n",
       "      <td>12.255156</td>\n",
       "      <td>1.018225</td>\n",
       "      <td>0.921242</td>\n",
       "    </tr>\n",
       "    <tr>\n",
       "      <th>no_churn</th>\n",
       "      <td>19700.729282</td>\n",
       "      <td>9372.022723</td>\n",
       "      <td>39687.363130</td>\n",
       "      <td>27.052486</td>\n",
       "      <td>9.122744</td>\n",
       "      <td>0.284556</td>\n",
       "      <td>0.379374</td>\n",
       "      <td>2.655157</td>\n",
       "      <td>11.635359</td>\n",
       "      <td>1.020258</td>\n",
       "      <td>0.931732</td>\n",
       "    </tr>\n",
       "  </tbody>\n",
       "</table>\n",
       "</div>"
      ],
      "text/plain": [
       "          cur_bill_amt     avg_call  avg_call_wkday   acct_age  \\\n",
       "churn                                                            \n",
       "churn     20184.792326  9410.960514    37865.139659  25.591367   \n",
       "no_churn  19700.729282  9372.022723    39687.363130  27.052486   \n",
       "\n",
       "          avg_day_delinquent  percent_MOM  tech_sup_complain  \\\n",
       "churn                                                          \n",
       "churn              19.209832    -0.265381           0.464748   \n",
       "no_churn            9.122744     0.284556           0.379374   \n",
       "\n",
       "          day_open_workorder  equipment_age  condition_handset  \\\n",
       "churn                                                            \n",
       "churn               2.741007      12.255156           1.018225   \n",
       "no_churn            2.655157      11.635359           1.020258   \n",
       "\n",
       "          avg_hour_workorder_open  \n",
       "churn                              \n",
       "churn                    0.921242  \n",
       "no_churn                 0.931732  "
      ]
     },
     "execution_count": 3,
     "metadata": {},
     "output_type": "execute_result"
    }
   ],
   "source": [
    "# Calculate average by 'churn'\n",
    "\n",
    "df.groupby('churn').mean()"
   ]
  },
  {
   "cell_type": "markdown",
   "metadata": {
    "id": "UpbvZEvHn4lj"
   },
   "source": [
    "- `df.groupby('churn').mean()` is using the groupby method to group the data in the DataFrame df by the 'churn' column, which is expected to be a categorical variable indicating whether a customer has churned (left the service) or not. After grouping, it calculates the mean (average) of the numerical columns for each group"
   ]
  },
  {
   "cell_type": "markdown",
   "metadata": {
    "id": "L01FTJX2nE1_"
   },
   "source": [
    "### 2. Create dummy variables from churn, acct_plan, and complain_code."
   ]
  },
  {
   "cell_type": "code",
   "execution_count": 4,
   "metadata": {
    "id": "02RrABConE1_",
    "outputId": "f7cc6d2c-bc84-402f-8377-b9f65e71b44b"
   },
   "outputs": [
    {
     "data": {
      "text/html": [
       "<div>\n",
       "<style scoped>\n",
       "    .dataframe tbody tr th:only-of-type {\n",
       "        vertical-align: middle;\n",
       "    }\n",
       "\n",
       "    .dataframe tbody tr th {\n",
       "        vertical-align: top;\n",
       "    }\n",
       "\n",
       "    .dataframe thead th {\n",
       "        text-align: right;\n",
       "    }\n",
       "</style>\n",
       "<table border=\"1\" class=\"dataframe\">\n",
       "  <thead>\n",
       "    <tr style=\"text-align: right;\">\n",
       "      <th>complain_code</th>\n",
       "      <th>Billing Problem</th>\n",
       "      <th>Call Quality</th>\n",
       "      <th>Check Account</th>\n",
       "      <th>Inaccurate Sales Inf</th>\n",
       "      <th>Moving</th>\n",
       "      <th>Pricing</th>\n",
       "    </tr>\n",
       "    <tr>\n",
       "      <th>acct_plan</th>\n",
       "      <th></th>\n",
       "      <th></th>\n",
       "      <th></th>\n",
       "      <th></th>\n",
       "      <th></th>\n",
       "      <th></th>\n",
       "    </tr>\n",
       "  </thead>\n",
       "  <tbody>\n",
       "    <tr>\n",
       "      <th>Gold</th>\n",
       "      <td>446</td>\n",
       "      <td>194</td>\n",
       "      <td>28</td>\n",
       "      <td>2</td>\n",
       "      <td>65</td>\n",
       "      <td>3</td>\n",
       "    </tr>\n",
       "    <tr>\n",
       "      <th>Silver</th>\n",
       "      <td>2195</td>\n",
       "      <td>762</td>\n",
       "      <td>149</td>\n",
       "      <td>10</td>\n",
       "      <td>402</td>\n",
       "      <td>1</td>\n",
       "    </tr>\n",
       "  </tbody>\n",
       "</table>\n",
       "</div>"
      ],
      "text/plain": [
       "complain_code  Billing Problem  Call Quality  Check Account  \\\n",
       "acct_plan                                                     \n",
       "Gold                       446           194             28   \n",
       "Silver                    2195           762            149   \n",
       "\n",
       "complain_code  Inaccurate Sales Inf  Moving  Pricing  \n",
       "acct_plan                                             \n",
       "Gold                              2      65        3  \n",
       "Silver                           10     402        1  "
      ]
     },
     "execution_count": 4,
     "metadata": {},
     "output_type": "execute_result"
    }
   ],
   "source": [
    "# Idenfify the number of categories in each variable\n",
    "\n",
    "pd.crosstab(df.acct_plan, df.complain_code)  # to confirm the categories of each variable"
   ]
  },
  {
   "cell_type": "markdown",
   "metadata": {
    "id": "sTrDImNPoFQE"
   },
   "source": [
    "- `pd.crosstab(df.acct_plan, df.complain_code)`: This line calculates the cross-tabulation between 'acct_plan' and 'complain_code'. The resulting table will display the frequency of each combination of 'acct_plan' and 'complain_code'."
   ]
  },
  {
   "cell_type": "code",
   "execution_count": 5,
   "metadata": {
    "id": "j_Hp0eZonE1_",
    "outputId": "20cfae87-65ae-488d-add4-77eabbd96159"
   },
   "outputs": [
    {
     "data": {
      "text/html": [
       "<div>\n",
       "<style scoped>\n",
       "    .dataframe tbody tr th:only-of-type {\n",
       "        vertical-align: middle;\n",
       "    }\n",
       "\n",
       "    .dataframe tbody tr th {\n",
       "        vertical-align: top;\n",
       "    }\n",
       "\n",
       "    .dataframe thead th {\n",
       "        text-align: right;\n",
       "    }\n",
       "</style>\n",
       "<table border=\"1\" class=\"dataframe\">\n",
       "  <thead>\n",
       "    <tr style=\"text-align: right;\">\n",
       "      <th></th>\n",
       "      <th>Billing Problem</th>\n",
       "      <th>Call Quality</th>\n",
       "      <th>Check Account</th>\n",
       "      <th>Inaccurate Sales Inf</th>\n",
       "      <th>Moving</th>\n",
       "      <th>Pricing</th>\n",
       "      <th>churn</th>\n",
       "      <th>cur_bill_amt</th>\n",
       "      <th>avg_call</th>\n",
       "      <th>avg_call_wkday</th>\n",
       "      <th>...</th>\n",
       "      <th>avg_day_delinquent</th>\n",
       "      <th>percent_MOM</th>\n",
       "      <th>complain_code</th>\n",
       "      <th>acct_plan</th>\n",
       "      <th>tech_sup_complain</th>\n",
       "      <th>day_open_workorder</th>\n",
       "      <th>equipment_age</th>\n",
       "      <th>condition_handset</th>\n",
       "      <th>avg_hour_workorder_open</th>\n",
       "      <th>plan_gold</th>\n",
       "    </tr>\n",
       "  </thead>\n",
       "  <tbody>\n",
       "    <tr>\n",
       "      <th>0</th>\n",
       "      <td>1</td>\n",
       "      <td>0</td>\n",
       "      <td>0</td>\n",
       "      <td>0</td>\n",
       "      <td>0</td>\n",
       "      <td>0</td>\n",
       "      <td>0</td>\n",
       "      <td>14210</td>\n",
       "      <td>17950.00000</td>\n",
       "      <td>30297.000</td>\n",
       "      <td>...</td>\n",
       "      <td>6.2</td>\n",
       "      <td>-0.334193</td>\n",
       "      <td>Billing Problem</td>\n",
       "      <td>Gold</td>\n",
       "      <td>0</td>\n",
       "      <td>0.0</td>\n",
       "      <td>8</td>\n",
       "      <td>1</td>\n",
       "      <td>0.0</td>\n",
       "      <td>1</td>\n",
       "    </tr>\n",
       "    <tr>\n",
       "      <th>1</th>\n",
       "      <td>0</td>\n",
       "      <td>0</td>\n",
       "      <td>0</td>\n",
       "      <td>0</td>\n",
       "      <td>1</td>\n",
       "      <td>0</td>\n",
       "      <td>1</td>\n",
       "      <td>14407</td>\n",
       "      <td>0.00000</td>\n",
       "      <td>0.000</td>\n",
       "      <td>...</td>\n",
       "      <td>1.0</td>\n",
       "      <td>0.000000</td>\n",
       "      <td>Moving</td>\n",
       "      <td>Silver</td>\n",
       "      <td>0</td>\n",
       "      <td>0.0</td>\n",
       "      <td>17</td>\n",
       "      <td>1</td>\n",
       "      <td>0.0</td>\n",
       "      <td>0</td>\n",
       "    </tr>\n",
       "    <tr>\n",
       "      <th>2</th>\n",
       "      <td>1</td>\n",
       "      <td>0</td>\n",
       "      <td>0</td>\n",
       "      <td>0</td>\n",
       "      <td>0</td>\n",
       "      <td>0</td>\n",
       "      <td>1</td>\n",
       "      <td>12712</td>\n",
       "      <td>204.66667</td>\n",
       "      <td>10393.667</td>\n",
       "      <td>...</td>\n",
       "      <td>17.6</td>\n",
       "      <td>0.000000</td>\n",
       "      <td>Billing Problem</td>\n",
       "      <td>Gold</td>\n",
       "      <td>0</td>\n",
       "      <td>0.0</td>\n",
       "      <td>23</td>\n",
       "      <td>1</td>\n",
       "      <td>0.0</td>\n",
       "      <td>1</td>\n",
       "    </tr>\n",
       "    <tr>\n",
       "      <th>3</th>\n",
       "      <td>1</td>\n",
       "      <td>0</td>\n",
       "      <td>0</td>\n",
       "      <td>0</td>\n",
       "      <td>0</td>\n",
       "      <td>0</td>\n",
       "      <td>0</td>\n",
       "      <td>13807</td>\n",
       "      <td>15490.33300</td>\n",
       "      <td>41256.332</td>\n",
       "      <td>...</td>\n",
       "      <td>0.0</td>\n",
       "      <td>0.148986</td>\n",
       "      <td>Billing Problem</td>\n",
       "      <td>Silver</td>\n",
       "      <td>0</td>\n",
       "      <td>0.0</td>\n",
       "      <td>17</td>\n",
       "      <td>1</td>\n",
       "      <td>0.0</td>\n",
       "      <td>0</td>\n",
       "    </tr>\n",
       "    <tr>\n",
       "      <th>4</th>\n",
       "      <td>1</td>\n",
       "      <td>0</td>\n",
       "      <td>0</td>\n",
       "      <td>0</td>\n",
       "      <td>0</td>\n",
       "      <td>0</td>\n",
       "      <td>0</td>\n",
       "      <td>3805</td>\n",
       "      <td>5075.00000</td>\n",
       "      <td>12333.333</td>\n",
       "      <td>...</td>\n",
       "      <td>3.8</td>\n",
       "      <td>-0.686046</td>\n",
       "      <td>Billing Problem</td>\n",
       "      <td>Gold</td>\n",
       "      <td>0</td>\n",
       "      <td>0.0</td>\n",
       "      <td>10</td>\n",
       "      <td>1</td>\n",
       "      <td>0.0</td>\n",
       "      <td>1</td>\n",
       "    </tr>\n",
       "  </tbody>\n",
       "</table>\n",
       "<p>5 rows × 21 columns</p>\n",
       "</div>"
      ],
      "text/plain": [
       "   Billing Problem  Call Quality  Check Account  Inaccurate Sales Inf  Moving  \\\n",
       "0                1             0              0                     0       0   \n",
       "1                0             0              0                     0       1   \n",
       "2                1             0              0                     0       0   \n",
       "3                1             0              0                     0       0   \n",
       "4                1             0              0                     0       0   \n",
       "\n",
       "   Pricing  churn  cur_bill_amt     avg_call  avg_call_wkday  ...  \\\n",
       "0        0      0         14210  17950.00000       30297.000  ...   \n",
       "1        0      1         14407      0.00000           0.000  ...   \n",
       "2        0      1         12712    204.66667       10393.667  ...   \n",
       "3        0      0         13807  15490.33300       41256.332  ...   \n",
       "4        0      0          3805   5075.00000       12333.333  ...   \n",
       "\n",
       "   avg_day_delinquent  percent_MOM    complain_code acct_plan  \\\n",
       "0                 6.2    -0.334193  Billing Problem      Gold   \n",
       "1                 1.0     0.000000           Moving    Silver   \n",
       "2                17.6     0.000000  Billing Problem      Gold   \n",
       "3                 0.0     0.148986  Billing Problem    Silver   \n",
       "4                 3.8    -0.686046  Billing Problem      Gold   \n",
       "\n",
       "  tech_sup_complain  day_open_workorder  equipment_age  condition_handset  \\\n",
       "0                 0                 0.0              8                  1   \n",
       "1                 0                 0.0             17                  1   \n",
       "2                 0                 0.0             23                  1   \n",
       "3                 0                 0.0             17                  1   \n",
       "4                 0                 0.0             10                  1   \n",
       "\n",
       "   avg_hour_workorder_open  plan_gold  \n",
       "0                      0.0          1  \n",
       "1                      0.0          0  \n",
       "2                      0.0          1  \n",
       "3                      0.0          0  \n",
       "4                      0.0          1  \n",
       "\n",
       "[5 rows x 21 columns]"
      ]
     },
     "execution_count": 5,
     "metadata": {},
     "output_type": "execute_result"
    }
   ],
   "source": [
    "# Create dummies\n",
    "\n",
    "df['churn']=(df.churn=='churn').astype(int)\n",
    "df['plan_gold']=(df.acct_plan=='Gold').astype(int)\n",
    "complain_dum = pd.get_dummies(df.complain_code)  # 6 dummies\n",
    "\n",
    "df=pd.concat([complain_dum, df], axis=1)  # Combine complain_dum with df\n",
    "df.head()\n",
    "\n",
    "# df=pd.get_dummies(df, drop_first=True)\n",
    " # Alternative: create dummies from all string variables and drop first category of each variable"
   ]
  },
  {
   "cell_type": "markdown",
   "metadata": {
    "id": "-NSsOa6yog_a"
   },
   "source": [
    "- `df['churn'] = (df.churn == 'churn').astype(int)`: Converts the 'churn' column to a binary integer variable.\n",
    "    - If the value in the 'churn' column is equal to the string 'churn,' it is converted to 1, and if it's not equal to 'churn,' it is converted to 0.\n",
    "    - `astype(int)` converts the data type to integers (from a boolean column with True and False).\n",
    "- `complain_dum = pd.get_dummies(df.complain_code)`: This code creates dummy variables for the 'complain_code'.\n",
    "- `df = pd.concat([complain_dum, df], axis=1)`: Combines the dummy variables (complain_dum) with the original DataFrame df."
   ]
  },
  {
   "cell_type": "code",
   "execution_count": 6,
   "metadata": {
    "id": "QnB1Y-5-nE1_",
    "outputId": "0a44fff3-19de-4afe-d19d-8d1a42539485"
   },
   "outputs": [
    {
     "data": {
      "text/html": [
       "<div>\n",
       "<style scoped>\n",
       "    .dataframe tbody tr th:only-of-type {\n",
       "        vertical-align: middle;\n",
       "    }\n",
       "\n",
       "    .dataframe tbody tr th {\n",
       "        vertical-align: top;\n",
       "    }\n",
       "\n",
       "    .dataframe thead th {\n",
       "        text-align: right;\n",
       "    }\n",
       "</style>\n",
       "<table border=\"1\" class=\"dataframe\">\n",
       "  <thead>\n",
       "    <tr style=\"text-align: right;\">\n",
       "      <th></th>\n",
       "      <th>Billing Problem</th>\n",
       "      <th>Call Quality</th>\n",
       "      <th>Check Account</th>\n",
       "      <th>Inaccurate Sales Inf</th>\n",
       "      <th>Moving</th>\n",
       "      <th>Pricing</th>\n",
       "      <th>churn</th>\n",
       "      <th>cur_bill_amt</th>\n",
       "      <th>avg_call</th>\n",
       "      <th>avg_call_wkday</th>\n",
       "      <th>acct_age</th>\n",
       "      <th>avg_day_delinquent</th>\n",
       "      <th>percent_MOM</th>\n",
       "      <th>complain_code</th>\n",
       "      <th>acct_plan</th>\n",
       "      <th>tech_sup_complain</th>\n",
       "      <th>day_open_workorder</th>\n",
       "      <th>equipment_age</th>\n",
       "      <th>condition_handset</th>\n",
       "      <th>avg_hour_workorder_open</th>\n",
       "      <th>plan_gold</th>\n",
       "    </tr>\n",
       "  </thead>\n",
       "  <tbody>\n",
       "    <tr>\n",
       "      <th>0</th>\n",
       "      <td>1</td>\n",
       "      <td>0</td>\n",
       "      <td>0</td>\n",
       "      <td>0</td>\n",
       "      <td>0</td>\n",
       "      <td>0</td>\n",
       "      <td>0</td>\n",
       "      <td>14210</td>\n",
       "      <td>17950.00000</td>\n",
       "      <td>30297.000</td>\n",
       "      <td>24</td>\n",
       "      <td>6.2</td>\n",
       "      <td>-0.334193</td>\n",
       "      <td>Billing Problem</td>\n",
       "      <td>Gold</td>\n",
       "      <td>0</td>\n",
       "      <td>0.0</td>\n",
       "      <td>8</td>\n",
       "      <td>1</td>\n",
       "      <td>0.0</td>\n",
       "      <td>1</td>\n",
       "    </tr>\n",
       "    <tr>\n",
       "      <th>1</th>\n",
       "      <td>0</td>\n",
       "      <td>0</td>\n",
       "      <td>0</td>\n",
       "      <td>0</td>\n",
       "      <td>1</td>\n",
       "      <td>0</td>\n",
       "      <td>1</td>\n",
       "      <td>14407</td>\n",
       "      <td>0.00000</td>\n",
       "      <td>0.000</td>\n",
       "      <td>28</td>\n",
       "      <td>1.0</td>\n",
       "      <td>0.000000</td>\n",
       "      <td>Moving</td>\n",
       "      <td>Silver</td>\n",
       "      <td>0</td>\n",
       "      <td>0.0</td>\n",
       "      <td>17</td>\n",
       "      <td>1</td>\n",
       "      <td>0.0</td>\n",
       "      <td>0</td>\n",
       "    </tr>\n",
       "    <tr>\n",
       "      <th>2</th>\n",
       "      <td>1</td>\n",
       "      <td>0</td>\n",
       "      <td>0</td>\n",
       "      <td>0</td>\n",
       "      <td>0</td>\n",
       "      <td>0</td>\n",
       "      <td>1</td>\n",
       "      <td>12712</td>\n",
       "      <td>204.66667</td>\n",
       "      <td>10393.667</td>\n",
       "      <td>23</td>\n",
       "      <td>17.6</td>\n",
       "      <td>0.000000</td>\n",
       "      <td>Billing Problem</td>\n",
       "      <td>Gold</td>\n",
       "      <td>0</td>\n",
       "      <td>0.0</td>\n",
       "      <td>23</td>\n",
       "      <td>1</td>\n",
       "      <td>0.0</td>\n",
       "      <td>1</td>\n",
       "    </tr>\n",
       "    <tr>\n",
       "      <th>3</th>\n",
       "      <td>1</td>\n",
       "      <td>0</td>\n",
       "      <td>0</td>\n",
       "      <td>0</td>\n",
       "      <td>0</td>\n",
       "      <td>0</td>\n",
       "      <td>0</td>\n",
       "      <td>13807</td>\n",
       "      <td>15490.33300</td>\n",
       "      <td>41256.332</td>\n",
       "      <td>39</td>\n",
       "      <td>0.0</td>\n",
       "      <td>0.148986</td>\n",
       "      <td>Billing Problem</td>\n",
       "      <td>Silver</td>\n",
       "      <td>0</td>\n",
       "      <td>0.0</td>\n",
       "      <td>17</td>\n",
       "      <td>1</td>\n",
       "      <td>0.0</td>\n",
       "      <td>0</td>\n",
       "    </tr>\n",
       "    <tr>\n",
       "      <th>4</th>\n",
       "      <td>1</td>\n",
       "      <td>0</td>\n",
       "      <td>0</td>\n",
       "      <td>0</td>\n",
       "      <td>0</td>\n",
       "      <td>0</td>\n",
       "      <td>0</td>\n",
       "      <td>3805</td>\n",
       "      <td>5075.00000</td>\n",
       "      <td>12333.333</td>\n",
       "      <td>23</td>\n",
       "      <td>3.8</td>\n",
       "      <td>-0.686046</td>\n",
       "      <td>Billing Problem</td>\n",
       "      <td>Gold</td>\n",
       "      <td>0</td>\n",
       "      <td>0.0</td>\n",
       "      <td>10</td>\n",
       "      <td>1</td>\n",
       "      <td>0.0</td>\n",
       "      <td>1</td>\n",
       "    </tr>\n",
       "  </tbody>\n",
       "</table>\n",
       "</div>"
      ],
      "text/plain": [
       "   Billing Problem  Call Quality  Check Account  Inaccurate Sales Inf  Moving  \\\n",
       "0                1             0              0                     0       0   \n",
       "1                0             0              0                     0       1   \n",
       "2                1             0              0                     0       0   \n",
       "3                1             0              0                     0       0   \n",
       "4                1             0              0                     0       0   \n",
       "\n",
       "   Pricing  churn  cur_bill_amt     avg_call  avg_call_wkday  acct_age  \\\n",
       "0        0      0         14210  17950.00000       30297.000        24   \n",
       "1        0      1         14407      0.00000           0.000        28   \n",
       "2        0      1         12712    204.66667       10393.667        23   \n",
       "3        0      0         13807  15490.33300       41256.332        39   \n",
       "4        0      0          3805   5075.00000       12333.333        23   \n",
       "\n",
       "   avg_day_delinquent  percent_MOM    complain_code acct_plan  \\\n",
       "0                 6.2    -0.334193  Billing Problem      Gold   \n",
       "1                 1.0     0.000000           Moving    Silver   \n",
       "2                17.6     0.000000  Billing Problem      Gold   \n",
       "3                 0.0     0.148986  Billing Problem    Silver   \n",
       "4                 3.8    -0.686046  Billing Problem      Gold   \n",
       "\n",
       "   tech_sup_complain  day_open_workorder  equipment_age  condition_handset  \\\n",
       "0                  0                 0.0              8                  1   \n",
       "1                  0                 0.0             17                  1   \n",
       "2                  0                 0.0             23                  1   \n",
       "3                  0                 0.0             17                  1   \n",
       "4                  0                 0.0             10                  1   \n",
       "\n",
       "   avg_hour_workorder_open  plan_gold  \n",
       "0                      0.0          1  \n",
       "1                      0.0          0  \n",
       "2                      0.0          1  \n",
       "3                      0.0          0  \n",
       "4                      0.0          1  "
      ]
     },
     "execution_count": 6,
     "metadata": {},
     "output_type": "execute_result"
    }
   ],
   "source": [
    "# Display all columns\n",
    "\n",
    "pd.set_option('display.max_columns', None)  # None(No limit) or value\n",
    "df.head()"
   ]
  },
  {
   "cell_type": "markdown",
   "metadata": {
    "id": "H15BsTDppJo1"
   },
   "source": [
    "- `pd.set_option('display.max_columns', None)` sets a display option in pandas to show all columns when displaying a DataFrame. By setting the maximum number of displayed columns to \"None,\" you ensure that pandas will display all columns in the DataFrame."
   ]
  },
  {
   "cell_type": "markdown",
   "metadata": {
    "id": "xpaG_KYOnE2A"
   },
   "source": [
    "### 3. Divide the data into 75% training and 25% test set (use random_state=10) and run the following logistic regression model on training data. Report coefficients including intercept.\n",
    "- churn = β0 + β1 avg_day_delinquent + β2 percent_MOM + β3 avg_call_wkday + β4 cur_bill_amt + β5 avg_call + β6 complain_code(as dummies) + β7 acct_age + ε"
   ]
  },
  {
   "cell_type": "code",
   "execution_count": 7,
   "metadata": {
    "id": "QfbqblLRnE2A"
   },
   "outputs": [],
   "source": [
    "# Define y, x\n",
    "\n",
    "y=df.churn\n",
    "x=df[['avg_day_delinquent', 'percent_MOM', 'avg_call_wkday',\n",
    "      'cur_bill_amt', 'avg_call', 'acct_age',\n",
    "      'Call Quality', 'Check Account', 'Inaccurate Sales Inf', 'Moving', 'Pricing']]\n",
    " # Billing Problem: omitted category of complaint_code"
   ]
  },
  {
   "cell_type": "markdown",
   "metadata": {
    "id": "fIqd7EkJpbMa"
   },
   "source": [
    "- `x = df[[...]]`: x is a DataFrame that includes a set of independent variables or features."
   ]
  },
  {
   "cell_type": "code",
   "execution_count": 8,
   "metadata": {
    "id": "cRj60q0MnE2A",
    "outputId": "49d468de-36ca-43fc-dade-8a33101de0b0"
   },
   "outputs": [
    {
     "data": {
      "text/plain": [
       "array([[ 1.22482496e-01, -9.14828400e-03, -4.33692206e-06,\n",
       "         1.70576634e-06,  4.89538113e-06, -5.92496660e-02,\n",
       "         4.22761145e-03, -1.06695274e-03,  9.62899546e-06,\n",
       "        -2.64671283e-03,  4.29331990e-06]])"
      ]
     },
     "execution_count": 8,
     "metadata": {},
     "output_type": "execute_result"
    }
   ],
   "source": [
    "# Divide x into training and test sets. Run logistic regression and obtain coefficients.\n",
    "\n",
    "xtrain, xtest, ytrain, ytest=train_test_split(x, y, random_state=10)\n",
    "m = LogisticRegression(random_state=10).fit(xtrain, ytrain)\n",
    "m.coef_"
   ]
  },
  {
   "cell_type": "markdown",
   "metadata": {
    "id": "vjPkeAw3p00l"
   },
   "source": [
    "- `train_test_split(x, y, random_state=10)`: This function is used to split your dataset into training and testing sets for machine learning.\n",
    "- `m = LogisticRegression(random_state=10).fit(xtrain, ytrain)`: This code creates a logistic regression model (m) and fits it to the training data.\n",
    "- `m.coef_`: This line retrieves the coefficients of the logistic regression model."
   ]
  },
  {
   "cell_type": "markdown",
   "metadata": {
    "id": "70VP5W4HnE2B"
   },
   "source": [
    "### 4. Report model accuracy, confusion matrix, precision, recall, and F1 score on test data."
   ]
  },
  {
   "cell_type": "code",
   "execution_count": 9,
   "metadata": {
    "id": "vVjBOysqnE2B",
    "outputId": "76c5704a-0fc6-4451-e9d6-29352e870f87"
   },
   "outputs": [
    {
     "name": "stdout",
     "output_type": "stream",
     "text": [
      "Accuracy 0.7183098591549296\n",
      "Precision 0.7304526748971193\n",
      "Recall 0.6774809160305344\n",
      "F1 Score 0.7029702970297029\n"
     ]
    }
   ],
   "source": [
    "# Predict y and obtain scores\n",
    "\n",
    "pred = m.predict(xtest)\n",
    "m.score(xtest, ytest)  # accuracy\n",
    "print('Accuracy', metrics.accuracy_score(ytest, pred))\n",
    "print('Precision', metrics.precision_score(ytest, pred))  # TP/P*\n",
    "print('Recall', metrics.recall_score(ytest, pred))  # TP/P\n",
    "print('F1 Score', metrics.f1_score(ytest, pred))"
   ]
  },
  {
   "cell_type": "markdown",
   "metadata": {
    "id": "Tue8F1xBSdlm"
   },
   "source": [
    "- `pred = m.predict(xtest)`: Make predictions using the model m on the test data xtest, and the predictions are stored in the variable pred.\n",
    "- `m.score(xtest, ytest)`: Calculates the accuracy of the model m on the test data. It computes the fraction of correctly classified instances. The xtest contains the input features, and ytest contains the true labels.\n",
    "- `metrics.accuracy_score(ytest, pred)`: Calculates the accuracy of the model using accuracy_score function. It compares the true labels ytest with the predicted labels pred and prints the accuracy.\n",
    "- `metrics.precision_score(ytest, pred)`: Calculates the precision of the model. Precision is a measure of how many of the positively predicted instances were actually positive.\n",
    "- `metrics.recall_score(ytest, pred)`: Calculates the recall of the model. Recall is a measure of how many of the actual positive instances were correctly predicted as positive.\n",
    "- `metrics.f1_score(ytest, pred)`: Calculates the F1 score of the model. The F1 score is the harmonic mean of precision and recall, providing a single metric that balances both."
   ]
  },
  {
   "cell_type": "code",
   "execution_count": 10,
   "metadata": {
    "id": "98WkdbsAnE2B",
    "outputId": "576f70a1-ee70-43be-98e9-8afa3bdadeb8"
   },
   "outputs": [
    {
     "name": "stdout",
     "output_type": "stream",
     "text": [
      "              precision    recall  f1-score   support\n",
      "\n",
      "           0       0.71      0.76      0.73       541\n",
      "           1       0.73      0.68      0.70       524\n",
      "\n",
      "    accuracy                           0.72      1065\n",
      "   macro avg       0.72      0.72      0.72      1065\n",
      "weighted avg       0.72      0.72      0.72      1065\n",
      "\n"
     ]
    }
   ],
   "source": [
    "# Obtain classification report\n",
    "\n",
    "print(classification_report(ytest, pred))"
   ]
  },
  {
   "cell_type": "markdown",
   "metadata": {
    "id": "vtNIBCruThwz"
   },
   "source": [
    "- `classification_report` function calculates several metrics, including precision, recall, F1-score, and support for each class."
   ]
  },
  {
   "cell_type": "code",
   "execution_count": 11,
   "metadata": {
    "id": "CK83LODMnE2B",
    "outputId": "35ed10d5-7307-4558-cb16-ad4a0ad777eb"
   },
   "outputs": [
    {
     "data": {
      "text/plain": [
       "array([[410, 131],\n",
       "       [169, 355]], dtype=int64)"
      ]
     },
     "execution_count": 11,
     "metadata": {},
     "output_type": "execute_result"
    }
   ],
   "source": [
    "# Obtain confusion matrix\n",
    "\n",
    "metrics.confusion_matrix(ytest, pred) "
   ]
  },
  {
   "cell_type": "markdown",
   "metadata": {
    "id": "nqWiKSEJTuLo"
   },
   "source": [
    "- `metrics.confusion_matrix(ytest, pred)` calculates the confusion matrix for a classification model's predictions. The confusion matrix is a table that summarizes the performance of a classification algorithm by counting the number of true positives (TP), true negatives (TN), false positives (FP), and false negatives (FN)."
   ]
  },
  {
   "cell_type": "markdown",
   "metadata": {
    "id": "HdYnpcmQnE2C"
   },
   "source": [
    "|             | Predicted 0 (P*) | Predicted 1 (N*) |\n",
    "|-------------|:----------------:|-----------------:|\n",
    "| Actual 0 (N)|        TN        |        FP        |\n",
    "| Actual 1 (P)|        FN        |        TP        |"
   ]
  },
  {
   "cell_type": "markdown",
   "metadata": {
    "id": "x8OzONrZnE2C"
   },
   "source": [
    "### 5. Draw ROC curve with AUC on test data."
   ]
  },
  {
   "cell_type": "code",
   "execution_count": 12,
   "metadata": {
    "id": "4C5hBuAVnE2C",
    "outputId": "696d1cf9-6e55-490e-ec6f-3a891398f17d"
   },
   "outputs": [
    {
     "data": {
      "text/plain": [
       "array([[0.41807412, 0.58192588],\n",
       "       [0.56472977, 0.43527023],\n",
       "       [0.69473617, 0.30526383],\n",
       "       ...,\n",
       "       [0.72182918, 0.27817082],\n",
       "       [0.81850493, 0.18149507],\n",
       "       [0.70998987, 0.29001013]])"
      ]
     },
     "execution_count": 12,
     "metadata": {},
     "output_type": "execute_result"
    }
   ],
   "source": [
    "# Predict probabilities on test data\n",
    "\n",
    "prob = m.predict_proba(xtest)\n",
    "prob  # column 1,2: prob of negative and positive class"
   ]
  },
  {
   "cell_type": "markdown",
   "metadata": {
    "id": "x3iGeY2FU_JA"
   },
   "source": [
    "- `prob = m.predict_proba(xtest)` Used to obtain the predicted probabilities for each class for the instances in the test dataset.\n",
    "    - `m` is trained classification model.\n",
    "    - `xtest` is the test dataset containing input features for which you want to make predictions.\n",
    "    - `predict_proba` returns a matrix or array where each row corresponds to an instance in the xtest dataset, and each column corresponds to a class label."
   ]
  },
  {
   "cell_type": "code",
   "execution_count": 13,
   "metadata": {
    "id": "HC0MRLTwnE2C",
    "outputId": "9834be7e-3d2e-476c-83a1-e6f044e5baa1"
   },
   "outputs": [
    {
     "name": "stdout",
     "output_type": "stream",
     "text": [
      "Out-Sample AUC: 0.7823\n"
     ]
    }
   ],
   "source": [
    "# Obtain predictions for positive class, fpr, tpr, decisin threshold, AUC\n",
    "\n",
    "prob = m.predict_proba(xtest)[:, 1]  # all rows, 2nd column\n",
    "fpr, tpr, threshold = roc_curve(ytest, prob)\n",
    " # roc_curve takes observed labels and predicted prob, then returns fpr,tpr,thresholds for each tpr&fpr\n",
    "\n",
    "roc_auc = auc(fpr, tpr)\n",
    "print('Out-Sample AUC: %0.4f' % roc_auc)  # '%0.4f' %: display 4 digit after decimal"
   ]
  },
  {
   "cell_type": "markdown",
   "metadata": {
    "id": "G4YE5GZfVnkv"
   },
   "source": [
    "- `prob = m.predict_proba(xtest)[:, 1]`: Extracts the predicted probabilities for the positive class (class 1) from the predict_proba output.\n",
    "- `fpr, tpr, threshold = roc_curve(ytest, prob)`: Calculates the False Positive Rate (FPR), True Positive Rate (TPR), and the threshold values for various cutoff points.\n",
    "- `roc_auc = auc(fpr, tpr)`: Calculates the Area Under the ROC Curve (AUC). The AUC is a single scalar value that represents the overall performance of the binary classification model.\n",
    "- `print('Out-Sample AUC: %0.4f' % roc_auc)`: This line prints the AUC with four decimal places.\n",
    "    - '%0.4f' % displays the AUC value with four digits after the decimal point."
   ]
  },
  {
   "cell_type": "code",
   "execution_count": 14,
   "metadata": {
    "id": "CKb4NklxnE2D",
    "outputId": "68fe1e36-a3ad-4770-cafb-5ec9f6b0d543"
   },
   "outputs": [
    {
     "data": {
      "text/plain": [
       "<matplotlib.legend.Legend at 0x1ed9289f400>"
      ]
     },
     "execution_count": 14,
     "metadata": {},
     "output_type": "execute_result"
    },
    {
     "data": {
      "image/png": "[encoded data removed]",
      "text/plain": [
       "<Figure size 432x288 with 1 Axes>"
      ]
     },
     "metadata": {
      "needs_background": "light"
     },
     "output_type": "display_data"
    }
   ],
   "source": [
    "# Disply ROC curve\n",
    "\n",
    "plt.plot(fpr, tpr, label='AUC = %0.3f)' % roc_auc)\n",
    "plt.plot([0, 1], [0, 1]) # straight line\n",
    "plt.grid()\n",
    "plt.xlabel('False Positive Rate')\n",
    "plt.ylabel('True Positive Rate')\n",
    "plt.legend(loc=\"lower right\")\n",
    "# plt.figure(figsize=(10,7)) # enlarge size\n",
    "# plt.title('ROC Curve')"
   ]
  },
  {
   "cell_type": "markdown",
   "metadata": {
    "id": "UPwdFrhHWEUG"
   },
   "source": [
    "- `plt.plot(fpr, tpr, label='AUC = %0.3f)' % roc_auc)`: Creates a plot of the ROC curve using fpr (False Positive Rate) on the x-axis and tpr (True Positive Rate) on the y-axis.\n",
    "- `plt.plot([0, 1], [0, 1])`: Adds a straight line to the plot. The straight line represents the ROC curve of a random classifier (no discrimination power), which serves as a reference line.\n",
    "- `plt.grid()`: This line adds a grid to the plot, making it easier to read and interpret the graph.\n",
    "- `plt.xlabel('False Positive Rate')`: This line labels the x-axis as \"False Positive Rate.\"\n",
    "- `plt.ylabel('True Positive Rate')`: This line labels the y-axis as \"True Positive Rate.\"\n",
    "- `plt.legend(loc=\"lower right\")`: This line adds a legend to the plot, and it specifies that the legend should appear in the lower right corner of the plot."
   ]
  },
  {
   "cell_type": "markdown",
   "metadata": {
    "id": "6QrBJXaGnE2D"
   },
   "source": [
    "### 6. What is the optimal decision threshold (probability) that maximizes (TPR-FPR)?"
   ]
  },
  {
   "cell_type": "code",
   "execution_count": 15,
   "metadata": {
    "id": "FDR58_A8nE2D",
    "outputId": "4bd67cb7-65fb-4d3e-8ec1-6d6c57a5a67d"
   },
   "outputs": [
    {
     "data": {
      "text/plain": [
       "0.4545694877159777"
      ]
     },
     "execution_count": 15,
     "metadata": {},
     "output_type": "execute_result"
    }
   ],
   "source": [
    "# Obtain the optimal decision threshold \n",
    "\n",
    "best_thresh = threshold[np.argmax(tpr-fpr)]\n",
    " # np.argmax returns the index of the maximum value\n",
    "best_thresh"
   ]
  },
  {
   "cell_type": "markdown",
   "metadata": {
    "id": "NGHRfyvcWndU"
   },
   "source": [
    "- `np.argmax(tpr - fpr)` calculates the index of the threshold where the difference between TPR and FPR is maximized.\n",
    "- `threshold[np.argmax(tpr - fpr)]` retrieves the threshold value corresponding to the index found in the previous step."
   ]
  },
  {
   "cell_type": "code",
   "execution_count": 16,
   "metadata": {
    "id": "Js4hff9unE2D",
    "outputId": "a52b821f-8dfb-4ca2-94cb-87fabc1821fe"
   },
   "outputs": [
    {
     "name": "stdout",
     "output_type": "stream",
     "text": [
      "0.4540714819884014\n"
     ]
    },
    {
     "data": {
      "text/plain": [
       "213"
      ]
     },
     "execution_count": 16,
     "metadata": {},
     "output_type": "execute_result"
    }
   ],
   "source": [
    "print(max(tpr-fpr))  # maximum of (TPR-FPR)\n",
    "np.argmax(tpr-fpr)  # Index of maximum of (TPR-FPR)"
   ]
  },
  {
   "cell_type": "markdown",
   "metadata": {
    "id": "cHSIY1bsnE2D"
   },
   "source": [
    "### 7. Report model accuracy, confusion matrix, precision, recall, and F1 score on test data using the optimal threshold. Discuss differences in results based on the two thresholds (default and optimal)."
   ]
  },
  {
   "cell_type": "code",
   "execution_count": 17,
   "metadata": {
    "id": "MouNHYaTnE2D",
    "outputId": "57162802-507f-4ce6-896e-ff48d3770a13"
   },
   "outputs": [
    {
     "name": "stdout",
     "output_type": "stream",
     "text": [
      "Accuracy 0.7267605633802817\n",
      "Precision 0.7129798903107861\n",
      "Recall 0.7442748091603053\n",
      "F1 Score 0.7282913165266106\n"
     ]
    }
   ],
   "source": [
    "# Predict y using the optimal threshold and obtain scores\n",
    "\n",
    "pred1 = (prob >= best_thresh).astype('int')  # convert Boolean to integer\n",
    "print('Accuracy',  metrics.accuracy_score(ytest, pred1))\n",
    "print('Precision', metrics.precision_score(ytest, pred1))\n",
    "print('Recall',    metrics.recall_score(ytest, pred1))\n",
    "print('F1 Score',  metrics.f1_score(ytest, pred1))"
   ]
  },
  {
   "cell_type": "markdown",
   "metadata": {
    "id": "_V-ktsvpW5oT"
   },
   "source": [
    "- `pred1 = (prob >= best_thresh).astype('int')` is creating binary class predictions based on the calculated threshold value best_thresh.\n",
    "    - `(prob >= best_thresh)` creates a Boolean array that compares each element of prob to best_thresh. If the probability is greater than or equal to the threshold, it evaluates to True, indicating a positive prediction. If it's below the threshold, it evaluates to False, indicating a negative prediction.\n",
    "    - `astype('int')` converts the Boolean values to integers, where True becomes 1 and False becomes 0. "
   ]
  },
  {
   "cell_type": "code",
   "execution_count": 18,
   "metadata": {
    "id": "M4Eqi5Z4nE2D",
    "outputId": "15832722-4796-41a1-df30-daca206a4629"
   },
   "outputs": [
    {
     "data": {
      "text/plain": [
       "array([[384, 157],\n",
       "       [134, 390]], dtype=int64)"
      ]
     },
     "execution_count": 18,
     "metadata": {},
     "output_type": "execute_result"
    }
   ],
   "source": [
    "# Obtain confusion matrix\n",
    "\n",
    "metrics.confusion_matrix(ytest, pred1)"
   ]
  },
  {
   "cell_type": "markdown",
   "metadata": {},
   "source": []
  },
  {
   "cell_type": "code",
   "execution_count": 19,
   "metadata": {
    "id": "oBbYRVzRnE2C",
    "outputId": "1981c800-485d-4129-9e4c-40071f265464"
   },
   "outputs": [
    {
     "data": {
      "text/plain": [
       "Text(0.5, 15.0, 'Predicted')"
      ]
     },
     "execution_count": 19,
     "metadata": {},
     "output_type": "execute_result"
    },
    {
     "data": {
      "image/png": "[encoded data removed]",
      "text/plain": [
       "<Figure size 432x288 with 2 Axes>"
      ]
     },
     "metadata": {
      "needs_background": "light"
     },
     "output_type": "display_data"
    }
   ],
   "source": [
    "# Confusion matrix heatmap\n",
    "\n",
    "sns.heatmap(pd.DataFrame(metrics.confusion_matrix(ytest, pred)), annot=True, cmap=\"YlGnBu\", fmt='9.0f')\n",
    " # annot: number in cell, cmap: color, fmt=9.0f: no decimal point\n",
    "plt.title('Confusion Matrix')\n",
    "plt.ylabel('Actual')\n",
    "plt.xlabel('Predicted')"
   ]
  },
  {
   "cell_type": "markdown",
   "metadata": {
    "id": "d3m-GA9jT9ej"
   },
   "source": [
    "- `sns.heatmap(pd.DataFrame(metrics.confusion_matrix(ytest, pred)), annot=True, cmap=\"YlGnBu\", fmt='9.0f')`: Creates a heatmap using seaborn. It takes the confusion matrix calculated by metrics.confusion_matrix(ytest, pred), converts it into a Pandas DataFrame, and then uses sns.heatmap to display it as a color-coded matrix.\n",
    "    - `annot=True` specifies that the numerical values should be displayed in each cell.\n",
    "    - `cmap=\"YlGnBu\"` sets the color map to yellow-green-blue.\n",
    "    - `fmt='9.0f'` formats the numbers with no decimal points.\n",
    "- `plt.title('Confusion Matrix')`: Sets the title of the heatmap plot to \"Confusion Matrix.\"\n",
    "- `plt.ylabel('Actual')`: Labels the y-axis with \"Actual\".\n",
    "- `plt.xlabel('Predicted')`: Labels the x-axis with \"Predicted\"."
   ]
  },
  {
   "cell_type": "code",
   "execution_count": null,
   "metadata": {},
   "outputs": [],
   "source": []
  }
 ],
 "metadata": {
  "colab": {
   "provenance": []
  },
  "kernelspec": {
   "display_name": "Python 3 (ipykernel)",
   "language": "python",
   "name": "python3"
  },
  "language_info": {
   "codemirror_mode": {
    "name": "ipython",
    "version": 3
   },
   "file_extension": ".py",
   "mimetype": "text/x-python",
   "name": "python",
   "nbconvert_exporter": "python",
   "pygments_lexer": "ipython3",
   "version": "3.11.4"
  }
 },
 "nbformat": 4,
 "nbformat_minor": 4
}
