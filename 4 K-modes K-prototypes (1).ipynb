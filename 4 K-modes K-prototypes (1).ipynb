{
 "cells": [
  {
   "cell_type": "markdown",
   "id": "7cb2b7d9-1f7a-4a31-b1b0-b9a9c15c898e",
   "metadata": {
    "id": "7cb2b7d9-1f7a-4a31-b1b0-b9a9c15c898e"
   },
   "source": [
    "# K-modes clustering for categorical variables only"
   ]
  },
  {
   "cell_type": "markdown",
   "id": "acfededa-a6eb-456c-a806-a63fde08beee",
   "metadata": {
    "id": "acfededa-a6eb-456c-a806-a63fde08beee"
   },
   "source": [
    "### Install kmodes"
   ]
  },
  {
   "cell_type": "code",
   "execution_count": 1,
   "id": "65a88628-5d96-4b87-82a6-03cf61e15115",
   "metadata": {
    "id": "65a88628-5d96-4b87-82a6-03cf61e15115"
   },
   "outputs": [],
   "source": [
    "# pip install kmodes"
   ]
  },
  {
   "cell_type": "code",
   "execution_count": 2,
   "id": "e036d0a2-1016-4e05-b27b-acfe8d113a09",
   "metadata": {
    "id": "e036d0a2-1016-4e05-b27b-acfe8d113a09"
   },
   "outputs": [],
   "source": [
    "import numpy as np\n",
    "import pandas as pd\n",
    "from kmodes.kmodes import KModes\n",
    "from kmodes.kprototypes import KPrototypes"
   ]
  },
  {
   "cell_type": "markdown",
   "id": "e9233bcb-53bd-49a9-95c9-cca2b760bed2",
   "metadata": {
    "id": "e9233bcb-53bd-49a9-95c9-cca2b760bed2"
   },
   "source": [
    "### 1. Use 'Telecom customer.csv'. Save catergorical variables"
   ]
  },
  {
   "cell_type": "code",
   "execution_count": 3,
   "id": "194327c8-5f2a-483c-932f-887e8dce1ea9",
   "metadata": {
    "id": "194327c8-5f2a-483c-932f-887e8dce1ea9",
    "outputId": "92fa433a-0bc7-4c66-c280-4a1d17800298",
    "tags": []
   },
   "outputs": [
    {
     "data": {
      "text/html": [
       "<div>\n",
       "<style scoped>\n",
       "    .dataframe tbody tr th:only-of-type {\n",
       "        vertical-align: middle;\n",
       "    }\n",
       "\n",
       "    .dataframe tbody tr th {\n",
       "        vertical-align: top;\n",
       "    }\n",
       "\n",
       "    .dataframe thead th {\n",
       "        text-align: right;\n",
       "    }\n",
       "</style>\n",
       "<table border=\"1\" class=\"dataframe\">\n",
       "  <thead>\n",
       "    <tr style=\"text-align: right;\">\n",
       "      <th></th>\n",
       "      <th>tenure</th>\n",
       "      <th>age</th>\n",
       "      <th>income</th>\n",
       "      <th>ed</th>\n",
       "      <th>marital</th>\n",
       "      <th>retire</th>\n",
       "      <th>gender</th>\n",
       "    </tr>\n",
       "  </thead>\n",
       "  <tbody>\n",
       "    <tr>\n",
       "      <th>0</th>\n",
       "      <td>13</td>\n",
       "      <td>44</td>\n",
       "      <td>64</td>\n",
       "      <td>4</td>\n",
       "      <td>1</td>\n",
       "      <td>0</td>\n",
       "      <td>0</td>\n",
       "    </tr>\n",
       "    <tr>\n",
       "      <th>1</th>\n",
       "      <td>11</td>\n",
       "      <td>33</td>\n",
       "      <td>136</td>\n",
       "      <td>5</td>\n",
       "      <td>1</td>\n",
       "      <td>0</td>\n",
       "      <td>0</td>\n",
       "    </tr>\n",
       "    <tr>\n",
       "      <th>2</th>\n",
       "      <td>68</td>\n",
       "      <td>52</td>\n",
       "      <td>116</td>\n",
       "      <td>1</td>\n",
       "      <td>1</td>\n",
       "      <td>0</td>\n",
       "      <td>1</td>\n",
       "    </tr>\n",
       "    <tr>\n",
       "      <th>3</th>\n",
       "      <td>33</td>\n",
       "      <td>33</td>\n",
       "      <td>33</td>\n",
       "      <td>2</td>\n",
       "      <td>0</td>\n",
       "      <td>0</td>\n",
       "      <td>1</td>\n",
       "    </tr>\n",
       "    <tr>\n",
       "      <th>4</th>\n",
       "      <td>23</td>\n",
       "      <td>30</td>\n",
       "      <td>30</td>\n",
       "      <td>1</td>\n",
       "      <td>1</td>\n",
       "      <td>0</td>\n",
       "      <td>0</td>\n",
       "    </tr>\n",
       "  </tbody>\n",
       "</table>\n",
       "</div>"
      ],
      "text/plain": [
       "   tenure  age  income  ed  marital  retire  gender\n",
       "0      13   44      64   4        1       0       0\n",
       "1      11   33     136   5        1       0       0\n",
       "2      68   52     116   1        1       0       1\n",
       "3      33   33      33   2        0       0       1\n",
       "4      23   30      30   1        1       0       0"
      ]
     },
     "execution_count": 3,
     "metadata": {},
     "output_type": "execute_result"
    }
   ],
   "source": [
    "df = pd.read_csv('Telecom customer.csv')\n",
    "df.head()"
   ]
  },
  {
   "cell_type": "code",
   "execution_count": 4,
   "id": "a6651991-c560-4275-8ab7-aab5f99f4633",
   "metadata": {
    "id": "a6651991-c560-4275-8ab7-aab5f99f4633",
    "outputId": "a5b809b6-6893-4c14-87a2-37d7abf4036d"
   },
   "outputs": [
    {
     "data": {
      "text/html": [
       "<div>\n",
       "<style scoped>\n",
       "    .dataframe tbody tr th:only-of-type {\n",
       "        vertical-align: middle;\n",
       "    }\n",
       "\n",
       "    .dataframe tbody tr th {\n",
       "        vertical-align: top;\n",
       "    }\n",
       "\n",
       "    .dataframe thead th {\n",
       "        text-align: right;\n",
       "    }\n",
       "</style>\n",
       "<table border=\"1\" class=\"dataframe\">\n",
       "  <thead>\n",
       "    <tr style=\"text-align: right;\">\n",
       "      <th></th>\n",
       "      <th>marital</th>\n",
       "      <th>retire</th>\n",
       "      <th>gender</th>\n",
       "    </tr>\n",
       "  </thead>\n",
       "  <tbody>\n",
       "    <tr>\n",
       "      <th>0</th>\n",
       "      <td>1</td>\n",
       "      <td>0</td>\n",
       "      <td>0</td>\n",
       "    </tr>\n",
       "    <tr>\n",
       "      <th>1</th>\n",
       "      <td>1</td>\n",
       "      <td>0</td>\n",
       "      <td>0</td>\n",
       "    </tr>\n",
       "    <tr>\n",
       "      <th>2</th>\n",
       "      <td>1</td>\n",
       "      <td>0</td>\n",
       "      <td>1</td>\n",
       "    </tr>\n",
       "    <tr>\n",
       "      <th>3</th>\n",
       "      <td>0</td>\n",
       "      <td>0</td>\n",
       "      <td>1</td>\n",
       "    </tr>\n",
       "    <tr>\n",
       "      <th>4</th>\n",
       "      <td>1</td>\n",
       "      <td>0</td>\n",
       "      <td>0</td>\n",
       "    </tr>\n",
       "  </tbody>\n",
       "</table>\n",
       "</div>"
      ],
      "text/plain": [
       "   marital  retire  gender\n",
       "0        1       0       0\n",
       "1        1       0       0\n",
       "2        1       0       1\n",
       "3        0       0       1\n",
       "4        1       0       0"
      ]
     },
     "execution_count": 4,
     "metadata": {},
     "output_type": "execute_result"
    }
   ],
   "source": [
    "df_cat=df.iloc[:, 4:7]  # all rows and column 4~6\n",
    "df_cat.head()"
   ]
  },
  {
   "cell_type": "markdown",
   "id": "CagB98svEKi6",
   "metadata": {
    "id": "CagB98svEKi6"
   },
   "source": [
    "- `df.iloc[:, 4:7]`: selects specific rows and columns by their integer index.\n",
    "    - `:` specifies all rows.\n",
    "    - `4:7` specifies indices 4, 5, and 6 (i.e., the 5th, 6th, and 7th columns). The range is inclusive of the start index and exclusive of the stop index.\n",
    "- `df_cat` : assigns the subset of the original DataFrame obtained with iloc to a new variable called df_cat."
   ]
  },
  {
   "cell_type": "markdown",
   "id": "d992c543-fca4-4424-bcef-881a48c377ee",
   "metadata": {
    "id": "d992c543-fca4-4424-bcef-881a48c377ee"
   },
   "source": [
    "### 2. Conduct K-modes clustering using categorical variables"
   ]
  },
  {
   "cell_type": "code",
   "execution_count": 5,
   "id": "73e9ce92-1ebd-4530-930a-fb7516f45fd4",
   "metadata": {
    "id": "73e9ce92-1ebd-4530-930a-fb7516f45fd4",
    "outputId": "2a7a5b97-67cd-4afe-ddfc-67072b14d00e",
    "tags": []
   },
   "outputs": [
    {
     "name": "stdout",
     "output_type": "stream",
     "text": [
      "Init: initializing centroids\n",
      "Init: initializing clusters\n",
      "Starting iterations...\n",
      "Run 1, iteration: 1/100, moves: 250, cost: 47.0\n",
      "Run 1, iteration: 2/100, moves: 1, cost: 47.0\n",
      "Init: initializing centroids\n",
      "Init: initializing clusters\n",
      "Starting iterations...\n",
      "Run 2, iteration: 1/100, moves: 259, cost: 47.0\n",
      "Run 2, iteration: 2/100, moves: 2, cost: 47.0\n",
      "Init: initializing centroids\n",
      "Init: initializing clusters\n",
      "Starting iterations...\n",
      "Run 3, iteration: 1/100, moves: 15, cost: 261.0\n",
      "Init: initializing centroids\n",
      "Init: initializing clusters\n",
      "Starting iterations...\n",
      "Run 4, iteration: 1/100, moves: 0, cost: 274.0\n",
      "Init: initializing centroids\n",
      "Init: initializing clusters\n",
      "Starting iterations...\n",
      "Run 5, iteration: 1/100, moves: 0, cost: 507.0\n",
      "Best run was number 1\n"
     ]
    }
   ],
   "source": [
    "m = KModes(n_clusters=4, init='Huang', n_init=5, verbose=1)\n",
    "cls = m.fit_predict(df_cat)"
   ]
  },
  {
   "cell_type": "markdown",
   "id": "Jnu2ZrdEEmj_",
   "metadata": {
    "id": "Jnu2ZrdEEmj_"
   },
   "source": [
    "- `KModes(n_clusters=4, init='Huang', n_init=5, verbose=1)`: This initializes a k-modes clustering model\n",
    "    - `n_clusters=4` specifies that the algorithm should form four clusters.\n",
    "    - `init='Huang'` sets the initialization method to 'Huang', which is often more efficient for categorical data than random initialization.\n",
    "    - `n_init=5` indicates that the k-modes algorithm will run five times with different centroid seeds, and the best run in terms of cost (error) will be chosen.\n",
    "    - `verbose=1` will output logs about the clustering process (useful for debugging or understanding the process).\n",
    "- `cls = m.fit_predict(df_cat)`: fits the model using the categorical features stored in df_cat and assigns each data point to one of the four clusters.\n",
    "    - `cls`: stores the cluster labels for each data point"
   ]
  },
  {
   "cell_type": "code",
   "execution_count": 6,
   "id": "0ca811b7-f4ba-4d46-987e-7ac2410d9280",
   "metadata": {
    "id": "0ca811b7-f4ba-4d46-987e-7ac2410d9280",
    "outputId": "22cb146a-9878-4d81-c09e-578d95720397"
   },
   "outputs": [
    {
     "data": {
      "text/plain": [
       "array([[1, 0, 0],\n",
       "       [0, 0, 1],\n",
       "       [1, 0, 1],\n",
       "       [0, 0, 0]], dtype=int64)"
      ]
     },
     "execution_count": 6,
     "metadata": {},
     "output_type": "execute_result"
    }
   ],
   "source": [
    "m.cluster_centroids_ "
   ]
  },
  {
   "cell_type": "markdown",
   "id": "Eiky6DYGFf24",
   "metadata": {
    "id": "Eiky6DYGFf24"
   },
   "source": [
    "- `m.cluster_centroids_`: This attribute of the fitted k-modes model m contains the centroids of the formed clusters. Each centroid is represented by the point in the feature space that corresponds to the average (mode) of all points in that cluster.\n",
    "    - [n_clusters, n_features]=(4,3)"
   ]
  },
  {
   "cell_type": "code",
   "execution_count": 7,
   "id": "b8ac4c19-97e3-4247-956b-e41a73f93657",
   "metadata": {
    "id": "b8ac4c19-97e3-4247-956b-e41a73f93657",
    "outputId": "9f1542a4-a1ab-46f6-c264-132f119e7f1f"
   },
   "outputs": [
    {
     "data": {
      "text/plain": [
       "47.0"
      ]
     },
     "execution_count": 7,
     "metadata": {},
     "output_type": "execute_result"
    }
   ],
   "source": [
    "m.cost_"
   ]
  },
  {
   "cell_type": "markdown",
   "id": "lHdjDfuaF0xJ",
   "metadata": {
    "id": "lHdjDfuaF0xJ"
   },
   "source": [
    "- `m.cost_`: This attribute of the fitted k-modes model m represents the cost, or clustering error, of the final clustering solution. The cost is computed as the sum of the dissimilarities (distance) between each sample and its corresponding cluster mode (centroid)."
   ]
  },
  {
   "cell_type": "markdown",
   "id": "489604ec-d28b-41df-abc9-192201f5c237",
   "metadata": {
    "id": "489604ec-d28b-41df-abc9-192201f5c237"
   },
   "source": [
    "# K-prototypes clustering for mixed categorical and numerical variables"
   ]
  },
  {
   "cell_type": "markdown",
   "id": "5739243a-c314-4c66-9a84-89c50d179f3e",
   "metadata": {
    "id": "5739243a-c314-4c66-9a84-89c50d179f3e"
   },
   "source": [
    "### 1. Use 'Telecom customer.csv'. Save the variables as array"
   ]
  },
  {
   "cell_type": "code",
   "execution_count": 8,
   "id": "d53b4055-ee6b-4dd3-9bc0-00d753d263cc",
   "metadata": {
    "id": "d53b4055-ee6b-4dd3-9bc0-00d753d263cc",
    "outputId": "0c49a9ee-4c03-4a19-e260-8c2006acb7a7"
   },
   "outputs": [
    {
     "data": {
      "text/plain": [
       "array([[ 13,  44,  64, ...,   1,   0,   0],\n",
       "       [ 11,  33, 136, ...,   1,   0,   0],\n",
       "       [ 68,  52, 116, ...,   1,   0,   1],\n",
       "       ...,\n",
       "       [ 67,  59, 944, ...,   0,   0,   1],\n",
       "       [ 70,  49,  87, ...,   0,   0,   1],\n",
       "       [ 50,  36,  39, ...,   1,   0,   1]], dtype=int64)"
      ]
     },
     "execution_count": 8,
     "metadata": {},
     "output_type": "execute_result"
    }
   ],
   "source": [
    "df = pd.read_csv('Telecom customer.csv')\n",
    "array = df.values  # save df as array\n",
    "array"
   ]
  },
  {
   "cell_type": "markdown",
   "id": "u7G16ywEGR41",
   "metadata": {
    "id": "u7G16ywEGR41"
   },
   "source": [
    "- `array = df.values`: converts the DataFrame into a NumPy array. \n",
    "- list vs. array: List can contains different data types. Array can contains same data types"
   ]
  },
  {
   "cell_type": "markdown",
   "id": "96b7c5a9-eb88-4518-9254-042cb353d323",
   "metadata": {
    "id": "96b7c5a9-eb88-4518-9254-042cb353d323"
   },
   "source": [
    "### 2. Conduct K-protopypes clustering using all variables."
   ]
  },
  {
   "cell_type": "code",
   "execution_count": 9,
   "id": "6e92328a-ab37-44b4-ba8d-bb821e531696",
   "metadata": {
    "collapsed": true,
    "id": "6e92328a-ab37-44b4-ba8d-bb821e531696",
    "jupyter": {
     "outputs_hidden": true
    },
    "outputId": "8f534107-9f4b-461f-b69d-f2e8b3573f25",
    "tags": []
   },
   "outputs": [
    {
     "name": "stdout",
     "output_type": "stream",
     "text": [
      "Initialization method and algorithm are deterministic. Setting n_init to 1.\n",
      "Init: initializing centroids\n",
      "Init: initializing clusters\n",
      "Init: initializing centroids\n",
      "Init: initializing clusters\n",
      "Starting iterations...\n",
      "Run: 1, iteration: 1/20, moves: 340, ncost: 4888551.028927475\n",
      "Run: 1, iteration: 2/20, moves: 181, ncost: 4261412.963537759\n",
      "Run: 1, iteration: 3/20, moves: 83, ncost: 3885359.237057534\n",
      "Run: 1, iteration: 4/20, moves: 62, ncost: 3411778.3459221586\n",
      "Run: 1, iteration: 5/20, moves: 47, ncost: 3166533.178054045\n",
      "Run: 1, iteration: 6/20, moves: 26, ncost: 3108234.590019671\n",
      "Run: 1, iteration: 7/20, moves: 8, ncost: 3103262.0649726517\n",
      "Run: 1, iteration: 8/20, moves: 3, ncost: 3102772.5364551214\n",
      "Run: 1, iteration: 9/20, moves: 0, ncost: 3102772.5364551214\n",
      "Init: initializing centroids\n",
      "Init: initializing clusters\n",
      "Init: initializing centroids\n",
      "Init: initializing clusters\n",
      "Starting iterations...\n",
      "Run: 2, iteration: 1/20, moves: 274, ncost: 4771469.52510799\n",
      "Run: 2, iteration: 2/20, moves: 140, ncost: 4175099.254117656\n",
      "Run: 2, iteration: 3/20, moves: 79, ncost: 3869199.5525766304\n",
      "Run: 2, iteration: 4/20, moves: 59, ncost: 3399516.8796307114\n",
      "Run: 2, iteration: 5/20, moves: 43, ncost: 3161659.9599691816\n",
      "Run: 2, iteration: 6/20, moves: 24, ncost: 3108234.590019671\n",
      "Run: 2, iteration: 7/20, moves: 8, ncost: 3103262.0649726517\n",
      "Run: 2, iteration: 8/20, moves: 3, ncost: 3102772.5364551214\n",
      "Run: 2, iteration: 9/20, moves: 0, ncost: 3102772.5364551214\n",
      "Init: initializing centroids\n",
      "Init: initializing clusters\n",
      "Starting iterations...\n",
      "Run: 3, iteration: 1/20, moves: 106, ncost: 4200762.423801245\n",
      "Run: 3, iteration: 2/20, moves: 40, ncost: 3799642.8639760637\n",
      "Run: 3, iteration: 3/20, moves: 29, ncost: 3318332.497028206\n",
      "Run: 3, iteration: 4/20, moves: 34, ncost: 3141029.29193511\n",
      "Run: 3, iteration: 5/20, moves: 20, ncost: 3103564.896829472\n",
      "Run: 3, iteration: 6/20, moves: 4, ncost: 3102772.5364551214\n",
      "Run: 3, iteration: 7/20, moves: 0, ncost: 3102772.5364551214\n",
      "Init: initializing centroids\n",
      "Init: initializing clusters\n",
      "Starting iterations...\n",
      "Run: 4, iteration: 1/20, moves: 82, ncost: 3765778.7875581253\n",
      "Run: 4, iteration: 2/20, moves: 24, ncost: 3289959.285348841\n",
      "Run: 4, iteration: 3/20, moves: 27, ncost: 3131629.3876015507\n",
      "Run: 4, iteration: 4/20, moves: 14, ncost: 3103564.896829472\n",
      "Run: 4, iteration: 5/20, moves: 4, ncost: 3102772.5364551214\n",
      "Run: 4, iteration: 6/20, moves: 0, ncost: 3102772.5364551214\n",
      "Init: initializing centroids\n",
      "Init: initializing clusters\n",
      "Init: initializing centroids\n",
      "Init: initializing clusters\n",
      "Starting iterations...\n",
      "Run: 5, iteration: 1/20, moves: 50, ncost: 3937703.0110902004\n",
      "Run: 5, iteration: 2/20, moves: 30, ncost: 3601505.1922267517\n",
      "Run: 5, iteration: 3/20, moves: 35, ncost: 3310113.303849507\n",
      "Run: 5, iteration: 4/20, moves: 34, ncost: 3134440.986474947\n",
      "Run: 5, iteration: 5/20, moves: 16, ncost: 3103564.896829472\n",
      "Run: 5, iteration: 6/20, moves: 4, ncost: 3102772.5364551214\n",
      "Run: 5, iteration: 7/20, moves: 0, ncost: 3102772.5364551214\n",
      "Init: initializing centroids\n",
      "Init: initializing clusters\n",
      "Starting iterations...\n",
      "Run: 6, iteration: 1/20, moves: 300, ncost: 6316907.247681994\n",
      "Run: 6, iteration: 2/20, moves: 198, ncost: 5320727.028699019\n",
      "Run: 6, iteration: 3/20, moves: 143, ncost: 4504804.63860166\n",
      "Run: 6, iteration: 4/20, moves: 84, ncost: 3964158.7045446495\n",
      "Run: 6, iteration: 5/20, moves: 64, ncost: 3624135.424694955\n",
      "Run: 6, iteration: 6/20, moves: 42, ncost: 3324877.362637448\n",
      "Run: 6, iteration: 7/20, moves: 37, ncost: 3141029.29193511\n",
      "Run: 6, iteration: 8/20, moves: 20, ncost: 3103564.896829472\n",
      "Run: 6, iteration: 9/20, moves: 4, ncost: 3102772.5364551214\n",
      "Run: 6, iteration: 10/20, moves: 0, ncost: 3102772.5364551214\n",
      "Init: initializing centroids\n",
      "Init: initializing clusters\n",
      "Starting iterations...\n",
      "Run: 7, iteration: 1/20, moves: 81, ncost: 3934996.30671731\n",
      "Run: 7, iteration: 2/20, moves: 17, ncost: 3620482.3642607285\n",
      "Run: 7, iteration: 3/20, moves: 34, ncost: 3292379.451335641\n",
      "Run: 7, iteration: 4/20, moves: 28, ncost: 3131629.3876015507\n",
      "Run: 7, iteration: 5/20, moves: 14, ncost: 3103564.896829472\n",
      "Run: 7, iteration: 6/20, moves: 4, ncost: 3102772.5364551214\n",
      "Run: 7, iteration: 7/20, moves: 0, ncost: 3102772.5364551214\n",
      "Init: initializing centroids\n",
      "Init: initializing clusters\n",
      "Starting iterations...\n",
      "Run: 8, iteration: 1/20, moves: 509, ncost: 7482099.84238133\n",
      "Run: 8, iteration: 2/20, moves: 257, ncost: 5918234.0814130325\n",
      "Run: 8, iteration: 3/20, moves: 201, ncost: 4902464.568215796\n",
      "Run: 8, iteration: 4/20, moves: 123, ncost: 4328379.704547477\n",
      "Run: 8, iteration: 5/20, moves: 79, ncost: 3886942.1225339775\n",
      "Run: 8, iteration: 6/20, moves: 63, ncost: 3411778.3459221586\n",
      "Run: 8, iteration: 7/20, moves: 47, ncost: 3166533.178054045\n",
      "Run: 8, iteration: 8/20, moves: 26, ncost: 3108234.590019671\n",
      "Run: 8, iteration: 9/20, moves: 8, ncost: 3103262.0649726517\n",
      "Run: 8, iteration: 10/20, moves: 3, ncost: 3102772.5364551214\n",
      "Run: 8, iteration: 11/20, moves: 0, ncost: 3102772.5364551214\n",
      "Init: initializing centroids\n",
      "Init: initializing clusters\n",
      "Starting iterations...\n",
      "Run: 9, iteration: 1/20, moves: 176, ncost: 5359363.808354353\n",
      "Run: 9, iteration: 2/20, moves: 102, ncost: 4487952.354488137\n",
      "Run: 9, iteration: 3/20, moves: 75, ncost: 3961081.6306624454\n",
      "Run: 9, iteration: 4/20, moves: 62, ncost: 3624135.424694955\n",
      "Run: 9, iteration: 5/20, moves: 42, ncost: 3324877.362637448\n",
      "Run: 9, iteration: 6/20, moves: 37, ncost: 3141029.29193511\n",
      "Run: 9, iteration: 7/20, moves: 20, ncost: 3103564.896829472\n",
      "Run: 9, iteration: 8/20, moves: 4, ncost: 3102772.5364551214\n",
      "Run: 9, iteration: 9/20, moves: 0, ncost: 3102772.5364551214\n",
      "Init: initializing centroids\n",
      "Init: initializing clusters\n",
      "Starting iterations...\n",
      "Run: 10, iteration: 1/20, moves: 319, ncost: 5811577.640833141\n",
      "Run: 10, iteration: 2/20, moves: 338, ncost: 4810299.55494764\n",
      "Run: 10, iteration: 3/20, moves: 135, ncost: 4219560.497409002\n",
      "Run: 10, iteration: 4/20, moves: 80, ncost: 3869199.5525766304\n",
      "Run: 10, iteration: 5/20, moves: 59, ncost: 3399516.8796307114\n",
      "Run: 10, iteration: 6/20, moves: 43, ncost: 3161659.9599691816\n",
      "Run: 10, iteration: 7/20, moves: 24, ncost: 3108234.590019671\n",
      "Run: 10, iteration: 8/20, moves: 8, ncost: 3103262.0649726517\n",
      "Run: 10, iteration: 9/20, moves: 3, ncost: 3102772.5364551214\n",
      "Run: 10, iteration: 10/20, moves: 0, ncost: 3102772.5364551214\n",
      "Best run was number 1\n"
     ]
    }
   ],
   "source": [
    "cat=[4,5,6]\n",
    "kproto = KPrototypes(n_clusters=3, verbose=2, max_iter=20).fit(array, categorical=cat)"
   ]
  },
  {
   "cell_type": "markdown",
   "id": "rspWLEynHRbR",
   "metadata": {
    "id": "rspWLEynHRbR"
   },
   "source": [
    "- `cat = [4, 5, 6]`: This line defines a list cat that specifies the indices of the columns that are categorical.\n",
    "- `KPrototypes(n_clusters=3, verbose=2, max_iter=20)`: This initializes the k-prototypes clustering algorithm \n",
    "    - KPrototypes train categorical features using k-modes and numeric features using k-means\n",
    "    - `n_clusters=3` indicates that the algorithm should form three clusters.\n",
    "    - `verbose=2` means that the algorithm will output detailed logs about the clustering process. The higher the verbose level, the more information is printed.\n",
    "    - `max_iter=20` sets the maximum number of iterations the algorithm should run for, preventing it from running indefinitely (default=100).\n",
    "- `fit(array, categorical=cat)`: This method fits the k-prototypes model to your dataset array. It requires the data and the indices of categorical columns to be specified (provided by cat)."
   ]
  },
  {
   "cell_type": "markdown",
   "id": "1a96f612-5f3a-48d3-8b22-11305b85ff3f",
   "metadata": {
    "id": "1a96f612-5f3a-48d3-8b22-11305b85ff3f"
   },
   "source": [
    "### 3. Display cluster centers"
   ]
  },
  {
   "cell_type": "code",
   "execution_count": 10,
   "id": "78bb967c-83bb-4303-bff2-26afbdf2eda9",
   "metadata": {
    "id": "78bb967c-83bb-4303-bff2-26afbdf2eda9",
    "outputId": "d61971d1-75f1-49bb-ce45-86063eea97bb"
   },
   "outputs": [
    {
     "data": {
      "text/plain": [
       "array([[ 33.72437358,  40.13553531,  49.98633257,   2.63895216,\n",
       "          0.        ,   0.        ,   1.        ],\n",
       "       [ 59.88888889,  58.44444444, 873.66666667,   3.44444444,\n",
       "          0.        ,   0.        ,   1.        ],\n",
       "       [ 47.5840708 ,  52.38053097, 228.17699115,   2.85840708,\n",
       "          0.        ,   0.        ,   1.        ]])"
      ]
     },
     "execution_count": 10,
     "metadata": {},
     "output_type": "execute_result"
    }
   ],
   "source": [
    "kproto.cluster_centroids_  "
   ]
  },
  {
   "cell_type": "markdown",
   "id": "Xa_mv5zBIIs8",
   "metadata": {
    "id": "Xa_mv5zBIIs8"
   },
   "source": [
    "- `kproto.cluster_centroids_`: The centroids of the clusters formed.\n",
    "- [n_clusters, n_variables] = (3,7)"
   ]
  },
  {
   "cell_type": "markdown",
   "id": "9d9cce52-6d93-49ca-8bec-3dbcc14748aa",
   "metadata": {
    "id": "9d9cce52-6d93-49ca-8bec-3dbcc14748aa"
   },
   "source": [
    "### 4. Preict clusters for the samples. Display samples that belong to Cluster=1"
   ]
  },
  {
   "cell_type": "code",
   "execution_count": 11,
   "id": "1f0d75d7-c3d2-4ad6-b6fb-4efc8ba55e31",
   "metadata": {
    "id": "1f0d75d7-c3d2-4ad6-b6fb-4efc8ba55e31",
    "outputId": "ae325f79-2c77-414d-c262-f799668b00d5"
   },
   "outputs": [
    {
     "data": {
      "text/html": [
       "<div>\n",
       "<style scoped>\n",
       "    .dataframe tbody tr th:only-of-type {\n",
       "        vertical-align: middle;\n",
       "    }\n",
       "\n",
       "    .dataframe tbody tr th {\n",
       "        vertical-align: top;\n",
       "    }\n",
       "\n",
       "    .dataframe thead th {\n",
       "        text-align: right;\n",
       "    }\n",
       "</style>\n",
       "<table border=\"1\" class=\"dataframe\">\n",
       "  <thead>\n",
       "    <tr style=\"text-align: right;\">\n",
       "      <th></th>\n",
       "      <th>tenure</th>\n",
       "      <th>age</th>\n",
       "      <th>income</th>\n",
       "      <th>ed</th>\n",
       "      <th>marital</th>\n",
       "      <th>retire</th>\n",
       "      <th>gender</th>\n",
       "      <th>cluster</th>\n",
       "    </tr>\n",
       "  </thead>\n",
       "  <tbody>\n",
       "    <tr>\n",
       "      <th>0</th>\n",
       "      <td>13</td>\n",
       "      <td>44</td>\n",
       "      <td>64</td>\n",
       "      <td>4</td>\n",
       "      <td>1</td>\n",
       "      <td>0</td>\n",
       "      <td>0</td>\n",
       "      <td>0</td>\n",
       "    </tr>\n",
       "    <tr>\n",
       "      <th>1</th>\n",
       "      <td>11</td>\n",
       "      <td>33</td>\n",
       "      <td>136</td>\n",
       "      <td>5</td>\n",
       "      <td>1</td>\n",
       "      <td>0</td>\n",
       "      <td>0</td>\n",
       "      <td>0</td>\n",
       "    </tr>\n",
       "    <tr>\n",
       "      <th>2</th>\n",
       "      <td>68</td>\n",
       "      <td>52</td>\n",
       "      <td>116</td>\n",
       "      <td>1</td>\n",
       "      <td>1</td>\n",
       "      <td>0</td>\n",
       "      <td>1</td>\n",
       "      <td>0</td>\n",
       "    </tr>\n",
       "    <tr>\n",
       "      <th>3</th>\n",
       "      <td>33</td>\n",
       "      <td>33</td>\n",
       "      <td>33</td>\n",
       "      <td>2</td>\n",
       "      <td>0</td>\n",
       "      <td>0</td>\n",
       "      <td>1</td>\n",
       "      <td>0</td>\n",
       "    </tr>\n",
       "    <tr>\n",
       "      <th>4</th>\n",
       "      <td>23</td>\n",
       "      <td>30</td>\n",
       "      <td>30</td>\n",
       "      <td>1</td>\n",
       "      <td>1</td>\n",
       "      <td>0</td>\n",
       "      <td>0</td>\n",
       "      <td>0</td>\n",
       "    </tr>\n",
       "  </tbody>\n",
       "</table>\n",
       "</div>"
      ],
      "text/plain": [
       "   tenure  age  income  ed  marital  retire  gender  cluster\n",
       "0      13   44      64   4        1       0       0        0\n",
       "1      11   33     136   5        1       0       0        0\n",
       "2      68   52     116   1        1       0       1        0\n",
       "3      33   33      33   2        0       0       1        0\n",
       "4      23   30      30   1        1       0       0        0"
      ]
     },
     "execution_count": 11,
     "metadata": {},
     "output_type": "execute_result"
    }
   ],
   "source": [
    "# Prediction\n",
    "\n",
    "cls=kproto.predict(array, categorical=cat)\n",
    "df['cluster'] = cls\n",
    "df.head()\n",
    "# df['cluster'] = kproto.labels_  # alternative"
   ]
  },
  {
   "cell_type": "markdown",
   "id": "OkdkQRPkJqZ8",
   "metadata": {
    "id": "OkdkQRPkJqZ8"
   },
   "source": [
    "- `cls = kproto.predict(array, categorical=cat)`: This line predicts the closest cluster for each sample\n",
    "- `df['cluster'] = cls` : This line adds a new column to the original DataFrame, labeled 'cluster', which contains the cluster assignments for each row. \n",
    "- `df['cluster'] = kproto.labels_` is an alternative way to achieve the same result without calling the predict method. After fitting a k-prototypes model, the labels_ attribute contains the cluster labels for each point."
   ]
  },
  {
   "cell_type": "code",
   "execution_count": 12,
   "id": "2da1a291-84cb-4243-b4f3-5322591f5a88",
   "metadata": {
    "id": "2da1a291-84cb-4243-b4f3-5322591f5a88",
    "outputId": "0782ba58-5bb8-4901-9382-582f88ff9e32"
   },
   "outputs": [
    {
     "data": {
      "text/html": [
       "<div>\n",
       "<style scoped>\n",
       "    .dataframe tbody tr th:only-of-type {\n",
       "        vertical-align: middle;\n",
       "    }\n",
       "\n",
       "    .dataframe tbody tr th {\n",
       "        vertical-align: top;\n",
       "    }\n",
       "\n",
       "    .dataframe thead th {\n",
       "        text-align: right;\n",
       "    }\n",
       "</style>\n",
       "<table border=\"1\" class=\"dataframe\">\n",
       "  <thead>\n",
       "    <tr style=\"text-align: right;\">\n",
       "      <th></th>\n",
       "      <th>tenure</th>\n",
       "      <th>age</th>\n",
       "      <th>income</th>\n",
       "      <th>ed</th>\n",
       "      <th>marital</th>\n",
       "      <th>retire</th>\n",
       "      <th>gender</th>\n",
       "      <th>cluster</th>\n",
       "    </tr>\n",
       "  </thead>\n",
       "  <tbody>\n",
       "    <tr>\n",
       "      <th>208</th>\n",
       "      <td>72</td>\n",
       "      <td>64</td>\n",
       "      <td>674</td>\n",
       "      <td>4</td>\n",
       "      <td>0</td>\n",
       "      <td>0</td>\n",
       "      <td>1</td>\n",
       "      <td>1</td>\n",
       "    </tr>\n",
       "    <tr>\n",
       "      <th>401</th>\n",
       "      <td>41</td>\n",
       "      <td>52</td>\n",
       "      <td>928</td>\n",
       "      <td>3</td>\n",
       "      <td>0</td>\n",
       "      <td>0</td>\n",
       "      <td>0</td>\n",
       "      <td>1</td>\n",
       "    </tr>\n",
       "    <tr>\n",
       "      <th>409</th>\n",
       "      <td>39</td>\n",
       "      <td>59</td>\n",
       "      <td>1668</td>\n",
       "      <td>4</td>\n",
       "      <td>0</td>\n",
       "      <td>0</td>\n",
       "      <td>1</td>\n",
       "      <td>1</td>\n",
       "    </tr>\n",
       "    <tr>\n",
       "      <th>680</th>\n",
       "      <td>65</td>\n",
       "      <td>59</td>\n",
       "      <td>732</td>\n",
       "      <td>3</td>\n",
       "      <td>0</td>\n",
       "      <td>0</td>\n",
       "      <td>1</td>\n",
       "      <td>1</td>\n",
       "    </tr>\n",
       "    <tr>\n",
       "      <th>799</th>\n",
       "      <td>66</td>\n",
       "      <td>54</td>\n",
       "      <td>591</td>\n",
       "      <td>4</td>\n",
       "      <td>1</td>\n",
       "      <td>0</td>\n",
       "      <td>1</td>\n",
       "      <td>1</td>\n",
       "    </tr>\n",
       "  </tbody>\n",
       "</table>\n",
       "</div>"
      ],
      "text/plain": [
       "     tenure  age  income  ed  marital  retire  gender  cluster\n",
       "208      72   64     674   4        0       0       1        1\n",
       "401      41   52     928   3        0       0       0        1\n",
       "409      39   59    1668   4        0       0       1        1\n",
       "680      65   59     732   3        0       0       1        1\n",
       "799      66   54     591   4        1       0       1        1"
      ]
     },
     "execution_count": 12,
     "metadata": {},
     "output_type": "execute_result"
    }
   ],
   "source": [
    "df[df['cluster']==1].head()"
   ]
  },
  {
   "cell_type": "markdown",
   "id": "agSe0dACKj0l",
   "metadata": {
    "id": "agSe0dACKj0l"
   },
   "source": [
    "- `df['cluster'] == 1`: creates a Boolean series. It goes through the 'cluster' column and checks each row to see whether its value is equal to 1. If a row has the value 1, the corresponding entry in the Boolean series is True; otherwise, it's False.\n",
    "- `df[df['cluster'] == 1]`: This is a DataFrame indexing operation using the Boolean series. It selects only the rows in df where the Boolean series is True, i.e., only the rows belonging to cluster 1. This operation effectively filters the DataFrame to contain only the data from cluster 1."
   ]
  },
  {
   "cell_type": "code",
   "execution_count": null,
   "id": "10c5ea7c-9bc9-494e-85c8-80c531ced5ae",
   "metadata": {},
   "outputs": [],
   "source": []
  }
 ],
 "metadata": {
  "colab": {
   "provenance": []
  },
  "kernelspec": {
   "display_name": "Python 3",
   "language": "python",
   "name": "python3"
  },
  "language_info": {
   "codemirror_mode": {
    "name": "ipython",
    "version": 3
   },
   "file_extension": ".py",
   "mimetype": "text/x-python",
   "name": "python",
   "nbconvert_exporter": "python",
   "pygments_lexer": "ipython3",
   "version": "3.8.8"
  }
 },
 "nbformat": 4,
 "nbformat_minor": 5
}
