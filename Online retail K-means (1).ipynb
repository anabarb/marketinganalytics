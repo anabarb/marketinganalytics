{
 "cells": [
  {
   "cell_type": "markdown",
   "metadata": {
    "id": "OjWD7yf1ilbn"
   },
   "source": [
    "# Online retail: K-means clustering"
   ]
  },
  {
   "cell_type": "code",
   "execution_count": 1,
   "metadata": {
    "id": "KnpCctHtilbq"
   },
   "outputs": [],
   "source": [
    "import pandas as pd\n",
    "import numpy as np\n",
    "from sklearn import preprocessing\n",
    "from sklearn import cluster\n",
    "import matplotlib.pyplot as plt"
   ]
  },
  {
   "cell_type": "markdown",
   "metadata": {
    "id": "yf0v3-Zcilbt"
   },
   "source": [
    "### 1. Use 'Online retail.csv'. Standardize the three variables: Sales, OrderCount, AvgOrderValue."
   ]
  },
  {
   "cell_type": "code",
   "execution_count": 2,
   "metadata": {
    "id": "yLxjtHr3ilbt",
    "outputId": "67e9ac6a-769b-439d-c881-aceee060e4d9"
   },
   "outputs": [
    {
     "data": {
      "text/html": [
       "<div>\n",
       "<style scoped>\n",
       "    .dataframe tbody tr th:only-of-type {\n",
       "        vertical-align: middle;\n",
       "    }\n",
       "\n",
       "    .dataframe tbody tr th {\n",
       "        vertical-align: top;\n",
       "    }\n",
       "\n",
       "    .dataframe thead th {\n",
       "        text-align: right;\n",
       "    }\n",
       "</style>\n",
       "<table border=\"1\" class=\"dataframe\">\n",
       "  <thead>\n",
       "    <tr style=\"text-align: right;\">\n",
       "      <th></th>\n",
       "      <th>CustomerID</th>\n",
       "      <th>Sales</th>\n",
       "      <th>OrderCount</th>\n",
       "      <th>AvgOrderValue</th>\n",
       "    </tr>\n",
       "  </thead>\n",
       "  <tbody>\n",
       "    <tr>\n",
       "      <th>0</th>\n",
       "      <td>12346</td>\n",
       "      <td>77183.60200</td>\n",
       "      <td>1</td>\n",
       "      <td>77183.602000</td>\n",
       "    </tr>\n",
       "    <tr>\n",
       "      <th>1</th>\n",
       "      <td>12347</td>\n",
       "      <td>4310.00000</td>\n",
       "      <td>182</td>\n",
       "      <td>23.681318</td>\n",
       "    </tr>\n",
       "    <tr>\n",
       "      <th>2</th>\n",
       "      <td>12348</td>\n",
       "      <td>1797.24000</td>\n",
       "      <td>31</td>\n",
       "      <td>57.975483</td>\n",
       "    </tr>\n",
       "    <tr>\n",
       "      <th>3</th>\n",
       "      <td>12349</td>\n",
       "      <td>1757.55000</td>\n",
       "      <td>73</td>\n",
       "      <td>24.076029</td>\n",
       "    </tr>\n",
       "    <tr>\n",
       "      <th>4</th>\n",
       "      <td>12350</td>\n",
       "      <td>334.39999</td>\n",
       "      <td>17</td>\n",
       "      <td>19.670588</td>\n",
       "    </tr>\n",
       "  </tbody>\n",
       "</table>\n",
       "</div>"
      ],
      "text/plain": [
       "   CustomerID        Sales  OrderCount  AvgOrderValue\n",
       "0       12346  77183.60200           1   77183.602000\n",
       "1       12347   4310.00000         182      23.681318\n",
       "2       12348   1797.24000          31      57.975483\n",
       "3       12349   1757.55000          73      24.076029\n",
       "4       12350    334.39999          17      19.670588"
      ]
     },
     "execution_count": 2,
     "metadata": {},
     "output_type": "execute_result"
    }
   ],
   "source": [
    "df = pd.read_csv('Online retail.csv')\n",
    "df.head()"
   ]
  },
  {
   "cell_type": "code",
   "execution_count": 3,
   "metadata": {
    "id": "aQ-_qMFCilbv",
    "outputId": "d9e1c5e8-2e93-46af-c509-367c4da4d92d"
   },
   "outputs": [
    {
     "data": {
      "text/html": [
       "<div>\n",
       "<style scoped>\n",
       "    .dataframe tbody tr th:only-of-type {\n",
       "        vertical-align: middle;\n",
       "    }\n",
       "\n",
       "    .dataframe tbody tr th {\n",
       "        vertical-align: top;\n",
       "    }\n",
       "\n",
       "    .dataframe thead th {\n",
       "        text-align: right;\n",
       "    }\n",
       "</style>\n",
       "<table border=\"1\" class=\"dataframe\">\n",
       "  <thead>\n",
       "    <tr style=\"text-align: right;\">\n",
       "      <th></th>\n",
       "      <th>CustomerID</th>\n",
       "      <th>Sales</th>\n",
       "      <th>OrderCount</th>\n",
       "      <th>AvgOrderValue</th>\n",
       "      <th>z_Sales</th>\n",
       "      <th>z_OrdCnt</th>\n",
       "      <th>z_AvgOrdVal</th>\n",
       "    </tr>\n",
       "  </thead>\n",
       "  <tbody>\n",
       "    <tr>\n",
       "      <th>count</th>\n",
       "      <td>4338.000000</td>\n",
       "      <td>4338.000000</td>\n",
       "      <td>4338.000000</td>\n",
       "      <td>4338.000000</td>\n",
       "      <td>4.338000e+03</td>\n",
       "      <td>4.338000e+03</td>\n",
       "      <td>4.338000e+03</td>\n",
       "    </tr>\n",
       "    <tr>\n",
       "      <th>mean</th>\n",
       "      <td>15300.408022</td>\n",
       "      <td>2054.266465</td>\n",
       "      <td>91.720609</td>\n",
       "      <td>68.350506</td>\n",
       "      <td>-4.816277e-18</td>\n",
       "      <td>-3.464648e-18</td>\n",
       "      <td>-9.511787e-18</td>\n",
       "    </tr>\n",
       "    <tr>\n",
       "      <th>std</th>\n",
       "      <td>1721.808492</td>\n",
       "      <td>8989.230589</td>\n",
       "      <td>228.785094</td>\n",
       "      <td>1467.918920</td>\n",
       "      <td>1.000115e+00</td>\n",
       "      <td>1.000115e+00</td>\n",
       "      <td>1.000115e+00</td>\n",
       "    </tr>\n",
       "    <tr>\n",
       "      <th>min</th>\n",
       "      <td>12346.000000</td>\n",
       "      <td>3.750000</td>\n",
       "      <td>1.000000</td>\n",
       "      <td>2.101286</td>\n",
       "      <td>-2.281344e-01</td>\n",
       "      <td>-3.965777e-01</td>\n",
       "      <td>-4.513659e-02</td>\n",
       "    </tr>\n",
       "    <tr>\n",
       "      <th>25%</th>\n",
       "      <td>13813.250000</td>\n",
       "      <td>307.414990</td>\n",
       "      <td>17.000000</td>\n",
       "      <td>12.365366</td>\n",
       "      <td>-1.943495e-01</td>\n",
       "      <td>-3.266350e-01</td>\n",
       "      <td>-3.814352e-02</td>\n",
       "    </tr>\n",
       "    <tr>\n",
       "      <th>50%</th>\n",
       "      <td>15299.500000</td>\n",
       "      <td>674.485015</td>\n",
       "      <td>41.000000</td>\n",
       "      <td>17.723118</td>\n",
       "      <td>-1.535104e-01</td>\n",
       "      <td>-2.217210e-01</td>\n",
       "      <td>-3.449320e-02</td>\n",
       "    </tr>\n",
       "    <tr>\n",
       "      <th>75%</th>\n",
       "      <td>16778.750000</td>\n",
       "      <td>1661.739975</td>\n",
       "      <td>100.000000</td>\n",
       "      <td>24.858417</td>\n",
       "      <td>-4.367134e-02</td>\n",
       "      <td>3.619268e-02</td>\n",
       "      <td>-2.963182e-02</td>\n",
       "    </tr>\n",
       "    <tr>\n",
       "      <th>max</th>\n",
       "      <td>18287.000000</td>\n",
       "      <td>280206.030000</td>\n",
       "      <td>7847.000000</td>\n",
       "      <td>77183.602000</td>\n",
       "      <td>3.094634e+01</td>\n",
       "      <td>3.390157e+01</td>\n",
       "      <td>5.253978e+01</td>\n",
       "    </tr>\n",
       "  </tbody>\n",
       "</table>\n",
       "</div>"
      ],
      "text/plain": [
       "         CustomerID          Sales   OrderCount  AvgOrderValue       z_Sales  \\\n",
       "count   4338.000000    4338.000000  4338.000000    4338.000000  4.338000e+03   \n",
       "mean   15300.408022    2054.266465    91.720609      68.350506 -4.816277e-18   \n",
       "std     1721.808492    8989.230589   228.785094    1467.918920  1.000115e+00   \n",
       "min    12346.000000       3.750000     1.000000       2.101286 -2.281344e-01   \n",
       "25%    13813.250000     307.414990    17.000000      12.365366 -1.943495e-01   \n",
       "50%    15299.500000     674.485015    41.000000      17.723118 -1.535104e-01   \n",
       "75%    16778.750000    1661.739975   100.000000      24.858417 -4.367134e-02   \n",
       "max    18287.000000  280206.030000  7847.000000   77183.602000  3.094634e+01   \n",
       "\n",
       "           z_OrdCnt   z_AvgOrdVal  \n",
       "count  4.338000e+03  4.338000e+03  \n",
       "mean  -3.464648e-18 -9.511787e-18  \n",
       "std    1.000115e+00  1.000115e+00  \n",
       "min   -3.965777e-01 -4.513659e-02  \n",
       "25%   -3.266350e-01 -3.814352e-02  \n",
       "50%   -2.217210e-01 -3.449320e-02  \n",
       "75%    3.619268e-02 -2.963182e-02  \n",
       "max    3.390157e+01  5.253978e+01  "
      ]
     },
     "execution_count": 3,
     "metadata": {},
     "output_type": "execute_result"
    }
   ],
   "source": [
    "# Standardize the variables\n",
    "\n",
    "df['z_Sales']=preprocessing.scale(df.Sales)\n",
    "df['z_OrdCnt']=preprocessing.scale(df.OrderCount)\n",
    "df['z_AvgOrdVal']=preprocessing.scale(df.AvgOrderValue)\n",
    "df.describe()"
   ]
  },
  {
   "cell_type": "markdown",
   "metadata": {
    "id": "qqIrM_C3jCmI"
   },
   "source": [
    "- `df['z_Sales']=preprocessing.scale(df.Sales)`: This line applies the scale function to the 'Sales' column and creates a new column, 'z_Sales' with the standardized values."
   ]
  },
  {
   "cell_type": "markdown",
   "metadata": {
    "id": "pMgZETP6ilbw"
   },
   "source": [
    "### 2. Use the three standardized variables. Use the elbow method to determine the number of clusters. How many clusters would you choose?"
   ]
  },
  {
   "cell_type": "code",
   "execution_count": 4,
   "metadata": {
    "id": "qVcQHInmilbx",
    "outputId": "9487b763-2530-4aaa-cfb5-e9326f31a209",
    "tags": []
   },
   "outputs": [
    {
     "data": {
      "text/plain": [
       "Text(0, 0.5, 'Sum of Squared Errors')"
      ]
     },
     "execution_count": 4,
     "metadata": {},
     "output_type": "execute_result"
    },
    {
     "data": {
      "image/png": "[encoded data removed]",
      "text/plain": [
       "<Figure size 432x288 with 1 Axes>"
      ]
     },
     "metadata": {
      "needs_background": "light"
     },
     "output_type": "display_data"
    }
   ],
   "source": [
    "# Run k-means clustering with k=2~10. Plot the errors corresponding to each k.\n",
    "\n",
    "ss = []\n",
    "krange = range(2,11)  # 2~10\n",
    "x=df[['z_Sales', 'z_OrdCnt', 'z_AvgOrdVal']]\n",
    "for i in krange:\n",
    "    m = cluster.KMeans(n_clusters=i).fit(x)\n",
    "    error = m.inertia_\n",
    "    ss.append(error)\n",
    "    \n",
    "plt.plot(krange, ss)\n",
    "plt.xlabel('Number of Clusters')\n",
    "plt.ylabel('Sum of Squared Errors')"
   ]
  },
  {
   "cell_type": "markdown",
   "metadata": {
    "id": "GiCcWnAwjqDR"
   },
   "source": [
    "- `ss = []`: initialize an empty list ss to store the sum of squared distances of samples to their nearest cluster center\n",
    "- `krange = range(2,11)`: defines a range of cluster numbers to be tested (from 2 to 10).\n",
    "- range(start, stop, step)\n",
    "    - `start` (optional): The starting value. If omitted, it defaults to 0.\n",
    "    - `stop`: The stopping value (not inclusive)\n",
    "    - `step` (optional): The step or increment between each number in the sequence. If omitted, it defaults to 1.        \n",
    "- The for loop iterates over each intended cluster size:\n",
    "    - `m = cluster.KMeans(n_clusters=i).fit(x)`: For each number of clusters, a k-means clustering model is fitted on the data x.\n",
    "    - `error = m.inertia_`: After fitting the model, the inertia (sum of squared distances of samples to their closest cluster center) is stored in the variable `error`.\n",
    "    - `ss.append(error)`: The calculated error is appended to the list `ss`.\n",
    "- `plt.plot(krange, ss)`: plots the number of clusters (x) against the inertia (y)."
   ]
  },
  {
   "cell_type": "markdown",
   "metadata": {
    "id": "_B-HShW5ilby"
   },
   "source": [
    "- 5 or 6 clusters seems reasonable"
   ]
  },
  {
   "cell_type": "markdown",
   "metadata": {
    "id": "ksOzxV3milby"
   },
   "source": [
    "### 3. Conduct k-means clustering using the best number of clusters you found. Add predicted cluster labels to the data"
   ]
  },
  {
   "cell_type": "code",
   "execution_count": 5,
   "metadata": {
    "id": "2T_GwYCyilbz",
    "outputId": "b8f3c17a-a00c-400a-fa42-79345dfa64c5"
   },
   "outputs": [
    {
     "data": {
      "text/html": [
       "<div>\n",
       "<style scoped>\n",
       "    .dataframe tbody tr th:only-of-type {\n",
       "        vertical-align: middle;\n",
       "    }\n",
       "\n",
       "    .dataframe tbody tr th {\n",
       "        vertical-align: top;\n",
       "    }\n",
       "\n",
       "    .dataframe thead th {\n",
       "        text-align: right;\n",
       "    }\n",
       "</style>\n",
       "<table border=\"1\" class=\"dataframe\">\n",
       "  <thead>\n",
       "    <tr style=\"text-align: right;\">\n",
       "      <th></th>\n",
       "      <th>CustomerID</th>\n",
       "      <th>Sales</th>\n",
       "      <th>OrderCount</th>\n",
       "      <th>AvgOrderValue</th>\n",
       "      <th>z_Sales</th>\n",
       "      <th>z_OrdCnt</th>\n",
       "      <th>z_AvgOrdVal</th>\n",
       "      <th>cluster</th>\n",
       "    </tr>\n",
       "  </thead>\n",
       "  <tbody>\n",
       "    <tr>\n",
       "      <th>0</th>\n",
       "      <td>12346</td>\n",
       "      <td>77183.60200</td>\n",
       "      <td>1</td>\n",
       "      <td>77183.602000</td>\n",
       "      <td>8.358668</td>\n",
       "      <td>-0.396578</td>\n",
       "      <td>52.539783</td>\n",
       "      <td>1</td>\n",
       "    </tr>\n",
       "    <tr>\n",
       "      <th>1</th>\n",
       "      <td>12347</td>\n",
       "      <td>4310.00000</td>\n",
       "      <td>182</td>\n",
       "      <td>23.681318</td>\n",
       "      <td>0.250966</td>\n",
       "      <td>0.394649</td>\n",
       "      <td>-0.030434</td>\n",
       "      <td>0</td>\n",
       "    </tr>\n",
       "    <tr>\n",
       "      <th>2</th>\n",
       "      <td>12348</td>\n",
       "      <td>1797.24000</td>\n",
       "      <td>31</td>\n",
       "      <td>57.975483</td>\n",
       "      <td>-0.028596</td>\n",
       "      <td>-0.265435</td>\n",
       "      <td>-0.007069</td>\n",
       "      <td>0</td>\n",
       "    </tr>\n",
       "    <tr>\n",
       "      <th>3</th>\n",
       "      <td>12349</td>\n",
       "      <td>1757.55000</td>\n",
       "      <td>73</td>\n",
       "      <td>24.076029</td>\n",
       "      <td>-0.033012</td>\n",
       "      <td>-0.081836</td>\n",
       "      <td>-0.030165</td>\n",
       "      <td>0</td>\n",
       "    </tr>\n",
       "    <tr>\n",
       "      <th>4</th>\n",
       "      <td>12350</td>\n",
       "      <td>334.39999</td>\n",
       "      <td>17</td>\n",
       "      <td>19.670588</td>\n",
       "      <td>-0.191347</td>\n",
       "      <td>-0.326635</td>\n",
       "      <td>-0.033166</td>\n",
       "      <td>0</td>\n",
       "    </tr>\n",
       "  </tbody>\n",
       "</table>\n",
       "</div>"
      ],
      "text/plain": [
       "   CustomerID        Sales  OrderCount  AvgOrderValue   z_Sales  z_OrdCnt  \\\n",
       "0       12346  77183.60200           1   77183.602000  8.358668 -0.396578   \n",
       "1       12347   4310.00000         182      23.681318  0.250966  0.394649   \n",
       "2       12348   1797.24000          31      57.975483 -0.028596 -0.265435   \n",
       "3       12349   1757.55000          73      24.076029 -0.033012 -0.081836   \n",
       "4       12350    334.39999          17      19.670588 -0.191347 -0.326635   \n",
       "\n",
       "   z_AvgOrdVal  cluster  \n",
       "0    52.539783        1  \n",
       "1    -0.030434        0  \n",
       "2    -0.007069        0  \n",
       "3    -0.030165        0  \n",
       "4    -0.033166        0  "
      ]
     },
     "execution_count": 5,
     "metadata": {},
     "output_type": "execute_result"
    }
   ],
   "source": [
    "m = cluster.KMeans(n_clusters=5, random_state=10).fit(x)\n",
    "df['cluster'] = m.labels_  # cluster labels\n",
    "df.head()"
   ]
  },
  {
   "cell_type": "markdown",
   "metadata": {
    "id": "9r-mWhEhka-y"
   },
   "source": [
    "- `m = cluster.KMeans(n_clusters=5, random_state=10).fit(x)`: This line initializes a k-means clustering model with five clusters (n_clusters=5) and a random state for reproducibility (random_state=10).\n",
    "    - The model is then fitted to x.\n",
    "- `df['cluster'] = m.labels_`: After the model is fitted, you can access the labels assigned to each point via m.labels_.\n",
    "    - These labels are added as a new 'cluster' column. Each entry in this column represents the cluster number (from 0 to 4) to which the corresponding data point has been assigned."
   ]
  },
  {
   "cell_type": "markdown",
   "metadata": {
    "id": "AjdkDjLrilb0"
   },
   "source": [
    "### 4. Which customer segment has the highest and lowest sales?"
   ]
  },
  {
   "cell_type": "code",
   "execution_count": 6,
   "metadata": {
    "id": "R-Ld6Sbgilb1",
    "outputId": "3f7c6489-f268-41cf-d412-0a499c10b7e9"
   },
   "outputs": [
    {
     "name": "stdout",
     "output_type": "stream",
     "text": [
      "[[-1.06502271e-01 -1.39660632e-01 -2.41350006e-02]\n",
      " [ 1.34369350e+01 -3.92206284e-01  4.53770828e+01]\n",
      " [ 7.66238663e+00  2.49838753e+01 -3.79401003e-02]\n",
      " [ 2.15045851e+01  3.93374898e+00  1.67844635e-01]\n",
      " [ 9.73019567e-01  1.63220697e+00  2.32756527e-02]]\n"
     ]
    },
    {
     "data": {
      "text/html": [
       "<div>\n",
       "<style scoped>\n",
       "    .dataframe tbody tr th:only-of-type {\n",
       "        vertical-align: middle;\n",
       "    }\n",
       "\n",
       "    .dataframe tbody tr th {\n",
       "        vertical-align: top;\n",
       "    }\n",
       "\n",
       "    .dataframe thead th {\n",
       "        text-align: right;\n",
       "    }\n",
       "</style>\n",
       "<table border=\"1\" class=\"dataframe\">\n",
       "  <thead>\n",
       "    <tr style=\"text-align: right;\">\n",
       "      <th></th>\n",
       "      <th>CustomerID</th>\n",
       "      <th>Sales</th>\n",
       "      <th>OrderCount</th>\n",
       "      <th>AvgOrderValue</th>\n",
       "      <th>z_Sales</th>\n",
       "      <th>z_OrdCnt</th>\n",
       "      <th>z_AvgOrdVal</th>\n",
       "    </tr>\n",
       "    <tr>\n",
       "      <th>cluster</th>\n",
       "      <th></th>\n",
       "      <th></th>\n",
       "      <th></th>\n",
       "      <th></th>\n",
       "      <th></th>\n",
       "      <th></th>\n",
       "      <th></th>\n",
       "    </tr>\n",
       "  </thead>\n",
       "  <tbody>\n",
       "    <tr>\n",
       "      <th>0</th>\n",
       "      <td>15301.838391</td>\n",
       "      <td>1097.003350</td>\n",
       "      <td>59.772021</td>\n",
       "      <td>32.926366</td>\n",
       "      <td>-0.106502</td>\n",
       "      <td>-0.139661</td>\n",
       "      <td>-0.024135</td>\n",
       "    </tr>\n",
       "    <tr>\n",
       "      <th>1</th>\n",
       "      <td>14396.000000</td>\n",
       "      <td>122828.051000</td>\n",
       "      <td>2.000000</td>\n",
       "      <td>66670.551000</td>\n",
       "      <td>13.436935</td>\n",
       "      <td>-0.392206</td>\n",
       "      <td>45.377083</td>\n",
       "    </tr>\n",
       "    <tr>\n",
       "      <th>2</th>\n",
       "      <td>14899.000000</td>\n",
       "      <td>70925.287250</td>\n",
       "      <td>5807.000000</td>\n",
       "      <td>12.663935</td>\n",
       "      <td>7.662387</td>\n",
       "      <td>24.983875</td>\n",
       "      <td>-0.037940</td>\n",
       "    </tr>\n",
       "    <tr>\n",
       "      <th>3</th>\n",
       "      <td>15353.800000</td>\n",
       "      <td>195341.658000</td>\n",
       "      <td>991.600000</td>\n",
       "      <td>314.704422</td>\n",
       "      <td>21.504585</td>\n",
       "      <td>3.933749</td>\n",
       "      <td>0.167845</td>\n",
       "    </tr>\n",
       "    <tr>\n",
       "      <th>4</th>\n",
       "      <td>15290.737226</td>\n",
       "      <td>10799.955512</td>\n",
       "      <td>465.102190</td>\n",
       "      <td>102.513339</td>\n",
       "      <td>0.973020</td>\n",
       "      <td>1.632207</td>\n",
       "      <td>0.023276</td>\n",
       "    </tr>\n",
       "  </tbody>\n",
       "</table>\n",
       "</div>"
      ],
      "text/plain": [
       "           CustomerID          Sales   OrderCount  AvgOrderValue    z_Sales  \\\n",
       "cluster                                                                       \n",
       "0        15301.838391    1097.003350    59.772021      32.926366  -0.106502   \n",
       "1        14396.000000  122828.051000     2.000000   66670.551000  13.436935   \n",
       "2        14899.000000   70925.287250  5807.000000      12.663935   7.662387   \n",
       "3        15353.800000  195341.658000   991.600000     314.704422  21.504585   \n",
       "4        15290.737226   10799.955512   465.102190     102.513339   0.973020   \n",
       "\n",
       "          z_OrdCnt  z_AvgOrdVal  \n",
       "cluster                          \n",
       "0        -0.139661    -0.024135  \n",
       "1        -0.392206    45.377083  \n",
       "2        24.983875    -0.037940  \n",
       "3         3.933749     0.167845  \n",
       "4         1.632207     0.023276  "
      ]
     },
     "execution_count": 6,
     "metadata": {},
     "output_type": "execute_result"
    }
   ],
   "source": [
    "# Inspect cluster centers\n",
    "\n",
    "print(m.cluster_centers_)\n",
    "df.groupby('cluster').mean()  # alternative"
   ]
  },
  {
   "cell_type": "markdown",
   "metadata": {
    "id": "3e16_kcolB0d"
   },
   "source": [
    "- `m.cluster_centers_`: This attribute of the fitted k-means model m contains the centroids of the formed clusters. \n",
    "    - Each centroid is represented by a point in the feature space that corresponds to the mean of all points in that cluster. \n",
    "- `df.groupby('cluster')`: splits the DataFrame into groups based on the 'cluster' column.\n",
    "    - `mean()`: calculates the mean value for each feature within each cluster. "
   ]
  },
  {
   "cell_type": "markdown",
   "metadata": {
    "id": "4FY_ANyHilb1"
   },
   "source": [
    "* Cluster 3 has the highest sales\n",
    "* Cluster 0 has the lowest sales"
   ]
  },
  {
   "cell_type": "markdown",
   "metadata": {
    "id": "1I8NDExtilb2"
   },
   "source": [
    "### 5. Report the top 3 customers whose sales values are the highest within the highest sales value segment."
   ]
  },
  {
   "cell_type": "code",
   "execution_count": 7,
   "metadata": {
    "id": "Wlz47gbBilb3",
    "outputId": "24e628c3-99b4-4e1c-a95f-6dd798b0ba73",
    "scrolled": true
   },
   "outputs": [
    {
     "data": {
      "text/html": [
       "<div>\n",
       "<style scoped>\n",
       "    .dataframe tbody tr th:only-of-type {\n",
       "        vertical-align: middle;\n",
       "    }\n",
       "\n",
       "    .dataframe tbody tr th {\n",
       "        vertical-align: top;\n",
       "    }\n",
       "\n",
       "    .dataframe thead th {\n",
       "        text-align: right;\n",
       "    }\n",
       "</style>\n",
       "<table border=\"1\" class=\"dataframe\">\n",
       "  <thead>\n",
       "    <tr style=\"text-align: right;\">\n",
       "      <th></th>\n",
       "      <th>CustomerID</th>\n",
       "      <th>Sales</th>\n",
       "      <th>OrderCount</th>\n",
       "      <th>AvgOrderValue</th>\n",
       "      <th>z_Sales</th>\n",
       "      <th>z_OrdCnt</th>\n",
       "      <th>z_AvgOrdVal</th>\n",
       "      <th>cluster</th>\n",
       "    </tr>\n",
       "  </thead>\n",
       "  <tbody>\n",
       "    <tr>\n",
       "      <th>55</th>\n",
       "      <td>12415</td>\n",
       "      <td>124914.53</td>\n",
       "      <td>714</td>\n",
       "      <td>174.950320</td>\n",
       "      <td>13.669071</td>\n",
       "      <td>2.720243</td>\n",
       "      <td>0.072628</td>\n",
       "      <td>3</td>\n",
       "    </tr>\n",
       "    <tr>\n",
       "      <th>1333</th>\n",
       "      <td>14156</td>\n",
       "      <td>117379.63</td>\n",
       "      <td>1400</td>\n",
       "      <td>83.842598</td>\n",
       "      <td>12.830760</td>\n",
       "      <td>5.719036</td>\n",
       "      <td>0.010555</td>\n",
       "      <td>3</td>\n",
       "    </tr>\n",
       "    <tr>\n",
       "      <th>1689</th>\n",
       "      <td>14646</td>\n",
       "      <td>280206.03</td>\n",
       "      <td>2076</td>\n",
       "      <td>134.974000</td>\n",
       "      <td>30.946345</td>\n",
       "      <td>8.674115</td>\n",
       "      <td>0.045392</td>\n",
       "      <td>3</td>\n",
       "    </tr>\n",
       "    <tr>\n",
       "      <th>3728</th>\n",
       "      <td>17450</td>\n",
       "      <td>194550.80</td>\n",
       "      <td>337</td>\n",
       "      <td>577.302060</td>\n",
       "      <td>21.416597</td>\n",
       "      <td>1.072219</td>\n",
       "      <td>0.346756</td>\n",
       "      <td>3</td>\n",
       "    </tr>\n",
       "    <tr>\n",
       "      <th>4201</th>\n",
       "      <td>18102</td>\n",
       "      <td>259657.30</td>\n",
       "      <td>431</td>\n",
       "      <td>602.453130</td>\n",
       "      <td>28.660154</td>\n",
       "      <td>1.483132</td>\n",
       "      <td>0.363892</td>\n",
       "      <td>3</td>\n",
       "    </tr>\n",
       "  </tbody>\n",
       "</table>\n",
       "</div>"
      ],
      "text/plain": [
       "      CustomerID      Sales  OrderCount  AvgOrderValue    z_Sales  z_OrdCnt  \\\n",
       "55         12415  124914.53         714     174.950320  13.669071  2.720243   \n",
       "1333       14156  117379.63        1400      83.842598  12.830760  5.719036   \n",
       "1689       14646  280206.03        2076     134.974000  30.946345  8.674115   \n",
       "3728       17450  194550.80         337     577.302060  21.416597  1.072219   \n",
       "4201       18102  259657.30         431     602.453130  28.660154  1.483132   \n",
       "\n",
       "      z_AvgOrdVal  cluster  \n",
       "55       0.072628        3  \n",
       "1333     0.010555        3  \n",
       "1689     0.045392        3  \n",
       "3728     0.346756        3  \n",
       "4201     0.363892        3  "
      ]
     },
     "execution_count": 7,
     "metadata": {},
     "output_type": "execute_result"
    }
   ],
   "source": [
    "df.loc[df.cluster==3]  # `.loc` can be omitted\n",
    "df[df.cluster==3]"
   ]
  },
  {
   "cell_type": "markdown",
   "metadata": {
    "id": "2aZOvtJvmP62"
   },
   "source": [
    "- `df.loc[df.cluster == 3]: select all rows where the 'cluster' value is 3. \n",
    "    - df.cluster == 3 creates a Boolean series that is True for all rows where the 'cluster' value is 3 and False otherwise.\n",
    "- loc: Access data by label\n",
    "- iloc: Access data by index"
   ]
  },
  {
   "cell_type": "code",
   "execution_count": 8,
   "metadata": {
    "id": "1Myh5Bocilb3",
    "outputId": "173d705e-9d9a-4299-f271-24c3e90c0afa",
    "scrolled": true
   },
   "outputs": [
    {
     "data": {
      "text/html": [
       "<div>\n",
       "<style scoped>\n",
       "    .dataframe tbody tr th:only-of-type {\n",
       "        vertical-align: middle;\n",
       "    }\n",
       "\n",
       "    .dataframe tbody tr th {\n",
       "        vertical-align: top;\n",
       "    }\n",
       "\n",
       "    .dataframe thead th {\n",
       "        text-align: right;\n",
       "    }\n",
       "</style>\n",
       "<table border=\"1\" class=\"dataframe\">\n",
       "  <thead>\n",
       "    <tr style=\"text-align: right;\">\n",
       "      <th></th>\n",
       "      <th>CustomerID</th>\n",
       "      <th>Sales</th>\n",
       "      <th>OrderCount</th>\n",
       "      <th>AvgOrderValue</th>\n",
       "      <th>z_Sales</th>\n",
       "      <th>z_OrdCnt</th>\n",
       "      <th>z_AvgOrdVal</th>\n",
       "      <th>cluster</th>\n",
       "    </tr>\n",
       "  </thead>\n",
       "  <tbody>\n",
       "    <tr>\n",
       "      <th>1689</th>\n",
       "      <td>14646</td>\n",
       "      <td>280206.03</td>\n",
       "      <td>2076</td>\n",
       "      <td>134.974000</td>\n",
       "      <td>30.946345</td>\n",
       "      <td>8.674115</td>\n",
       "      <td>0.045392</td>\n",
       "      <td>3</td>\n",
       "    </tr>\n",
       "    <tr>\n",
       "      <th>4201</th>\n",
       "      <td>18102</td>\n",
       "      <td>259657.30</td>\n",
       "      <td>431</td>\n",
       "      <td>602.453130</td>\n",
       "      <td>28.660154</td>\n",
       "      <td>1.483132</td>\n",
       "      <td>0.363892</td>\n",
       "      <td>3</td>\n",
       "    </tr>\n",
       "    <tr>\n",
       "      <th>3728</th>\n",
       "      <td>17450</td>\n",
       "      <td>194550.80</td>\n",
       "      <td>337</td>\n",
       "      <td>577.302060</td>\n",
       "      <td>21.416597</td>\n",
       "      <td>1.072219</td>\n",
       "      <td>0.346756</td>\n",
       "      <td>3</td>\n",
       "    </tr>\n",
       "    <tr>\n",
       "      <th>55</th>\n",
       "      <td>12415</td>\n",
       "      <td>124914.53</td>\n",
       "      <td>714</td>\n",
       "      <td>174.950320</td>\n",
       "      <td>13.669071</td>\n",
       "      <td>2.720243</td>\n",
       "      <td>0.072628</td>\n",
       "      <td>3</td>\n",
       "    </tr>\n",
       "    <tr>\n",
       "      <th>1333</th>\n",
       "      <td>14156</td>\n",
       "      <td>117379.63</td>\n",
       "      <td>1400</td>\n",
       "      <td>83.842598</td>\n",
       "      <td>12.830760</td>\n",
       "      <td>5.719036</td>\n",
       "      <td>0.010555</td>\n",
       "      <td>3</td>\n",
       "    </tr>\n",
       "  </tbody>\n",
       "</table>\n",
       "</div>"
      ],
      "text/plain": [
       "      CustomerID      Sales  OrderCount  AvgOrderValue    z_Sales  z_OrdCnt  \\\n",
       "1689       14646  280206.03        2076     134.974000  30.946345  8.674115   \n",
       "4201       18102  259657.30         431     602.453130  28.660154  1.483132   \n",
       "3728       17450  194550.80         337     577.302060  21.416597  1.072219   \n",
       "55         12415  124914.53         714     174.950320  13.669071  2.720243   \n",
       "1333       14156  117379.63        1400      83.842598  12.830760  5.719036   \n",
       "\n",
       "      z_AvgOrdVal  cluster  \n",
       "1689     0.045392        3  \n",
       "4201     0.363892        3  \n",
       "3728     0.346756        3  \n",
       "55       0.072628        3  \n",
       "1333     0.010555        3  "
      ]
     },
     "execution_count": 8,
     "metadata": {},
     "output_type": "execute_result"
    }
   ],
   "source": [
    "df[df.cluster==3].sort_values(['Sales'], ascending=False) "
   ]
  },
  {
   "cell_type": "markdown",
   "metadata": {
    "id": "PBaLurmOmnSN"
   },
   "source": [
    "- `sort_values(['Sales'], ascending=False)`: This function is called on all the rows belonging to cluster 3.\n",
    "    - `sort_values` sorts the DataFrame based on the 'Sales' column.\n",
    "    - `ascending=False` indicates that the sorting should be done in descending order."
   ]
  },
  {
   "cell_type": "markdown",
   "metadata": {
    "id": "qidTGrZtilb4"
   },
   "source": [
    "- Customer ID 14646, 18102, 17450 have the highest sales"
   ]
  },
  {
   "cell_type": "markdown",
   "metadata": {
    "id": "Tcan6yrpilb4"
   },
   "source": [
    "### 6. Report the number of customers in each segment"
   ]
  },
  {
   "cell_type": "code",
   "execution_count": 9,
   "metadata": {
    "id": "1aOORVwjilb4",
    "outputId": "e9d5eaa8-c786-436e-860c-1d9abf6af20b"
   },
   "outputs": [
    {
     "data": {
      "text/html": [
       "<div>\n",
       "<style scoped>\n",
       "    .dataframe tbody tr th:only-of-type {\n",
       "        vertical-align: middle;\n",
       "    }\n",
       "\n",
       "    .dataframe tbody tr th {\n",
       "        vertical-align: top;\n",
       "    }\n",
       "\n",
       "    .dataframe thead th {\n",
       "        text-align: right;\n",
       "    }\n",
       "</style>\n",
       "<table border=\"1\" class=\"dataframe\">\n",
       "  <thead>\n",
       "    <tr style=\"text-align: right;\">\n",
       "      <th></th>\n",
       "      <th>CustomerID</th>\n",
       "      <th>Sales</th>\n",
       "      <th>OrderCount</th>\n",
       "      <th>AvgOrderValue</th>\n",
       "      <th>z_Sales</th>\n",
       "      <th>z_OrdCnt</th>\n",
       "      <th>z_AvgOrdVal</th>\n",
       "    </tr>\n",
       "    <tr>\n",
       "      <th>cluster</th>\n",
       "      <th></th>\n",
       "      <th></th>\n",
       "      <th></th>\n",
       "      <th></th>\n",
       "      <th></th>\n",
       "      <th></th>\n",
       "      <th></th>\n",
       "    </tr>\n",
       "  </thead>\n",
       "  <tbody>\n",
       "    <tr>\n",
       "      <th>0</th>\n",
       "      <td>4053</td>\n",
       "      <td>4053</td>\n",
       "      <td>4053</td>\n",
       "      <td>4053</td>\n",
       "      <td>4053</td>\n",
       "      <td>4053</td>\n",
       "      <td>4053</td>\n",
       "    </tr>\n",
       "    <tr>\n",
       "      <th>1</th>\n",
       "      <td>2</td>\n",
       "      <td>2</td>\n",
       "      <td>2</td>\n",
       "      <td>2</td>\n",
       "      <td>2</td>\n",
       "      <td>2</td>\n",
       "      <td>2</td>\n",
       "    </tr>\n",
       "    <tr>\n",
       "      <th>2</th>\n",
       "      <td>4</td>\n",
       "      <td>4</td>\n",
       "      <td>4</td>\n",
       "      <td>4</td>\n",
       "      <td>4</td>\n",
       "      <td>4</td>\n",
       "      <td>4</td>\n",
       "    </tr>\n",
       "    <tr>\n",
       "      <th>3</th>\n",
       "      <td>5</td>\n",
       "      <td>5</td>\n",
       "      <td>5</td>\n",
       "      <td>5</td>\n",
       "      <td>5</td>\n",
       "      <td>5</td>\n",
       "      <td>5</td>\n",
       "    </tr>\n",
       "    <tr>\n",
       "      <th>4</th>\n",
       "      <td>274</td>\n",
       "      <td>274</td>\n",
       "      <td>274</td>\n",
       "      <td>274</td>\n",
       "      <td>274</td>\n",
       "      <td>274</td>\n",
       "      <td>274</td>\n",
       "    </tr>\n",
       "  </tbody>\n",
       "</table>\n",
       "</div>"
      ],
      "text/plain": [
       "         CustomerID  Sales  OrderCount  AvgOrderValue  z_Sales  z_OrdCnt  \\\n",
       "cluster                                                                    \n",
       "0              4053   4053        4053           4053     4053      4053   \n",
       "1                 2      2           2              2        2         2   \n",
       "2                 4      4           4              4        4         4   \n",
       "3                 5      5           5              5        5         5   \n",
       "4               274    274         274            274      274       274   \n",
       "\n",
       "         z_AvgOrdVal  \n",
       "cluster               \n",
       "0               4053  \n",
       "1                  2  \n",
       "2                  4  \n",
       "3                  5  \n",
       "4                274  "
      ]
     },
     "execution_count": 9,
     "metadata": {},
     "output_type": "execute_result"
    }
   ],
   "source": [
    "df.groupby('cluster').count()"
   ]
  },
  {
   "cell_type": "markdown",
   "metadata": {
    "id": "eHj3-pBOnBSP"
   },
   "source": [
    "- `count()`: counts the number of entries for each column in each cluster."
   ]
  },
  {
   "cell_type": "markdown",
   "metadata": {
    "id": "qHDxHLOmilb5"
   },
   "source": [
    "- Cluster 1, 2, 3 have only a few customers"
   ]
  },
  {
   "cell_type": "markdown",
   "metadata": {},
   "source": []
  },
  {
   "cell_type": "markdown",
   "metadata": {
    "id": "rAEOsqAcilb5"
   },
   "source": [
    "## 7. Draw graph: Sales (Y) vs. Order count (X). Put different color for each cluster."
   ]
  },
  {
   "cell_type": "code",
   "execution_count": 10,
   "metadata": {
    "id": "e1hku5kRilb5",
    "outputId": "ce7a722d-9cca-4ddb-81a2-58fe4d088585"
   },
   "outputs": [
    {
     "data": {
      "text/plain": [
       "Text(0, 0.5, 'Total Sales')"
      ]
     },
     "execution_count": 10,
     "metadata": {},
     "output_type": "execute_result"
    },
    {
     "data": {
      "image/png": "[encoded data removed]",
      "text/plain": [
       "<Figure size 432x288 with 1 Axes>"
      ]
     },
     "metadata": {
      "needs_background": "light"
     },
     "output_type": "display_data"
    }
   ],
   "source": [
    "plt.scatter(df.OrderCount, df.Sales)  # x,y\n",
    "plt.title('Total Sales vs. Order Count')\n",
    "plt.xlabel('Order Count')\n",
    "plt.ylabel('Total Sales')"
   ]
  },
  {
   "cell_type": "markdown",
   "metadata": {
    "id": "eVczW893nL5R"
   },
   "source": [
    "- `plt.scatter(df.OrderCount, df.Sales)`: The function is plotting 'OrderCount' on the x-axis and 'Sales' on the y-axis.\n",
    "- `plt.title('Total Sales vs. Order Count')`: This sets the title of the scatter plot.\n",
    "- `plt.xlabel('Order Count')` and `plt.ylabel('Total Sales')`: These functions label the x-axis and y-axis."
   ]
  },
  {
   "cell_type": "code",
   "execution_count": 11,
   "metadata": {
    "id": "jKsVoeerilb6",
    "outputId": "c6b171f2-056a-4ad2-d218-8f97c8aa0bde"
   },
   "outputs": [
    {
     "data": {
      "image/png": "[encoded data removed]",
      "text/plain": [
       "<Figure size 432x288 with 1 Axes>"
      ]
     },
     "metadata": {
      "needs_background": "light"
     },
     "output_type": "display_data"
    }
   ],
   "source": [
    "# With different cluster colors (loc can be omitted)\n",
    "\n",
    "plt.scatter(df.loc[df.cluster==0].OrderCount, df.loc[df.cluster==0].Sales, c='blue')\n",
    "plt.scatter(df.loc[df.cluster==1].OrderCount, df.loc[df.cluster==1].Sales, c='red')\n",
    "plt.scatter(df.loc[df.cluster==2].OrderCount, df.loc[df.cluster==2].Sales, c='orange')\n",
    "plt.scatter(df.loc[df.cluster==3].OrderCount, df.loc[df.cluster==3].Sales, c='green')\n",
    "plt.scatter(df.loc[df.cluster==4].OrderCount, df.loc[df.cluster==4].Sales, c='black')\n",
    "plt.xlabel('Order Count')\n",
    "plt.ylabel('Total Sales')\n",
    "plt.grid()"
   ]
  },
  {
   "cell_type": "markdown",
   "metadata": {
    "id": "ymG7781GnqVv"
   },
   "source": [
    "- `The plt.scatter()` function is called multiple times to plot the points belonging to different clusters with different colors: Each line filters the DataFrame for a specific cluster (e.g., `df.loc[df.cluster==0])` and then plots 'OrderCount' against 'Sales' for that cluster.\n",
    "- The `c` parameter is used to specify the color for the points in each cluster.\n",
    "- `plt.grid()` adds a grid to the plot"
   ]
  },
  {
   "cell_type": "markdown",
   "metadata": {
    "id": "89hhsTJ5ilb6"
   },
   "source": [
    "### 8. Increase the number of times that k-means clustering will be run with different initial centroids to 20. What is the lowest SSE (some of squared error)? What is the actual number of runs to reach the solution (i.e., convergence)?"
   ]
  },
  {
   "cell_type": "code",
   "execution_count": 12,
   "metadata": {
    "id": "lQxZbhdtilb7",
    "outputId": "13eaf2de-01c9-4c3e-99aa-de75d9091fd9"
   },
   "outputs": [
    {
     "data": {
      "text/html": [
       "<div>\n",
       "<style scoped>\n",
       "    .dataframe tbody tr th:only-of-type {\n",
       "        vertical-align: middle;\n",
       "    }\n",
       "\n",
       "    .dataframe tbody tr th {\n",
       "        vertical-align: top;\n",
       "    }\n",
       "\n",
       "    .dataframe thead th {\n",
       "        text-align: right;\n",
       "    }\n",
       "</style>\n",
       "<table border=\"1\" class=\"dataframe\">\n",
       "  <thead>\n",
       "    <tr style=\"text-align: right;\">\n",
       "      <th></th>\n",
       "      <th>CustomerID</th>\n",
       "      <th>Sales</th>\n",
       "      <th>OrderCount</th>\n",
       "      <th>AvgOrderValue</th>\n",
       "      <th>z_Sales</th>\n",
       "      <th>z_OrdCnt</th>\n",
       "      <th>z_AvgOrdVal</th>\n",
       "    </tr>\n",
       "    <tr>\n",
       "      <th>cluster</th>\n",
       "      <th></th>\n",
       "      <th></th>\n",
       "      <th></th>\n",
       "      <th></th>\n",
       "      <th></th>\n",
       "      <th></th>\n",
       "      <th></th>\n",
       "    </tr>\n",
       "  </thead>\n",
       "  <tbody>\n",
       "    <tr>\n",
       "      <th>0</th>\n",
       "      <td>4054</td>\n",
       "      <td>4054</td>\n",
       "      <td>4054</td>\n",
       "      <td>4054</td>\n",
       "      <td>4054</td>\n",
       "      <td>4054</td>\n",
       "      <td>4054</td>\n",
       "    </tr>\n",
       "    <tr>\n",
       "      <th>1</th>\n",
       "      <td>2</td>\n",
       "      <td>2</td>\n",
       "      <td>2</td>\n",
       "      <td>2</td>\n",
       "      <td>2</td>\n",
       "      <td>2</td>\n",
       "      <td>2</td>\n",
       "    </tr>\n",
       "    <tr>\n",
       "      <th>2</th>\n",
       "      <td>5</td>\n",
       "      <td>5</td>\n",
       "      <td>5</td>\n",
       "      <td>5</td>\n",
       "      <td>5</td>\n",
       "      <td>5</td>\n",
       "      <td>5</td>\n",
       "    </tr>\n",
       "    <tr>\n",
       "      <th>3</th>\n",
       "      <td>4</td>\n",
       "      <td>4</td>\n",
       "      <td>4</td>\n",
       "      <td>4</td>\n",
       "      <td>4</td>\n",
       "      <td>4</td>\n",
       "      <td>4</td>\n",
       "    </tr>\n",
       "    <tr>\n",
       "      <th>4</th>\n",
       "      <td>273</td>\n",
       "      <td>273</td>\n",
       "      <td>273</td>\n",
       "      <td>273</td>\n",
       "      <td>273</td>\n",
       "      <td>273</td>\n",
       "      <td>273</td>\n",
       "    </tr>\n",
       "  </tbody>\n",
       "</table>\n",
       "</div>"
      ],
      "text/plain": [
       "         CustomerID  Sales  OrderCount  AvgOrderValue  z_Sales  z_OrdCnt  \\\n",
       "cluster                                                                    \n",
       "0              4054   4054        4054           4054     4054      4054   \n",
       "1                 2      2           2              2        2         2   \n",
       "2                 5      5           5              5        5         5   \n",
       "3                 4      4           4              4        4         4   \n",
       "4               273    273         273            273      273       273   \n",
       "\n",
       "         z_AvgOrdVal  \n",
       "cluster               \n",
       "0               4054  \n",
       "1                  2  \n",
       "2                  5  \n",
       "3                  4  \n",
       "4                273  "
      ]
     },
     "execution_count": 12,
     "metadata": {},
     "output_type": "execute_result"
    }
   ],
   "source": [
    "m = cluster.KMeans(init='k-means++', n_init=20, n_clusters=5).fit(x)\n",
    "df['cluster'] = m.labels_\n",
    "df.groupby('cluster').count()"
   ]
  },
  {
   "cell_type": "markdown",
   "metadata": {
    "id": "tD06tGgQilb7"
   },
   "source": [
    "- `init='k-means++'`(default): Selects initial cluster centers in a smart way to speed up convergence\n",
    "  - e.g.) Select the first center randomly, find the points that are farther to the first center and assign the second cluster center nearby those points\n",
    "- `init='random'`: Random initialization\n",
    "- `n_init`: Number of times the algorithm is run with different initial centroid (default=10). Final results will be  the best output in terms of inertia."
   ]
  },
  {
   "cell_type": "code",
   "execution_count": 13,
   "metadata": {
    "id": "rJOLSa23ilb7",
    "outputId": "d6f5ef7f-5025-4b18-bacf-9ae73e0da8e9"
   },
   "outputs": [
    {
     "data": {
      "text/plain": [
       "2296.1372310080023"
      ]
     },
     "execution_count": 13,
     "metadata": {},
     "output_type": "execute_result"
    }
   ],
   "source": [
    "m.inertia_  "
   ]
  },
  {
   "cell_type": "markdown",
   "metadata": {
    "id": "a1HsXk9OoIl1"
   },
   "source": [
    "- `m.inertia_`: returns the lowest value of the sum of squared distance of samples to cluster center"
   ]
  },
  {
   "cell_type": "code",
   "execution_count": 14,
   "metadata": {
    "id": "Wm-v_WYeilb8",
    "outputId": "598b4c29-83ab-4e15-cc44-32fbcd48d3eb"
   },
   "outputs": [
    {
     "data": {
      "text/plain": [
       "4"
      ]
     },
     "execution_count": 14,
     "metadata": {},
     "output_type": "execute_result"
    }
   ],
   "source": [
    "m.n_iter_  "
   ]
  },
  {
   "cell_type": "markdown",
   "metadata": {
    "id": "9SRCmuSrosD-"
   },
   "source": [
    "- `m.n_iter_`: returns the number of iterations that the algorithm executed until it converged.\n",
    "    - The solution(convergence) was reached before 20 runs.\n",
    "    - This number will be different every time you run the algorithm"
   ]
  },
  {
   "cell_type": "code",
   "execution_count": null,
   "metadata": {
    "id": "6FvEPEpgilb8"
   },
   "outputs": [],
   "source": []
  }
 ],
 "metadata": {
  "colab": {
   "provenance": []
  },
  "kernelspec": {
   "display_name": "Python 3 (ipykernel)",
   "language": "python",
   "name": "python3"
  },
  "language_info": {
   "codemirror_mode": {
    "name": "ipython",
    "version": 3
   },
   "file_extension": ".py",
   "mimetype": "text/x-python",
   "name": "python",
   "nbconvert_exporter": "python",
   "pygments_lexer": "ipython3",
   "version": "3.11.4"
  }
 },
 "nbformat": 4,
 "nbformat_minor": 4
}
