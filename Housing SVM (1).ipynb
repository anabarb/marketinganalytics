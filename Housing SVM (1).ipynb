{
 "cells": [
  {
   "cell_type": "markdown",
   "id": "8caec297-1751-40bb-89ce-a2740c5c514d",
   "metadata": {
    "id": "XJSy4nr-Ubvt"
   },
   "source": [
    "# Housing: SVM\n",
    "\n",
    "Goal: Use Boston city housing data to compare diffrente regressors\n",
    "- Value: Median value of owner-occupied homes in \\$1000's\n",
    "- Crime: per capita crime rate by town\n",
    "- Zone: proportion of residential land zoned for lots over 25,000 sq.ft.\n",
    "- Industrial: proportion of non-retail business acres per town\n",
    "- River: Charles River dummy (= 1 if tract bounds river; 0 otherwise)\n",
    "- Nitric: nitric oxides concentration (parts per 10 million)\n",
    "- Room: average number of rooms per dwelling\n",
    "- Age: proportion of owner-occupied units built prior to 1940\n",
    "- Distance: weighted distances to five Boston employment centres\n",
    "- Hghway: index of accessibility to radial highways\n",
    "- Tax: full-value property-tax rate per $10,000\n",
    "- Tacher: pupil-teacher ratio\n",
    "- Low: percentage of the lower status of the population"
   ]
  },
  {
   "cell_type": "code",
   "execution_count": 1,
   "id": "2f921d24",
   "metadata": {
    "id": "2f921d24"
   },
   "outputs": [],
   "source": [
    "import pandas as pd\n",
    "from sklearn.model_selection import train_test_split, GridSearchCV\n",
    "from sklearn.preprocessing import StandardScaler\n",
    "from sklearn.tree import DecisionTreeRegressor\n",
    "from sklearn.ensemble import RandomForestRegressor\n",
    "from sklearn.svm import SVR\n",
    "from sklearn.metrics import mean_squared_error"
   ]
  },
  {
   "cell_type": "code",
   "execution_count": 2,
   "id": "XQgKamks0omn",
   "metadata": {
    "colab": {
     "base_uri": "https://localhost:8080/",
     "height": 206
    },
    "id": "XQgKamks0omn",
    "outputId": "3262d80d-1449-4e1b-a615-9b62420995b8"
   },
   "outputs": [
    {
     "data": {
      "text/html": [
       "<div>\n",
       "<style scoped>\n",
       "    .dataframe tbody tr th:only-of-type {\n",
       "        vertical-align: middle;\n",
       "    }\n",
       "\n",
       "    .dataframe tbody tr th {\n",
       "        vertical-align: top;\n",
       "    }\n",
       "\n",
       "    .dataframe thead th {\n",
       "        text-align: right;\n",
       "    }\n",
       "</style>\n",
       "<table border=\"1\" class=\"dataframe\">\n",
       "  <thead>\n",
       "    <tr style=\"text-align: right;\">\n",
       "      <th></th>\n",
       "      <th>value</th>\n",
       "      <th>crime</th>\n",
       "      <th>zone</th>\n",
       "      <th>industrial</th>\n",
       "      <th>river</th>\n",
       "      <th>nitric</th>\n",
       "      <th>room</th>\n",
       "      <th>owner</th>\n",
       "      <th>distance</th>\n",
       "      <th>highway</th>\n",
       "      <th>tax</th>\n",
       "      <th>teacher</th>\n",
       "      <th>low</th>\n",
       "    </tr>\n",
       "  </thead>\n",
       "  <tbody>\n",
       "    <tr>\n",
       "      <th>0</th>\n",
       "      <td>24.0</td>\n",
       "      <td>0.00632</td>\n",
       "      <td>18.0</td>\n",
       "      <td>2.31</td>\n",
       "      <td>0</td>\n",
       "      <td>0.538</td>\n",
       "      <td>6.575</td>\n",
       "      <td>65.2</td>\n",
       "      <td>4.0900</td>\n",
       "      <td>1</td>\n",
       "      <td>296</td>\n",
       "      <td>15.3</td>\n",
       "      <td>4.98</td>\n",
       "    </tr>\n",
       "    <tr>\n",
       "      <th>1</th>\n",
       "      <td>21.6</td>\n",
       "      <td>0.02731</td>\n",
       "      <td>0.0</td>\n",
       "      <td>7.07</td>\n",
       "      <td>0</td>\n",
       "      <td>0.469</td>\n",
       "      <td>6.421</td>\n",
       "      <td>78.9</td>\n",
       "      <td>4.9671</td>\n",
       "      <td>2</td>\n",
       "      <td>242</td>\n",
       "      <td>17.8</td>\n",
       "      <td>9.14</td>\n",
       "    </tr>\n",
       "    <tr>\n",
       "      <th>2</th>\n",
       "      <td>34.7</td>\n",
       "      <td>0.02729</td>\n",
       "      <td>0.0</td>\n",
       "      <td>7.07</td>\n",
       "      <td>0</td>\n",
       "      <td>0.469</td>\n",
       "      <td>7.185</td>\n",
       "      <td>61.1</td>\n",
       "      <td>4.9671</td>\n",
       "      <td>2</td>\n",
       "      <td>242</td>\n",
       "      <td>17.8</td>\n",
       "      <td>4.03</td>\n",
       "    </tr>\n",
       "    <tr>\n",
       "      <th>3</th>\n",
       "      <td>33.4</td>\n",
       "      <td>0.03237</td>\n",
       "      <td>0.0</td>\n",
       "      <td>2.18</td>\n",
       "      <td>0</td>\n",
       "      <td>0.458</td>\n",
       "      <td>6.998</td>\n",
       "      <td>45.8</td>\n",
       "      <td>6.0622</td>\n",
       "      <td>3</td>\n",
       "      <td>222</td>\n",
       "      <td>18.7</td>\n",
       "      <td>2.94</td>\n",
       "    </tr>\n",
       "    <tr>\n",
       "      <th>4</th>\n",
       "      <td>36.2</td>\n",
       "      <td>0.06905</td>\n",
       "      <td>0.0</td>\n",
       "      <td>2.18</td>\n",
       "      <td>0</td>\n",
       "      <td>0.458</td>\n",
       "      <td>7.147</td>\n",
       "      <td>54.2</td>\n",
       "      <td>6.0622</td>\n",
       "      <td>3</td>\n",
       "      <td>222</td>\n",
       "      <td>18.7</td>\n",
       "      <td>5.33</td>\n",
       "    </tr>\n",
       "  </tbody>\n",
       "</table>\n",
       "</div>"
      ],
      "text/plain": [
       "   value    crime  zone  industrial  river  nitric   room  owner  distance  \\\n",
       "0   24.0  0.00632  18.0        2.31      0   0.538  6.575   65.2    4.0900   \n",
       "1   21.6  0.02731   0.0        7.07      0   0.469  6.421   78.9    4.9671   \n",
       "2   34.7  0.02729   0.0        7.07      0   0.469  7.185   61.1    4.9671   \n",
       "3   33.4  0.03237   0.0        2.18      0   0.458  6.998   45.8    6.0622   \n",
       "4   36.2  0.06905   0.0        2.18      0   0.458  7.147   54.2    6.0622   \n",
       "\n",
       "   highway  tax  teacher   low  \n",
       "0        1  296     15.3  4.98  \n",
       "1        2  242     17.8  9.14  \n",
       "2        2  242     17.8  4.03  \n",
       "3        3  222     18.7  2.94  \n",
       "4        3  222     18.7  5.33  "
      ]
     },
     "execution_count": 2,
     "metadata": {},
     "output_type": "execute_result"
    }
   ],
   "source": [
    "df = pd.read_csv('Housing Boston city.csv')\n",
    "df.head()"
   ]
  },
  {
   "cell_type": "code",
   "execution_count": 3,
   "id": "c5fbbb8a",
   "metadata": {
    "id": "c5fbbb8a"
   },
   "outputs": [],
   "source": [
    "# Split the data into features and target variable\n",
    "x = df.drop('value', axis=1)\n",
    "y = df.value\n",
    "\n",
    "# Splitting the dataset into the Training set and Test set\n",
    "xtrain, xtest, ytrain, ytest = train_test_split(x, y, random_state=42)\n",
    "\n",
    "# Feature scaling\n",
    "xtrain = StandardScaler().fit_transform(xtrain)\n",
    "xtest = StandardScaler().fit_transform(xtest)"
   ]
  },
  {
   "cell_type": "markdown",
   "id": "559883ae",
   "metadata": {
    "id": "559883ae"
   },
   "source": [
    "- `x = df.drop('value', axis=1)` creates a new DataFrame `x` by dropping the column 'value'.\n",
    "    - `axis=1` indicates that the operation should be performed along columns (i.e., dropping a column).\n",
    "- `y = df.value` assigns the values from the 'value' column to a variable `y`.\n",
    "- `xtrain, xtest, ytrain, ytest = train_test_split()` splits the data into training and testing sets.\n",
    "- `xtrain = StandardScaler().fit_transform(xtrain)` standardizes the training features (`xtrain`). It involves scaling the features to have a mean of 0 and a standard deviation of 1.\n",
    "    - `fit_transform` fitS the scaler to the training data (`xtrain`) and then transform it."
   ]
  },
  {
   "cell_type": "code",
   "execution_count": 4,
   "id": "92f23c8f",
   "metadata": {
    "colab": {
     "base_uri": "https://localhost:8080/"
    },
    "id": "92f23c8f",
    "outputId": "2be28141-c4dd-42ee-b785-94ee4336bcc7"
   },
   "outputs": [],
   "source": [
    "# Decision Tree regressor\n",
    "\n",
    "dt = DecisionTreeRegressor(max_depth=5, random_state=1).fit(xtrain, ytrain)\n",
    "pred1 = dt.predict(xtest)\n",
    "mse1 = mean_squared_error(ytest, pred1)"
   ]
  },
  {
   "cell_type": "markdown",
   "id": "8b5fa366",
   "metadata": {
    "id": "8b5fa366"
   },
   "source": [
    "- `dt = DecisionTreeRegressor().fit(xtrain, ytrain)` creates a DecisionTreeRegressor object.\n",
    "    - `max_depth` specifies the maximum depth of the tree.\n",
    "    - `fit` fits the model to the training data.\n",
    "- `pred1 = dt.predict(xtest)` generates predictions (`pred1`) for the target variable using the trained Decision Tree regressor model (`dt`) on the testing features (`xtest`).\n",
    "- `mse1 = mean_squared_error(ytest, pred1)` calculates the mean squared error (MSE) between the actual target values (`ytest`) and the predicted values (`pred1`)."
   ]
  },
  {
   "cell_type": "code",
   "execution_count": 5,
   "id": "52prZe_F0vX1",
   "metadata": {
    "colab": {
     "base_uri": "https://localhost:8080/"
    },
    "id": "52prZe_F0vX1",
    "outputId": "6bf58d1b-0b8f-4871-b0b4-5200e5db1cee"
   },
   "outputs": [],
   "source": [
    "# Random Forest Regressor\n",
    "\n",
    "rf = RandomForestRegressor(max_features=10, random_state=1).fit(xtrain, ytrain)\n",
    "pred2 = rf.predict(xtest)\n",
    "mse2 = mean_squared_error(ytest, pred2)"
   ]
  },
  {
   "cell_type": "markdown",
   "id": "e69b5b03",
   "metadata": {
    "id": "e69b5b03"
   },
   "source": [
    "- `rf = RandomForestRegressor(max_features=10, random_state=1).fit(xtrain, ytrain)` creates a RandomForestRegressor object with a maximum number of features considered for splitting each node set to 10."
   ]
  },
  {
   "cell_type": "code",
   "execution_count": 6,
   "id": "pqv--1vt0420",
   "metadata": {
    "colab": {
     "base_uri": "https://localhost:8080/"
    },
    "id": "pqv--1vt0420",
    "outputId": "78fa01b1-340e-4f2a-9cfb-46876626c0c8"
   },
   "outputs": [],
   "source": [
    "# SVM Regressor with linear kernel\n",
    "\n",
    "svm1 = SVR(kernel='linear').fit(xtrain, ytrain)\n",
    "pred3 = svm1.predict(xtest)\n",
    "mse3 = mean_squared_error(ytest, pred3)"
   ]
  },
  {
   "cell_type": "markdown",
   "id": "03be5ad5",
   "metadata": {
    "id": "03be5ad5"
   },
   "source": [
    "- `svm1 = SVR(kernel='linear').fit(xtrain, ytrain)` creates an SVR (Support Vector Regressor) object with a linear kernel."
   ]
  },
  {
   "cell_type": "code",
   "execution_count": 7,
   "id": "NoYe4H2W1A_3",
   "metadata": {
    "colab": {
     "base_uri": "https://localhost:8080/"
    },
    "id": "NoYe4H2W1A_3",
    "outputId": "6945ed31-33c1-4675-c3a3-3c163a3017c0"
   },
   "outputs": [],
   "source": [
    "# SVM Regressor with polynomial kernel\n",
    "\n",
    "svm2 = SVR(kernel='poly', degree=3).fit(xtrain, ytrain)\n",
    "pred4 = svm2.predict(xtest)\n",
    "mse4 = mean_squared_error(ytest, pred4)"
   ]
  },
  {
   "cell_type": "markdown",
   "id": "6f4d86d7",
   "metadata": {
    "id": "6f4d86d7"
   },
   "source": [
    "- `svm2 = SVR(kernel='poly', degree=3).fit(xtrain, ytrain)` creates an SVR (Support Vector Regressor) object with a polynomial kernel of degree 3."
   ]
  },
  {
   "cell_type": "code",
   "execution_count": 8,
   "id": "gQOKZcGm1EaP",
   "metadata": {
    "colab": {
     "base_uri": "https://localhost:8080/"
    },
    "id": "gQOKZcGm1EaP",
    "outputId": "c0d9ef81-22e2-4031-98e6-5b523bc8295f"
   },
   "outputs": [],
   "source": [
    "# SVM Regressor with RBF kernel\n",
    "\n",
    "svm3 = SVR(kernel='rbf').fit(xtrain, ytrain)\n",
    "pred5 = svm3.predict(xtest)\n",
    "mse5 = mean_squared_error(ytest, pred5)"
   ]
  },
  {
   "cell_type": "markdown",
   "id": "b7d8f470",
   "metadata": {
    "id": "b7d8f470"
   },
   "source": [
    "- `svm3 = SVR(kernel='rbf').fit(xtrain, ytrain)` creates an SVR (Support Vector Regressor) object with an RBF kernel."
   ]
  },
  {
   "cell_type": "code",
   "execution_count": 9,
   "id": "w1m3jNO01Hnj",
   "metadata": {
    "colab": {
     "base_uri": "https://localhost:8080/"
    },
    "id": "w1m3jNO01Hnj",
    "outputId": "382e4825-d777-4271-aa9c-de07e64aecaa"
   },
   "outputs": [
    {
     "name": "stdout",
     "output_type": "stream",
     "text": [
      "Decision Tree MSE: 16.911385263259735\n",
      "Random Forest MSE: 11.561203433070865\n",
      "SVM Linear MSE: 25.114979899031418\n",
      "SVM Polynomial MSE: 20.380428314798667\n",
      "SVM RBF MSE: 26.277714829158647\n"
     ]
    }
   ],
   "source": [
    "print(\"Decision Tree MSE:\", mse1)\n",
    "print(\"Random Forest MSE:\", mse2)\n",
    "print(\"SVM Linear MSE:\", mse3)\n",
    "print(\"SVM Polynomial MSE:\", mse4)\n",
    "print(\"SVM RBF MSE:\", mse5)"
   ]
  },
  {
   "cell_type": "markdown",
   "id": "87c6e07d-3891-4530-9006-fa3af47f7948",
   "metadata": {
    "id": "6dNUL19gCWWb"
   },
   "source": [
    "### Hyperparameter tuning"
   ]
  },
  {
   "cell_type": "code",
   "execution_count": 10,
   "id": "mTZPwndjvwNO",
   "metadata": {
    "colab": {
     "base_uri": "https://localhost:8080/"
    },
    "id": "mTZPwndjvwNO",
    "outputId": "be95a9fe-89d7-4754-fb24-bad882c8e452",
    "tags": []
   },
   "outputs": [
    {
     "name": "stdout",
     "output_type": "stream",
     "text": [
      "Best parameter: {'C': 100}\n",
      "Best MSE: 9.984685618908673\n"
     ]
    }
   ],
   "source": [
    "# Define parameter grid\n",
    "param = {'C': [0.1, 1, 10, 100, 1000]}\n",
    "\n",
    "# Create the SVR model with RBF kernel\n",
    "svr = SVR(kernel='rbf')\n",
    "\n",
    "# Grid search with cross-validation\n",
    "search = GridSearchCV(svr, param, cv=5, scoring='neg_mean_squared_error').fit(xtrain, ytrain)\n",
    "\n",
    "# Best parameters and best score\n",
    "print(\"Best parameter:\", search.best_params_)\n",
    "print(\"Best MSE:\", -search.best_score_)"
   ]
  },
  {
   "cell_type": "markdown",
   "id": "QyYG0VqOzlxK",
   "metadata": {
    "id": "QyYG0VqOzlxK"
   },
   "source": [
    "- `param` specifies the hyperparameters to be tuned and the range of values to be searched over. \n",
    "   - `C`: Regularization parameter.\n",
    "- `svr = SVR(kernel='rbf')`: An SVR model with a radial basis function (RBF) kernel is instantiated.\n",
    "- `GridSearchCV` exhaustively searches through a specified grid of hyperparameters, evaluating the model performance using cross-validation on each combination of hyperparameters.\n",
    "   - `estimator`: the SVR model with RBF kernel (`svr`).\n",
    "   - `cv`: The number of folds for cross-validation, set to 5 (`cv=5`).\n",
    "   - `scoring`: The evaluation metric used to select the best parameters (negative mean squared error).\n",
    "- After fitting the grid search model, the best combination of hyperparameters (`best_params_`) and the corresponding best score in terms of negative mean squared error (`best_score_`) are printed.\n",
    "    - `-` sign is used to obtain MSE"
   ]
  },
  {
   "cell_type": "code",
   "execution_count": null,
   "id": "HkgbLrIsvx7M",
   "metadata": {
    "id": "HkgbLrIsvx7M"
   },
   "outputs": [],
   "source": []
  }
 ],
 "metadata": {
  "colab": {
   "provenance": []
  },
  "kernelspec": {
   "display_name": "Python 3 (ipykernel)",
   "language": "python",
   "name": "python3"
  },
  "language_info": {
   "codemirror_mode": {
    "name": "ipython",
    "version": 3
   },
   "file_extension": ".py",
   "mimetype": "text/x-python",
   "name": "python",
   "nbconvert_exporter": "python",
   "pygments_lexer": "ipython3",
   "version": "3.11.4"
  }
 },
 "nbformat": 4,
 "nbformat_minor": 5
}
