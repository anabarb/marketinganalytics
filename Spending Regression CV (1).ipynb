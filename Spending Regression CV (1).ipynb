{
 "cells": [
  {
   "cell_type": "markdown",
   "metadata": {
    "id": "6VD9WEi0WGxf"
   },
   "source": [
    "# Customer spending: Regression Model Evaluation with cross-validation\n",
    "- Use “Spending” data."
   ]
  },
  {
   "cell_type": "code",
   "execution_count": 1,
   "metadata": {
    "id": "rK2ahlgNWGxj"
   },
   "outputs": [],
   "source": [
    "import pandas as pd\n",
    "from sklearn import model_selection\n",
    "from sklearn.model_selection import train_test_split, KFold\n",
    "from sklearn.linear_model import LinearRegression\n",
    "from sklearn.metrics import mean_squared_error, mean_absolute_error, r2_score"
   ]
  },
  {
   "cell_type": "markdown",
   "metadata": {
    "id": "7F8KySYFWGxk"
   },
   "source": [
    "### 1. Divide the data into 75% training and 25% test set (use random_state=10) and run the following OLS models on training data. Report regression coefficients of the two models.\n",
    "- Dependent variable = 'cur_year_spend'\n",
    "- M1: Independent variables = all other variables\n",
    "- M2: Independent variables = all other variables except 'prev_year_spend'"
   ]
  },
  {
   "cell_type": "code",
   "execution_count": 2,
   "metadata": {
    "id": "mJqmDj5FWGxk",
    "outputId": "725e7007-99f8-49d5-c633-80c2a72ae810"
   },
   "outputs": [
    {
     "data": {
      "text/html": [
       "<div>\n",
       "<style scoped>\n",
       "    .dataframe tbody tr th:only-of-type {\n",
       "        vertical-align: middle;\n",
       "    }\n",
       "\n",
       "    .dataframe tbody tr th {\n",
       "        vertical-align: top;\n",
       "    }\n",
       "\n",
       "    .dataframe thead th {\n",
       "        text-align: right;\n",
       "    }\n",
       "</style>\n",
       "<table border=\"1\" class=\"dataframe\">\n",
       "  <thead>\n",
       "    <tr style=\"text-align: right;\">\n",
       "      <th></th>\n",
       "      <th>cur_year_spend</th>\n",
       "      <th>prev_year_spend</th>\n",
       "      <th>days_since_last_purchase</th>\n",
       "      <th>days_since_first_purchase</th>\n",
       "      <th>total_transactions</th>\n",
       "      <th>age</th>\n",
       "      <th>income</th>\n",
       "      <th>engagement_score</th>\n",
       "    </tr>\n",
       "  </thead>\n",
       "  <tbody>\n",
       "    <tr>\n",
       "      <th>0</th>\n",
       "      <td>5536.46</td>\n",
       "      <td>1681.26</td>\n",
       "      <td>7</td>\n",
       "      <td>61</td>\n",
       "      <td>34</td>\n",
       "      <td>61</td>\n",
       "      <td>97914.93</td>\n",
       "      <td>-0.652392</td>\n",
       "    </tr>\n",
       "    <tr>\n",
       "      <th>1</th>\n",
       "      <td>871.41</td>\n",
       "      <td>1366.74</td>\n",
       "      <td>12</td>\n",
       "      <td>34</td>\n",
       "      <td>33</td>\n",
       "      <td>68</td>\n",
       "      <td>30904.69</td>\n",
       "      <td>0.007327</td>\n",
       "    </tr>\n",
       "    <tr>\n",
       "      <th>2</th>\n",
       "      <td>2046.74</td>\n",
       "      <td>1419.38</td>\n",
       "      <td>10</td>\n",
       "      <td>81</td>\n",
       "      <td>22</td>\n",
       "      <td>54</td>\n",
       "      <td>48194.59</td>\n",
       "      <td>0.221666</td>\n",
       "    </tr>\n",
       "    <tr>\n",
       "      <th>3</th>\n",
       "      <td>4662.70</td>\n",
       "      <td>1561.21</td>\n",
       "      <td>12</td>\n",
       "      <td>32</td>\n",
       "      <td>34</td>\n",
       "      <td>49</td>\n",
       "      <td>93551.98</td>\n",
       "      <td>1.149641</td>\n",
       "    </tr>\n",
       "    <tr>\n",
       "      <th>4</th>\n",
       "      <td>3539.46</td>\n",
       "      <td>1397.60</td>\n",
       "      <td>17</td>\n",
       "      <td>72</td>\n",
       "      <td>34</td>\n",
       "      <td>66</td>\n",
       "      <td>66267.57</td>\n",
       "      <td>0.835834</td>\n",
       "    </tr>\n",
       "  </tbody>\n",
       "</table>\n",
       "</div>"
      ],
      "text/plain": [
       "   cur_year_spend  prev_year_spend  days_since_last_purchase  \\\n",
       "0         5536.46          1681.26                         7   \n",
       "1          871.41          1366.74                        12   \n",
       "2         2046.74          1419.38                        10   \n",
       "3         4662.70          1561.21                        12   \n",
       "4         3539.46          1397.60                        17   \n",
       "\n",
       "   days_since_first_purchase  total_transactions  age    income  \\\n",
       "0                         61                  34   61  97914.93   \n",
       "1                         34                  33   68  30904.69   \n",
       "2                         81                  22   54  48194.59   \n",
       "3                         32                  34   49  93551.98   \n",
       "4                         72                  34   66  66267.57   \n",
       "\n",
       "   engagement_score  \n",
       "0         -0.652392  \n",
       "1          0.007327  \n",
       "2          0.221666  \n",
       "3          1.149641  \n",
       "4          0.835834  "
      ]
     },
     "execution_count": 2,
     "metadata": {},
     "output_type": "execute_result"
    }
   ],
   "source": [
    "# Read data\n",
    "\n",
    "df = pd.read_csv('Spending.csv')\n",
    "df.head()"
   ]
  },
  {
   "cell_type": "markdown",
   "metadata": {
    "id": "gPvUWChUWUOE"
   },
   "source": [
    "- `pd.read_csv`: Used to read data from a CSV file (here Customer spend.csv) and create a DataFrame."
   ]
  },
  {
   "cell_type": "code",
   "execution_count": 3,
   "metadata": {
    "id": "Wy8tHUJ8WGxl"
   },
   "outputs": [],
   "source": [
    "# Define x, y for M1\n",
    "\n",
    "y=df.cur_year_spend\n",
    "x1=df[['prev_year_spend', 'days_since_last_purchase', 'days_since_first_purchase',\n",
    "       'total_transactions', 'age', 'income', 'engagement_score']]\n",
    "\n",
    "x1 = df[df.columns[1:]]  # Alternative: all rows, 2nd~last columns\n",
    "x1 = df.iloc[:, 1:]  # Alternative: all rows, 2nd~last columns"
   ]
  },
  {
   "cell_type": "markdown",
   "metadata": {
    "id": "ZtAhCZ2_WssA"
   },
   "source": [
    "- `y = df.cur_year_spend`: Assigns the 'cur_year_spend' column from the DataFrame df to the variable y.\n",
    "- `x1 = df[[...]]`: Creates a DataFrame x1 by selecting specific columns from the original DataFrame df.\n",
    "- `x1 = df[df.columns[1:]]`: Assigns to x1 all rows and columns from the second column (index 1) to the last column of the DataFrame df.\n",
    "- `x1 = df.iloc[:, 1:]`: It uses integer-based indexing with the iloc method to select all rows (indicated by :) and all columns from the second column (index 1) to the last column of the DataFrame df."
   ]
  },
  {
   "cell_type": "code",
   "execution_count": 4,
   "metadata": {
    "id": "2yiUJw-5WGxm",
    "outputId": "5921e427-b07f-4652-83a3-37535a8c308e"
   },
   "outputs": [
    {
     "data": {
      "text/plain": [
       "array([ 0.8563393 , -0.19767076, 15.55976917, 48.90062143, -0.18158702,\n",
       "        0.05973838,  1.41221236])"
      ]
     },
     "execution_count": 4,
     "metadata": {},
     "output_type": "execute_result"
    }
   ],
   "source": [
    "# Divide data into training and test sets. Fit regression model 1 and obtain coefficients.\n",
    "\n",
    "xtrain1, xtest1, ytrain, ytest = train_test_split(x1, y, random_state=10)  # default: 75%, 25% split\n",
    "\n",
    "m1 = LinearRegression().fit(xtrain1, ytrain)\n",
    "m1.coef_"
   ]
  },
  {
   "cell_type": "markdown",
   "metadata": {
    "id": "ET04TdZ-XYDC"
   },
   "source": [
    "- `xtrain1, xtest1, ytrain, ytest = train_test_split(x1, y, random_state=10)`: This line uses the train_test_split function to split your data into training and test sets.\n",
    "    - `random_state=10` ensures that the random split is the same every time you run the code with the same dataset. You can use any integer.\n",
    "- `m1 = LinearRegression().fit(xtrain1, ytrain)`: This line creates a linear regression model (m1) and fits it to the training data (xtrain1, ytrain).\n",
    "- `m1.coef_`: This code retrieves the coefficients of the linear regression model."
   ]
  },
  {
   "cell_type": "code",
   "execution_count": 5,
   "metadata": {
    "id": "MfSpPIcPWGxm",
    "outputId": "3b964146-29cb-430a-ea8e-4b27cca84b9c"
   },
   "outputs": [],
   "source": [
    "# Define x for M2\n",
    "\n",
    "xtrain2 = xtrain1.drop('prev_year_spend', axis=1)\n",
    "xtest2 = xtest1.drop('prev_year_spend', axis=1)"
   ]
  },
  {
   "cell_type": "markdown",
   "metadata": {
    "id": "Zfp06L9yX_q8"
   },
   "source": [
    "- `xtrain2 = xtrain1.drop('prev_year_spend', axis=1)`: Creates a new DataFrame xtrain2 by dropping the 'prev_year_spend' column from the xtrain1 DataFrame. \n",
    "    - `axis=1` indicates that you're removing a column."
   ]
  },
  {
   "cell_type": "code",
   "execution_count": 6,
   "metadata": {
    "id": "MfSpPIcPWGxm",
    "outputId": "3b964146-29cb-430a-ea8e-4b27cca84b9c"
   },
   "outputs": [
    {
     "data": {
      "text/plain": [
       "array([  2.57941059,  15.65593588,  50.36041994,  -2.39007632,\n",
       "         0.05957811, -14.05342288])"
      ]
     },
     "execution_count": 6,
     "metadata": {},
     "output_type": "execute_result"
    }
   ],
   "source": [
    "# Fit model 2 and obtain coefficients.\n",
    "\n",
    "m2 = LinearRegression().fit(xtrain2, ytrain)\n",
    "m2.coef_"
   ]
  },
  {
   "cell_type": "markdown",
   "metadata": {
    "id": "8eOALS-oWGxm"
   },
   "source": [
    "### 2. Compare MSE, MAE, and R2 of the two models on test data. Summarize your findings"
   ]
  },
  {
   "cell_type": "code",
   "execution_count": 7,
   "metadata": {
    "id": "RbKUsscBWGxo"
   },
   "outputs": [],
   "source": [
    "# Predict y\n",
    "\n",
    "pred1 = m1.predict(xtest1)\n",
    "pred2 = m2.predict(xtest2)"
   ]
  },
  {
   "cell_type": "markdown",
   "metadata": {
    "id": "WPCUgbjbYVl2"
   },
   "source": [
    "- `predict(xtest1)`: It predicts y using m1 on the xtest1 datasets."
   ]
  },
  {
   "cell_type": "code",
   "execution_count": 8,
   "metadata": {
    "id": "7ET22WCSWGxo",
    "outputId": "82a9235a-6ac5-43da-f31a-f872428f9202"
   },
   "outputs": [
    {
     "name": "stdout",
     "output_type": "stream",
     "text": [
      "MSE1 2856.6489804141784\n",
      "MAE1 43.05753616199802\n",
      "R2_1 0.9979974884016146\n"
     ]
    }
   ],
   "source": [
    "# Obtain MSE, MAE, R2 for M1\n",
    "\n",
    "print('MSE1', mean_squared_error(ytest, pred1))\n",
    "print('MAE1', mean_absolute_error(ytest, pred1))\n",
    "print('R2_1', r2_score(ytest, pred1))"
   ]
  },
  {
   "cell_type": "markdown",
   "metadata": {
    "id": "jMTq1lH_YtKG"
   },
   "source": [
    "- `mean_squared_error()`: calculates the Mean Squared Error.\n",
    "- `mean_absolute_error()`: calculates the Mean Absolute Error.\n",
    "- `r2_score()`: calculates the R-squared (R^2) score."
   ]
  },
  {
   "cell_type": "code",
   "execution_count": 9,
   "metadata": {
    "id": "VTCtmgsBWGxo",
    "outputId": "91560175-330b-4af8-812d-049444a154b4"
   },
   "outputs": [
    {
     "name": "stdout",
     "output_type": "stream",
     "text": [
      "MSE2 181266.34045003506\n",
      "MAE2 340.7897642596115\n",
      "R2_2 0.8729322532670999\n"
     ]
    }
   ],
   "source": [
    "# Obtain MSE, MAE, R2 for M2\n",
    "\n",
    "print('MSE2', mean_squared_error(ytest, pred2))\n",
    "print('MAE2', mean_absolute_error(ytest, pred2))\n",
    "print('R2_2', r2_score(ytest, pred2))"
   ]
  },
  {
   "cell_type": "markdown",
   "metadata": {
    "id": "qjBkpAS9WGxp"
   },
   "source": [
    "- M1 is a better model than M2: MSE and MAE are smaller for M1 and R2 is larger for M1."
   ]
  },
  {
   "cell_type": "markdown",
   "metadata": {
    "id": "Nlzu9wqkWGxp"
   },
   "source": [
    "### 3. Compare MSE and MAE of the two models using 10-fold cross validation. Summarize your findings"
   ]
  },
  {
   "cell_type": "code",
   "execution_count": 10,
   "metadata": {
    "id": "wevtNF7rWGxp"
   },
   "outputs": [],
   "source": [
    "# Define linear regression and 10 fold CV\n",
    "\n",
    "ols = LinearRegression()\n",
    "cv10 = model_selection.KFold(n_splits=10)"
   ]
  },
  {
   "cell_type": "markdown",
   "metadata": {
    "id": "o53dRB-3ZK3K"
   },
   "source": [
    "- `ols = LinearRegression()`: Initializes a linear regression model.\n",
    "- `cv10 = model_selection.KFold(n_splits=10)`: This line sets up a 10-fold cross-validation scheme."
   ]
  },
  {
   "cell_type": "code",
   "execution_count": 11,
   "metadata": {
    "id": "Atxea7FMWGxp",
    "outputId": "468c84e9-a969-4315-97c4-3171d959c7a6"
   },
   "outputs": [
    {
     "name": "stdout",
     "output_type": "stream",
     "text": [
      "MSE1 [2783.85302023 2987.38416973 3524.19810311 2853.96659648 2571.39931392\n",
      " 2413.61338146 2931.00530014 2535.94415572 3041.52995316 2599.38586265]\n",
      "MAE1 [42.47136833 44.69460957 48.78478122 40.70813086 41.15156675 39.15389552\n",
      " 42.65617524 41.37091645 43.22787964 41.94108309]\n"
     ]
    }
   ],
   "source": [
    "# Obtain MSE, MAE for M1\n",
    "mse1=-(model_selection.cross_val_score(ols, x1, y, cv=cv10, scoring='neg_mean_squared_error'))\n",
    "mae1=-(model_selection.cross_val_score(ols, x1, y, cv=cv10, scoring='neg_mean_absolute_error'))\n",
    "\n",
    "# scores of the estimator for each run of CV\n",
    "print('MSE1', mse1)  \n",
    "print('MAE1', mae1)"
   ]
  },
  {
   "cell_type": "markdown",
   "metadata": {
    "id": "hAeYUJjLaPK2"
   },
   "source": [
    "- `model_selection.cross_val_score()`: It evaluates the performance of a model using cross-validation and returns an array of scores (in this case, MSE values).\n",
    "- `ols`: This is the linear regression model that you want to evaluate.\n",
    "- `scoring='neg_mean_squared_error'`: The scoring parameter specifies the scoring metric used to evaluate the model. In this case, it's set to the negative of the mean squared error (MSE)."
   ]
  },
  {
   "cell_type": "code",
   "execution_count": 12,
   "metadata": {
    "id": "9PtS6L5IWGxp",
    "outputId": "98e7d13b-c59b-4a6e-ad5d-715058d32ee9"
   },
   "outputs": [
    {
     "name": "stdout",
     "output_type": "stream",
     "text": [
      "MSE1 2824.2279856612613\n",
      "MAE1 42.616040668265896\n"
     ]
    }
   ],
   "source": [
    "# Average scores of all the runs of CV\n",
    "\n",
    "print('MSE1', mse1.mean())\n",
    "print('MAE1', mae1.mean())"
   ]
  },
  {
   "cell_type": "markdown",
   "metadata": {
    "id": "giqjEsOaatm5"
   },
   "source": [
    "- `mse1=mse1.mean()`: Calculates the mean of the MSE values obtained from cross-validation."
   ]
  },
  {
   "cell_type": "code",
   "execution_count": 13,
   "metadata": {
    "id": "7XA6TAqbWGxq",
    "outputId": "f1050835-e1e3-4405-dcf8-313e3b84d159"
   },
   "outputs": [
    {
     "name": "stdout",
     "output_type": "stream",
     "text": [
      "[183946.64271733 193666.38951621 160690.84408008 169823.02726641\n",
      " 170530.90864855 188506.12389994 187050.48843526 167547.91321476\n",
      " 146522.43349646 244990.06184977]\n",
      "[350.10248198 351.72924476 311.59696414 340.2184894  340.42371759\n",
      " 343.83641777 355.17271902 344.30419057 297.3769624  411.30379277]\n"
     ]
    }
   ],
   "source": [
    "# Define x for M2. Obtain MSE, MAE for M2\n",
    "x2 = x1.drop('prev_year_spend', axis=1)\n",
    "mse2=-(model_selection.cross_val_score(ols, x2, y, cv=cv10, scoring='neg_mean_squared_error'))\n",
    "mae2=-(model_selection.cross_val_score(ols, x2, y, cv=cv10, scoring='neg_mean_absolute_error'))\n",
    "\n",
    "# scores of the estimator for each run of CV\n",
    "print(mse2)\n",
    "print(mae2)"
   ]
  },
  {
   "cell_type": "code",
   "execution_count": 14,
   "metadata": {
    "id": "p6m4MTMRWGxq",
    "outputId": "635fddb1-a439-430c-94ee-8f554f782a50"
   },
   "outputs": [
    {
     "name": "stdout",
     "output_type": "stream",
     "text": [
      "MSE2 181327.48331247782\n",
      "MAE2 344.6064980394614\n"
     ]
    }
   ],
   "source": [
    "# Average scores of all the runs of CV\n",
    "\n",
    "print('MSE2', mse2.mean())\n",
    "print('MAE2', mae2.mean())"
   ]
  },
  {
   "cell_type": "markdown",
   "metadata": {
    "id": "vE1SEvRqWGxq"
   },
   "source": [
    "- M1 is a better model than M2: MSE and MAE are smaller for M1"
   ]
  },
  {
   "cell_type": "markdown",
   "metadata": {
    "id": "fajvSbljWGxq"
   },
   "source": [
    "### 4. Compare MSE and MAE of the two models using leave-one-out cross validation. Summarize your findings"
   ]
  },
  {
   "cell_type": "code",
   "execution_count": 15,
   "metadata": {
    "id": "dclP9yAkWGxq",
    "outputId": "715d1931-3547-40b6-891e-db322ddbb66f"
   },
   "outputs": [],
   "source": [
    "# Define OLS and Leave-one-out CV\n",
    "\n",
    "ols = LinearRegression()\n",
    "loo = model_selection.LeaveOneOut()"
   ]
  },
  {
   "cell_type": "markdown",
   "metadata": {
    "id": "BqKeyP_ObKCT"
   },
   "source": [
    "- `loo = model_selection.LeaveOneOut()`: Creates a Leave-One-Out (LOO) cross-validation object.\n",
    "- LOO is a specific type of cross-validation where each data point is used as the test set exactly once, while the rest of the data is used for training."
   ]
  },
  {
   "cell_type": "code",
   "execution_count": 16,
   "metadata": {
    "id": "dclP9yAkWGxq",
    "outputId": "715d1931-3547-40b6-891e-db322ddbb66f"
   },
   "outputs": [],
   "source": [
    "# Obtain MSE, MAE for M1: Scores of the estimator for each run of CV\n",
    "\n",
    "mse1=-(model_selection.cross_val_score(ols, x1, y, cv=loo, scoring='neg_mean_squared_error'))\n",
    "mae1=-(model_selection.cross_val_score(ols, x1, y, cv=loo, scoring='neg_mean_absolute_error'))"
   ]
  },
  {
   "cell_type": "code",
   "execution_count": 17,
   "metadata": {
    "id": "dclP9yAkWGxq",
    "outputId": "715d1931-3547-40b6-891e-db322ddbb66f"
   },
   "outputs": [
    {
     "name": "stdout",
     "output_type": "stream",
     "text": [
      "MSE1 2827.971634160528\n",
      "MAE1 42.67415903955856\n"
     ]
    }
   ],
   "source": [
    "# Average scores of all the runs of CV\n",
    "\n",
    "print('MSE1', mse1.mean())\n",
    "print('MAE1', mae1.mean())"
   ]
  },
  {
   "cell_type": "code",
   "execution_count": 18,
   "metadata": {
    "id": "zWO-MCnBWGxr",
    "outputId": "bf6253cd-4992-45ea-9a1c-57289135e67d"
   },
   "outputs": [],
   "source": [
    "# Obtain MSE, MAE for M1: Scores of the estimator for each run of CV\n",
    "\n",
    "mse2=-(model_selection.cross_val_score(ols, x2, y, cv=loo, scoring='neg_mean_squared_error'))\n",
    "mae2=-(model_selection.cross_val_score(ols, x2, y, cv=loo, scoring='neg_mean_absolute_error'))"
   ]
  },
  {
   "cell_type": "code",
   "execution_count": 19,
   "metadata": {
    "id": "zWO-MCnBWGxr",
    "outputId": "bf6253cd-4992-45ea-9a1c-57289135e67d"
   },
   "outputs": [
    {
     "name": "stdout",
     "output_type": "stream",
     "text": [
      "MSE2 180421.42538956885\n",
      "MAE2 343.61913594548764\n"
     ]
    }
   ],
   "source": [
    "# Average scores of all the runs of CV\n",
    "\n",
    "print('MSE2', mse2.mean())\n",
    "print('MAE2', mae2.mean())"
   ]
  },
  {
   "cell_type": "markdown",
   "metadata": {
    "id": "56UBbkh2WGxr"
   },
   "source": [
    "- M1 is a better model than M2: MSE and MAE are smaller for M1"
   ]
  },
  {
   "cell_type": "code",
   "execution_count": null,
   "metadata": {
    "id": "tEKOKT37WGxr"
   },
   "outputs": [],
   "source": []
  }
 ],
 "metadata": {
  "colab": {
   "provenance": []
  },
  "kernelspec": {
   "display_name": "Python 3",
   "language": "python",
   "name": "python3"
  },
  "language_info": {
   "codemirror_mode": {
    "name": "ipython",
    "version": 3
   },
   "file_extension": ".py",
   "mimetype": "text/x-python",
   "name": "python",
   "nbconvert_exporter": "python",
   "pygments_lexer": "ipython3",
   "version": "3.8.8"
  }
 },
 "nbformat": 4,
 "nbformat_minor": 4
}
