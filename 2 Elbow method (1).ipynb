{
 "cells": [
  {
   "cell_type": "markdown",
   "metadata": {
    "id": "PYmdc0Wf01jo"
   },
   "source": [
    "# Elbow method: Selecting the number of clusters"
   ]
  },
  {
   "cell_type": "code",
   "execution_count": 1,
   "metadata": {
    "id": "6sWwle8s01jp"
   },
   "outputs": [],
   "source": [
    "import pandas as pd\n",
    "import numpy as np\n",
    "from sklearn import preprocessing\n",
    "import matplotlib.pyplot as plt\n",
    "from sklearn import cluster"
   ]
  },
  {
   "cell_type": "markdown",
   "metadata": {
    "id": "o03bPFJu01jr"
   },
   "source": [
    "### 1. Use 'Annual spending.csv'. Standardize the variables."
   ]
  },
  {
   "cell_type": "code",
   "execution_count": 2,
   "metadata": {
    "id": "_wTvgBua01js",
    "outputId": "db2c5da2-85ad-45a4-c44a-7df5afd1122e"
   },
   "outputs": [
    {
     "data": {
      "text/html": [
       "<div>\n",
       "<style scoped>\n",
       "    .dataframe tbody tr th:only-of-type {\n",
       "        vertical-align: middle;\n",
       "    }\n",
       "\n",
       "    .dataframe tbody tr th {\n",
       "        vertical-align: top;\n",
       "    }\n",
       "\n",
       "    .dataframe thead th {\n",
       "        text-align: right;\n",
       "    }\n",
       "</style>\n",
       "<table border=\"1\" class=\"dataframe\">\n",
       "  <thead>\n",
       "    <tr style=\"text-align: right;\">\n",
       "      <th></th>\n",
       "      <th>income</th>\n",
       "      <th>age</th>\n",
       "      <th>days_since_buy</th>\n",
       "      <th>annual_spend</th>\n",
       "    </tr>\n",
       "  </thead>\n",
       "  <tbody>\n",
       "    <tr>\n",
       "      <th>0</th>\n",
       "      <td>37453</td>\n",
       "      <td>48</td>\n",
       "      <td>504</td>\n",
       "      <td>4441</td>\n",
       "    </tr>\n",
       "    <tr>\n",
       "      <th>1</th>\n",
       "      <td>50775</td>\n",
       "      <td>50</td>\n",
       "      <td>566</td>\n",
       "      <td>4239</td>\n",
       "    </tr>\n",
       "    <tr>\n",
       "      <th>2</th>\n",
       "      <td>71047</td>\n",
       "      <td>41</td>\n",
       "      <td>326</td>\n",
       "      <td>5834</td>\n",
       "    </tr>\n",
       "    <tr>\n",
       "      <th>3</th>\n",
       "      <td>52239</td>\n",
       "      <td>52</td>\n",
       "      <td>259</td>\n",
       "      <td>5456</td>\n",
       "    </tr>\n",
       "    <tr>\n",
       "      <th>4</th>\n",
       "      <td>112343</td>\n",
       "      <td>27</td>\n",
       "      <td>279</td>\n",
       "      <td>1749</td>\n",
       "    </tr>\n",
       "  </tbody>\n",
       "</table>\n",
       "</div>"
      ],
      "text/plain": [
       "   income  age  days_since_buy  annual_spend\n",
       "0   37453   48             504          4441\n",
       "1   50775   50             566          4239\n",
       "2   71047   41             326          5834\n",
       "3   52239   52             259          5456\n",
       "4  112343   27             279          1749"
      ]
     },
     "execution_count": 2,
     "metadata": {},
     "output_type": "execute_result"
    }
   ],
   "source": [
    "df = pd.read_csv('Annual spending.csv')\n",
    "df.head()"
   ]
  },
  {
   "cell_type": "code",
   "execution_count": 3,
   "metadata": {
    "id": "1T_LeiIF01jt",
    "outputId": "d24bad86-afe8-4edc-d908-e63abd6107f8"
   },
   "outputs": [
    {
     "data": {
      "text/html": [
       "<div>\n",
       "<style scoped>\n",
       "    .dataframe tbody tr th:only-of-type {\n",
       "        vertical-align: middle;\n",
       "    }\n",
       "\n",
       "    .dataframe tbody tr th {\n",
       "        vertical-align: top;\n",
       "    }\n",
       "\n",
       "    .dataframe thead th {\n",
       "        text-align: right;\n",
       "    }\n",
       "</style>\n",
       "<table border=\"1\" class=\"dataframe\">\n",
       "  <thead>\n",
       "    <tr style=\"text-align: right;\">\n",
       "      <th></th>\n",
       "      <th>income</th>\n",
       "      <th>age</th>\n",
       "      <th>days_since_buy</th>\n",
       "      <th>annual_spend</th>\n",
       "      <th>z_income</th>\n",
       "      <th>z_age</th>\n",
       "      <th>z_days_since_buy</th>\n",
       "      <th>z_annual_spend</th>\n",
       "    </tr>\n",
       "  </thead>\n",
       "  <tbody>\n",
       "    <tr>\n",
       "      <th>0</th>\n",
       "      <td>37453</td>\n",
       "      <td>48</td>\n",
       "      <td>504</td>\n",
       "      <td>4441</td>\n",
       "      <td>-0.890426</td>\n",
       "      <td>0.604861</td>\n",
       "      <td>0.753257</td>\n",
       "      <td>0.062276</td>\n",
       "    </tr>\n",
       "    <tr>\n",
       "      <th>1</th>\n",
       "      <td>50775</td>\n",
       "      <td>50</td>\n",
       "      <td>566</td>\n",
       "      <td>4239</td>\n",
       "      <td>-0.553094</td>\n",
       "      <td>0.789354</td>\n",
       "      <td>1.306361</td>\n",
       "      <td>-0.058939</td>\n",
       "    </tr>\n",
       "    <tr>\n",
       "      <th>2</th>\n",
       "      <td>71047</td>\n",
       "      <td>41</td>\n",
       "      <td>326</td>\n",
       "      <td>5834</td>\n",
       "      <td>-0.039778</td>\n",
       "      <td>-0.040865</td>\n",
       "      <td>-0.834688</td>\n",
       "      <td>0.898182</td>\n",
       "    </tr>\n",
       "    <tr>\n",
       "      <th>3</th>\n",
       "      <td>52239</td>\n",
       "      <td>52</td>\n",
       "      <td>259</td>\n",
       "      <td>5456</td>\n",
       "      <td>-0.516023</td>\n",
       "      <td>0.973847</td>\n",
       "      <td>-1.432398</td>\n",
       "      <td>0.671353</td>\n",
       "    </tr>\n",
       "    <tr>\n",
       "      <th>4</th>\n",
       "      <td>112343</td>\n",
       "      <td>27</td>\n",
       "      <td>279</td>\n",
       "      <td>1749</td>\n",
       "      <td>1.005897</td>\n",
       "      <td>-1.332317</td>\n",
       "      <td>-1.253977</td>\n",
       "      <td>-1.553129</td>\n",
       "    </tr>\n",
       "  </tbody>\n",
       "</table>\n",
       "</div>"
      ],
      "text/plain": [
       "   income  age  days_since_buy  annual_spend  z_income     z_age  \\\n",
       "0   37453   48             504          4441 -0.890426  0.604861   \n",
       "1   50775   50             566          4239 -0.553094  0.789354   \n",
       "2   71047   41             326          5834 -0.039778 -0.040865   \n",
       "3   52239   52             259          5456 -0.516023  0.973847   \n",
       "4  112343   27             279          1749  1.005897 -1.332317   \n",
       "\n",
       "   z_days_since_buy  z_annual_spend  \n",
       "0          0.753257        0.062276  \n",
       "1          1.306361       -0.058939  \n",
       "2         -0.834688        0.898182  \n",
       "3         -1.432398        0.671353  \n",
       "4         -1.253977       -1.553129  "
      ]
     },
     "execution_count": 3,
     "metadata": {},
     "output_type": "execute_result"
    }
   ],
   "source": [
    "col = df.columns  # all columns\n",
    "for c in col:\n",
    "    df['z_'+c] = (df[c] - df[c].mean())/df[c].std()\n",
    "    df['z_'+c]=preprocessing.scale(df[c])  # alternative\n",
    "        \n",
    "df.head()\n",
    "\n",
    "# One by one\n",
    "# df['z_income'] = (df['income'] - df['income'].mean())/df['income'].std()\n",
    "# df['z_income'] = preprocessing.scale(df.income)"
   ]
  },
  {
   "cell_type": "markdown",
   "metadata": {
    "id": "dVEGL8-U1dPA"
   },
   "source": [
    "- `col = df.columns`: This retrieves all column names from the DataFrame df and stores them in the variable col.\n",
    "- `for c in col`: Iterates over each column in the DataFrame.\n",
    "    - `df['z_'+c] = (df[c] - df[c].mean())/df[c].std()`: For each column, it creates a new column in the DataFrame (with the name 'z_' prefixed to the original column name) that contains the standardized values.\n",
    "- `preprocessing.scale(df.income)`: Standardizes the 'income' column."
   ]
  },
  {
   "cell_type": "markdown",
   "metadata": {
    "id": "9rELN1dy01ju"
   },
   "source": [
    "### 2. Use the Elbow method to select the number of clusters"
   ]
  },
  {
   "cell_type": "code",
   "execution_count": 4,
   "metadata": {
    "id": "3SIebOBB01ju",
    "outputId": "56a23404-c22b-4f50-fab9-c0b9a673c566"
   },
   "outputs": [
    {
     "data": {
      "text/plain": [
       "Text(0, 0.5, 'Sum of Squared Errors')"
      ]
     },
     "execution_count": 4,
     "metadata": {},
     "output_type": "execute_result"
    },
    {
     "data": {
      "image/png": "[encoded data removed]",
      "text/plain": [
       "<Figure size 432x288 with 1 Axes>"
      ]
     },
     "metadata": {
      "needs_background": "light"
     },
     "output_type": "display_data"
    }
   ],
   "source": [
    "ss = []\n",
    "krange = range(2,11)  # 2~10\n",
    "x = df[['z_income', 'z_age', 'z_days_since_buy', 'z_annual_spend']]\n",
    "x = df.iloc[:, 4:]  # alternative: all rows and columns 5~end\n",
    "\n",
    "for i in krange:\n",
    "    m = cluster.KMeans(n_clusters=i).fit(x)\n",
    "    error = m.inertia_\n",
    "    ss.append(error)\n",
    "\n",
    "plt.plot(krange, ss)\n",
    "plt.xlabel('K')\n",
    "plt.ylabel('Sum of Squared Errors')"
   ]
  },
  {
   "cell_type": "markdown",
   "metadata": {
    "id": "fpj9Fcvu15Og"
   },
   "source": [
    "- `ss = []` initializes an empty list to store the sum of squared errors for different numbers of clusters.\n",
    "- `krange = range(2,11)` defines a range of values from 2 to 10, representing the number of clusters to test.\n",
    "- `range()` function generates a sequence of numbers. It can take one, two, or three arguments, `range(start(inclusive), stop(exclusive), step)`\n",
    "    - `range(stop)` generates numbers from 0 up to (but not including) the `stop` value, with a step size 1.\n",
    "        - `range(5)` = 0, 1, 2, 3, 4\n",
    "    - `range(start, stop)` generates numbers from `start` up to (but not including) the `stop` value, with a step size of 1.\n",
    "        - `range(2, 8)` = 2, 3, 4, 5, 6, 7.\n",
    "    - `range(start, stop, step)` generates numbers from `start` up to (but not including) the `stop` value, with a step size of `step`.\n",
    "        - `range(1, 10, 2)` = 1, 3, 5, 7, 9.\n",
    "- `x = df[[...]]` selects specific columns to use in clustering.\n",
    "- The for loop iterates through the range of cluster numbers, performs k-means clustering for each, and computes the sum of squared errors (inertia) for each model.\n",
    "    - `KMeans(n_clusters=i)`: initializes a k-means clustering model with a specific number of clusters (n_clusters). The parameter i represents the number of clusters, and it is set in the loop over the range of possible cluster values.\n",
    "    - `fit(x)`: fits the k-means model to the data x.\n",
    "    - `m`: The result of the fit(x) operation is assigned to the variable m. This variable now holds the trained k-means clustering model.\n",
    "    - `m.inertia_` retrieves the inertia of the model m, indicating how internally coherent the clusters are. inertia_ is the sum of squared distances of samples to their closest cluster center, which measures how well k-means clusters data.\n",
    "    - `ss.append(error)` adds the inertia value to the list ss.\n",
    "- `plt.plot(krange, ss)` plots the sum of squared errors for each number of clusters, helping to visually identify the \"elbow point,\" which suggests the optimal number of clusters.\n",
    "- `plt.xlabel('K')` and `plt.ylabel('Sum of Squared Errors')` label the x-axis and y-axis, respectively."
   ]
  },
  {
   "cell_type": "markdown",
   "metadata": {
    "id": "FKYTfJLU01ju"
   },
   "source": [
    "### 3. Conduct k-means clustering using the best number of clusters you found"
   ]
  },
  {
   "cell_type": "code",
   "execution_count": 5,
   "metadata": {
    "id": "ZWiC8e4O01jv",
    "outputId": "901c04df-f27f-4f9a-8594-9f29eeadcc09"
   },
   "outputs": [
    {
     "data": {
      "text/html": [
       "<div>\n",
       "<style scoped>\n",
       "    .dataframe tbody tr th:only-of-type {\n",
       "        vertical-align: middle;\n",
       "    }\n",
       "\n",
       "    .dataframe tbody tr th {\n",
       "        vertical-align: top;\n",
       "    }\n",
       "\n",
       "    .dataframe thead th {\n",
       "        text-align: right;\n",
       "    }\n",
       "</style>\n",
       "<table border=\"1\" class=\"dataframe\">\n",
       "  <thead>\n",
       "    <tr style=\"text-align: right;\">\n",
       "      <th></th>\n",
       "      <th>income</th>\n",
       "      <th>age</th>\n",
       "      <th>days_since_buy</th>\n",
       "      <th>annual_spend</th>\n",
       "      <th>z_income</th>\n",
       "      <th>z_age</th>\n",
       "      <th>z_days_since_buy</th>\n",
       "      <th>z_annual_spend</th>\n",
       "      <th>cluster</th>\n",
       "    </tr>\n",
       "  </thead>\n",
       "  <tbody>\n",
       "    <tr>\n",
       "      <th>0</th>\n",
       "      <td>37453</td>\n",
       "      <td>48</td>\n",
       "      <td>504</td>\n",
       "      <td>4441</td>\n",
       "      <td>-0.890426</td>\n",
       "      <td>0.604861</td>\n",
       "      <td>0.753257</td>\n",
       "      <td>0.062276</td>\n",
       "      <td>0</td>\n",
       "    </tr>\n",
       "    <tr>\n",
       "      <th>1</th>\n",
       "      <td>50775</td>\n",
       "      <td>50</td>\n",
       "      <td>566</td>\n",
       "      <td>4239</td>\n",
       "      <td>-0.553094</td>\n",
       "      <td>0.789354</td>\n",
       "      <td>1.306361</td>\n",
       "      <td>-0.058939</td>\n",
       "      <td>0</td>\n",
       "    </tr>\n",
       "    <tr>\n",
       "      <th>2</th>\n",
       "      <td>71047</td>\n",
       "      <td>41</td>\n",
       "      <td>326</td>\n",
       "      <td>5834</td>\n",
       "      <td>-0.039778</td>\n",
       "      <td>-0.040865</td>\n",
       "      <td>-0.834688</td>\n",
       "      <td>0.898182</td>\n",
       "      <td>2</td>\n",
       "    </tr>\n",
       "    <tr>\n",
       "      <th>3</th>\n",
       "      <td>52239</td>\n",
       "      <td>52</td>\n",
       "      <td>259</td>\n",
       "      <td>5456</td>\n",
       "      <td>-0.516023</td>\n",
       "      <td>0.973847</td>\n",
       "      <td>-1.432398</td>\n",
       "      <td>0.671353</td>\n",
       "      <td>2</td>\n",
       "    </tr>\n",
       "    <tr>\n",
       "      <th>4</th>\n",
       "      <td>112343</td>\n",
       "      <td>27</td>\n",
       "      <td>279</td>\n",
       "      <td>1749</td>\n",
       "      <td>1.005897</td>\n",
       "      <td>-1.332317</td>\n",
       "      <td>-1.253977</td>\n",
       "      <td>-1.553129</td>\n",
       "      <td>1</td>\n",
       "    </tr>\n",
       "  </tbody>\n",
       "</table>\n",
       "</div>"
      ],
      "text/plain": [
       "   income  age  days_since_buy  annual_spend  z_income     z_age  \\\n",
       "0   37453   48             504          4441 -0.890426  0.604861   \n",
       "1   50775   50             566          4239 -0.553094  0.789354   \n",
       "2   71047   41             326          5834 -0.039778 -0.040865   \n",
       "3   52239   52             259          5456 -0.516023  0.973847   \n",
       "4  112343   27             279          1749  1.005897 -1.332317   \n",
       "\n",
       "   z_days_since_buy  z_annual_spend  cluster  \n",
       "0          0.753257        0.062276        0  \n",
       "1          1.306361       -0.058939        0  \n",
       "2         -0.834688        0.898182        2  \n",
       "3         -1.432398        0.671353        2  \n",
       "4         -1.253977       -1.553129        1  "
      ]
     },
     "execution_count": 5,
     "metadata": {},
     "output_type": "execute_result"
    }
   ],
   "source": [
    "best = cluster.KMeans(n_clusters=5).fit(x)\n",
    "df['cluster'] = best.labels_  # cluster numbers\n",
    "df.head()"
   ]
  },
  {
   "cell_type": "markdown",
   "metadata": {
    "id": "p2JgvlaH2TWD"
   },
   "source": [
    "- `best = cluster.KMeans(n_clusters=5).fit(x)`: This line creates a k-means clustering model with 5 clusters (as determined to be optimal from previous analysis) and fits it to the standardized columns in the DataFrame.\n",
    "- `df['cluster'] = best.labels_`: After fitting the model, each data point is assigned a cluster number (from 0 to 4, since there are five clusters). These cluster labels are stored in a new column called 'cluster'."
   ]
  },
  {
   "cell_type": "markdown",
   "metadata": {
    "id": "5V4gRCFN01jv"
   },
   "source": [
    "### 4. What are the number of samples in each cluster?"
   ]
  },
  {
   "cell_type": "code",
   "execution_count": 6,
   "metadata": {
    "id": "FvZheGVz01jv",
    "outputId": "68d6b704-e644-4ff4-987a-190739738ca0"
   },
   "outputs": [
    {
     "data": {
      "text/html": [
       "<div>\n",
       "<style scoped>\n",
       "    .dataframe tbody tr th:only-of-type {\n",
       "        vertical-align: middle;\n",
       "    }\n",
       "\n",
       "    .dataframe tbody tr th {\n",
       "        vertical-align: top;\n",
       "    }\n",
       "\n",
       "    .dataframe thead th {\n",
       "        text-align: right;\n",
       "    }\n",
       "</style>\n",
       "<table border=\"1\" class=\"dataframe\">\n",
       "  <thead>\n",
       "    <tr style=\"text-align: right;\">\n",
       "      <th></th>\n",
       "      <th>income</th>\n",
       "      <th>age</th>\n",
       "      <th>days_since_buy</th>\n",
       "      <th>annual_spend</th>\n",
       "      <th>z_income</th>\n",
       "      <th>z_age</th>\n",
       "      <th>z_days_since_buy</th>\n",
       "      <th>z_annual_spend</th>\n",
       "    </tr>\n",
       "    <tr>\n",
       "      <th>cluster</th>\n",
       "      <th></th>\n",
       "      <th></th>\n",
       "      <th></th>\n",
       "      <th></th>\n",
       "      <th></th>\n",
       "      <th></th>\n",
       "      <th></th>\n",
       "      <th></th>\n",
       "    </tr>\n",
       "  </thead>\n",
       "  <tbody>\n",
       "    <tr>\n",
       "      <th>0</th>\n",
       "      <td>197</td>\n",
       "      <td>197</td>\n",
       "      <td>197</td>\n",
       "      <td>197</td>\n",
       "      <td>197</td>\n",
       "      <td>197</td>\n",
       "      <td>197</td>\n",
       "      <td>197</td>\n",
       "    </tr>\n",
       "    <tr>\n",
       "      <th>1</th>\n",
       "      <td>199</td>\n",
       "      <td>199</td>\n",
       "      <td>199</td>\n",
       "      <td>199</td>\n",
       "      <td>199</td>\n",
       "      <td>199</td>\n",
       "      <td>199</td>\n",
       "      <td>199</td>\n",
       "    </tr>\n",
       "    <tr>\n",
       "      <th>2</th>\n",
       "      <td>199</td>\n",
       "      <td>199</td>\n",
       "      <td>199</td>\n",
       "      <td>199</td>\n",
       "      <td>199</td>\n",
       "      <td>199</td>\n",
       "      <td>199</td>\n",
       "      <td>199</td>\n",
       "    </tr>\n",
       "    <tr>\n",
       "      <th>3</th>\n",
       "      <td>201</td>\n",
       "      <td>201</td>\n",
       "      <td>201</td>\n",
       "      <td>201</td>\n",
       "      <td>201</td>\n",
       "      <td>201</td>\n",
       "      <td>201</td>\n",
       "      <td>201</td>\n",
       "    </tr>\n",
       "    <tr>\n",
       "      <th>4</th>\n",
       "      <td>204</td>\n",
       "      <td>204</td>\n",
       "      <td>204</td>\n",
       "      <td>204</td>\n",
       "      <td>204</td>\n",
       "      <td>204</td>\n",
       "      <td>204</td>\n",
       "      <td>204</td>\n",
       "    </tr>\n",
       "  </tbody>\n",
       "</table>\n",
       "</div>"
      ],
      "text/plain": [
       "         income  age  days_since_buy  annual_spend  z_income  z_age  \\\n",
       "cluster                                                               \n",
       "0           197  197             197           197       197    197   \n",
       "1           199  199             199           199       199    199   \n",
       "2           199  199             199           199       199    199   \n",
       "3           201  201             201           201       201    201   \n",
       "4           204  204             204           204       204    204   \n",
       "\n",
       "         z_days_since_buy  z_annual_spend  \n",
       "cluster                                    \n",
       "0                     197             197  \n",
       "1                     199             199  \n",
       "2                     199             199  \n",
       "3                     201             201  \n",
       "4                     204             204  "
      ]
     },
     "execution_count": 6,
     "metadata": {},
     "output_type": "execute_result"
    }
   ],
   "source": [
    "df.groupby('cluster').count()"
   ]
  },
  {
   "cell_type": "markdown",
   "metadata": {
    "id": "0nQp8Ruc2ekl"
   },
   "source": [
    "- `df.groupby('cluster')`: groups the DataFrame based on unique values in the 'cluster' column. Each unique value represents a different cluster.\n",
    "- `count()`: counts the number of rows for each group (i.e., each cluster). The count is done for each column, but since all columns are present for each row, the count will be the same across all columns."
   ]
  },
  {
   "cell_type": "markdown",
   "metadata": {
    "id": "-bNtAIaW01jw"
   },
   "source": [
    "### 5. Calculate the mean of each variable in each cluster"
   ]
  },
  {
   "cell_type": "code",
   "execution_count": 7,
   "metadata": {
    "id": "fgIMuvIU01jw",
    "outputId": "21153be0-167e-4f4d-c34d-663b86e0cd4a"
   },
   "outputs": [
    {
     "data": {
      "text/html": [
       "<div>\n",
       "<style scoped>\n",
       "    .dataframe tbody tr th:only-of-type {\n",
       "        vertical-align: middle;\n",
       "    }\n",
       "\n",
       "    .dataframe tbody tr th {\n",
       "        vertical-align: top;\n",
       "    }\n",
       "\n",
       "    .dataframe thead th {\n",
       "        text-align: right;\n",
       "    }\n",
       "</style>\n",
       "<table border=\"1\" class=\"dataframe\">\n",
       "  <thead>\n",
       "    <tr style=\"text-align: right;\">\n",
       "      <th></th>\n",
       "      <th>income</th>\n",
       "      <th>age</th>\n",
       "      <th>days_since_buy</th>\n",
       "      <th>annual_spend</th>\n",
       "      <th>z_income</th>\n",
       "      <th>z_age</th>\n",
       "      <th>z_days_since_buy</th>\n",
       "      <th>z_annual_spend</th>\n",
       "    </tr>\n",
       "    <tr>\n",
       "      <th>cluster</th>\n",
       "      <th></th>\n",
       "      <th></th>\n",
       "      <th></th>\n",
       "      <th></th>\n",
       "      <th></th>\n",
       "      <th></th>\n",
       "      <th></th>\n",
       "      <th></th>\n",
       "    </tr>\n",
       "  </thead>\n",
       "  <tbody>\n",
       "    <tr>\n",
       "      <th>0</th>\n",
       "      <td>43101.812183</td>\n",
       "      <td>50.050761</td>\n",
       "      <td>505.218274</td>\n",
       "      <td>5568.370558</td>\n",
       "      <td>-0.747390</td>\n",
       "      <td>0.794036</td>\n",
       "      <td>0.764125</td>\n",
       "      <td>0.738784</td>\n",
       "    </tr>\n",
       "    <tr>\n",
       "      <th>1</th>\n",
       "      <td>116310.542714</td>\n",
       "      <td>29.291457</td>\n",
       "      <td>294.125628</td>\n",
       "      <td>2501.728643</td>\n",
       "      <td>1.106361</td>\n",
       "      <td>-1.120938</td>\n",
       "      <td>-1.119041</td>\n",
       "      <td>-1.101434</td>\n",
       "    </tr>\n",
       "    <tr>\n",
       "      <th>2</th>\n",
       "      <td>44331.050251</td>\n",
       "      <td>48.939698</td>\n",
       "      <td>297.472362</td>\n",
       "      <td>5574.000000</td>\n",
       "      <td>-0.716264</td>\n",
       "      <td>0.691545</td>\n",
       "      <td>-1.089184</td>\n",
       "      <td>0.742162</td>\n",
       "    </tr>\n",
       "    <tr>\n",
       "      <th>3</th>\n",
       "      <td>42643.611940</td>\n",
       "      <td>30.039801</td>\n",
       "      <td>500.567164</td>\n",
       "      <td>2501.761194</td>\n",
       "      <td>-0.758993</td>\n",
       "      <td>-1.051906</td>\n",
       "      <td>0.722632</td>\n",
       "      <td>-1.101415</td>\n",
       "    </tr>\n",
       "    <tr>\n",
       "      <th>4</th>\n",
       "      <td>115626.490196</td>\n",
       "      <td>48.906863</td>\n",
       "      <td>498.500000</td>\n",
       "      <td>5540.818627</td>\n",
       "      <td>1.089040</td>\n",
       "      <td>0.688516</td>\n",
       "      <td>0.704191</td>\n",
       "      <td>0.722251</td>\n",
       "    </tr>\n",
       "  </tbody>\n",
       "</table>\n",
       "</div>"
      ],
      "text/plain": [
       "                income        age  days_since_buy  annual_spend  z_income  \\\n",
       "cluster                                                                     \n",
       "0         43101.812183  50.050761      505.218274   5568.370558 -0.747390   \n",
       "1        116310.542714  29.291457      294.125628   2501.728643  1.106361   \n",
       "2         44331.050251  48.939698      297.472362   5574.000000 -0.716264   \n",
       "3         42643.611940  30.039801      500.567164   2501.761194 -0.758993   \n",
       "4        115626.490196  48.906863      498.500000   5540.818627  1.089040   \n",
       "\n",
       "            z_age  z_days_since_buy  z_annual_spend  \n",
       "cluster                                              \n",
       "0        0.794036          0.764125        0.738784  \n",
       "1       -1.120938         -1.119041       -1.101434  \n",
       "2        0.691545         -1.089184        0.742162  \n",
       "3       -1.051906          0.722632       -1.101415  \n",
       "4        0.688516          0.704191        0.722251  "
      ]
     },
     "execution_count": 7,
     "metadata": {},
     "output_type": "execute_result"
    }
   ],
   "source": [
    "df.groupby('cluster').mean()"
   ]
  },
  {
   "cell_type": "markdown",
   "metadata": {
    "id": "hVttIUiG2wUN"
   },
   "source": [
    "- `mean()`: This function calculates the mean (average) of each column within each cluster group."
   ]
  },
  {
   "cell_type": "code",
   "execution_count": 8,
   "metadata": {
    "id": "EaohC9pdQ4-g"
   },
   "outputs": [
    {
     "data": {
      "text/plain": [
       "array([[-0.74739031,  0.79403626,  0.76412506,  0.73878382],\n",
       "       [ 1.10636106, -1.12093784, -1.11904052, -1.10143418],\n",
       "       [-0.71626422,  0.69154454, -1.08918418,  0.74216191],\n",
       "       [-0.75899261, -1.05190572,  0.72263233, -1.10141465],\n",
       "       [ 1.08903986,  0.68851556,  0.70419108,  0.72225056]])"
      ]
     },
     "execution_count": 8,
     "metadata": {},
     "output_type": "execute_result"
    }
   ],
   "source": [
    "best.cluster_centers_  # alternative: mean of standardized value"
   ]
  }
 ],
 "metadata": {
  "anaconda-cloud": {},
  "colab": {
   "provenance": []
  },
  "kernelspec": {
   "display_name": "Python 3",
   "language": "python",
   "name": "python3"
  },
  "language_info": {
   "codemirror_mode": {
    "name": "ipython",
    "version": 3
   },
   "file_extension": ".py",
   "mimetype": "text/x-python",
   "name": "python",
   "nbconvert_exporter": "python",
   "pygments_lexer": "ipython3",
   "version": "3.8.8"
  }
 },
 "nbformat": 4,
 "nbformat_minor": 4
}
